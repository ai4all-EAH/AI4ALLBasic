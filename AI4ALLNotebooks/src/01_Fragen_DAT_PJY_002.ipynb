{
 "cells": [
  {
   "cell_type": "code",
   "execution_count": null,
   "metadata": {},
   "outputs": [],
   "source": [
    "from questions import *\n",
    "\n",
    "Q1 = create_int_input_widget(\"1. Wie viele Spalten/Merkmale enthält der Datensatz?\", [], 8)\n",
    "\n",
    "Q2 = create_int_input_widget(\"2. Wie viele Zeilen enthält der Datensatz?\", [], 40)\n",
    "\n",
    "Q3 = create_multipleChoice_widget_new(\"3. Handelt es sich um einen strukturierten Datensatz?\", [], ['Ja', 'Nein'], 'Ja', 0)\n",
    "\n",
    "Q4 = create_multipleChoice_widget_new(\"1. Gibt es fehlende Werte im Datensatz?\", [], ['Ja', 'Nein'], 'Ja', 0)\n",
    "\n",
    "Q5 = create_multipleChoice_widget_new(\"2. Was ist der Datentyp des Merkmals 'Hat_Nebenjob'?\", [], ['bool', 'object', 'int64', 'float64'], 'int64', 0)\n",
    "\n",
    "display(Q1)\n",
    "display(Code('\\n'))\n",
    "display(Q2)\n",
    "display(Code('\\n'))\n",
    "display(Q3)\n",
    "display(Code('\\n'))\n",
    "display(Q4)\n",
    "display(Code('\\n'))\n",
    "display(Q5)"
   ]
  }
 ],
 "metadata": {
  "kernelspec": {
   "display_name": "Python 3 (ipykernel)",
   "language": "python",
   "name": "python3"
  },
  "language_info": {
   "codemirror_mode": {
    "name": "ipython",
    "version": 3
   },
   "file_extension": ".py",
   "mimetype": "text/x-python",
   "name": "python",
   "nbconvert_exporter": "python",
   "pygments_lexer": "ipython3",
   "version": "3.10.10"
  }
 },
 "nbformat": 4,
 "nbformat_minor": 4
}
