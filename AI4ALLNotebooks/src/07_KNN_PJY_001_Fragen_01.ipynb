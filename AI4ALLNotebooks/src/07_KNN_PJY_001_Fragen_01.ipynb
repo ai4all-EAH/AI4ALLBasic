{
 "cells": [
  {
   "cell_type": "code",
   "execution_count": 1,
   "metadata": {},
   "outputs": [
    {
     "data": {
      "application/vnd.jupyter.widget-view+json": {
       "model_id": "4e23b2c477b44f8aa39a7f0b2626e64d",
       "version_major": 2,
       "version_minor": 0
      },
      "text/plain": [
       "VBox(children=(Output(), RadioButtons(layout=Layout(width='auto'), options=(('activation', 0), ('hidden_layer_…"
      ]
     },
     "metadata": {},
     "output_type": "display_data"
    },
    {
     "data": {
      "application/vnd.jupyter.widget-view+json": {
       "model_id": "4e5574c9e8714195bf80698d103e3d12",
       "version_major": 2,
       "version_minor": 0
      },
      "text/plain": [
       "VBox(children=(Output(), RadioButtons(layout=Layout(width='auto'), options=(('activation', 0), ('hidden_layer_…"
      ]
     },
     "metadata": {},
     "output_type": "display_data"
    },
    {
     "data": {
      "application/vnd.jupyter.widget-view+json": {
       "model_id": "98e0e3511755468ab3647731d55eb9c5",
       "version_major": 2,
       "version_minor": 0
      },
      "text/plain": [
       "VBox(children=(Output(), RadioButtons(layout=Layout(width='auto'), options=(('activation', 0), ('hidden_layer_…"
      ]
     },
     "metadata": {},
     "output_type": "display_data"
    },
    {
     "data": {
      "application/vnd.jupyter.widget-view+json": {
       "model_id": "5e59989d8f924a2d9ba46682695300bb",
       "version_major": 2,
       "version_minor": 0
      },
      "text/plain": [
       "VBox(children=(Output(), RadioButtons(layout=Layout(width='auto'), options=(('activation', 0), ('hidden_layer_…"
      ]
     },
     "metadata": {},
     "output_type": "display_data"
    },
    {
     "data": {
      "application/vnd.jupyter.widget-view+json": {
       "model_id": "fdceb8d965214c31ba51a1b7ffa82f3d",
       "version_major": 2,
       "version_minor": 0
      },
      "text/plain": [
       "VBox(children=(Output(), RadioButtons(layout=Layout(width='auto'), options=(('Falsch', 0), ('Richtig', 1)), va…"
      ]
     },
     "metadata": {},
     "output_type": "display_data"
    },
    {
     "data": {
      "application/vnd.jupyter.widget-view+json": {
       "model_id": "33491502d8ef4e7d9a521f9588c2a920",
       "version_major": 2,
       "version_minor": 0
      },
      "text/plain": [
       "VBox(children=(Output(), RadioButtons(layout=Layout(width='auto'), options=(('Ja', 0), ('Nein', 1)), value=0),…"
      ]
     },
     "metadata": {},
     "output_type": "display_data"
    },
    {
     "data": {
      "application/vnd.jupyter.widget-view+json": {
       "model_id": "51742558c003472ab2f86405f2c91b75",
       "version_major": 2,
       "version_minor": 0
      },
      "text/plain": [
       "VBox(children=(Output(), RadioButtons(layout=Layout(width='auto'), options=(('Ja', 0), ('Nein', 1)), value=0),…"
      ]
     },
     "metadata": {},
     "output_type": "display_data"
    }
   ],
   "source": [
    "from questions import *\n",
    "\n",
    "Q1 = create_multipleChoice_widget_new(\n",
    "    \"Wie können Sie die initialen Werte der Gewichte und Schwellen festlegen? Wählen Sie den korrekten Parameter aus.\",\n",
    "    [],\n",
    "    [\n",
    "        'activation',\n",
    "        'hidden_layer_sizes',\n",
    "        'max_iter',\n",
    "        'random_state'\n",
    "    ],\n",
    "    'random_state',\n",
    "    0\n",
    ")\n",
    "\n",
    "Q2 = create_multipleChoice_widget_new(\n",
    "    \"Wie können Sie die Aktivierungsfunktion festlegen? Wählen Sie den korrekten Parameter aus.\",\n",
    "    [],\n",
    "    [\n",
    "        'activation',\n",
    "        'hidden_layer_sizes',\n",
    "        'max_iter',\n",
    "        'random_state'\n",
    "    ],\n",
    "    'activation',\n",
    "    0\n",
    ")\n",
    "\n",
    "Q3 = create_multipleChoice_widget_new(\n",
    "    \"Wie können Sie festlegen, nach wie vielen Epochen das Training stoppt? Wählen Sie den korrekten Parameter aus.\",\n",
    "    [],\n",
    "    [\n",
    "        'activation',\n",
    "        'hidden_layer_sizes',\n",
    "        'max_iter',\n",
    "        'random_state'\n",
    "    ],\n",
    "    'max_iter',\n",
    "    0\n",
    ")\n",
    "\n",
    "Q4 = create_multipleChoice_widget_new(\n",
    "    \"Wie können Sie die Architektur des Netzes festlegen? Wählen Sie den korrekten Parameter aus.\",\n",
    "    [],\n",
    "    [\n",
    "        'activation',\n",
    "        'hidden_layer_sizes',\n",
    "        'max_iter',\n",
    "        'random_state'\n",
    "    ],\n",
    "    'hidden_layer_sizes',\n",
    "    0\n",
    ")\n",
    "\n",
    "\n",
    "Q5 = create_multipleChoice_widget_new(\n",
    "    \"Es gibt keine weiteren Hyperparameter.\",\n",
    "    [],\n",
    "    [\n",
    "        'Falsch',\n",
    "        'Richtig'\n",
    "    ],\n",
    "    'Falsch',\n",
    "    0\n",
    ")\n",
    "Q6 = create_multipleChoice_widget_new(\n",
    "    \"Können Sie die Gewichte und Schwellwerte eines trainierten Netzes ausgeben?\",\n",
    "    [],\n",
    "    [\n",
    "        'Ja',\n",
    "        'Nein'\n",
    "    ],\n",
    "    'Ja',\n",
    "    0\n",
    ")\n",
    "\n",
    "Q7 = create_multipleChoice_widget_new(\n",
    "    \"Wenn Sie max_iter nicht angeben, wird das Netz so lange trainiert, bis es konvergiert.\",\n",
    "    [],\n",
    "    [\n",
    "        'Ja',\n",
    "        'Nein'\n",
    "    ],\n",
    "    'Nein',\n",
    "    0\n",
    ")\n",
    "display(Q1)\n",
    "display(Q2)\n",
    "display(Q3)\n",
    "display(Q4)\n",
    "display(Q5)\n",
    "display(Q6)\n",
    "display(Q7)\n"
   ]
  },
  {
   "cell_type": "code",
   "execution_count": null,
   "metadata": {},
   "outputs": [],
   "source": []
  }
 ],
 "metadata": {
  "kernelspec": {
   "display_name": "Python 3 (ipykernel)",
   "language": "python",
   "name": "python3"
  },
  "language_info": {
   "codemirror_mode": {
    "name": "ipython",
    "version": 3
   },
   "file_extension": ".py",
   "mimetype": "text/x-python",
   "name": "python",
   "nbconvert_exporter": "python",
   "pygments_lexer": "ipython3",
   "version": "3.10.10"
  }
 },
 "nbformat": 4,
 "nbformat_minor": 4
}
