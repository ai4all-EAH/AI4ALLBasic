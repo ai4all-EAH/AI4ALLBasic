{
 "cells": [
  {
   "cell_type": "code",
   "execution_count": null,
   "metadata": {},
   "outputs": [],
   "source": [
    "from questions import *\n",
    "\n",
    "Q1 = create_int_input_widget(\"1. Wie viele Spalten/Merkmale enthält der Datensatz?\", [], 10)\n",
    "\n",
    "Q2 = create_int_input_widget(\"2. Wie viele Zeilen enthält der Datensatz?\", [], 325)\n",
    "\n",
    "Q3 = create_multipleChoice_widget_new(\"3. Handelt es sich um einen strukturierten Datensatz?\", [], ['Ja', 'Nein'], 'Ja', 0)\n",
    "\n",
    "display(Q1)\n",
    "display(Code('\\n'))\n",
    "display(Q2)\n",
    "display(Code('\\n'))\n",
    "display(Q3)"
   ]
  }
 ],
 "metadata": {
  "language_info": {
   "name": "python"
  }
 },
 "nbformat": 4,
 "nbformat_minor": 2
}
