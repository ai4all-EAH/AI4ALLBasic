{
 "cells": [
  {
   "cell_type": "code",
   "execution_count": null,
   "metadata": {},
   "outputs": [],
   "source": [
    "from questions import *\n",
    "\n",
    "Q1 = create_multipleChoice_widget_new(\"1. Gibt es fehlende Werte im Datensatz?\", [], ['Ja', 'Nein'], 'Nein', 0)\n",
    "\n",
    "Q2 = create_multipleChoice_widget_new(\"2. Was ist der Datentyp des Merkmals 'Pinguinart'?\", [], ['bool', 'object', 'int64', 'float64'], 'object', 0)\n",
    "\n",
    "Q3 = create_multipleChoice_widget_new(\"3. Was ist der Datentyp des Merkmals 'NestVoll_2Eier'?\", [], ['bool', 'object', 'int64', 'float64'], 'bool', 0)\n",
    "\n",
    "Q4 = create_multipleChoice_widget_new(\"4. Was ist der Datentyp des Merkmals 'Flossenhoehe'?\", [], ['bool', 'object', 'int64', 'float64'], 'float64', 0)\n",
    "\n",
    "Q5 = create_multipleChoice_widget_new(\"5. Was ist der Datentyp des Merkmals 'Gewicht'?\", [], ['bool', 'object', 'int64', 'float64'], 'int64', 0)\n",
    "\n",
    "display(Q1)\n",
    "display(Code('\\n'))\n",
    "display(Q2)\n",
    "display(Code('\\n'))\n",
    "display(Q3)\n",
    "display(Code('\\n'))\n",
    "display(Q4)\n",
    "display(Code('\\n'))\n",
    "display(Q5)"
   ]
  }
 ],
 "metadata": {
  "kernelspec": {
   "display_name": "Python 3 (ipykernel)",
   "language": "python",
   "name": "python3"
  },
  "language_info": {
   "codemirror_mode": {
    "name": "ipython",
    "version": 3
   },
   "file_extension": ".py",
   "mimetype": "text/x-python",
   "name": "python",
   "nbconvert_exporter": "python",
   "pygments_lexer": "ipython3",
   "version": "3.10.10"
  }
 },
 "nbformat": 4,
 "nbformat_minor": 4
}
