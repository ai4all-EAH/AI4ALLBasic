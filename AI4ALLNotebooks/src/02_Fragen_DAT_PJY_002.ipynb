{
 "cells": [
  {
   "cell_type": "code",
   "execution_count": 3,
   "metadata": {
    "editable": true,
    "slideshow": {
     "slide_type": ""
    },
    "tags": []
   },
   "outputs": [
    {
     "data": {
      "application/vnd.jupyter.widget-view+json": {
       "model_id": "ce9ab699be6742f3b2e3e92629e8d741",
       "version_major": 2,
       "version_minor": 0
      },
      "text/plain": [
       "VBox(children=(Output(), RadioButtons(layout=Layout(width='auto'), options=(('Es kann zu Schwierigkeiten bei d…"
      ]
     },
     "metadata": {},
     "output_type": "display_data"
    }
   ],
   "source": [
    "from questions import *\n",
    "\n",
    "Q1 = create_multipleChoice_widget_new(\n",
    "    \"Welches Problem könnte auftreten, wenn fehlende Werte in der Zufriedenheitsspalte durch den Durchschnittswert ersetzt werden?\",\n",
    "    [],\n",
    "    [\n",
    "        'Der Durchschnittswert könnte zu einer neuen Merkmalsausprägung zwischen den diskreten Werten führen, die in der ursprünglichen Umfrage nicht existierte.',\n",
    "        'Der Durchschnittswert ist immer repräsentativ für die vorhandenen diskreten Daten.',\n",
    "        'Das Ersetzen durch den Durchschnittswert hat keinen Einfluss auf die Datenqualität.'\n",
    "    ],\n",
    "    'Der Durchschnittswert könnte zu einer neuen Merkmalsausprägung zwischen den diskreten Werten führen, die in der ursprünglichen Umfrage nicht existierte.',\n",
    "    0\n",
    ")\n",
    "display(Q1)\n"
   ]
  }
 ],
 "metadata": {
  "kernelspec": {
   "display_name": "Python 3 (ipykernel)",
   "language": "python",
   "name": "python3"
  },
  "language_info": {
   "codemirror_mode": {
    "name": "ipython",
    "version": 3
   },
   "file_extension": ".py",
   "mimetype": "text/x-python",
   "name": "python",
   "nbconvert_exporter": "python",
   "pygments_lexer": "ipython3",
   "version": "3.10.10"
  }
 },
 "nbformat": 4,
 "nbformat_minor": 4
}
