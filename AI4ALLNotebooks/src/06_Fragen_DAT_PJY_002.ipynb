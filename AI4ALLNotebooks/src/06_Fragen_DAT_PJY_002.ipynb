{
 "cells": [
  {
   "cell_type": "code",
   "execution_count": 3,
   "metadata": {
    "editable": true,
    "slideshow": {
     "slide_type": ""
    },
    "tags": []
   },
   "outputs": [
    {
     "data": {
      "application/vnd.jupyter.widget-view+json": {
       "model_id": "ce9ab699be6742f3b2e3e92629e8d741",
       "version_major": 2,
       "version_minor": 0
      },
      "text/plain": [
       "VBox(children=(Output(), RadioButtons(layout=Layout(width='auto'), options=(('Es kann zu Schwierigkeiten bei d…"
      ]
     },
     "metadata": {},
     "output_type": "display_data"
    }
   ],
   "source": [
    "from questions import *\n",
    "\n",
    "Q1 = create_multipleChoice_widget_new(\"Warum sollten wir bei der Laufzeit natürliche Grenzen statt statistischer Ausreißer verwenden?\", [], \n",
    "    ['Weil statistische Ausreißer ungenau sind',\n",
    "     'Weil Filme logische Mindestlängen haben',\n",
    "     'Weil die Verteilung nicht normal ist',\n",
    "     'Weil es einfacher zu berechnen ist'], \n",
    "    'Weil Filme logische Mindestlängen haben', 1)\n",
    "\n",
    "\n",
    "display(Q1)\n"
   ]
  },
  {
   "cell_type": "code",
   "execution_count": null,
   "metadata": {},
   "outputs": [],
   "source": []
  }
 ],
 "metadata": {
  "kernelspec": {
   "display_name": "Python 3 (ipykernel)",
   "language": "python",
   "name": "python3"
  },
  "language_info": {
   "codemirror_mode": {
    "name": "ipython",
    "version": 3
   },
   "file_extension": ".py",
   "mimetype": "text/x-python",
   "name": "python",
   "nbconvert_exporter": "python",
   "pygments_lexer": "ipython3",
   "version": "3.10.10"
  }
 },
 "nbformat": 4,
 "nbformat_minor": 4
}
