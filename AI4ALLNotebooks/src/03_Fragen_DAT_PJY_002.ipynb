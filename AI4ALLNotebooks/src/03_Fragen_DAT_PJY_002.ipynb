{
 "cells": [
  {
   "cell_type": "code",
   "execution_count": 3,
   "metadata": {},
   "outputs": [
    {
     "data": {
      "application/vnd.jupyter.widget-view+json": {
       "model_id": "ce9ab699be6742f3b2e3e92629e8d741",
       "version_major": 2,
       "version_minor": 0
      },
      "text/plain": [
       "VBox(children=(Output(), RadioButtons(layout=Layout(width='auto'), options=(('Es kann zu Schwierigkeiten bei d…"
      ]
     },
     "metadata": {},
     "output_type": "display_data"
    }
   ],
   "source": [
    "from questions import *\n",
    "\n",
    "Q1 = create_multipleChoice_widget_new(\n",
    "    \"Welche Probleme können auftreten, wenn in einem Datensatz unterschiedliche Merkmalsausprägungen für dasselbe Geschlecht verwendet werden?\",\n",
    "    [],\n",
    "    [\n",
    "        'Es kann zu Schwierigkeiten bei der Datenaggregation und -filterung führen, da die Konsistenz der Daten beeinträchtigt wird.',\n",
    "        'Es hat keinen Einfluss auf die Datenverarbeitung, da alle Ausprägungen automatisch erkannt werden.',\n",
    "        'Es erleichtert die Datenanalyse, da mehr Variationen vorhanden sind.'\n",
    "    ],\n",
    "    'Es kann zu Schwierigkeiten bei der Datenaggregation und -filterung führen, da die Konsistenz der Daten beeinträchtigt wird.',\n",
    "    0\n",
    ")\n",
    "display(Q1)\n"
   ]
  },
  {
   "cell_type": "code",
   "execution_count": null,
   "metadata": {},
   "outputs": [],
   "source": []
  }
 ],
 "metadata": {
  "kernelspec": {
   "display_name": "Python 3 (ipykernel)",
   "language": "python",
   "name": "python3"
  },
  "language_info": {
   "codemirror_mode": {
    "name": "ipython",
    "version": 3
   },
   "file_extension": ".py",
   "mimetype": "text/x-python",
   "name": "python",
   "nbconvert_exporter": "python",
   "pygments_lexer": "ipython3",
   "version": "3.10.10"
  }
 },
 "nbformat": 4,
 "nbformat_minor": 4
}
