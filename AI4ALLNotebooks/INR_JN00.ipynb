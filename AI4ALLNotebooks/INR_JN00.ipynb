{
 "cells": [
  {
   "cell_type": "markdown",
   "id": "95a3d5d7-a912-4987-bbbe-d45b5fc772e0",
   "metadata": {
    "deletable": false,
    "editable": true,
    "slideshow": {
     "slide_type": ""
    },
    "tags": []
   },
   "source": [
    "<img src=\"./src/logo.png\" width=\"250\">"
   ]
  },
  {
   "cell_type": "markdown",
   "id": "ab69a64f-5d82-4721-b942-52fcc16c0733",
   "metadata": {
    "deletable": false,
    "editable": false,
    "slideshow": {
     "slide_type": ""
    },
    "tags": []
   },
   "source": [
    "# Einführung Notebooks\n"
   ]
  },
  {
   "cell_type": "markdown",
   "id": "46e48035-d9d4-4f89-a74d-21b21867b946",
   "metadata": {
    "editable": true,
    "slideshow": {
     "slide_type": ""
    },
    "tags": []
   },
   "source": [
    "Aufgabe 1: \"Hallo Welt\" ausgeben. Dazu nutzen wir die print() Funktion."
   ]
  },
  {
   "cell_type": "code",
   "execution_count": 22,
   "id": "588749cb-85bf-499a-8d18-0585a0049b13",
   "metadata": {
    "editable": true,
    "slideshow": {
     "slide_type": ""
    },
    "tags": []
   },
   "outputs": [
    {
     "data": {
      "text/plain": [
       "'Hallo Welt'"
      ]
     },
     "execution_count": 22,
     "metadata": {},
     "output_type": "execute_result"
    }
   ],
   "source": [
    "# Hier der Code\n",
    "\n"
   ]
  },
  {
   "cell_type": "markdown",
   "id": "2ce2c310-f1e1-42b4-b958-c5c70d2cb0f3",
   "metadata": {
    "editable": false,
    "slideshow": {
     "slide_type": ""
    },
    "tags": []
   },
   "source": [
    "# Laden einer .csv Datei"
   ]
  },
  {
   "cell_type": "markdown",
   "id": "d9765415",
   "metadata": {},
   "source": [
    "Aufgabe 2: Die Datei einkaufsliste.csv laden und anzeigen lassen"
   ]
  },
  {
   "cell_type": "code",
   "execution_count": 23,
   "id": "0581f662-7e4c-44d0-b10a-e899ed86a01e",
   "metadata": {
    "editable": true,
    "slideshow": {
     "slide_type": ""
    },
    "tags": []
   },
   "outputs": [
    {
     "data": {
      "text/html": [
       "<div>\n",
       "<style scoped>\n",
       "    .dataframe tbody tr th:only-of-type {\n",
       "        vertical-align: middle;\n",
       "    }\n",
       "\n",
       "    .dataframe tbody tr th {\n",
       "        vertical-align: top;\n",
       "    }\n",
       "\n",
       "    .dataframe thead th {\n",
       "        text-align: right;\n",
       "    }\n",
       "</style>\n",
       "<table border=\"1\" class=\"dataframe\">\n",
       "  <thead>\n",
       "    <tr style=\"text-align: right;\">\n",
       "      <th></th>\n",
       "      <th>produkt</th>\n",
       "      <th>anzahl</th>\n",
       "      <th>preis</th>\n",
       "    </tr>\n",
       "  </thead>\n",
       "  <tbody>\n",
       "    <tr>\n",
       "      <th>0</th>\n",
       "      <td>äpfel</td>\n",
       "      <td>3</td>\n",
       "      <td>0.4</td>\n",
       "    </tr>\n",
       "    <tr>\n",
       "      <th>1</th>\n",
       "      <td>bier</td>\n",
       "      <td>6</td>\n",
       "      <td>1.8</td>\n",
       "    </tr>\n",
       "    <tr>\n",
       "      <th>2</th>\n",
       "      <td>tomaten</td>\n",
       "      <td>2</td>\n",
       "      <td>0.4</td>\n",
       "    </tr>\n",
       "  </tbody>\n",
       "</table>\n",
       "</div>"
      ],
      "text/plain": [
       "   produkt   anzahl   preis\n",
       "0    äpfel        3     0.4\n",
       "1     bier        6     1.8\n",
       "2  tomaten        2     0.4"
      ]
     },
     "execution_count": 23,
     "metadata": {},
     "output_type": "execute_result"
    }
   ],
   "source": [
    "# pandas ist eine Bibliothek die unter anderem das einfache laden von Daten ermöglicht\n",
    "import pandas as pd \n",
    "# Hier die .csv Datei laden\n",
    "# Die Einkaufsliste liegt im Ordner \"data\"\n",
    "# ./data/einkaufsliste.csv\n",
    "\n",
    "\n"
   ]
  },
  {
   "cell_type": "markdown",
   "id": "ef6c3aac-5fbf-44c1-aadd-ceb34187d4de",
   "metadata": {
    "editable": true,
    "slideshow": {
     "slide_type": ""
    },
    "tags": []
   },
   "source": [
    "# Interaktiver Plot Beispiel"
   ]
  },
  {
   "cell_type": "markdown",
   "id": "bd03a4e7-5a91-4e01-9fc0-77004faa1e76",
   "metadata": {
    "editable": true,
    "slideshow": {
     "slide_type": ""
    },
    "tags": []
   },
   "source": [
    "Von dem Code nicht einschüchtern lassen. Es ist möglich die verschiedenen Parameter wie die Streuung oder Farbe einzustellen, ohne Python zu verstehen. Dazu können die Interaktiven Elemente Modifiziert werden."
   ]
  },
  {
   "cell_type": "code",
   "execution_count": 19,
   "id": "084ab95b-798f-4876-b415-d03374346c78",
   "metadata": {
    "editable": true,
    "slideshow": {
     "slide_type": ""
    },
    "tags": [
     "hide_input"
    ]
   },
   "outputs": [
    {
     "data": {
      "application/vnd.jupyter.widget-view+json": {
       "model_id": "cafcaf81a9704b0d9075018b7ab926d5",
       "version_major": 2,
       "version_minor": 0
      },
      "text/plain": [
       "interactive(children=(FloatSlider(value=0.0, description='Noise', max=0.15, step=0.01), ColorPicker(value='blu…"
      ]
     },
     "metadata": {},
     "output_type": "display_data"
    },
    {
     "data": {
      "text/plain": [
       "<function __main__.update_plot(noise_level, color)>"
      ]
     },
     "execution_count": 19,
     "metadata": {},
     "output_type": "execute_result"
    }
   ],
   "source": [
    "import numpy as np\n",
    "import matplotlib.pyplot as plt\n",
    "import ipywidgets as widgets\n",
    "from IPython.display import display\n",
    "\n",
    "# Spiralfunktion\n",
    "def create_spiral(num_points=500, noise_level=0, color='blue'):\n",
    "    theta = np.linspace(0, 4 * np.pi, num_points)\n",
    "    \n",
    "    r = 0.1 * theta  \n",
    "    \n",
    "    x = r * np.cos(theta)\n",
    "    y = r * np.sin(theta)\n",
    "\n",
    "    x += np.random.normal(scale=noise_level, size=num_points)\n",
    "    y += np.random.normal(scale=noise_level, size=num_points)\n",
    "    \n",
    "    plt.figure(figsize=(6, 6))\n",
    "    plt.scatter(x, y, color=color, s=10)\n",
    "    \n",
    "    plt.xlim(-1.5, 1.5)\n",
    "    plt.ylim(-1.5, 1.5)\n",
    "    \n",
    "    plt.title('Interactiver Spiral Plot')\n",
    "    plt.xlabel('X')\n",
    "    plt.ylabel('Y')\n",
    "    plt.gca().set_aspect('equal', adjustable='box')\n",
    "    plt.grid(True)\n",
    "    plt.show()\n",
    "\n",
    "# Input Noise und Farbe\n",
    "noise_slider = widgets.FloatSlider(value=0, min=0, max=0.15, step=0.01, description='Noise')\n",
    "color_picker = widgets.ColorPicker(value='blue', description='Color')\n",
    "\n",
    "def update_plot(noise_level, color):\n",
    "    create_spiral(noise_level=noise_level, color=color)\n",
    "\n",
    "widgets.interact(update_plot, noise_level=noise_slider, color=color_picker)\n"
   ]
  },
  {
   "cell_type": "markdown",
   "id": "1b20cbe0-829e-4eeb-9f41-0befda49b06b",
   "metadata": {
    "editable": false,
    "slideshow": {
     "slide_type": ""
    },
    "tags": []
   },
   "source": [
    "---\n",
    "\n",
    "<a rel=\"license\" href=\"http://creativecommons.org/licenses/by-nc-nd/4.0/\"><img alt=\"Creative Commons Lizenzvertrag\" style=\"border-width:0\" src=\"https://i.creativecommons.org/l/by-nc-nd/4.0/88x31.png\" /></a><br /><span xmlns:dct=\"http://purl.org/dc/terms/\" property=\"dct:title\">Die Übungsserie begleitend zum AI4ALL-Kurs</span> der <span xmlns:cc=\"http://creativecommons.org/ns#\" property=\"cc:attributionName\">EAH Jena</span> ist lizenziert unter einer <a rel=\"license\" href=\"http://creativecommons.org/licenses/by-nc-nd/4.0/\">Creative Commons Namensnennung - Nicht kommerziell - Keine Bearbeitungen 4.0 International Lizenz</a>.\n",
    "\n",
    "Der AI4ALL-Kurs entsteht im Rahmen des Projekts MoVeKI2EAH. Das Projekt MoVeKI2EAH wird durch das BMBF (Bundesministerium für Bildung und Forschung) und den Freistaat Thüringen im Rahmen der Bund-Länder-Initiative zur Förderung von Künstlicher Intelligenz in der Hochschulbildung gefördert (12/2021 bis 11/2025, Föderkennzeichen 16DHBKI081)."
   ]
  }
 ],
 "metadata": {
  "kernelspec": {
   "display_name": "Python 3 (ipykernel)",
   "language": "python",
   "name": "python3"
  },
  "language_info": {
   "codemirror_mode": {
    "name": "ipython",
    "version": 3
   },
   "file_extension": ".py",
   "mimetype": "text/x-python",
   "name": "python",
   "nbconvert_exporter": "python",
   "pygments_lexer": "ipython3",
   "version": "3.10.10"
  }
 },
 "nbformat": 4,
 "nbformat_minor": 5
}
