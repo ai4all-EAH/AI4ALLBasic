{
 "cells": [
  {
   "cell_type": "markdown",
   "id": "49ae238e-217c-417f-aaa7-975dff25fb6b",
   "metadata": {
    "button_covered": true,
    "converted": true,
    "deletable": false,
    "editable": false,
    "hide_toolbar": true,
    "jupyter": {
     "cell_type_changeable": false,
     "editable": false,
     "source_hidden": false
    },
    "locked": true,
    "readonly": true,
    "slideshow": {
     "slide_type": ""
    },
    "tags": [
     "locked"
    ]
   },
   "source": [
    "<img src=\"./src/logo.png\" width=\"250\">"
   ]
  },
  {
   "cell_type": "markdown",
   "id": "ba61c1d8-fb3d-41fe-97af-30e8479f6ea8",
   "metadata": {
    "button_covered": true,
    "converted": true,
    "deletable": false,
    "editable": false,
    "hide_toolbar": true,
    "jupyter": {
     "cell_type_changeable": false,
     "editable": false,
     "source_hidden": false
    },
    "locked": true,
    "readonly": true,
    "slideshow": {
     "slide_type": ""
    },
    "tags": [
     "locked"
    ]
   },
   "source": [
    "**Baustein:** Daten  $\\rightarrow$ **Subbaustein:** Deskriptive Statistik und Visualisierung$\\rightarrow$ **Übungsserie**\n",
    "\n",
    "**Version:** 2.0, **Lizenz:** <a rel=\"license\" href=\"http://creativecommons.org/licenses/by-nc-nd/4.0/\">CC BY-NC-ND 4.0</a>\n",
    "\n",
    "***\n",
    "\n",
    "# Daten: Deskriptive Statistik und Visualisierung"
   ]
  },
  {
   "cell_type": "markdown",
   "id": "75b41305-c62d-43c3-b8fa-7901668bd981",
   "metadata": {
    "button_covered": true,
    "converted": true,
    "deletable": false,
    "editable": false,
    "hide_toolbar": true,
    "jupyter": {
     "cell_type_changeable": false,
     "editable": false,
     "source_hidden": false
    },
    "locked": true,
    "readonly": true,
    "slideshow": {
     "slide_type": ""
    },
    "tags": [
     "locked"
    ]
   },
   "source": [
    "---\n",
    "## Importieren der notwendigen Python-Bibliotheken"
   ]
  },
  {
   "cell_type": "code",
   "execution_count": 1,
   "id": "921f6873-44a9-4220-bc73-b9f7a9f52f3f",
   "metadata": {
    "button_covered": true,
    "converted": true,
    "deletable": false,
    "editable": false,
    "hide_toolbar": true,
    "jupyter": {
     "cell_type_changeable": false,
     "editable": false,
     "source_hidden": false
    },
    "locked": true,
    "readonly": true,
    "slideshow": {
     "slide_type": ""
    },
    "tags": [
     "locked"
    ]
   },
   "outputs": [],
   "source": [
    "import numpy as np\n",
    "import pandas as pd\n",
    "from matplotlib import pyplot as plt\n",
    "import seaborn as sns\n",
    "\n",
    "%run src/setup.ipynb"
   ]
  },
  {
   "cell_type": "markdown",
   "id": "60d351c4-943a-4f2c-92b7-921e65c23654",
   "metadata": {
    "button_covered": true,
    "converted": true,
    "deletable": false,
    "editable": true,
    "hide_toolbar": true,
    "jupyter": {
     "cell_type_changeable": false,
     "editable": true,
     "source_hidden": false
    },
    "locked": true,
    "readonly": true,
    "slideshow": {
     "slide_type": ""
    },
    "tags": [
     "locked"
    ]
   },
   "source": [
    "---\n",
    "## Importieren der Daten\n",
    "\n",
    "Für den Import von tabellarischen Daten hilft die Bibliothek `pandas`. `pandas` ist eine leistungsstarke Python-Bibliothek, die speziell für die Datenanalyse und -manipulation entwickelt wurde. \n",
    "\n",
    "Sie bietet Datenstrukturen wie **Dataframes**, die den Umgang mit tabellarischen Daten erleichtern und effizienter gestalten. \n",
    "\n",
    "Zum Beispiel kann so eine `.csv`-Datei als **Dataframe** eingelesen werden. Andere Formate, die mit `pandas` eingelesen werden können sind z.B. `.xlsx`, `.hdf5` oder `.json`.\n",
    "\n",
    "### Aufgabe 1: Passen Sie den Importierbefehl `pd.read_csv()` so an, dass der gewünschte Datensatz *penguins.csv* aus dem Ordner *data* in der Variable `df` gespeichert ist.\n",
    "\n",
    "**Hinweis**: In einem Jupyter Notebook können Sie `./` verwenden, um zu dem aktuellen Verzeichnis zu gelangen, in dem das aktuelle Notebook liegt. "
   ]
  },
  {
   "cell_type": "code",
   "execution_count": 3,
   "id": "3a84813e-f9b0-40a1-ad62-d2034e3e6eaf",
   "metadata": {
    "deletable": true,
    "editable": true,
    "slideshow": {
     "slide_type": ""
    },
    "tags": []
   },
   "outputs": [],
   "source": [
    "PATH = './data/' # Setzen eines (relativen) Pfades zum Verzeichnis, das unseren Datensatz enthält"
   ]
  },
  {
   "cell_type": "code",
   "execution_count": 4,
   "id": "1199d685-83c8-4fe8-94cc-85c76f44fcaf",
   "metadata": {
    "deletable": true,
    "editable": true,
    "slideshow": {
     "slide_type": ""
    },
    "tags": []
   },
   "outputs": [],
   "source": [
    "df = pd.read_csv(PATH + 'penguins.csv') # Laden des Datensatzes"
   ]
  },
  {
   "cell_type": "markdown",
   "id": "6f1338e9-57b8-46a1-82d7-c1d636b3fe02",
   "metadata": {
    "button_covered": true,
    "converted": true,
    "deletable": false,
    "editable": false,
    "hide_toolbar": true,
    "jupyter": {
     "cell_type_changeable": false,
     "editable": false,
     "source_hidden": false
    },
    "locked": true,
    "readonly": true,
    "slideshow": {
     "slide_type": ""
    },
    "tags": [
     "locked"
    ]
   },
   "source": [
    "---\n",
    "## Datensatz\n",
    "Der Palmer-Pinguine Datensatz, mit dem Sie im nachfolgenden arbeiten werden, wurde von 2007 bis 2009 von Dr. Kristen Gorman im Rahmen des Palmer Station Long Term Ecological Research Program, einem Teil des US Long Term Ecological Research Network, erhoben. Er enthält Merkmale über 3 Pinguinarten, die auf drei Inseln des Pamer-Archipels in der Antarktis beobachtet wurden. \n",
    "\n",
    "<img src=\"./src/penguins.png\" width=\"350\">\n",
    "(Artwork by @allison_horst)\n",
    "\n",
    "Machen Sie sich mit dem Datensatz vertraut.\n",
    "\n",
    "Die ersten ```n``` Zeilen des erzeugten Dataframes können in Jupyter Notebooks mit `df.head()` ausgegeben werden, dies ist für kleinere Datensätze (mit wenigen Spalten) sinnvoll und dient nur für einen ersten Überblick."
   ]
  },
  {
   "cell_type": "code",
   "execution_count": 5,
   "id": "0ee62f06-0fcc-41b9-a705-206acf2df78f",
   "metadata": {
    "deletable": true,
    "editable": true,
    "scrolled": true,
    "slideshow": {
     "slide_type": ""
    },
    "tags": []
   },
   "outputs": [
    {
     "data": {
      "text/html": [
       "<div>\n",
       "<style scoped>\n",
       "    .dataframe tbody tr th:only-of-type {\n",
       "        vertical-align: middle;\n",
       "    }\n",
       "\n",
       "    .dataframe tbody tr th {\n",
       "        vertical-align: top;\n",
       "    }\n",
       "\n",
       "    .dataframe thead th {\n",
       "        text-align: right;\n",
       "    }\n",
       "</style>\n",
       "<table border=\"1\" class=\"dataframe\">\n",
       "  <thead>\n",
       "    <tr style=\"text-align: right;\">\n",
       "      <th></th>\n",
       "      <th>Pinguinart</th>\n",
       "      <th>Insel</th>\n",
       "      <th>NestVoll_2Eier</th>\n",
       "      <th>Schnabellaenge</th>\n",
       "      <th>Schnabelhoehe</th>\n",
       "      <th>Flossenlaenge</th>\n",
       "      <th>Gewicht</th>\n",
       "      <th>Geschlecht</th>\n",
       "      <th>VerhaeltnisIsotope13N_12N</th>\n",
       "      <th>VerhaeltnisIsotope15N_14N</th>\n",
       "    </tr>\n",
       "  </thead>\n",
       "  <tbody>\n",
       "    <tr>\n",
       "      <th>0</th>\n",
       "      <td>Adelie</td>\n",
       "      <td>Torgersen</td>\n",
       "      <td>True</td>\n",
       "      <td>39.5</td>\n",
       "      <td>17.4</td>\n",
       "      <td>186.0</td>\n",
       "      <td>3800</td>\n",
       "      <td>weiblich</td>\n",
       "      <td>8.94956</td>\n",
       "      <td>-24.69454</td>\n",
       "    </tr>\n",
       "    <tr>\n",
       "      <th>1</th>\n",
       "      <td>Adelie</td>\n",
       "      <td>Torgersen</td>\n",
       "      <td>True</td>\n",
       "      <td>40.3</td>\n",
       "      <td>18.0</td>\n",
       "      <td>195.0</td>\n",
       "      <td>3250</td>\n",
       "      <td>weiblich</td>\n",
       "      <td>8.36821</td>\n",
       "      <td>-25.33302</td>\n",
       "    </tr>\n",
       "    <tr>\n",
       "      <th>2</th>\n",
       "      <td>Adelie</td>\n",
       "      <td>Torgersen</td>\n",
       "      <td>True</td>\n",
       "      <td>36.7</td>\n",
       "      <td>19.3</td>\n",
       "      <td>193.0</td>\n",
       "      <td>3450</td>\n",
       "      <td>weiblich</td>\n",
       "      <td>8.76651</td>\n",
       "      <td>-25.32426</td>\n",
       "    </tr>\n",
       "    <tr>\n",
       "      <th>3</th>\n",
       "      <td>Adelie</td>\n",
       "      <td>Torgersen</td>\n",
       "      <td>True</td>\n",
       "      <td>39.3</td>\n",
       "      <td>20.6</td>\n",
       "      <td>190.0</td>\n",
       "      <td>3650</td>\n",
       "      <td>maennlich</td>\n",
       "      <td>8.66496</td>\n",
       "      <td>-25.29805</td>\n",
       "    </tr>\n",
       "    <tr>\n",
       "      <th>4</th>\n",
       "      <td>Adelie</td>\n",
       "      <td>Torgersen</td>\n",
       "      <td>False</td>\n",
       "      <td>38.9</td>\n",
       "      <td>17.8</td>\n",
       "      <td>181.0</td>\n",
       "      <td>3625</td>\n",
       "      <td>weiblich</td>\n",
       "      <td>9.18718</td>\n",
       "      <td>-25.21799</td>\n",
       "    </tr>\n",
       "    <tr>\n",
       "      <th>5</th>\n",
       "      <td>Adelie</td>\n",
       "      <td>Torgersen</td>\n",
       "      <td>False</td>\n",
       "      <td>39.2</td>\n",
       "      <td>19.6</td>\n",
       "      <td>195.0</td>\n",
       "      <td>4675</td>\n",
       "      <td>maennlich</td>\n",
       "      <td>9.46060</td>\n",
       "      <td>-24.89958</td>\n",
       "    </tr>\n",
       "    <tr>\n",
       "      <th>6</th>\n",
       "      <td>Adelie</td>\n",
       "      <td>Torgersen</td>\n",
       "      <td>True</td>\n",
       "      <td>34.6</td>\n",
       "      <td>21.1</td>\n",
       "      <td>198.0</td>\n",
       "      <td>4400</td>\n",
       "      <td>maennlich</td>\n",
       "      <td>8.55583</td>\n",
       "      <td>-25.22588</td>\n",
       "    </tr>\n",
       "    <tr>\n",
       "      <th>7</th>\n",
       "      <td>Adelie</td>\n",
       "      <td>Torgersen</td>\n",
       "      <td>True</td>\n",
       "      <td>38.7</td>\n",
       "      <td>19.0</td>\n",
       "      <td>195.0</td>\n",
       "      <td>3450</td>\n",
       "      <td>weiblich</td>\n",
       "      <td>9.18528</td>\n",
       "      <td>-25.06691</td>\n",
       "    </tr>\n",
       "  </tbody>\n",
       "</table>\n",
       "</div>"
      ],
      "text/plain": [
       "  Pinguinart      Insel  NestVoll_2Eier  Schnabellaenge  Schnabelhoehe  \\\n",
       "0     Adelie  Torgersen            True            39.5           17.4   \n",
       "1     Adelie  Torgersen            True            40.3           18.0   \n",
       "2     Adelie  Torgersen            True            36.7           19.3   \n",
       "3     Adelie  Torgersen            True            39.3           20.6   \n",
       "4     Adelie  Torgersen           False            38.9           17.8   \n",
       "5     Adelie  Torgersen           False            39.2           19.6   \n",
       "6     Adelie  Torgersen            True            34.6           21.1   \n",
       "7     Adelie  Torgersen            True            38.7           19.0   \n",
       "\n",
       "   Flossenlaenge  Gewicht Geschlecht  VerhaeltnisIsotope13N_12N  \\\n",
       "0          186.0     3800   weiblich                    8.94956   \n",
       "1          195.0     3250   weiblich                    8.36821   \n",
       "2          193.0     3450   weiblich                    8.76651   \n",
       "3          190.0     3650  maennlich                    8.66496   \n",
       "4          181.0     3625   weiblich                    9.18718   \n",
       "5          195.0     4675  maennlich                    9.46060   \n",
       "6          198.0     4400  maennlich                    8.55583   \n",
       "7          195.0     3450   weiblich                    9.18528   \n",
       "\n",
       "   VerhaeltnisIsotope15N_14N  \n",
       "0                  -24.69454  \n",
       "1                  -25.33302  \n",
       "2                  -25.32426  \n",
       "3                  -25.29805  \n",
       "4                  -25.21799  \n",
       "5                  -24.89958  \n",
       "6                  -25.22588  \n",
       "7                  -25.06691  "
      ]
     },
     "execution_count": 5,
     "metadata": {},
     "output_type": "execute_result"
    }
   ],
   "source": [
    "df.head(n=8)"
   ]
  },
  {
   "cell_type": "markdown",
   "id": "78d57dfd-6eb2-4014-9433-703f183cde01",
   "metadata": {
    "button_covered": true,
    "converted": true,
    "deletable": false,
    "editable": false,
    "hide_toolbar": true,
    "jupyter": {
     "cell_type_changeable": false,
     "editable": false,
     "source_hidden": false
    },
    "locked": true,
    "readonly": true,
    "slideshow": {
     "slide_type": ""
    },
    "tags": [
     "locked"
    ]
   },
   "source": [
    "Genauso können mit `df.tail()` die letzten `n` Zeilen des Dataframes ausgegeben werden."
   ]
  },
  {
   "cell_type": "code",
   "execution_count": null,
   "id": "80e29ab8-6d18-4139-8eec-5b4a8c69b6b2",
   "metadata": {},
   "outputs": [],
   "source": [
    "df.tail(n=3)"
   ]
  },
  {
   "cell_type": "markdown",
   "id": "c7b8769b",
   "metadata": {
    "button_covered": true,
    "converted": true,
    "deletable": false,
    "editable": false,
    "hide_toolbar": true,
    "jupyter": {
     "cell_type_changeable": false,
     "editable": false,
     "source_hidden": false
    },
    "locked": true,
    "readonly": true,
    "slideshow": {
     "slide_type": ""
    },
    "tags": [
     "locked"
    ]
   },
   "source": [
    "Um nur die Namen der Spalten/Merkmale auszugeben, kann `df.columns` genutzt\n",
    "werden."
   ]
  },
  {
   "cell_type": "code",
   "execution_count": null,
   "id": "02d0c7a2-da1b-4d26-a742-e6620394042f",
   "metadata": {
    "editable": true,
    "slideshow": {
     "slide_type": ""
    },
    "tags": []
   },
   "outputs": [],
   "source": [
    "df.columns"
   ]
  },
  {
   "cell_type": "markdown",
   "id": "f16ad423-3411-4416-a1ef-dcb4cb8c43c9",
   "metadata": {
    "button_covered": true,
    "converted": true,
    "deletable": false,
    "editable": false,
    "hide_toolbar": true,
    "jupyter": {
     "cell_type_changeable": false,
     "editable": false,
     "source_hidden": false
    },
    "locked": true,
    "readonly": true,
    "slideshow": {
     "slide_type": ""
    },
    "tags": [
     "locked"
    ]
   },
   "source": [
    "Mit `df.shape` kann die Dimension des **Dataframes** ausgegeben werden. Die Ausgabe ist ein Tuple (Anzahl_Zeilen, Anzahl_Spalten)."
   ]
  },
  {
   "cell_type": "code",
   "execution_count": null,
   "id": "8b57317f-b2cd-47ca-a486-c83433d34c52",
   "metadata": {},
   "outputs": [],
   "source": [
    "df.shape"
   ]
  },
  {
   "cell_type": "markdown",
   "id": "ea8a57db-c6b3-42f2-b7a7-bc374ea8dc33",
   "metadata": {
    "button_covered": true,
    "converted": true,
    "deletable": false,
    "editable": false,
    "hide_toolbar": true,
    "jupyter": {
     "cell_type_changeable": false,
     "editable": false,
     "source_hidden": false
    },
    "locked": true,
    "readonly": true,
    "slideshow": {
     "slide_type": ""
    },
    "tags": [
     "locked"
    ]
   },
   "source": [
    "### Aufgabe 2: Beantworten Sie die nachfolgenden Fragen zum Datensatz."
   ]
  },
  {
   "cell_type": "code",
   "execution_count": null,
   "id": "0cafc822",
   "metadata": {
    "editable": true,
    "slideshow": {
     "slide_type": ""
    },
    "tags": []
   },
   "outputs": [],
   "source": [
    "%run src/01_Fragen.ipynb"
   ]
  },
  {
   "cell_type": "markdown",
   "id": "a14f59c8-aa87-41db-8397-8ed51eb06178",
   "metadata": {
    "button_covered": true,
    "converted": true,
    "deletable": false,
    "editable": false,
    "hide_toolbar": true,
    "jupyter": {
     "cell_type_changeable": false,
     "editable": false,
     "source_hidden": false
    },
    "locked": true,
    "readonly": true,
    "slideshow": {
     "slide_type": ""
    },
    "tags": [
     "locked"
    ]
   },
   "source": [
    "Weiterhin kann `df.info()` genutzt werden, um z.B. Informationen über die\n",
    "einzelnen Spalten (`Column`), den Datentyp (`Dtype`) der Merkmalsausprägungen\n",
    "und die Anzahl an Nicht-Null-Merkmalsausprägungen (`Non-Null Count`) innerhalb\n",
    "einer Spalte zu erhalten."
   ]
  },
  {
   "cell_type": "code",
   "execution_count": null,
   "id": "68e4d98d-cf44-41d1-bd0d-420063022b79",
   "metadata": {},
   "outputs": [],
   "source": [
    "df.info()"
   ]
  },
  {
   "cell_type": "markdown",
   "id": "f729586c-3583-4c4c-98dd-da8fce91f937",
   "metadata": {
    "button_covered": true,
    "converted": true,
    "deletable": false,
    "editable": false,
    "hide_toolbar": true,
    "jupyter": {
     "cell_type_changeable": false,
     "editable": false,
     "source_hidden": false
    },
    "locked": true,
    "readonly": true,
    "slideshow": {
     "slide_type": ""
    },
    "tags": [
     "locked"
    ]
   },
   "source": [
    "### Aufgabe 3: Beantworten Sie die nachfolgenden Fragen zum Datensatz."
   ]
  },
  {
   "cell_type": "code",
   "execution_count": null,
   "id": "f0e79587-1029-470f-90e1-5fd864202b81",
   "metadata": {
    "editable": true,
    "slideshow": {
     "slide_type": ""
    },
    "tags": []
   },
   "outputs": [],
   "source": [
    "%run src/02_Fragen.ipynb"
   ]
  },
  {
   "cell_type": "markdown",
   "id": "13a18805-a23b-4340-a4aa-5024862f21ae",
   "metadata": {
    "button_covered": true,
    "converted": true,
    "deletable": false,
    "editable": false,
    "hide_toolbar": true,
    "jupyter": {
     "cell_type_changeable": false,
     "editable": false,
     "source_hidden": false
    },
    "locked": true,
    "readonly": true,
    "slideshow": {
     "slide_type": ""
    },
    "tags": [
     "locked"
    ]
   },
   "source": [
    "### Zugriff auf Spalten des Dataframes\n",
    "\n",
    "In `Pandas`  kann auf die Spalten eines **Dataframes** einfach über deren Namen zugegriffen werden. Dies geschieht, indem man den Spaltennamen in eckigen Klammern angibt, z.B. `df['Spaltenname']`. Diese Methode ermöglicht es gezielt, Daten zu filtern, zu analysieren und zu manipulieren."
   ]
  },
  {
   "cell_type": "code",
   "execution_count": null,
   "id": "d7f40ae5-47a0-4737-9c1f-52b57c9ce3c2",
   "metadata": {
    "editable": true,
    "slideshow": {
     "slide_type": ""
    },
    "tags": []
   },
   "outputs": [],
   "source": [
    "df['Pinguinart'] # gesamte Spalte der Pinguinarten wird zurückgegeben"
   ]
  },
  {
   "cell_type": "markdown",
   "id": "83c322c2-d06d-41d9-aef1-4cde5147ed29",
   "metadata": {
    "button_covered": true,
    "converted": true,
    "deletable": false,
    "editable": false,
    "hide_toolbar": true,
    "locked": true,
    "readonly": true,
    "slideshow": {
     "slide_type": ""
    },
    "tags": [
     "locked"
    ]
   },
   "source": [
    "So kann auch auf mehrere Spalten gleichzeitig zugegriffen werden. \n",
    "\n",
    "**Achtung:** Die doppelten Klammern sind hier nötig, weil die inneren Klammern `['Pinguinart', 'Gewicht']` eine Python-Liste definieren, die angibt welche Spalten wir haben wollen, während die äußeren Klammern `df[ ]` den eigentlichen DataFrame-Zugriff darstellen."
   ]
  },
  {
   "cell_type": "code",
   "execution_count": null,
   "id": "37f6293f-1903-4e57-9d5b-de7efa089280",
   "metadata": {
    "editable": true,
    "slideshow": {
     "slide_type": ""
    },
    "tags": []
   },
   "outputs": [],
   "source": [
    "df[['Pinguinart', 'Gewicht']] # mehrere Spalten werden zurückgegeben"
   ]
  },
  {
   "cell_type": "markdown",
   "id": "633cd293-4688-4a8c-be82-7fdbae295fe4",
   "metadata": {
    "button_covered": true,
    "converted": true,
    "deletable": false,
    "editable": false,
    "hide_toolbar": true,
    "jupyter": {
     "cell_type_changeable": false,
     "editable": false,
     "source_hidden": false
    },
    "locked": true,
    "readonly": true,
    "slideshow": {
     "slide_type": ""
    },
    "tags": [
     "locked"
    ]
   },
   "source": [
    "So können die Daten auch gefiltert und z.B. Berechnungen durchgeführt werden."
   ]
  },
  {
   "cell_type": "code",
   "execution_count": null,
   "id": "94c886b1-75dd-4e71-9516-f34f30fcf7b5",
   "metadata": {},
   "outputs": [],
   "source": [
    "# Filtern von Daten \n",
    "adelie_pinguine = df[df['Pinguinart'] == 'Adelie'] # Filtern der Daten nach der Pinguinart 'Adelie'\n",
    "print(adelie_pinguine.shape) # 139 Pinguine gehoeren zur Art 'Adelie' und sind in der Variable 'adelie_pinguine' gespeichert, shape gibt die Anzahl der Zeilen und Spalten des DataFrames an"
   ]
  },
  {
   "cell_type": "code",
   "execution_count": null,
   "id": "3ddab7dc",
   "metadata": {},
   "outputs": [],
   "source": [
    "# Filtern von Daten\n",
    "schwere_pinguine = df[df['Gewicht'] > 4000] # Filtern der Daten nach Pinguinen, die mehr als 4000g wiegen\n",
    "display(schwere_pinguine) # 166 Pinguine wiegen mehr als 4000g und sind in der Variable 'schwere_pinguine' gespeichert"
   ]
  },
  {
   "cell_type": "markdown",
   "id": "331c63c4-1393-4941-9bad-2ea38306540c",
   "metadata": {
    "button_covered": true,
    "converted": true,
    "deletable": false,
    "editable": false,
    "hide_toolbar": true,
    "jupyter": {
     "cell_type_changeable": false,
     "editable": false,
     "source_hidden": false
    },
    "locked": true,
    "readonly": true,
    "slideshow": {
     "slide_type": ""
    },
    "tags": [
     "locked"
    ]
   },
   "source": [
    "### Berechnung auf einzelnen Spalten\n",
    "Pandas bietet eine Vielzahl von Methoden, um statistische Berechnungen auf einzelne Spalten eines DataFrames durchzuführen, wie z.B. `df['spalte'].mean()`, `df['spalte'].sum()`, `df['spalte'].min()`, und `df['spalte'].max()`. \n",
    "\n",
    "Diese Funktionen ermöglichen es, den Mittelwert, die Summe, den Minimal- und Maximalwert einer Spalte zu ermitteln."
   ]
  },
  {
   "cell_type": "code",
   "execution_count": null,
   "id": "8ea7f283",
   "metadata": {},
   "outputs": [],
   "source": [
    "# Berechnungen von Daten\n",
    "durchschnitts_gewicht = df['Gewicht'].mean() # Berechnung des Durchschnittsgewichts aller Pinguine\n",
    "print(durchschnitts_gewicht) # Ausgabe des Durchschnittsgewichts"
   ]
  },
  {
   "cell_type": "markdown",
   "id": "00b27c3d",
   "metadata": {
    "button_covered": true,
    "converted": true,
    "deletable": false,
    "editable": false,
    "hide_toolbar": true,
    "jupyter": {
     "cell_type_changeable": false,
     "editable": false,
     "source_hidden": false
    },
    "locked": true,
    "readonly": true,
    "slideshow": {
     "slide_type": ""
    },
    "tags": [
     "locked"
    ]
   },
   "source": [
    "### Aufgabe 4: Lassen sie sich das Durchschnittsgewicht der Pinguine, die leichter als 4000g sind, ausgeben."
   ]
  },
  {
   "cell_type": "code",
   "execution_count": null,
   "id": "4122d697",
   "metadata": {
    "editable": true,
    "slideshow": {
     "slide_type": ""
    },
    "tags": []
   },
   "outputs": [],
   "source": [
    "leichte_pinguine = \n",
    "leichte_pinguine_durchschnitts_gewicht = \n",
    "print(leichte_pinguine_durchschnitts_gewicht)"
   ]
  },
  {
   "cell_type": "markdown",
   "id": "95d08ca6-d94a-4129-8558-b7d11e070ea1",
   "metadata": {
    "button_covered": true,
    "converted": true,
    "deletable": false,
    "editable": false,
    "hide_toolbar": true,
    "jupyter": {
     "cell_type_changeable": false,
     "editable": false,
     "source_hidden": false
    },
    "locked": true,
    "readonly": true,
    "slideshow": {
     "slide_type": ""
    },
    "tags": [
     "locked"
    ]
   },
   "source": [
    "---\n",
    "## Deskriptive Statistik\n",
    "Um einen Eindruck vom Datensatz zu erhalten, sollen im Nachfolgenden die statistischen Kennzahlen berechnet und analysiert werden.\n",
    "### Aufgabe 5: Was sind die statistischen Kennzahlen der einzelnen numerischen Spalten? Welche Bedeutung hat das 50% Percentil? Worauf könnte die relative hohe Differenz zwischen Mittelwert und dem 50% Percentil in der Spalte *Gewicht* hinweisen?\n",
    "Mithilfe von ```df.describe()``` können mehrere statistische Werte der einzelnen Spalten/Merkmale des Datensatzes in ```df``` bestimmt werden. "
   ]
  },
  {
   "cell_type": "code",
   "execution_count": null,
   "id": "01f6f898-da8e-4b49-853e-5280a13d60f7",
   "metadata": {
    "editable": true,
    "slideshow": {
     "slide_type": ""
    },
    "tags": []
   },
   "outputs": [],
   "source": [
    "df.describe()"
   ]
  },
  {
   "cell_type": "markdown",
   "id": "ddf43a38-5bba-474b-98b4-4386324e33e5",
   "metadata": {
    "deletable": true,
    "tags": []
   },
   "source": [
    "Antwort: "
   ]
  },
  {
   "cell_type": "markdown",
   "id": "36116ad5-5f78-4bfe-aa93-0d1441d8d0f1",
   "metadata": {
    "deletable": true,
    "editable": true,
    "slideshow": {
     "slide_type": ""
    },
    "tags": []
   },
   "source": [
    "---\n",
    "## Boxplot\n",
    "### Aufgabe 6: Die Verteilung aller numerischen Merkmale wird im Folgenden als Boxplot mithilfe der Methode `df.plot.box()` der pandas-Dataframes dargestellt. Ist die Darstellung für alle Merkmale in einer Abbildung sinnvoll? Weiterhin sind *Gewicht* und *Schnabellaenge* in einzelnen plots dargestellt. Erklären Sie Vor- und Nachteile der einzelnen Darstellung."
   ]
  },
  {
   "cell_type": "code",
   "execution_count": null,
   "id": "826ee9b4-8a63-46c2-b625-f35d3ece0481",
   "metadata": {
    "deletable": true,
    "editable": true,
    "slideshow": {
     "slide_type": ""
    },
    "tags": []
   },
   "outputs": [],
   "source": [
    "plt.close('all')\n",
    "fig, ax = plt.subplots(figsize=(12, 4))\n",
    "df.plot.box(ax=ax)\n",
    "plt.show()"
   ]
  },
  {
   "cell_type": "code",
   "execution_count": null,
   "id": "090da1f2-b9cf-4a59-b587-e41d4a82b51c",
   "metadata": {
    "editable": true,
    "slideshow": {
     "slide_type": ""
    },
    "tags": []
   },
   "outputs": [],
   "source": [
    "plt.close('all')\n",
    "# Erstelle eine Figur\n",
    "fig = plt.figure(figsize=(8, 4))\n",
    "\n",
    "# Erstelle den ersten Subplot\n",
    "ax1 = fig.add_subplot(1, 2, 1)\n",
    "df.plot.box(column='Schnabellaenge', ax=ax1)\n",
    "\n",
    "# Erstelle den zweiten Subplot\n",
    "ax2 = fig.add_subplot(1, 2, 2)\n",
    "df.plot.box(column='Gewicht', ax=ax2)\n",
    "\n",
    "# Layout anpassen und anzeigen\n",
    "plt.tight_layout()\n",
    "plt.show()"
   ]
  },
  {
   "cell_type": "markdown",
   "id": "5b77bf4d-a18a-4e82-938e-53a5ed261982",
   "metadata": {
    "deletable": true,
    "editable": true,
    "slideshow": {
     "slide_type": ""
    },
    "tags": []
   },
   "source": [
    "Antwort:"
   ]
  },
  {
   "attachments": {},
   "cell_type": "markdown",
   "id": "504131c7-0eee-4f3f-930b-4b3c74b97695",
   "metadata": {
    "button_covered": true,
    "converted": true,
    "deletable": true,
    "editable": true,
    "hide_toolbar": true,
    "jupyter": {
     "cell_type_changeable": false,
     "editable": true,
     "source_hidden": false
    },
    "locked": true,
    "readonly": true,
    "slideshow": {
     "slide_type": ""
    },
    "tags": [
     "locked"
    ]
   },
   "source": [
    "---\n",
    "## Visualisierung\n",
    "Da die statistischen Kennzahlen alleine nicht aussagekräftig sind, ist es immer sinnvoll, sich die Daten noch einmal visualisieren zu lassen. Zur Visualisierung wird hier zusätzlich das Paket `seaborn` (kurz: `sns`) genutzt. Visualisierungen sind ebenfalls mithilfe von `pandas`, `matplotlib`, usw. möglich.\n",
    "\n",
    "Im folgenden ist das kategorische Merkmale `Insel` mithilfe der Funktion `countplot()` als Säulendiagramm dargestellt. Die `Schnabellaenge` ist mithilfe der Funktion `histplot()` von `seaborn` in einem Histogramm visualisiert. Hier ist die Anzahl der darzustellenden Balken auf 3 gesetzt (`bin=3`). \n",
    "### Aufgabe 7: Begründen Sie, ob die Wahl von `bin=3` für die `Schnabellaenge` sinnvoll ist. Ändern Sie die Anzahl und beobachten Sie die Auswirkung.\n"
   ]
  },
  {
   "cell_type": "code",
   "execution_count": null,
   "id": "32857a17-7bf0-47e5-88ee-d41eba1496ca",
   "metadata": {
    "deletable": true,
    "editable": true,
    "slideshow": {
     "slide_type": ""
    },
    "tags": []
   },
   "outputs": [],
   "source": [
    "plt.close('all')\n",
    "\n",
    "fig, axes = plt.subplots(1, 2, figsize=(10, 4))\n",
    "\n",
    "sns.countplot(x='Insel', data=df, ax=axes[0])\n",
    "axes[0].set_ylabel('absolute Anzahl')\n",
    "\n",
    "sns.histplot(data=df['Schnabellaenge'], bins=3, ax=axes[1])\n",
    "axes[1].set_ylabel('absolute Anzahl')\n",
    "\n",
    "plt.show()"
   ]
  },
  {
   "cell_type": "markdown",
   "id": "6d38dda1-a43f-4168-9f1e-21188e157e30",
   "metadata": {
    "editable": true,
    "slideshow": {
     "slide_type": ""
    },
    "tags": []
   },
   "source": [
    "Antwort:"
   ]
  },
  {
   "cell_type": "markdown",
   "id": "c9f582d5-4725-4de0-a56a-bd6c0954a311",
   "metadata": {
    "button_covered": true,
    "converted": true,
    "deletable": false,
    "editable": false,
    "hide_toolbar": true,
    "jupyter": {
     "cell_type_changeable": false,
     "editable": false,
     "source_hidden": false
    },
    "locked": true,
    "readonly": true,
    "slideshow": {
     "slide_type": ""
    },
    "tags": [
     "locked"
    ]
   },
   "source": [
    "### Aufgabe 8: Stellen Sie dar, wie die Verteilung der Pinguinarten von allen Pinguinen ist, die leichter als 4000g sind. Lassen sich Aussagen treffen?"
   ]
  },
  {
   "cell_type": "code",
   "execution_count": null,
   "id": "788fbf66-96ee-4fba-8194-9e2bef764b2d",
   "metadata": {
    "editable": true,
    "slideshow": {
     "slide_type": ""
    },
    "tags": []
   },
   "outputs": [],
   "source": [
    "plt.close('all')\n",
    "sns.histplot(data=)"
   ]
  },
  {
   "cell_type": "markdown",
   "id": "6b93bfb4-2669-48ac-8499-92c8b18591a1",
   "metadata": {
    "editable": true,
    "slideshow": {
     "slide_type": ""
    },
    "tags": []
   },
   "source": [
    "Antwort:"
   ]
  },
  {
   "cell_type": "markdown",
   "id": "75b81ad1-1b3a-4ee9-9ddb-81261dc34584",
   "metadata": {
    "button_covered": true,
    "converted": true,
    "deletable": false,
    "editable": false,
    "hide_toolbar": true,
    "jupyter": {
     "cell_type_changeable": false,
     "editable": false,
     "source_hidden": false
    },
    "locked": true,
    "readonly": true,
    "slideshow": {
     "slide_type": ""
    },
    "tags": [
     "locked"
    ]
   },
   "source": [
    "Mithilfe von `sns.scatterplot()` lassen sich zwei Merkmale in einem Scatterplot darstellen. Mit `sns.histplot()` lassen sich zusätzlich auch gestapelte Histogramme darstellen. \n",
    "### Aufgabe 9: Vergleichen Sie beiden Visualisierungsmethoden. Welche ist besser geeignet und warum?"
   ]
  },
  {
   "cell_type": "code",
   "execution_count": null,
   "id": "b47b3586-a1c1-436f-bbd4-70f9a81317fc",
   "metadata": {
    "editable": true,
    "slideshow": {
     "slide_type": ""
    },
    "tags": []
   },
   "outputs": [],
   "source": [
    "plt.close('all')\n",
    "\n",
    "plt.figure()\n",
    "sns.histplot(data=df, stat='count', x='Pinguinart', hue='Insel', multiple='stack')#, ax=axes[0])\n",
    "plt.show()\n",
    "\n",
    "plt.figure()\n",
    "sns.scatterplot(x=df['Pinguinart'], y=df['Insel'])\n",
    "plt.show()"
   ]
  },
  {
   "cell_type": "markdown",
   "id": "c099b7b1-35f1-4b3c-8e3c-625be66248c9",
   "metadata": {
    "editable": true,
    "slideshow": {
     "slide_type": ""
    },
    "tags": []
   },
   "source": [
    "Antwort: "
   ]
  },
  {
   "cell_type": "markdown",
   "id": "9cb9ca1b-bb29-4479-adba-7455aa6ecf78",
   "metadata": {
    "button_covered": true,
    "converted": true,
    "deletable": false,
    "editable": false,
    "hide_toolbar": true,
    "jupyter": {
     "cell_type_changeable": false,
     "editable": false,
     "source_hidden": false
    },
    "locked": true,
    "readonly": true,
    "slideshow": {
     "slide_type": ""
    },
    "tags": [
     "locked"
    ]
   },
   "source": [
    "### Aufgabe 10: Vervollständigen Sie den Code für den Scatterplot, sodass er auch die Schnabellänge in Abhängigkeit des Gewichts darstellt. Vergleichen Sie wieder die beiden Visualisierungsmethoden. Welche ist besser geeignet und warum?"
   ]
  },
  {
   "cell_type": "code",
   "execution_count": null,
   "id": "702ce0fd-0f94-45c8-ae0f-cc37c8858e81",
   "metadata": {
    "editable": true,
    "slideshow": {
     "slide_type": ""
    },
    "tags": []
   },
   "outputs": [],
   "source": [
    "plt.close('all')\n",
    "\n",
    "plt.figure()\n",
    "sns.histplot(data=df, stat='count', x='Schnabellaenge', hue='Gewicht', multiple='stack')\n",
    "plt.show()\n",
    "\n",
    "plt.figure()\n",
    "sns.scatterplot(x=df['Schnabellaenge'], y=df['Gewicht'])\n",
    "plt.show()"
   ]
  },
  {
   "cell_type": "markdown",
   "id": "43044e6f-6149-4304-bd9b-acde6a8fa82d",
   "metadata": {
    "deletable": true,
    "editable": true,
    "slideshow": {
     "slide_type": ""
    },
    "tags": []
   },
   "source": [
    "Antwort:"
   ]
  },
  {
   "cell_type": "markdown",
   "id": "71d77110-37cd-45a9-b8fb-ff2bbe077304",
   "metadata": {
    "button_covered": true,
    "converted": true,
    "deletable": false,
    "editable": false,
    "hide_toolbar": true,
    "jupyter": {
     "cell_type_changeable": false,
     "editable": false,
     "source_hidden": false
    },
    "locked": true,
    "readonly": true,
    "slideshow": {
     "slide_type": ""
    },
    "tags": [
     "locked"
    ]
   },
   "source": [
    "Mithilfe von `sns.pairplot()` lassen sich alle numerischen Merkmale angegeben in `vars` in einer Scatterplot-Matrix vergleichend darstellen. Mit `diag_kind='hist'` wird eingestellt, dass auf der Diagnonalen die Histogramme der einzelnen Merkmale dargestellt werden. Zur weiteren Veranschaulichung werden die Pinguinarten farblich dargestellt (`hue=Pinguinart`). Können Sie schon Zusammenhänge zwischen den Merkmalen anhand der Scatterplot-Matrix erkennen?"
   ]
  },
  {
   "cell_type": "code",
   "execution_count": null,
   "id": "7461b32b-6466-4938-8bc5-55c088601ef0",
   "metadata": {
    "editable": true,
    "slideshow": {
     "slide_type": ""
    },
    "tags": []
   },
   "outputs": [],
   "source": [
    "plt.close('all')\n",
    "sns.pairplot(df, vars=['Schnabellaenge','Schnabelhoehe','Flossenlaenge','Gewicht','VerhaeltnisIsotope13N_12N','VerhaeltnisIsotope15N_14N'], hue='Pinguinart', diag_kind='hist')"
   ]
  },
  {
   "cell_type": "markdown",
   "id": "1bae6954-e288-44c5-b9b3-92125d00fdf6",
   "metadata": {
    "button_covered": true,
    "converted": true,
    "deletable": false,
    "editable": false,
    "hide_toolbar": true,
    "locked": true,
    "readonly": true,
    "slideshow": {
     "slide_type": ""
    },
    "tags": [
     "locked"
    ]
   },
   "source": [
    "### Aufgabe 11: Beantworten Sie die nachfolgenden Fragen zu den Zusammenhängen zwischen den Merkmalen."
   ]
  },
  {
   "cell_type": "code",
   "execution_count": null,
   "id": "c0d6ce8f-523e-41f0-9e88-5f8cb3126550",
   "metadata": {
    "editable": true,
    "slideshow": {
     "slide_type": ""
    },
    "tags": []
   },
   "outputs": [],
   "source": [
    "%run src/03_Fragen.ipynb"
   ]
  },
  {
   "cell_type": "markdown",
   "id": "5ae60fa3-8eb5-4d6c-aec2-5ddbea8bfd82",
   "metadata": {
    "button_covered": true,
    "converted": true,
    "deletable": false,
    "editable": false,
    "hide_toolbar": true,
    "jupyter": {
     "cell_type_changeable": false,
     "editable": false,
     "source_hidden": false
    },
    "locked": true,
    "readonly": true,
    "slideshow": {
     "slide_type": ""
    },
    "tags": [
     "locked"
    ]
   },
   "source": [
    "---\n",
    "## Korrelation\n",
    "Um die in der Scatterplot-Matrix erahnbaren Zusammenhänge zwischen den Merkmalen weiter zu untersuchen können Korrelationen untersucht werden. Sie können quantitativ auf einen Zusammenhang zwischen Merkmalen hinweisen."
   ]
  },
  {
   "cell_type": "markdown",
   "id": "bd79b6f7-bde0-42ef-8250-8fb78bee1d54",
   "metadata": {
    "button_covered": true,
    "converted": true,
    "deletable": false,
    "editable": false,
    "hide_toolbar": true,
    "jupyter": {
     "cell_type_changeable": false,
     "editable": false,
     "source_hidden": false
    },
    "locked": true,
    "readonly": true,
    "slideshow": {
     "slide_type": ""
    },
    "tags": [
     "locked"
    ]
   },
   "source": [
    "### Aufgabe 12: Untersuchen Sie den Datensatz auf Korrelationen zwischen den einzelnen Merkmalen mithilfe der `pandas`-Methode `df.corr()`. \n",
    "Entscheiden Sie auch, welchen Korrelationskoeffizienten Sie berechnet haben wollen (`method=\"pearson\"`/`method=\"spearman\"`).\n",
    "\n",
    "**Achtung**: Korrelationen zwischen den Merkmalen können mithilfe von `df.corr()` nur zwischen numerischen Merkmalen berechnet werden, daher muss `numeric_only=True` gesetzt werden. "
   ]
  },
  {
   "cell_type": "code",
   "execution_count": null,
   "id": "54365e54-6355-45ea-ba16-7c63c64cd194",
   "metadata": {
    "editable": true,
    "slideshow": {
     "slide_type": ""
    },
    "tags": []
   },
   "outputs": [],
   "source": [
    "korrelationen = \n",
    "display(korrelationen)"
   ]
  },
  {
   "cell_type": "markdown",
   "id": "2df60eab-4877-4bb0-8b70-4e8010722fa6",
   "metadata": {
    "button_covered": true,
    "converted": true,
    "deletable": false,
    "editable": false,
    "hide_toolbar": true,
    "jupyter": {
     "cell_type_changeable": false,
     "editable": false,
     "source_hidden": false
    },
    "locked": true,
    "readonly": true,
    "slideshow": {
     "slide_type": ""
    },
    "tags": [
     "locked"
    ]
   },
   "source": [
    "Mithilfe der Funktion `heatmap()` von seaborn lassen sich die Korrelationen in einer Korrelationsmatrix darstellen."
   ]
  },
  {
   "cell_type": "code",
   "execution_count": null,
   "id": "8bb40537-77e0-4174-bf88-2b1f51a013da",
   "metadata": {
    "deletable": true,
    "editable": true,
    "slideshow": {
     "slide_type": ""
    },
    "tags": []
   },
   "outputs": [],
   "source": [
    "plt.figure(figsize=(10, 8))\n",
    "sns.heatmap(korrelationen, cmap=\"Blues\", annot=True, fmt=\".2f\")\n",
    "plt.title(\"Korrelation zwischen den Merkmalen\", size=16)\n",
    "plt.show()"
   ]
  },
  {
   "cell_type": "markdown",
   "id": "e653cdaa-414c-48e4-9f63-92c6e3d8e774",
   "metadata": {
    "button_covered": true,
    "converted": true,
    "deletable": false,
    "editable": false,
    "hide_toolbar": true,
    "jupyter": {
     "cell_type_changeable": false,
     "editable": false,
     "source_hidden": false
    },
    "locked": true,
    "readonly": true,
    "slideshow": {
     "slide_type": ""
    },
    "tags": [
     "locked"
    ]
   },
   "source": [
    "### Aufgabe 13: Welche Merkmale haben einen besonders starken Zusammenhang. Welche haben einen schwachen Zusammenhang? Sind diese Korrelationen Ihrer Meinung nach nachvollziehbar/begründbar? Deckt sich das mit den Erkenntnissen aus der Scatterplot-Matrix? Betrachten Sie den Korrelationskoeffizienten zwischen `Flossenlaenge` und `Schnabelhoehe`. Wie verhält sich dieser im Vergleich zu dem Scatterplot, den Sie mit `sns.pairplot()` erstellt haben? Stellt der Korrelationskoeffizient ein vollständiges Bild des Zusammenhangs dar?"
   ]
  },
  {
   "cell_type": "markdown",
   "id": "7325944f-a822-4dc6-8858-5c80d428f74e",
   "metadata": {
    "deletable": true,
    "editable": true,
    "slideshow": {
     "slide_type": ""
    },
    "tags": []
   },
   "source": [
    "Antwort:"
   ]
  },
  {
   "cell_type": "markdown",
   "id": "08d4e53a-d6e3-4973-bdb1-d7b60429a71a",
   "metadata": {
    "button_covered": true,
    "converted": true,
    "deletable": false,
    "editable": false,
    "hide_toolbar": true,
    "jupyter": {
     "cell_type_changeable": false,
     "editable": false,
     "source_hidden": false
    },
    "locked": true,
    "readonly": true,
    "slideshow": {
     "slide_type": ""
    },
    "tags": [
     "locked"
    ]
   },
   "source": [
    "## Anwendung auf einem neuen Datensatz\n",
    "Wenden Sie nun die vorgestellten Methoden eigenständig auf einem neuen Datensatz an. Bearbeiten Sie dafür die nachfolgenden Aufgaben.\n",
    "\n",
    "### Aufgabe 14: Laden Sie den neuen Datensatz `fahrradverleih.csv` und speichern ihn in einem neuen Dataframe."
   ]
  },
  {
   "cell_type": "code",
   "execution_count": null,
   "id": "d0785a93-7f9d-4749-8cc5-3b25056d39fa",
   "metadata": {
    "editable": true,
    "slideshow": {
     "slide_type": ""
    },
    "tags": []
   },
   "outputs": [],
   "source": []
  },
  {
   "cell_type": "markdown",
   "id": "fce01211-6480-4335-8c86-cc51317a02d3",
   "metadata": {
    "button_covered": true,
    "converted": true,
    "deletable": false,
    "editable": false,
    "hide_toolbar": true,
    "jupyter": {
     "cell_type_changeable": false,
     "editable": false,
     "source_hidden": false
    },
    "locked": true,
    "readonly": true,
    "slideshow": {
     "slide_type": ""
    },
    "tags": [
     "locked"
    ]
   },
   "source": [
    "### Aufgabe 15: Was sind für Informationen/Merkmale in dem Datensatz enthalten. Für welche Fragstellung(en) könnte dieser Datensatz später genutzt werden?"
   ]
  },
  {
   "cell_type": "code",
   "execution_count": null,
   "id": "14df6e17-83ce-4469-afde-a08840bdd154",
   "metadata": {
    "editable": true,
    "slideshow": {
     "slide_type": ""
    },
    "tags": []
   },
   "outputs": [],
   "source": []
  },
  {
   "cell_type": "markdown",
   "id": "c7964c03-ef86-49cd-908c-e660bda136b2",
   "metadata": {
    "editable": true,
    "slideshow": {
     "slide_type": ""
    },
    "tags": []
   },
   "source": [
    "Antwort:"
   ]
  },
  {
   "cell_type": "markdown",
   "id": "4e791654-83e0-47b5-9423-b20939217b32",
   "metadata": {
    "button_covered": true,
    "converted": true,
    "deletable": false,
    "editable": false,
    "hide_toolbar": true,
    "jupyter": {
     "cell_type_changeable": false,
     "editable": false,
     "source_hidden": false
    },
    "locked": true,
    "readonly": true,
    "slideshow": {
     "slide_type": ""
    },
    "tags": [
     "locked"
    ]
   },
   "source": [
    "### Aufgabe 16: Was haben die Spalten für Datentypen?"
   ]
  },
  {
   "cell_type": "code",
   "execution_count": null,
   "id": "625c4f8a-92f7-4456-8cb8-4f6e64aea5dd",
   "metadata": {
    "editable": true,
    "slideshow": {
     "slide_type": ""
    },
    "tags": []
   },
   "outputs": [],
   "source": []
  },
  {
   "cell_type": "markdown",
   "id": "db194f42-e2c6-4218-b52b-3aa37af53a64",
   "metadata": {
    "button_covered": true,
    "converted": true,
    "deletable": false,
    "editable": false,
    "hide_toolbar": true,
    "jupyter": {
     "cell_type_changeable": false,
     "editable": false,
     "source_hidden": false
    },
    "locked": true,
    "readonly": true,
    "slideshow": {
     "slide_type": ""
    },
    "tags": [
     "locked"
    ]
   },
   "source": [
    "### Aufgabe 17: Wie viele Zeilen hat der Datensatz?"
   ]
  },
  {
   "cell_type": "code",
   "execution_count": null,
   "id": "afe124b3-8027-41c7-b049-01b5b025c14d",
   "metadata": {
    "editable": true,
    "slideshow": {
     "slide_type": ""
    },
    "tags": []
   },
   "outputs": [],
   "source": []
  },
  {
   "cell_type": "markdown",
   "id": "24d761ab-1d8e-455b-8a2b-104ec44a8388",
   "metadata": {
    "button_covered": true,
    "converted": true,
    "deletable": false,
    "editable": false,
    "hide_toolbar": true,
    "jupyter": {
     "cell_type_changeable": false,
     "editable": false,
     "source_hidden": false
    },
    "locked": true,
    "readonly": true,
    "slideshow": {
     "slide_type": ""
    },
    "tags": [
     "locked"
    ]
   },
   "source": [
    "### Aufgabe 18: Lassen Sie sich die Durchschnittstemperatur für Oktober ausgeben."
   ]
  },
  {
   "cell_type": "code",
   "execution_count": null,
   "id": "3ac5c5d8-6798-4aad-ae37-6e09a7117a4a",
   "metadata": {
    "editable": true,
    "slideshow": {
     "slide_type": ""
    },
    "tags": []
   },
   "outputs": [],
   "source": []
  },
  {
   "cell_type": "markdown",
   "id": "8ea4e313-b5d0-46b6-912f-ae45efd7f8a4",
   "metadata": {
    "button_covered": true,
    "converted": true,
    "deletable": false,
    "editable": false,
    "hide_toolbar": true,
    "jupyter": {
     "cell_type_changeable": false,
     "editable": false,
     "source_hidden": false
    },
    "locked": true,
    "readonly": true,
    "slideshow": {
     "slide_type": ""
    },
    "tags": [
     "locked"
    ]
   },
   "source": [
    "### Aufgabe 19: Lassen Sie sich die statistischen Kennzahlen für den Datensatz ausgeben. Vergleichen Sie die `min`/`max`-Werte der gefühlten und gemessenen Temperatur."
   ]
  },
  {
   "cell_type": "code",
   "execution_count": null,
   "id": "db824530-5fac-4eec-9df0-83f179f3bb68",
   "metadata": {
    "editable": true,
    "slideshow": {
     "slide_type": ""
    },
    "tags": []
   },
   "outputs": [],
   "source": []
  },
  {
   "cell_type": "markdown",
   "id": "e5473a52-768c-4710-8404-223f934dac8d",
   "metadata": {
    "button_covered": true,
    "converted": true,
    "deletable": false,
    "editable": false,
    "hide_toolbar": true,
    "jupyter": {
     "cell_type_changeable": false,
     "editable": false,
     "source_hidden": false
    },
    "locked": true,
    "readonly": true,
    "slideshow": {
     "slide_type": ""
    },
    "tags": [
     "locked"
    ]
   },
   "source": [
    "### Aufgabe 20: Visualisieren Sie die gefühlte und die gemessene Temperatur in einem oder zwei einzelnen Boxplots. Wählen Sie die Methode, die sie am geeignetsten finden und begründen Sie."
   ]
  },
  {
   "cell_type": "code",
   "execution_count": null,
   "id": "59877294-acf9-40c0-9522-03e80a967983",
   "metadata": {
    "editable": true,
    "slideshow": {
     "slide_type": ""
    },
    "tags": []
   },
   "outputs": [],
   "source": []
  },
  {
   "cell_type": "markdown",
   "id": "d5a8ab9e-a28c-4c7d-b6e1-ff7b51bba0a5",
   "metadata": {
    "button_covered": true,
    "converted": true,
    "deletable": false,
    "hide_toolbar": true,
    "jupyter": {
     "cell_type_changeable": false,
     "editable": false,
     "source_hidden": false
    },
    "locked": true,
    "readonly": true,
    "slideshow": {
     "slide_type": ""
    },
    "tags": [
     "locked"
    ]
   },
   "source": [
    "### Aufgabe 21: Jemand möchte die Daten zweckentfremden und schauen, welche Monate die besten sind für einen Urlaub. Gute Monate sind für die Person Monate ohne Schnee/Gewitter/Regen. Ein paar Wolken und Nebel sind toleriert. Erstellen Sie für diese Person eine Visualisierung, wo diese Information schnell abgelesen werden können (z.B. gestapeltes Histogramm)."
   ]
  },
  {
   "cell_type": "code",
   "execution_count": null,
   "id": "2984d636-b06b-4d3c-8714-b763a6afb9b1",
   "metadata": {
    "editable": true,
    "slideshow": {
     "slide_type": ""
    },
    "tags": []
   },
   "outputs": [],
   "source": []
  },
  {
   "cell_type": "markdown",
   "id": "708f92ed-aaa2-4981-a94d-4c0297ad853d",
   "metadata": {
    "button_covered": true,
    "converted": true,
    "deletable": false,
    "editable": false,
    "hide_toolbar": true,
    "jupyter": {
     "cell_type_changeable": false,
     "editable": false,
     "source_hidden": false
    },
    "locked": true,
    "readonly": true,
    "slideshow": {
     "slide_type": ""
    },
    "tags": [
     "locked"
    ]
   },
   "source": [
    "### Aufgabe 22: Jemand anderes behauptet, er leiht sich nur noch Fahrräder, wenn es kalt ist, da hier die Nachfrage nicht so hoch ist, bzw. nicht so viele Fahrräder verliehen werden und sie dann nicht so lange anstehen muss. Welcher statistische Parameter könnte untersucht werden, um die Behauptung zu überprüfen? Lassen Sie diesen berechnen und erstellen Sie auch einen Scatterplot. \n"
   ]
  },
  {
   "cell_type": "code",
   "execution_count": null,
   "id": "f8c6a858-0e56-4e9b-870a-4e516b26c95a",
   "metadata": {
    "editable": true,
    "slideshow": {
     "slide_type": ""
    },
    "tags": []
   },
   "outputs": [],
   "source": []
  },
  {
   "cell_type": "code",
   "execution_count": null,
   "id": "e2414d5a-e579-4658-81b6-7e51fe084645",
   "metadata": {
    "editable": true,
    "slideshow": {
     "slide_type": ""
    },
    "tags": []
   },
   "outputs": [],
   "source": []
  },
  {
   "cell_type": "markdown",
   "id": "1ac25f25-9049-4fab-aeb0-3f7b4487faf6",
   "metadata": {
    "button_covered": true,
    "converted": true,
    "deletable": false,
    "editable": false,
    "hide_toolbar": true,
    "jupyter": {
     "cell_type_changeable": false,
     "editable": false,
     "source_hidden": false
    },
    "locked": true,
    "readonly": true,
    "slideshow": {
     "slide_type": ""
    },
    "tags": [
     "locked"
    ]
   },
   "source": [
    "---\n",
    "\n",
    "<a rel=\"license\" href=\"http://creativecommons.org/licenses/by-nc-nd/4.0/\"><img alt=\"Creative Commons Lizenzvertrag\" style=\"border-width:0\" src=\"https://i.creativecommons.org/l/by-nc-nd/4.0/88x31.png\" /></a><br /><span xmlns:dct=\"http://purl.org/dc/terms/\" property=\"dct:title\">Die Übungsserie begleitend zum AI4ALL-Kurs</span> der <span xmlns:cc=\"http://creativecommons.org/ns#\" property=\"cc:attributionName\">EAH Jena</span> ist lizenziert unter einer <a rel=\"license\" href=\"http://creativecommons.org/licenses/by-nc-nd/4.0/\">Creative Commons Namensnennung - Nicht kommerziell - Keine Bearbeitungen 4.0 International Lizenz</a>.\n",
    "\n",
    "Der AI4ALL-Kurs entsteht im Rahmen des Projekts MoVeKI2EAH. Das Projekt MoVeKI2EAH wird durch das BMBF (Bundesministerium für Bildung und Forschung) und den Freistaat Thüringen im Rahmen der Bund-Länder-Initiative zur Förderung von Künstlicher Intelligenz in der Hochschulbildung gefördert (12/2021 bis 11/2025, Föderkennzeichen 16DHBKI081)."
   ]
  }
 ],
 "metadata": {
  "kernelspec": {
   "display_name": "Python 3 (ipykernel)",
   "language": "python",
   "name": "python3"
  },
  "language_info": {
   "codemirror_mode": {
    "name": "ipython",
    "version": 3
   },
   "file_extension": ".py",
   "mimetype": "text/x-python",
   "name": "python",
   "nbconvert_exporter": "python",
   "pygments_lexer": "ipython3",
   "version": "3.10.10"
  }
 },
 "nbformat": 4,
 "nbformat_minor": 5
}
