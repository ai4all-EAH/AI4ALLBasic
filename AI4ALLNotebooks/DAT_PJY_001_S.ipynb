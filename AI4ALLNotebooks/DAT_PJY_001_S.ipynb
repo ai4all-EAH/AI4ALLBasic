{
 "cells": [
  {
   "cell_type": "markdown",
   "id": "49ae238e-217c-417f-aaa7-975dff25fb6b",
   "metadata": {
    "button_covered": true,
    "converted": true,
    "deletable": false,
    "editable": false,
    "hide_toolbar": true,
    "jupyter": {
     "cell_type_changeable": false,
     "editable": false,
     "source_hidden": false
    },
    "locked": true,
    "readonly": true,
    "slideshow": {
     "slide_type": ""
    },
    "tags": [
     "locked"
    ]
   },
   "source": [
    "<img src=\"./src/logo.png\" width=\"250\">"
   ]
  },
  {
   "cell_type": "markdown",
   "id": "ba61c1d8-fb3d-41fe-97af-30e8479f6ea8",
   "metadata": {
    "button_covered": true,
    "converted": true,
    "deletable": false,
    "editable": false,
    "hide_toolbar": true,
    "jupyter": {
     "cell_type_changeable": false,
     "editable": false,
     "source_hidden": false
    },
    "locked": true,
    "readonly": true,
    "slideshow": {
     "slide_type": ""
    },
    "tags": [
     "locked"
    ]
   },
   "source": [
    "**Baustein:** Daten  $\\rightarrow$ **Subbaustein:** Deskriptive Statistik und Visualisierung$\\rightarrow$ **Übungsserie**\n",
    "\n",
    "**Version:** 2.0, **Lizenz:** <a rel=\"license\" href=\"http://creativecommons.org/licenses/by-nc-nd/4.0/\">CC BY-NC-ND 4.0</a>\n",
    "\n",
    "***\n",
    "\n",
    "# Daten: Deskriptive Statistik und Visualisierung"
   ]
  },
  {
   "cell_type": "markdown",
   "id": "75b41305-c62d-43c3-b8fa-7901668bd981",
   "metadata": {
    "button_covered": true,
    "converted": true,
    "deletable": false,
    "editable": false,
    "hide_toolbar": true,
    "jupyter": {
     "cell_type_changeable": false,
     "editable": false,
     "source_hidden": false
    },
    "locked": true,
    "readonly": true,
    "slideshow": {
     "slide_type": ""
    },
    "tags": [
     "locked"
    ]
   },
   "source": [
    "---\n",
    "## Importieren der notwendigen Python-Bibliotheken"
   ]
  },
  {
   "cell_type": "code",
   "execution_count": 1,
   "id": "921f6873-44a9-4220-bc73-b9f7a9f52f3f",
   "metadata": {
    "button_covered": true,
    "converted": true,
    "deletable": false,
    "editable": false,
    "hide_toolbar": true,
    "jupyter": {
     "cell_type_changeable": false,
     "editable": false,
     "source_hidden": false
    },
    "locked": true,
    "readonly": true,
    "slideshow": {
     "slide_type": ""
    },
    "tags": [
     "locked"
    ]
   },
   "outputs": [],
   "source": [
    "import numpy as np\n",
    "import pandas as pd\n",
    "from matplotlib import pyplot as plt\n",
    "import seaborn as sns\n",
    "\n",
    "%run src/setup.ipynb"
   ]
  },
  {
   "cell_type": "markdown",
   "id": "60d351c4-943a-4f2c-92b7-921e65c23654",
   "metadata": {
    "button_covered": true,
    "converted": true,
    "deletable": false,
    "editable": false,
    "hide_toolbar": true,
    "jupyter": {
     "cell_type_changeable": false,
     "editable": false,
     "source_hidden": false
    },
    "locked": true,
    "readonly": true,
    "slideshow": {
     "slide_type": ""
    },
    "tags": [
     "locked"
    ]
   },
   "source": [
    "---\n",
    "## Importieren der Daten\n",
    "\n",
    "Für den Import von tabellarischen Daten hilft die Bibliothek `pandas`. `pandas` ist eine leistungsstarke Python-Bibliothek, die speziell für die Datenanalyse und -manipulation entwickelt wurde. \n",
    "\n",
    "Sie bietet Datenstrukturen wie **Dataframes**, die den Umgang mit tabellarischen Daten erleichtern und effizienter gestalten. \n",
    "\n",
    "Zum Beispiel kann so eine `.csv`-Datei als **Dataframe** eingelesen werden. Andere Formate, die mit `pandas` eingelesen werden können sind z.B. `.xlsx`, `.hdf5` oder `.json`.\n",
    "\n",
    "### Aufgabe 1: Passen Sie den Importierbefehl `pd.read_csv()` so an, dass der gewünschte Datensatz *penguins.csv* aus dem Ordner *data* in der Variable `df` gespeichert ist."
   ]
  },
  {
   "cell_type": "code",
   "execution_count": 2,
   "id": "3a84813e-f9b0-40a1-ad62-d2034e3e6eaf",
   "metadata": {
    "deletable": true,
    "editable": true,
    "slideshow": {
     "slide_type": ""
    },
    "tags": []
   },
   "outputs": [],
   "source": [
    "PATH = './data/' # Setzen eines (relativen) Pfades zum Verzeichnis, das unseren Datensatz enthält"
   ]
  },
  {
   "cell_type": "code",
   "execution_count": 3,
   "id": "1199d685-83c8-4fe8-94cc-85c76f44fcaf",
   "metadata": {
    "deletable": true,
    "editable": true,
    "slideshow": {
     "slide_type": ""
    },
    "tags": []
   },
   "outputs": [],
   "source": [
    "df = pd.read_csv(PATH + 'penguins.csv') # Laden des Datensatzes"
   ]
  },
  {
   "cell_type": "markdown",
   "id": "6f1338e9-57b8-46a1-82d7-c1d636b3fe02",
   "metadata": {
    "button_covered": true,
    "converted": true,
    "deletable": false,
    "editable": false,
    "hide_toolbar": true,
    "jupyter": {
     "cell_type_changeable": false,
     "editable": false,
     "source_hidden": false
    },
    "locked": true,
    "readonly": true,
    "slideshow": {
     "slide_type": ""
    },
    "tags": [
     "locked"
    ]
   },
   "source": [
    "---\n",
    "## Datensatz\n",
    "Der Palmer-Pinguine Datensatz, mit dem Sie im nachfolgenden arbeiten werden, wurde von 2007 bis 2009 von Dr. Kristen Gorman im Rahmen des Palmer Station Long Term Ecological Research Program, einem Teil des US Long Term Ecological Research Network, erhoben. Er enthält Merkmale über 3 Pinguinarten, die auf drei Inseln des Pamer-Archipels in der Antarktis beobachtet wurden. \n",
    "\n",
    "<img src=\"./src/penguins.png\" width=\"350\">\n",
    "(Artwork by @allison_horst)\n",
    "\n",
    "Machen Sie sich mit dem Datensatz vertraut.\n",
    "\n",
    "Die ersten ```n``` Zeilen des erzeugten Dataframes können in Jupyter Notebooks mit `df.head()` ausgegeben werden, dies ist für kleinere Datensätze (mit wenigen Spalten) sinnvoll und dient nur für einen ersten Überblick."
   ]
  },
  {
   "cell_type": "code",
   "execution_count": 4,
   "id": "0ee62f06-0fcc-41b9-a705-206acf2df78f",
   "metadata": {
    "deletable": true,
    "editable": true,
    "scrolled": true,
    "slideshow": {
     "slide_type": ""
    },
    "tags": []
   },
   "outputs": [
    {
     "data": {
      "text/html": [
       "<div>\n",
       "<style scoped>\n",
       "    .dataframe tbody tr th:only-of-type {\n",
       "        vertical-align: middle;\n",
       "    }\n",
       "\n",
       "    .dataframe tbody tr th {\n",
       "        vertical-align: top;\n",
       "    }\n",
       "\n",
       "    .dataframe thead th {\n",
       "        text-align: right;\n",
       "    }\n",
       "</style>\n",
       "<table border=\"1\" class=\"dataframe\">\n",
       "  <thead>\n",
       "    <tr style=\"text-align: right;\">\n",
       "      <th></th>\n",
       "      <th>Pinguinart</th>\n",
       "      <th>Insel</th>\n",
       "      <th>NestVoll_2Eier</th>\n",
       "      <th>Schnabellaenge</th>\n",
       "      <th>Schnabelhoehe</th>\n",
       "      <th>Flossenlaenge</th>\n",
       "      <th>Gewicht</th>\n",
       "      <th>Geschlecht</th>\n",
       "      <th>VerhaeltnisIsotope13N_12N</th>\n",
       "      <th>VerhaeltnisIsotope15N_14N</th>\n",
       "    </tr>\n",
       "  </thead>\n",
       "  <tbody>\n",
       "    <tr>\n",
       "      <th>0</th>\n",
       "      <td>Adelie</td>\n",
       "      <td>Torgersen</td>\n",
       "      <td>True</td>\n",
       "      <td>39.5</td>\n",
       "      <td>17.4</td>\n",
       "      <td>186.0</td>\n",
       "      <td>3800</td>\n",
       "      <td>weiblich</td>\n",
       "      <td>8.94956</td>\n",
       "      <td>-24.69454</td>\n",
       "    </tr>\n",
       "    <tr>\n",
       "      <th>1</th>\n",
       "      <td>Adelie</td>\n",
       "      <td>Torgersen</td>\n",
       "      <td>True</td>\n",
       "      <td>40.3</td>\n",
       "      <td>18.0</td>\n",
       "      <td>195.0</td>\n",
       "      <td>3250</td>\n",
       "      <td>weiblich</td>\n",
       "      <td>8.36821</td>\n",
       "      <td>-25.33302</td>\n",
       "    </tr>\n",
       "    <tr>\n",
       "      <th>2</th>\n",
       "      <td>Adelie</td>\n",
       "      <td>Torgersen</td>\n",
       "      <td>True</td>\n",
       "      <td>36.7</td>\n",
       "      <td>19.3</td>\n",
       "      <td>193.0</td>\n",
       "      <td>3450</td>\n",
       "      <td>weiblich</td>\n",
       "      <td>8.76651</td>\n",
       "      <td>-25.32426</td>\n",
       "    </tr>\n",
       "    <tr>\n",
       "      <th>3</th>\n",
       "      <td>Adelie</td>\n",
       "      <td>Torgersen</td>\n",
       "      <td>True</td>\n",
       "      <td>39.3</td>\n",
       "      <td>20.6</td>\n",
       "      <td>190.0</td>\n",
       "      <td>3650</td>\n",
       "      <td>maennlich</td>\n",
       "      <td>8.66496</td>\n",
       "      <td>-25.29805</td>\n",
       "    </tr>\n",
       "    <tr>\n",
       "      <th>4</th>\n",
       "      <td>Adelie</td>\n",
       "      <td>Torgersen</td>\n",
       "      <td>False</td>\n",
       "      <td>38.9</td>\n",
       "      <td>17.8</td>\n",
       "      <td>181.0</td>\n",
       "      <td>3625</td>\n",
       "      <td>weiblich</td>\n",
       "      <td>9.18718</td>\n",
       "      <td>-25.21799</td>\n",
       "    </tr>\n",
       "    <tr>\n",
       "      <th>5</th>\n",
       "      <td>Adelie</td>\n",
       "      <td>Torgersen</td>\n",
       "      <td>False</td>\n",
       "      <td>39.2</td>\n",
       "      <td>19.6</td>\n",
       "      <td>195.0</td>\n",
       "      <td>4675</td>\n",
       "      <td>maennlich</td>\n",
       "      <td>9.46060</td>\n",
       "      <td>-24.89958</td>\n",
       "    </tr>\n",
       "    <tr>\n",
       "      <th>6</th>\n",
       "      <td>Adelie</td>\n",
       "      <td>Torgersen</td>\n",
       "      <td>True</td>\n",
       "      <td>34.6</td>\n",
       "      <td>21.1</td>\n",
       "      <td>198.0</td>\n",
       "      <td>4400</td>\n",
       "      <td>maennlich</td>\n",
       "      <td>8.55583</td>\n",
       "      <td>-25.22588</td>\n",
       "    </tr>\n",
       "    <tr>\n",
       "      <th>7</th>\n",
       "      <td>Adelie</td>\n",
       "      <td>Torgersen</td>\n",
       "      <td>True</td>\n",
       "      <td>38.7</td>\n",
       "      <td>19.0</td>\n",
       "      <td>195.0</td>\n",
       "      <td>3450</td>\n",
       "      <td>weiblich</td>\n",
       "      <td>9.18528</td>\n",
       "      <td>-25.06691</td>\n",
       "    </tr>\n",
       "  </tbody>\n",
       "</table>\n",
       "</div>"
      ],
      "text/plain": [
       "  Pinguinart      Insel  NestVoll_2Eier  Schnabellaenge  Schnabelhoehe  \\\n",
       "0     Adelie  Torgersen            True            39.5           17.4   \n",
       "1     Adelie  Torgersen            True            40.3           18.0   \n",
       "2     Adelie  Torgersen            True            36.7           19.3   \n",
       "3     Adelie  Torgersen            True            39.3           20.6   \n",
       "4     Adelie  Torgersen           False            38.9           17.8   \n",
       "5     Adelie  Torgersen           False            39.2           19.6   \n",
       "6     Adelie  Torgersen            True            34.6           21.1   \n",
       "7     Adelie  Torgersen            True            38.7           19.0   \n",
       "\n",
       "   Flossenlaenge  Gewicht Geschlecht  VerhaeltnisIsotope13N_12N  \\\n",
       "0          186.0     3800   weiblich                    8.94956   \n",
       "1          195.0     3250   weiblich                    8.36821   \n",
       "2          193.0     3450   weiblich                    8.76651   \n",
       "3          190.0     3650  maennlich                    8.66496   \n",
       "4          181.0     3625   weiblich                    9.18718   \n",
       "5          195.0     4675  maennlich                    9.46060   \n",
       "6          198.0     4400  maennlich                    8.55583   \n",
       "7          195.0     3450   weiblich                    9.18528   \n",
       "\n",
       "   VerhaeltnisIsotope15N_14N  \n",
       "0                  -24.69454  \n",
       "1                  -25.33302  \n",
       "2                  -25.32426  \n",
       "3                  -25.29805  \n",
       "4                  -25.21799  \n",
       "5                  -24.89958  \n",
       "6                  -25.22588  \n",
       "7                  -25.06691  "
      ]
     },
     "execution_count": 4,
     "metadata": {},
     "output_type": "execute_result"
    }
   ],
   "source": [
    "df.head(n=8)"
   ]
  },
  {
   "cell_type": "markdown",
   "id": "78d57dfd-6eb2-4014-9433-703f183cde01",
   "metadata": {
    "button_covered": true,
    "converted": true,
    "deletable": false,
    "editable": false,
    "hide_toolbar": true,
    "jupyter": {
     "cell_type_changeable": false,
     "editable": false,
     "source_hidden": false
    },
    "locked": true,
    "readonly": true,
    "slideshow": {
     "slide_type": ""
    },
    "tags": [
     "locked"
    ]
   },
   "source": [
    "Genauso können mit `df.tail()` die letzten `n` Zeilen des Dataframes ausgegeben werden."
   ]
  },
  {
   "cell_type": "code",
   "execution_count": 5,
   "id": "80e29ab8-6d18-4139-8eec-5b4a8c69b6b2",
   "metadata": {
    "editable": true,
    "slideshow": {
     "slide_type": ""
    },
    "tags": []
   },
   "outputs": [
    {
     "data": {
      "text/html": [
       "<div>\n",
       "<style scoped>\n",
       "    .dataframe tbody tr th:only-of-type {\n",
       "        vertical-align: middle;\n",
       "    }\n",
       "\n",
       "    .dataframe tbody tr th {\n",
       "        vertical-align: top;\n",
       "    }\n",
       "\n",
       "    .dataframe thead th {\n",
       "        text-align: right;\n",
       "    }\n",
       "</style>\n",
       "<table border=\"1\" class=\"dataframe\">\n",
       "  <thead>\n",
       "    <tr style=\"text-align: right;\">\n",
       "      <th></th>\n",
       "      <th>Pinguinart</th>\n",
       "      <th>Insel</th>\n",
       "      <th>NestVoll_2Eier</th>\n",
       "      <th>Schnabellaenge</th>\n",
       "      <th>Schnabelhoehe</th>\n",
       "      <th>Flossenlaenge</th>\n",
       "      <th>Gewicht</th>\n",
       "      <th>Geschlecht</th>\n",
       "      <th>VerhaeltnisIsotope13N_12N</th>\n",
       "      <th>VerhaeltnisIsotope15N_14N</th>\n",
       "    </tr>\n",
       "  </thead>\n",
       "  <tbody>\n",
       "    <tr>\n",
       "      <th>322</th>\n",
       "      <td>Gentoo</td>\n",
       "      <td>Biscoe</td>\n",
       "      <td>True</td>\n",
       "      <td>50.4</td>\n",
       "      <td>15.7</td>\n",
       "      <td>222.0</td>\n",
       "      <td>5750</td>\n",
       "      <td>maennlich</td>\n",
       "      <td>8.30166</td>\n",
       "      <td>-26.04117</td>\n",
       "    </tr>\n",
       "    <tr>\n",
       "      <th>323</th>\n",
       "      <td>Gentoo</td>\n",
       "      <td>Biscoe</td>\n",
       "      <td>True</td>\n",
       "      <td>45.2</td>\n",
       "      <td>14.8</td>\n",
       "      <td>212.0</td>\n",
       "      <td>5200</td>\n",
       "      <td>weiblich</td>\n",
       "      <td>8.24246</td>\n",
       "      <td>-26.11969</td>\n",
       "    </tr>\n",
       "    <tr>\n",
       "      <th>324</th>\n",
       "      <td>Gentoo</td>\n",
       "      <td>Biscoe</td>\n",
       "      <td>True</td>\n",
       "      <td>49.9</td>\n",
       "      <td>16.1</td>\n",
       "      <td>213.0</td>\n",
       "      <td>5400</td>\n",
       "      <td>maennlich</td>\n",
       "      <td>8.36390</td>\n",
       "      <td>-26.15531</td>\n",
       "    </tr>\n",
       "  </tbody>\n",
       "</table>\n",
       "</div>"
      ],
      "text/plain": [
       "    Pinguinart   Insel  NestVoll_2Eier  Schnabellaenge  Schnabelhoehe  \\\n",
       "322     Gentoo  Biscoe            True            50.4           15.7   \n",
       "323     Gentoo  Biscoe            True            45.2           14.8   \n",
       "324     Gentoo  Biscoe            True            49.9           16.1   \n",
       "\n",
       "     Flossenlaenge  Gewicht Geschlecht  VerhaeltnisIsotope13N_12N  \\\n",
       "322          222.0     5750  maennlich                    8.30166   \n",
       "323          212.0     5200   weiblich                    8.24246   \n",
       "324          213.0     5400  maennlich                    8.36390   \n",
       "\n",
       "     VerhaeltnisIsotope15N_14N  \n",
       "322                  -26.04117  \n",
       "323                  -26.11969  \n",
       "324                  -26.15531  "
      ]
     },
     "execution_count": 5,
     "metadata": {},
     "output_type": "execute_result"
    }
   ],
   "source": [
    "df.tail(n=3)"
   ]
  },
  {
   "cell_type": "markdown",
   "id": "c7b8769b",
   "metadata": {
    "button_covered": true,
    "converted": true,
    "deletable": false,
    "editable": false,
    "hide_toolbar": true,
    "jupyter": {
     "cell_type_changeable": false,
     "editable": false,
     "source_hidden": false
    },
    "locked": true,
    "readonly": true,
    "slideshow": {
     "slide_type": ""
    },
    "tags": [
     "locked"
    ]
   },
   "source": [
    "Um nur die Namen der Spalten/Merkmale auszugeben, kann `df.columns` genutzt\n",
    "werden."
   ]
  },
  {
   "cell_type": "code",
   "execution_count": 6,
   "id": "02d0c7a2-da1b-4d26-a742-e6620394042f",
   "metadata": {
    "editable": true,
    "slideshow": {
     "slide_type": ""
    },
    "tags": []
   },
   "outputs": [
    {
     "data": {
      "text/plain": [
       "Index(['Pinguinart', 'Insel', 'NestVoll_2Eier', 'Schnabellaenge',\n",
       "       'Schnabelhoehe', 'Flossenlaenge', 'Gewicht', 'Geschlecht',\n",
       "       'VerhaeltnisIsotope13N_12N', 'VerhaeltnisIsotope15N_14N'],\n",
       "      dtype='object')"
      ]
     },
     "execution_count": 6,
     "metadata": {},
     "output_type": "execute_result"
    }
   ],
   "source": [
    "df.columns"
   ]
  },
  {
   "cell_type": "markdown",
   "id": "f16ad423-3411-4416-a1ef-dcb4cb8c43c9",
   "metadata": {
    "button_covered": true,
    "converted": true,
    "deletable": false,
    "editable": false,
    "hide_toolbar": true,
    "jupyter": {
     "cell_type_changeable": false,
     "editable": false,
     "source_hidden": false
    },
    "locked": true,
    "readonly": true,
    "slideshow": {
     "slide_type": ""
    },
    "tags": [
     "locked"
    ]
   },
   "source": [
    "Mit `df.shape` kann die Dimension des **Dataframes** ausgegeben werden. Die Ausgabe ist ein Tuple (Anzahl_Zeilen, Anzahl_Spalten)."
   ]
  },
  {
   "cell_type": "code",
   "execution_count": 7,
   "id": "8b57317f-b2cd-47ca-a486-c83433d34c52",
   "metadata": {
    "editable": true,
    "slideshow": {
     "slide_type": ""
    },
    "tags": []
   },
   "outputs": [
    {
     "data": {
      "text/plain": [
       "(325, 10)"
      ]
     },
     "execution_count": 7,
     "metadata": {},
     "output_type": "execute_result"
    }
   ],
   "source": [
    "df.shape"
   ]
  },
  {
   "cell_type": "markdown",
   "id": "ea8a57db-c6b3-42f2-b7a7-bc374ea8dc33",
   "metadata": {
    "button_covered": true,
    "converted": true,
    "deletable": false,
    "editable": false,
    "hide_toolbar": true,
    "jupyter": {
     "cell_type_changeable": false,
     "editable": false,
     "source_hidden": false
    },
    "locked": true,
    "readonly": true,
    "slideshow": {
     "slide_type": ""
    },
    "tags": [
     "locked"
    ]
   },
   "source": [
    "### Aufgabe 2: Beantworten Sie die nachfolgenden Fragen zum Datensatz."
   ]
  },
  {
   "cell_type": "code",
   "execution_count": 8,
   "id": "0cafc822",
   "metadata": {
    "editable": true,
    "slideshow": {
     "slide_type": ""
    },
    "tags": []
   },
   "outputs": [
    {
     "data": {
      "application/vnd.jupyter.widget-view+json": {
       "model_id": "5a7cb51f14fd47f7ad8762c04ab726f5",
       "version_major": 2,
       "version_minor": 0
      },
      "text/plain": [
       "VBox(children=(Output(), IntText(value=0, description='Wert:'), Button(description='Überprüfen', style=ButtonS…"
      ]
     },
     "metadata": {},
     "output_type": "display_data"
    },
    {
     "data": {
      "text/html": [
       "<style>pre { line-height: 125%; }\n",
       "td.linenos .normal { color: inherit; background-color: transparent; padding-left: 5px; padding-right: 5px; }\n",
       "span.linenos { color: inherit; background-color: transparent; padding-left: 5px; padding-right: 5px; }\n",
       "td.linenos .special { color: #000000; background-color: #ffffc0; padding-left: 5px; padding-right: 5px; }\n",
       "span.linenos.special { color: #000000; background-color: #ffffc0; padding-left: 5px; padding-right: 5px; }\n",
       ".output_html .hll { background-color: #ffffcc }\n",
       ".output_html { background: #f8f8f8; }\n",
       ".output_html .c { color: #3D7B7B; font-style: italic } /* Comment */\n",
       ".output_html .err { border: 1px solid #FF0000 } /* Error */\n",
       ".output_html .k { color: #008000; font-weight: bold } /* Keyword */\n",
       ".output_html .o { color: #666666 } /* Operator */\n",
       ".output_html .ch { color: #3D7B7B; font-style: italic } /* Comment.Hashbang */\n",
       ".output_html .cm { color: #3D7B7B; font-style: italic } /* Comment.Multiline */\n",
       ".output_html .cp { color: #9C6500 } /* Comment.Preproc */\n",
       ".output_html .cpf { color: #3D7B7B; font-style: italic } /* Comment.PreprocFile */\n",
       ".output_html .c1 { color: #3D7B7B; font-style: italic } /* Comment.Single */\n",
       ".output_html .cs { color: #3D7B7B; font-style: italic } /* Comment.Special */\n",
       ".output_html .gd { color: #A00000 } /* Generic.Deleted */\n",
       ".output_html .ge { font-style: italic } /* Generic.Emph */\n",
       ".output_html .ges { font-weight: bold; font-style: italic } /* Generic.EmphStrong */\n",
       ".output_html .gr { color: #E40000 } /* Generic.Error */\n",
       ".output_html .gh { color: #000080; font-weight: bold } /* Generic.Heading */\n",
       ".output_html .gi { color: #008400 } /* Generic.Inserted */\n",
       ".output_html .go { color: #717171 } /* Generic.Output */\n",
       ".output_html .gp { color: #000080; font-weight: bold } /* Generic.Prompt */\n",
       ".output_html .gs { font-weight: bold } /* Generic.Strong */\n",
       ".output_html .gu { color: #800080; font-weight: bold } /* Generic.Subheading */\n",
       ".output_html .gt { color: #0044DD } /* Generic.Traceback */\n",
       ".output_html .kc { color: #008000; font-weight: bold } /* Keyword.Constant */\n",
       ".output_html .kd { color: #008000; font-weight: bold } /* Keyword.Declaration */\n",
       ".output_html .kn { color: #008000; font-weight: bold } /* Keyword.Namespace */\n",
       ".output_html .kp { color: #008000 } /* Keyword.Pseudo */\n",
       ".output_html .kr { color: #008000; font-weight: bold } /* Keyword.Reserved */\n",
       ".output_html .kt { color: #B00040 } /* Keyword.Type */\n",
       ".output_html .m { color: #666666 } /* Literal.Number */\n",
       ".output_html .s { color: #BA2121 } /* Literal.String */\n",
       ".output_html .na { color: #687822 } /* Name.Attribute */\n",
       ".output_html .nb { color: #008000 } /* Name.Builtin */\n",
       ".output_html .nc { color: #0000FF; font-weight: bold } /* Name.Class */\n",
       ".output_html .no { color: #880000 } /* Name.Constant */\n",
       ".output_html .nd { color: #AA22FF } /* Name.Decorator */\n",
       ".output_html .ni { color: #717171; font-weight: bold } /* Name.Entity */\n",
       ".output_html .ne { color: #CB3F38; font-weight: bold } /* Name.Exception */\n",
       ".output_html .nf { color: #0000FF } /* Name.Function */\n",
       ".output_html .nl { color: #767600 } /* Name.Label */\n",
       ".output_html .nn { color: #0000FF; font-weight: bold } /* Name.Namespace */\n",
       ".output_html .nt { color: #008000; font-weight: bold } /* Name.Tag */\n",
       ".output_html .nv { color: #19177C } /* Name.Variable */\n",
       ".output_html .ow { color: #AA22FF; font-weight: bold } /* Operator.Word */\n",
       ".output_html .w { color: #bbbbbb } /* Text.Whitespace */\n",
       ".output_html .mb { color: #666666 } /* Literal.Number.Bin */\n",
       ".output_html .mf { color: #666666 } /* Literal.Number.Float */\n",
       ".output_html .mh { color: #666666 } /* Literal.Number.Hex */\n",
       ".output_html .mi { color: #666666 } /* Literal.Number.Integer */\n",
       ".output_html .mo { color: #666666 } /* Literal.Number.Oct */\n",
       ".output_html .sa { color: #BA2121 } /* Literal.String.Affix */\n",
       ".output_html .sb { color: #BA2121 } /* Literal.String.Backtick */\n",
       ".output_html .sc { color: #BA2121 } /* Literal.String.Char */\n",
       ".output_html .dl { color: #BA2121 } /* Literal.String.Delimiter */\n",
       ".output_html .sd { color: #BA2121; font-style: italic } /* Literal.String.Doc */\n",
       ".output_html .s2 { color: #BA2121 } /* Literal.String.Double */\n",
       ".output_html .se { color: #AA5D1F; font-weight: bold } /* Literal.String.Escape */\n",
       ".output_html .sh { color: #BA2121 } /* Literal.String.Heredoc */\n",
       ".output_html .si { color: #A45A77; font-weight: bold } /* Literal.String.Interpol */\n",
       ".output_html .sx { color: #008000 } /* Literal.String.Other */\n",
       ".output_html .sr { color: #A45A77 } /* Literal.String.Regex */\n",
       ".output_html .s1 { color: #BA2121 } /* Literal.String.Single */\n",
       ".output_html .ss { color: #19177C } /* Literal.String.Symbol */\n",
       ".output_html .bp { color: #008000 } /* Name.Builtin.Pseudo */\n",
       ".output_html .fm { color: #0000FF } /* Name.Function.Magic */\n",
       ".output_html .vc { color: #19177C } /* Name.Variable.Class */\n",
       ".output_html .vg { color: #19177C } /* Name.Variable.Global */\n",
       ".output_html .vi { color: #19177C } /* Name.Variable.Instance */\n",
       ".output_html .vm { color: #19177C } /* Name.Variable.Magic */\n",
       ".output_html .il { color: #666666 } /* Literal.Number.Integer.Long */</style><div class=\"highlight\"><pre><span></span>\n",
       "</pre></div>\n"
      ],
      "text/latex": [
       "\\begin{Verbatim}[commandchars=\\\\\\{\\}]\n",
       "\n",
       "\\end{Verbatim}\n"
      ],
      "text/plain": []
     },
     "metadata": {},
     "output_type": "display_data"
    },
    {
     "data": {
      "application/vnd.jupyter.widget-view+json": {
       "model_id": "5944113204654876bec3e6aa9ef32989",
       "version_major": 2,
       "version_minor": 0
      },
      "text/plain": [
       "VBox(children=(Output(), IntText(value=0, description='Wert:'), Button(description='Überprüfen', style=ButtonS…"
      ]
     },
     "metadata": {},
     "output_type": "display_data"
    },
    {
     "data": {
      "text/html": [
       "<style>pre { line-height: 125%; }\n",
       "td.linenos .normal { color: inherit; background-color: transparent; padding-left: 5px; padding-right: 5px; }\n",
       "span.linenos { color: inherit; background-color: transparent; padding-left: 5px; padding-right: 5px; }\n",
       "td.linenos .special { color: #000000; background-color: #ffffc0; padding-left: 5px; padding-right: 5px; }\n",
       "span.linenos.special { color: #000000; background-color: #ffffc0; padding-left: 5px; padding-right: 5px; }\n",
       ".output_html .hll { background-color: #ffffcc }\n",
       ".output_html { background: #f8f8f8; }\n",
       ".output_html .c { color: #3D7B7B; font-style: italic } /* Comment */\n",
       ".output_html .err { border: 1px solid #FF0000 } /* Error */\n",
       ".output_html .k { color: #008000; font-weight: bold } /* Keyword */\n",
       ".output_html .o { color: #666666 } /* Operator */\n",
       ".output_html .ch { color: #3D7B7B; font-style: italic } /* Comment.Hashbang */\n",
       ".output_html .cm { color: #3D7B7B; font-style: italic } /* Comment.Multiline */\n",
       ".output_html .cp { color: #9C6500 } /* Comment.Preproc */\n",
       ".output_html .cpf { color: #3D7B7B; font-style: italic } /* Comment.PreprocFile */\n",
       ".output_html .c1 { color: #3D7B7B; font-style: italic } /* Comment.Single */\n",
       ".output_html .cs { color: #3D7B7B; font-style: italic } /* Comment.Special */\n",
       ".output_html .gd { color: #A00000 } /* Generic.Deleted */\n",
       ".output_html .ge { font-style: italic } /* Generic.Emph */\n",
       ".output_html .ges { font-weight: bold; font-style: italic } /* Generic.EmphStrong */\n",
       ".output_html .gr { color: #E40000 } /* Generic.Error */\n",
       ".output_html .gh { color: #000080; font-weight: bold } /* Generic.Heading */\n",
       ".output_html .gi { color: #008400 } /* Generic.Inserted */\n",
       ".output_html .go { color: #717171 } /* Generic.Output */\n",
       ".output_html .gp { color: #000080; font-weight: bold } /* Generic.Prompt */\n",
       ".output_html .gs { font-weight: bold } /* Generic.Strong */\n",
       ".output_html .gu { color: #800080; font-weight: bold } /* Generic.Subheading */\n",
       ".output_html .gt { color: #0044DD } /* Generic.Traceback */\n",
       ".output_html .kc { color: #008000; font-weight: bold } /* Keyword.Constant */\n",
       ".output_html .kd { color: #008000; font-weight: bold } /* Keyword.Declaration */\n",
       ".output_html .kn { color: #008000; font-weight: bold } /* Keyword.Namespace */\n",
       ".output_html .kp { color: #008000 } /* Keyword.Pseudo */\n",
       ".output_html .kr { color: #008000; font-weight: bold } /* Keyword.Reserved */\n",
       ".output_html .kt { color: #B00040 } /* Keyword.Type */\n",
       ".output_html .m { color: #666666 } /* Literal.Number */\n",
       ".output_html .s { color: #BA2121 } /* Literal.String */\n",
       ".output_html .na { color: #687822 } /* Name.Attribute */\n",
       ".output_html .nb { color: #008000 } /* Name.Builtin */\n",
       ".output_html .nc { color: #0000FF; font-weight: bold } /* Name.Class */\n",
       ".output_html .no { color: #880000 } /* Name.Constant */\n",
       ".output_html .nd { color: #AA22FF } /* Name.Decorator */\n",
       ".output_html .ni { color: #717171; font-weight: bold } /* Name.Entity */\n",
       ".output_html .ne { color: #CB3F38; font-weight: bold } /* Name.Exception */\n",
       ".output_html .nf { color: #0000FF } /* Name.Function */\n",
       ".output_html .nl { color: #767600 } /* Name.Label */\n",
       ".output_html .nn { color: #0000FF; font-weight: bold } /* Name.Namespace */\n",
       ".output_html .nt { color: #008000; font-weight: bold } /* Name.Tag */\n",
       ".output_html .nv { color: #19177C } /* Name.Variable */\n",
       ".output_html .ow { color: #AA22FF; font-weight: bold } /* Operator.Word */\n",
       ".output_html .w { color: #bbbbbb } /* Text.Whitespace */\n",
       ".output_html .mb { color: #666666 } /* Literal.Number.Bin */\n",
       ".output_html .mf { color: #666666 } /* Literal.Number.Float */\n",
       ".output_html .mh { color: #666666 } /* Literal.Number.Hex */\n",
       ".output_html .mi { color: #666666 } /* Literal.Number.Integer */\n",
       ".output_html .mo { color: #666666 } /* Literal.Number.Oct */\n",
       ".output_html .sa { color: #BA2121 } /* Literal.String.Affix */\n",
       ".output_html .sb { color: #BA2121 } /* Literal.String.Backtick */\n",
       ".output_html .sc { color: #BA2121 } /* Literal.String.Char */\n",
       ".output_html .dl { color: #BA2121 } /* Literal.String.Delimiter */\n",
       ".output_html .sd { color: #BA2121; font-style: italic } /* Literal.String.Doc */\n",
       ".output_html .s2 { color: #BA2121 } /* Literal.String.Double */\n",
       ".output_html .se { color: #AA5D1F; font-weight: bold } /* Literal.String.Escape */\n",
       ".output_html .sh { color: #BA2121 } /* Literal.String.Heredoc */\n",
       ".output_html .si { color: #A45A77; font-weight: bold } /* Literal.String.Interpol */\n",
       ".output_html .sx { color: #008000 } /* Literal.String.Other */\n",
       ".output_html .sr { color: #A45A77 } /* Literal.String.Regex */\n",
       ".output_html .s1 { color: #BA2121 } /* Literal.String.Single */\n",
       ".output_html .ss { color: #19177C } /* Literal.String.Symbol */\n",
       ".output_html .bp { color: #008000 } /* Name.Builtin.Pseudo */\n",
       ".output_html .fm { color: #0000FF } /* Name.Function.Magic */\n",
       ".output_html .vc { color: #19177C } /* Name.Variable.Class */\n",
       ".output_html .vg { color: #19177C } /* Name.Variable.Global */\n",
       ".output_html .vi { color: #19177C } /* Name.Variable.Instance */\n",
       ".output_html .vm { color: #19177C } /* Name.Variable.Magic */\n",
       ".output_html .il { color: #666666 } /* Literal.Number.Integer.Long */</style><div class=\"highlight\"><pre><span></span>\n",
       "</pre></div>\n"
      ],
      "text/latex": [
       "\\begin{Verbatim}[commandchars=\\\\\\{\\}]\n",
       "\n",
       "\\end{Verbatim}\n"
      ],
      "text/plain": []
     },
     "metadata": {},
     "output_type": "display_data"
    },
    {
     "data": {
      "application/vnd.jupyter.widget-view+json": {
       "model_id": "c9cbd9b9d744440092c372d1dc6022cd",
       "version_major": 2,
       "version_minor": 0
      },
      "text/plain": [
       "VBox(children=(Output(), RadioButtons(layout=Layout(width='auto'), options=(('Ja', 0), ('Nein', 1)), value=0),…"
      ]
     },
     "metadata": {},
     "output_type": "display_data"
    }
   ],
   "source": [
    "%run src/01_Fragen.ipynb"
   ]
  },
  {
   "cell_type": "markdown",
   "id": "a14f59c8-aa87-41db-8397-8ed51eb06178",
   "metadata": {
    "button_covered": true,
    "converted": true,
    "deletable": false,
    "editable": false,
    "hide_toolbar": true,
    "jupyter": {
     "cell_type_changeable": false,
     "editable": false,
     "source_hidden": false
    },
    "locked": true,
    "readonly": true,
    "slideshow": {
     "slide_type": ""
    },
    "tags": [
     "locked"
    ]
   },
   "source": [
    "Weiterhin kann `df.info()` genutzt werden, um z.B. Informationen über die\n",
    "einzelnen Spalten (`Column`), den Datentyp (`Dtype`) der Merkmalsausprägungen\n",
    "und die Anzahl an Nicht-Null-Merkmalsausprägungen (`Non-Null Count`) innerhalb\n",
    "einer Spalte zu erhalten."
   ]
  },
  {
   "cell_type": "code",
   "execution_count": 9,
   "id": "68e4d98d-cf44-41d1-bd0d-420063022b79",
   "metadata": {
    "editable": true,
    "slideshow": {
     "slide_type": ""
    },
    "tags": []
   },
   "outputs": [
    {
     "name": "stdout",
     "output_type": "stream",
     "text": [
      "<class 'pandas.core.frame.DataFrame'>\n",
      "RangeIndex: 325 entries, 0 to 324\n",
      "Data columns (total 10 columns):\n",
      " #   Column                     Non-Null Count  Dtype  \n",
      "---  ------                     --------------  -----  \n",
      " 0   Pinguinart                 325 non-null    object \n",
      " 1   Insel                      325 non-null    object \n",
      " 2   NestVoll_2Eier             325 non-null    bool   \n",
      " 3   Schnabellaenge             325 non-null    float64\n",
      " 4   Schnabelhoehe              325 non-null    float64\n",
      " 5   Flossenlaenge              325 non-null    float64\n",
      " 6   Gewicht                    325 non-null    int64  \n",
      " 7   Geschlecht                 325 non-null    object \n",
      " 8   VerhaeltnisIsotope13N_12N  325 non-null    float64\n",
      " 9   VerhaeltnisIsotope15N_14N  325 non-null    float64\n",
      "dtypes: bool(1), float64(5), int64(1), object(3)\n",
      "memory usage: 23.3+ KB\n"
     ]
    }
   ],
   "source": [
    "df.info()"
   ]
  },
  {
   "cell_type": "markdown",
   "id": "f729586c-3583-4c4c-98dd-da8fce91f937",
   "metadata": {
    "button_covered": true,
    "converted": true,
    "deletable": false,
    "editable": false,
    "hide_toolbar": true,
    "jupyter": {
     "cell_type_changeable": false,
     "editable": false,
     "source_hidden": false
    },
    "locked": true,
    "readonly": true,
    "slideshow": {
     "slide_type": ""
    },
    "tags": [
     "locked"
    ]
   },
   "source": [
    "### Aufgabe 3: Beantworten Sie die nachfolgenden Fragen zum Datensatz."
   ]
  },
  {
   "cell_type": "code",
   "execution_count": 10,
   "id": "f0e79587-1029-470f-90e1-5fd864202b81",
   "metadata": {
    "editable": true,
    "slideshow": {
     "slide_type": ""
    },
    "tags": []
   },
   "outputs": [
    {
     "data": {
      "application/vnd.jupyter.widget-view+json": {
       "model_id": "f5ff079eac604d2385414d511cd8655a",
       "version_major": 2,
       "version_minor": 0
      },
      "text/plain": [
       "VBox(children=(Output(), RadioButtons(layout=Layout(width='auto'), options=(('Ja', 0), ('Nein', 1)), value=0),…"
      ]
     },
     "metadata": {},
     "output_type": "display_data"
    },
    {
     "data": {
      "text/html": [
       "<style>pre { line-height: 125%; }\n",
       "td.linenos .normal { color: inherit; background-color: transparent; padding-left: 5px; padding-right: 5px; }\n",
       "span.linenos { color: inherit; background-color: transparent; padding-left: 5px; padding-right: 5px; }\n",
       "td.linenos .special { color: #000000; background-color: #ffffc0; padding-left: 5px; padding-right: 5px; }\n",
       "span.linenos.special { color: #000000; background-color: #ffffc0; padding-left: 5px; padding-right: 5px; }\n",
       ".output_html .hll { background-color: #ffffcc }\n",
       ".output_html { background: #f8f8f8; }\n",
       ".output_html .c { color: #3D7B7B; font-style: italic } /* Comment */\n",
       ".output_html .err { border: 1px solid #FF0000 } /* Error */\n",
       ".output_html .k { color: #008000; font-weight: bold } /* Keyword */\n",
       ".output_html .o { color: #666666 } /* Operator */\n",
       ".output_html .ch { color: #3D7B7B; font-style: italic } /* Comment.Hashbang */\n",
       ".output_html .cm { color: #3D7B7B; font-style: italic } /* Comment.Multiline */\n",
       ".output_html .cp { color: #9C6500 } /* Comment.Preproc */\n",
       ".output_html .cpf { color: #3D7B7B; font-style: italic } /* Comment.PreprocFile */\n",
       ".output_html .c1 { color: #3D7B7B; font-style: italic } /* Comment.Single */\n",
       ".output_html .cs { color: #3D7B7B; font-style: italic } /* Comment.Special */\n",
       ".output_html .gd { color: #A00000 } /* Generic.Deleted */\n",
       ".output_html .ge { font-style: italic } /* Generic.Emph */\n",
       ".output_html .ges { font-weight: bold; font-style: italic } /* Generic.EmphStrong */\n",
       ".output_html .gr { color: #E40000 } /* Generic.Error */\n",
       ".output_html .gh { color: #000080; font-weight: bold } /* Generic.Heading */\n",
       ".output_html .gi { color: #008400 } /* Generic.Inserted */\n",
       ".output_html .go { color: #717171 } /* Generic.Output */\n",
       ".output_html .gp { color: #000080; font-weight: bold } /* Generic.Prompt */\n",
       ".output_html .gs { font-weight: bold } /* Generic.Strong */\n",
       ".output_html .gu { color: #800080; font-weight: bold } /* Generic.Subheading */\n",
       ".output_html .gt { color: #0044DD } /* Generic.Traceback */\n",
       ".output_html .kc { color: #008000; font-weight: bold } /* Keyword.Constant */\n",
       ".output_html .kd { color: #008000; font-weight: bold } /* Keyword.Declaration */\n",
       ".output_html .kn { color: #008000; font-weight: bold } /* Keyword.Namespace */\n",
       ".output_html .kp { color: #008000 } /* Keyword.Pseudo */\n",
       ".output_html .kr { color: #008000; font-weight: bold } /* Keyword.Reserved */\n",
       ".output_html .kt { color: #B00040 } /* Keyword.Type */\n",
       ".output_html .m { color: #666666 } /* Literal.Number */\n",
       ".output_html .s { color: #BA2121 } /* Literal.String */\n",
       ".output_html .na { color: #687822 } /* Name.Attribute */\n",
       ".output_html .nb { color: #008000 } /* Name.Builtin */\n",
       ".output_html .nc { color: #0000FF; font-weight: bold } /* Name.Class */\n",
       ".output_html .no { color: #880000 } /* Name.Constant */\n",
       ".output_html .nd { color: #AA22FF } /* Name.Decorator */\n",
       ".output_html .ni { color: #717171; font-weight: bold } /* Name.Entity */\n",
       ".output_html .ne { color: #CB3F38; font-weight: bold } /* Name.Exception */\n",
       ".output_html .nf { color: #0000FF } /* Name.Function */\n",
       ".output_html .nl { color: #767600 } /* Name.Label */\n",
       ".output_html .nn { color: #0000FF; font-weight: bold } /* Name.Namespace */\n",
       ".output_html .nt { color: #008000; font-weight: bold } /* Name.Tag */\n",
       ".output_html .nv { color: #19177C } /* Name.Variable */\n",
       ".output_html .ow { color: #AA22FF; font-weight: bold } /* Operator.Word */\n",
       ".output_html .w { color: #bbbbbb } /* Text.Whitespace */\n",
       ".output_html .mb { color: #666666 } /* Literal.Number.Bin */\n",
       ".output_html .mf { color: #666666 } /* Literal.Number.Float */\n",
       ".output_html .mh { color: #666666 } /* Literal.Number.Hex */\n",
       ".output_html .mi { color: #666666 } /* Literal.Number.Integer */\n",
       ".output_html .mo { color: #666666 } /* Literal.Number.Oct */\n",
       ".output_html .sa { color: #BA2121 } /* Literal.String.Affix */\n",
       ".output_html .sb { color: #BA2121 } /* Literal.String.Backtick */\n",
       ".output_html .sc { color: #BA2121 } /* Literal.String.Char */\n",
       ".output_html .dl { color: #BA2121 } /* Literal.String.Delimiter */\n",
       ".output_html .sd { color: #BA2121; font-style: italic } /* Literal.String.Doc */\n",
       ".output_html .s2 { color: #BA2121 } /* Literal.String.Double */\n",
       ".output_html .se { color: #AA5D1F; font-weight: bold } /* Literal.String.Escape */\n",
       ".output_html .sh { color: #BA2121 } /* Literal.String.Heredoc */\n",
       ".output_html .si { color: #A45A77; font-weight: bold } /* Literal.String.Interpol */\n",
       ".output_html .sx { color: #008000 } /* Literal.String.Other */\n",
       ".output_html .sr { color: #A45A77 } /* Literal.String.Regex */\n",
       ".output_html .s1 { color: #BA2121 } /* Literal.String.Single */\n",
       ".output_html .ss { color: #19177C } /* Literal.String.Symbol */\n",
       ".output_html .bp { color: #008000 } /* Name.Builtin.Pseudo */\n",
       ".output_html .fm { color: #0000FF } /* Name.Function.Magic */\n",
       ".output_html .vc { color: #19177C } /* Name.Variable.Class */\n",
       ".output_html .vg { color: #19177C } /* Name.Variable.Global */\n",
       ".output_html .vi { color: #19177C } /* Name.Variable.Instance */\n",
       ".output_html .vm { color: #19177C } /* Name.Variable.Magic */\n",
       ".output_html .il { color: #666666 } /* Literal.Number.Integer.Long */</style><div class=\"highlight\"><pre><span></span>\n",
       "</pre></div>\n"
      ],
      "text/latex": [
       "\\begin{Verbatim}[commandchars=\\\\\\{\\}]\n",
       "\n",
       "\\end{Verbatim}\n"
      ],
      "text/plain": []
     },
     "metadata": {},
     "output_type": "display_data"
    },
    {
     "data": {
      "application/vnd.jupyter.widget-view+json": {
       "model_id": "b502c41a58d047328401b63833613932",
       "version_major": 2,
       "version_minor": 0
      },
      "text/plain": [
       "VBox(children=(Output(), RadioButtons(layout=Layout(width='auto'), options=(('bool', 0), ('object', 1), ('int6…"
      ]
     },
     "metadata": {},
     "output_type": "display_data"
    },
    {
     "data": {
      "text/html": [
       "<style>pre { line-height: 125%; }\n",
       "td.linenos .normal { color: inherit; background-color: transparent; padding-left: 5px; padding-right: 5px; }\n",
       "span.linenos { color: inherit; background-color: transparent; padding-left: 5px; padding-right: 5px; }\n",
       "td.linenos .special { color: #000000; background-color: #ffffc0; padding-left: 5px; padding-right: 5px; }\n",
       "span.linenos.special { color: #000000; background-color: #ffffc0; padding-left: 5px; padding-right: 5px; }\n",
       ".output_html .hll { background-color: #ffffcc }\n",
       ".output_html { background: #f8f8f8; }\n",
       ".output_html .c { color: #3D7B7B; font-style: italic } /* Comment */\n",
       ".output_html .err { border: 1px solid #FF0000 } /* Error */\n",
       ".output_html .k { color: #008000; font-weight: bold } /* Keyword */\n",
       ".output_html .o { color: #666666 } /* Operator */\n",
       ".output_html .ch { color: #3D7B7B; font-style: italic } /* Comment.Hashbang */\n",
       ".output_html .cm { color: #3D7B7B; font-style: italic } /* Comment.Multiline */\n",
       ".output_html .cp { color: #9C6500 } /* Comment.Preproc */\n",
       ".output_html .cpf { color: #3D7B7B; font-style: italic } /* Comment.PreprocFile */\n",
       ".output_html .c1 { color: #3D7B7B; font-style: italic } /* Comment.Single */\n",
       ".output_html .cs { color: #3D7B7B; font-style: italic } /* Comment.Special */\n",
       ".output_html .gd { color: #A00000 } /* Generic.Deleted */\n",
       ".output_html .ge { font-style: italic } /* Generic.Emph */\n",
       ".output_html .ges { font-weight: bold; font-style: italic } /* Generic.EmphStrong */\n",
       ".output_html .gr { color: #E40000 } /* Generic.Error */\n",
       ".output_html .gh { color: #000080; font-weight: bold } /* Generic.Heading */\n",
       ".output_html .gi { color: #008400 } /* Generic.Inserted */\n",
       ".output_html .go { color: #717171 } /* Generic.Output */\n",
       ".output_html .gp { color: #000080; font-weight: bold } /* Generic.Prompt */\n",
       ".output_html .gs { font-weight: bold } /* Generic.Strong */\n",
       ".output_html .gu { color: #800080; font-weight: bold } /* Generic.Subheading */\n",
       ".output_html .gt { color: #0044DD } /* Generic.Traceback */\n",
       ".output_html .kc { color: #008000; font-weight: bold } /* Keyword.Constant */\n",
       ".output_html .kd { color: #008000; font-weight: bold } /* Keyword.Declaration */\n",
       ".output_html .kn { color: #008000; font-weight: bold } /* Keyword.Namespace */\n",
       ".output_html .kp { color: #008000 } /* Keyword.Pseudo */\n",
       ".output_html .kr { color: #008000; font-weight: bold } /* Keyword.Reserved */\n",
       ".output_html .kt { color: #B00040 } /* Keyword.Type */\n",
       ".output_html .m { color: #666666 } /* Literal.Number */\n",
       ".output_html .s { color: #BA2121 } /* Literal.String */\n",
       ".output_html .na { color: #687822 } /* Name.Attribute */\n",
       ".output_html .nb { color: #008000 } /* Name.Builtin */\n",
       ".output_html .nc { color: #0000FF; font-weight: bold } /* Name.Class */\n",
       ".output_html .no { color: #880000 } /* Name.Constant */\n",
       ".output_html .nd { color: #AA22FF } /* Name.Decorator */\n",
       ".output_html .ni { color: #717171; font-weight: bold } /* Name.Entity */\n",
       ".output_html .ne { color: #CB3F38; font-weight: bold } /* Name.Exception */\n",
       ".output_html .nf { color: #0000FF } /* Name.Function */\n",
       ".output_html .nl { color: #767600 } /* Name.Label */\n",
       ".output_html .nn { color: #0000FF; font-weight: bold } /* Name.Namespace */\n",
       ".output_html .nt { color: #008000; font-weight: bold } /* Name.Tag */\n",
       ".output_html .nv { color: #19177C } /* Name.Variable */\n",
       ".output_html .ow { color: #AA22FF; font-weight: bold } /* Operator.Word */\n",
       ".output_html .w { color: #bbbbbb } /* Text.Whitespace */\n",
       ".output_html .mb { color: #666666 } /* Literal.Number.Bin */\n",
       ".output_html .mf { color: #666666 } /* Literal.Number.Float */\n",
       ".output_html .mh { color: #666666 } /* Literal.Number.Hex */\n",
       ".output_html .mi { color: #666666 } /* Literal.Number.Integer */\n",
       ".output_html .mo { color: #666666 } /* Literal.Number.Oct */\n",
       ".output_html .sa { color: #BA2121 } /* Literal.String.Affix */\n",
       ".output_html .sb { color: #BA2121 } /* Literal.String.Backtick */\n",
       ".output_html .sc { color: #BA2121 } /* Literal.String.Char */\n",
       ".output_html .dl { color: #BA2121 } /* Literal.String.Delimiter */\n",
       ".output_html .sd { color: #BA2121; font-style: italic } /* Literal.String.Doc */\n",
       ".output_html .s2 { color: #BA2121 } /* Literal.String.Double */\n",
       ".output_html .se { color: #AA5D1F; font-weight: bold } /* Literal.String.Escape */\n",
       ".output_html .sh { color: #BA2121 } /* Literal.String.Heredoc */\n",
       ".output_html .si { color: #A45A77; font-weight: bold } /* Literal.String.Interpol */\n",
       ".output_html .sx { color: #008000 } /* Literal.String.Other */\n",
       ".output_html .sr { color: #A45A77 } /* Literal.String.Regex */\n",
       ".output_html .s1 { color: #BA2121 } /* Literal.String.Single */\n",
       ".output_html .ss { color: #19177C } /* Literal.String.Symbol */\n",
       ".output_html .bp { color: #008000 } /* Name.Builtin.Pseudo */\n",
       ".output_html .fm { color: #0000FF } /* Name.Function.Magic */\n",
       ".output_html .vc { color: #19177C } /* Name.Variable.Class */\n",
       ".output_html .vg { color: #19177C } /* Name.Variable.Global */\n",
       ".output_html .vi { color: #19177C } /* Name.Variable.Instance */\n",
       ".output_html .vm { color: #19177C } /* Name.Variable.Magic */\n",
       ".output_html .il { color: #666666 } /* Literal.Number.Integer.Long */</style><div class=\"highlight\"><pre><span></span>\n",
       "</pre></div>\n"
      ],
      "text/latex": [
       "\\begin{Verbatim}[commandchars=\\\\\\{\\}]\n",
       "\n",
       "\\end{Verbatim}\n"
      ],
      "text/plain": []
     },
     "metadata": {},
     "output_type": "display_data"
    },
    {
     "data": {
      "application/vnd.jupyter.widget-view+json": {
       "model_id": "9f994d0a434f47d3ba314c5703472736",
       "version_major": 2,
       "version_minor": 0
      },
      "text/plain": [
       "VBox(children=(Output(), RadioButtons(layout=Layout(width='auto'), options=(('bool', 0), ('object', 1), ('int6…"
      ]
     },
     "metadata": {},
     "output_type": "display_data"
    },
    {
     "data": {
      "text/html": [
       "<style>pre { line-height: 125%; }\n",
       "td.linenos .normal { color: inherit; background-color: transparent; padding-left: 5px; padding-right: 5px; }\n",
       "span.linenos { color: inherit; background-color: transparent; padding-left: 5px; padding-right: 5px; }\n",
       "td.linenos .special { color: #000000; background-color: #ffffc0; padding-left: 5px; padding-right: 5px; }\n",
       "span.linenos.special { color: #000000; background-color: #ffffc0; padding-left: 5px; padding-right: 5px; }\n",
       ".output_html .hll { background-color: #ffffcc }\n",
       ".output_html { background: #f8f8f8; }\n",
       ".output_html .c { color: #3D7B7B; font-style: italic } /* Comment */\n",
       ".output_html .err { border: 1px solid #FF0000 } /* Error */\n",
       ".output_html .k { color: #008000; font-weight: bold } /* Keyword */\n",
       ".output_html .o { color: #666666 } /* Operator */\n",
       ".output_html .ch { color: #3D7B7B; font-style: italic } /* Comment.Hashbang */\n",
       ".output_html .cm { color: #3D7B7B; font-style: italic } /* Comment.Multiline */\n",
       ".output_html .cp { color: #9C6500 } /* Comment.Preproc */\n",
       ".output_html .cpf { color: #3D7B7B; font-style: italic } /* Comment.PreprocFile */\n",
       ".output_html .c1 { color: #3D7B7B; font-style: italic } /* Comment.Single */\n",
       ".output_html .cs { color: #3D7B7B; font-style: italic } /* Comment.Special */\n",
       ".output_html .gd { color: #A00000 } /* Generic.Deleted */\n",
       ".output_html .ge { font-style: italic } /* Generic.Emph */\n",
       ".output_html .ges { font-weight: bold; font-style: italic } /* Generic.EmphStrong */\n",
       ".output_html .gr { color: #E40000 } /* Generic.Error */\n",
       ".output_html .gh { color: #000080; font-weight: bold } /* Generic.Heading */\n",
       ".output_html .gi { color: #008400 } /* Generic.Inserted */\n",
       ".output_html .go { color: #717171 } /* Generic.Output */\n",
       ".output_html .gp { color: #000080; font-weight: bold } /* Generic.Prompt */\n",
       ".output_html .gs { font-weight: bold } /* Generic.Strong */\n",
       ".output_html .gu { color: #800080; font-weight: bold } /* Generic.Subheading */\n",
       ".output_html .gt { color: #0044DD } /* Generic.Traceback */\n",
       ".output_html .kc { color: #008000; font-weight: bold } /* Keyword.Constant */\n",
       ".output_html .kd { color: #008000; font-weight: bold } /* Keyword.Declaration */\n",
       ".output_html .kn { color: #008000; font-weight: bold } /* Keyword.Namespace */\n",
       ".output_html .kp { color: #008000 } /* Keyword.Pseudo */\n",
       ".output_html .kr { color: #008000; font-weight: bold } /* Keyword.Reserved */\n",
       ".output_html .kt { color: #B00040 } /* Keyword.Type */\n",
       ".output_html .m { color: #666666 } /* Literal.Number */\n",
       ".output_html .s { color: #BA2121 } /* Literal.String */\n",
       ".output_html .na { color: #687822 } /* Name.Attribute */\n",
       ".output_html .nb { color: #008000 } /* Name.Builtin */\n",
       ".output_html .nc { color: #0000FF; font-weight: bold } /* Name.Class */\n",
       ".output_html .no { color: #880000 } /* Name.Constant */\n",
       ".output_html .nd { color: #AA22FF } /* Name.Decorator */\n",
       ".output_html .ni { color: #717171; font-weight: bold } /* Name.Entity */\n",
       ".output_html .ne { color: #CB3F38; font-weight: bold } /* Name.Exception */\n",
       ".output_html .nf { color: #0000FF } /* Name.Function */\n",
       ".output_html .nl { color: #767600 } /* Name.Label */\n",
       ".output_html .nn { color: #0000FF; font-weight: bold } /* Name.Namespace */\n",
       ".output_html .nt { color: #008000; font-weight: bold } /* Name.Tag */\n",
       ".output_html .nv { color: #19177C } /* Name.Variable */\n",
       ".output_html .ow { color: #AA22FF; font-weight: bold } /* Operator.Word */\n",
       ".output_html .w { color: #bbbbbb } /* Text.Whitespace */\n",
       ".output_html .mb { color: #666666 } /* Literal.Number.Bin */\n",
       ".output_html .mf { color: #666666 } /* Literal.Number.Float */\n",
       ".output_html .mh { color: #666666 } /* Literal.Number.Hex */\n",
       ".output_html .mi { color: #666666 } /* Literal.Number.Integer */\n",
       ".output_html .mo { color: #666666 } /* Literal.Number.Oct */\n",
       ".output_html .sa { color: #BA2121 } /* Literal.String.Affix */\n",
       ".output_html .sb { color: #BA2121 } /* Literal.String.Backtick */\n",
       ".output_html .sc { color: #BA2121 } /* Literal.String.Char */\n",
       ".output_html .dl { color: #BA2121 } /* Literal.String.Delimiter */\n",
       ".output_html .sd { color: #BA2121; font-style: italic } /* Literal.String.Doc */\n",
       ".output_html .s2 { color: #BA2121 } /* Literal.String.Double */\n",
       ".output_html .se { color: #AA5D1F; font-weight: bold } /* Literal.String.Escape */\n",
       ".output_html .sh { color: #BA2121 } /* Literal.String.Heredoc */\n",
       ".output_html .si { color: #A45A77; font-weight: bold } /* Literal.String.Interpol */\n",
       ".output_html .sx { color: #008000 } /* Literal.String.Other */\n",
       ".output_html .sr { color: #A45A77 } /* Literal.String.Regex */\n",
       ".output_html .s1 { color: #BA2121 } /* Literal.String.Single */\n",
       ".output_html .ss { color: #19177C } /* Literal.String.Symbol */\n",
       ".output_html .bp { color: #008000 } /* Name.Builtin.Pseudo */\n",
       ".output_html .fm { color: #0000FF } /* Name.Function.Magic */\n",
       ".output_html .vc { color: #19177C } /* Name.Variable.Class */\n",
       ".output_html .vg { color: #19177C } /* Name.Variable.Global */\n",
       ".output_html .vi { color: #19177C } /* Name.Variable.Instance */\n",
       ".output_html .vm { color: #19177C } /* Name.Variable.Magic */\n",
       ".output_html .il { color: #666666 } /* Literal.Number.Integer.Long */</style><div class=\"highlight\"><pre><span></span>\n",
       "</pre></div>\n"
      ],
      "text/latex": [
       "\\begin{Verbatim}[commandchars=\\\\\\{\\}]\n",
       "\n",
       "\\end{Verbatim}\n"
      ],
      "text/plain": []
     },
     "metadata": {},
     "output_type": "display_data"
    },
    {
     "data": {
      "application/vnd.jupyter.widget-view+json": {
       "model_id": "b947b6f26ad54ee09b633379fc230e3c",
       "version_major": 2,
       "version_minor": 0
      },
      "text/plain": [
       "VBox(children=(Output(), RadioButtons(layout=Layout(width='auto'), options=(('bool', 0), ('object', 1), ('int6…"
      ]
     },
     "metadata": {},
     "output_type": "display_data"
    },
    {
     "data": {
      "text/html": [
       "<style>pre { line-height: 125%; }\n",
       "td.linenos .normal { color: inherit; background-color: transparent; padding-left: 5px; padding-right: 5px; }\n",
       "span.linenos { color: inherit; background-color: transparent; padding-left: 5px; padding-right: 5px; }\n",
       "td.linenos .special { color: #000000; background-color: #ffffc0; padding-left: 5px; padding-right: 5px; }\n",
       "span.linenos.special { color: #000000; background-color: #ffffc0; padding-left: 5px; padding-right: 5px; }\n",
       ".output_html .hll { background-color: #ffffcc }\n",
       ".output_html { background: #f8f8f8; }\n",
       ".output_html .c { color: #3D7B7B; font-style: italic } /* Comment */\n",
       ".output_html .err { border: 1px solid #FF0000 } /* Error */\n",
       ".output_html .k { color: #008000; font-weight: bold } /* Keyword */\n",
       ".output_html .o { color: #666666 } /* Operator */\n",
       ".output_html .ch { color: #3D7B7B; font-style: italic } /* Comment.Hashbang */\n",
       ".output_html .cm { color: #3D7B7B; font-style: italic } /* Comment.Multiline */\n",
       ".output_html .cp { color: #9C6500 } /* Comment.Preproc */\n",
       ".output_html .cpf { color: #3D7B7B; font-style: italic } /* Comment.PreprocFile */\n",
       ".output_html .c1 { color: #3D7B7B; font-style: italic } /* Comment.Single */\n",
       ".output_html .cs { color: #3D7B7B; font-style: italic } /* Comment.Special */\n",
       ".output_html .gd { color: #A00000 } /* Generic.Deleted */\n",
       ".output_html .ge { font-style: italic } /* Generic.Emph */\n",
       ".output_html .ges { font-weight: bold; font-style: italic } /* Generic.EmphStrong */\n",
       ".output_html .gr { color: #E40000 } /* Generic.Error */\n",
       ".output_html .gh { color: #000080; font-weight: bold } /* Generic.Heading */\n",
       ".output_html .gi { color: #008400 } /* Generic.Inserted */\n",
       ".output_html .go { color: #717171 } /* Generic.Output */\n",
       ".output_html .gp { color: #000080; font-weight: bold } /* Generic.Prompt */\n",
       ".output_html .gs { font-weight: bold } /* Generic.Strong */\n",
       ".output_html .gu { color: #800080; font-weight: bold } /* Generic.Subheading */\n",
       ".output_html .gt { color: #0044DD } /* Generic.Traceback */\n",
       ".output_html .kc { color: #008000; font-weight: bold } /* Keyword.Constant */\n",
       ".output_html .kd { color: #008000; font-weight: bold } /* Keyword.Declaration */\n",
       ".output_html .kn { color: #008000; font-weight: bold } /* Keyword.Namespace */\n",
       ".output_html .kp { color: #008000 } /* Keyword.Pseudo */\n",
       ".output_html .kr { color: #008000; font-weight: bold } /* Keyword.Reserved */\n",
       ".output_html .kt { color: #B00040 } /* Keyword.Type */\n",
       ".output_html .m { color: #666666 } /* Literal.Number */\n",
       ".output_html .s { color: #BA2121 } /* Literal.String */\n",
       ".output_html .na { color: #687822 } /* Name.Attribute */\n",
       ".output_html .nb { color: #008000 } /* Name.Builtin */\n",
       ".output_html .nc { color: #0000FF; font-weight: bold } /* Name.Class */\n",
       ".output_html .no { color: #880000 } /* Name.Constant */\n",
       ".output_html .nd { color: #AA22FF } /* Name.Decorator */\n",
       ".output_html .ni { color: #717171; font-weight: bold } /* Name.Entity */\n",
       ".output_html .ne { color: #CB3F38; font-weight: bold } /* Name.Exception */\n",
       ".output_html .nf { color: #0000FF } /* Name.Function */\n",
       ".output_html .nl { color: #767600 } /* Name.Label */\n",
       ".output_html .nn { color: #0000FF; font-weight: bold } /* Name.Namespace */\n",
       ".output_html .nt { color: #008000; font-weight: bold } /* Name.Tag */\n",
       ".output_html .nv { color: #19177C } /* Name.Variable */\n",
       ".output_html .ow { color: #AA22FF; font-weight: bold } /* Operator.Word */\n",
       ".output_html .w { color: #bbbbbb } /* Text.Whitespace */\n",
       ".output_html .mb { color: #666666 } /* Literal.Number.Bin */\n",
       ".output_html .mf { color: #666666 } /* Literal.Number.Float */\n",
       ".output_html .mh { color: #666666 } /* Literal.Number.Hex */\n",
       ".output_html .mi { color: #666666 } /* Literal.Number.Integer */\n",
       ".output_html .mo { color: #666666 } /* Literal.Number.Oct */\n",
       ".output_html .sa { color: #BA2121 } /* Literal.String.Affix */\n",
       ".output_html .sb { color: #BA2121 } /* Literal.String.Backtick */\n",
       ".output_html .sc { color: #BA2121 } /* Literal.String.Char */\n",
       ".output_html .dl { color: #BA2121 } /* Literal.String.Delimiter */\n",
       ".output_html .sd { color: #BA2121; font-style: italic } /* Literal.String.Doc */\n",
       ".output_html .s2 { color: #BA2121 } /* Literal.String.Double */\n",
       ".output_html .se { color: #AA5D1F; font-weight: bold } /* Literal.String.Escape */\n",
       ".output_html .sh { color: #BA2121 } /* Literal.String.Heredoc */\n",
       ".output_html .si { color: #A45A77; font-weight: bold } /* Literal.String.Interpol */\n",
       ".output_html .sx { color: #008000 } /* Literal.String.Other */\n",
       ".output_html .sr { color: #A45A77 } /* Literal.String.Regex */\n",
       ".output_html .s1 { color: #BA2121 } /* Literal.String.Single */\n",
       ".output_html .ss { color: #19177C } /* Literal.String.Symbol */\n",
       ".output_html .bp { color: #008000 } /* Name.Builtin.Pseudo */\n",
       ".output_html .fm { color: #0000FF } /* Name.Function.Magic */\n",
       ".output_html .vc { color: #19177C } /* Name.Variable.Class */\n",
       ".output_html .vg { color: #19177C } /* Name.Variable.Global */\n",
       ".output_html .vi { color: #19177C } /* Name.Variable.Instance */\n",
       ".output_html .vm { color: #19177C } /* Name.Variable.Magic */\n",
       ".output_html .il { color: #666666 } /* Literal.Number.Integer.Long */</style><div class=\"highlight\"><pre><span></span>\n",
       "</pre></div>\n"
      ],
      "text/latex": [
       "\\begin{Verbatim}[commandchars=\\\\\\{\\}]\n",
       "\n",
       "\\end{Verbatim}\n"
      ],
      "text/plain": []
     },
     "metadata": {},
     "output_type": "display_data"
    },
    {
     "data": {
      "application/vnd.jupyter.widget-view+json": {
       "model_id": "3382911a0c1843dda1d4cbfd8d141fa0",
       "version_major": 2,
       "version_minor": 0
      },
      "text/plain": [
       "VBox(children=(Output(), RadioButtons(layout=Layout(width='auto'), options=(('bool', 0), ('object', 1), ('int6…"
      ]
     },
     "metadata": {},
     "output_type": "display_data"
    }
   ],
   "source": [
    "%run src/02_Fragen.ipynb"
   ]
  },
  {
   "cell_type": "markdown",
   "id": "13a18805-a23b-4340-a4aa-5024862f21ae",
   "metadata": {
    "button_covered": true,
    "converted": true,
    "deletable": false,
    "editable": false,
    "hide_toolbar": true,
    "jupyter": {
     "cell_type_changeable": false,
     "editable": false,
     "source_hidden": false
    },
    "locked": true,
    "readonly": true,
    "slideshow": {
     "slide_type": ""
    },
    "tags": [
     "locked"
    ]
   },
   "source": [
    "### Zugriff auf Spalten des Dataframes\n",
    "\n",
    "In `Pandas`  kann auf die Spalten eines **Dataframes** einfach über deren Namen zugegriffen werden. Dies geschieht, indem man den Spaltennamen in eckigen Klammern angibt, z.B. `df['Spaltenname']`. Diese Methode ermöglicht es gezielt, Daten zu filtern, zu analysieren und zu manipulieren."
   ]
  },
  {
   "cell_type": "code",
   "execution_count": 11,
   "id": "d7f40ae5-47a0-4737-9c1f-52b57c9ce3c2",
   "metadata": {
    "editable": true,
    "slideshow": {
     "slide_type": ""
    },
    "tags": []
   },
   "outputs": [
    {
     "data": {
      "text/plain": [
       "0      Adelie\n",
       "1      Adelie\n",
       "2      Adelie\n",
       "3      Adelie\n",
       "4      Adelie\n",
       "        ...  \n",
       "320    Gentoo\n",
       "321    Gentoo\n",
       "322    Gentoo\n",
       "323    Gentoo\n",
       "324    Gentoo\n",
       "Name: Pinguinart, Length: 325, dtype: object"
      ]
     },
     "execution_count": 11,
     "metadata": {},
     "output_type": "execute_result"
    }
   ],
   "source": [
    "df['Pinguinart'] # gesamte Spalte der Pinguinarten wird zurückgegeben"
   ]
  },
  {
   "cell_type": "markdown",
   "id": "2c50b4e8-7185-49d9-b54b-16523a3d157d",
   "metadata": {
    "button_covered": true,
    "converted": true,
    "deletable": false,
    "editable": false,
    "hide_toolbar": true,
    "locked": true,
    "readonly": true,
    "slideshow": {
     "slide_type": ""
    },
    "tags": [
     "locked"
    ]
   },
   "source": [
    "So kann auch auf mehrere Spalten gleichzeitig zugegriffen werden. \n",
    "\n",
    "**Achtung:** Die doppelten Klammern sind hier nötig, weil die inneren Klammern `['Pinguinart', 'Gewicht']` eine Python-Liste definieren, die angibt welche Spalten wir haben wollen, während die äußeren Klammern `df[ ]` den eigentlichen DataFrame-Zugriff darstellen."
   ]
  },
  {
   "cell_type": "code",
   "execution_count": 12,
   "id": "eec75ad6-9c76-4121-9fa4-1c15de9c9636",
   "metadata": {
    "editable": true,
    "slideshow": {
     "slide_type": ""
    },
    "tags": []
   },
   "outputs": [
    {
     "data": {
      "text/html": [
       "<div>\n",
       "<style scoped>\n",
       "    .dataframe tbody tr th:only-of-type {\n",
       "        vertical-align: middle;\n",
       "    }\n",
       "\n",
       "    .dataframe tbody tr th {\n",
       "        vertical-align: top;\n",
       "    }\n",
       "\n",
       "    .dataframe thead th {\n",
       "        text-align: right;\n",
       "    }\n",
       "</style>\n",
       "<table border=\"1\" class=\"dataframe\">\n",
       "  <thead>\n",
       "    <tr style=\"text-align: right;\">\n",
       "      <th></th>\n",
       "      <th>Pinguinart</th>\n",
       "      <th>Gewicht</th>\n",
       "    </tr>\n",
       "  </thead>\n",
       "  <tbody>\n",
       "    <tr>\n",
       "      <th>0</th>\n",
       "      <td>Adelie</td>\n",
       "      <td>3800</td>\n",
       "    </tr>\n",
       "    <tr>\n",
       "      <th>1</th>\n",
       "      <td>Adelie</td>\n",
       "      <td>3250</td>\n",
       "    </tr>\n",
       "    <tr>\n",
       "      <th>2</th>\n",
       "      <td>Adelie</td>\n",
       "      <td>3450</td>\n",
       "    </tr>\n",
       "    <tr>\n",
       "      <th>3</th>\n",
       "      <td>Adelie</td>\n",
       "      <td>3650</td>\n",
       "    </tr>\n",
       "    <tr>\n",
       "      <th>4</th>\n",
       "      <td>Adelie</td>\n",
       "      <td>3625</td>\n",
       "    </tr>\n",
       "    <tr>\n",
       "      <th>...</th>\n",
       "      <td>...</td>\n",
       "      <td>...</td>\n",
       "    </tr>\n",
       "    <tr>\n",
       "      <th>320</th>\n",
       "      <td>Gentoo</td>\n",
       "      <td>4925</td>\n",
       "    </tr>\n",
       "    <tr>\n",
       "      <th>321</th>\n",
       "      <td>Gentoo</td>\n",
       "      <td>4850</td>\n",
       "    </tr>\n",
       "    <tr>\n",
       "      <th>322</th>\n",
       "      <td>Gentoo</td>\n",
       "      <td>5750</td>\n",
       "    </tr>\n",
       "    <tr>\n",
       "      <th>323</th>\n",
       "      <td>Gentoo</td>\n",
       "      <td>5200</td>\n",
       "    </tr>\n",
       "    <tr>\n",
       "      <th>324</th>\n",
       "      <td>Gentoo</td>\n",
       "      <td>5400</td>\n",
       "    </tr>\n",
       "  </tbody>\n",
       "</table>\n",
       "<p>325 rows × 2 columns</p>\n",
       "</div>"
      ],
      "text/plain": [
       "    Pinguinart  Gewicht\n",
       "0       Adelie     3800\n",
       "1       Adelie     3250\n",
       "2       Adelie     3450\n",
       "3       Adelie     3650\n",
       "4       Adelie     3625\n",
       "..         ...      ...\n",
       "320     Gentoo     4925\n",
       "321     Gentoo     4850\n",
       "322     Gentoo     5750\n",
       "323     Gentoo     5200\n",
       "324     Gentoo     5400\n",
       "\n",
       "[325 rows x 2 columns]"
      ]
     },
     "execution_count": 12,
     "metadata": {},
     "output_type": "execute_result"
    }
   ],
   "source": [
    "df[['Pinguinart', 'Gewicht']] # mehrere Spalten werden zurückgegeben"
   ]
  },
  {
   "cell_type": "markdown",
   "id": "633cd293-4688-4a8c-be82-7fdbae295fe4",
   "metadata": {
    "button_covered": true,
    "converted": true,
    "deletable": false,
    "editable": false,
    "hide_toolbar": true,
    "jupyter": {
     "cell_type_changeable": false,
     "editable": false,
     "source_hidden": false
    },
    "locked": true,
    "readonly": true,
    "slideshow": {
     "slide_type": ""
    },
    "tags": [
     "locked"
    ]
   },
   "source": [
    "So können die Daten auch gefiltert und z.B. Berechnungen durchgeführt werden."
   ]
  },
  {
   "cell_type": "code",
   "execution_count": 13,
   "id": "94c886b1-75dd-4e71-9516-f34f30fcf7b5",
   "metadata": {
    "editable": true,
    "slideshow": {
     "slide_type": ""
    },
    "tags": []
   },
   "outputs": [
    {
     "name": "stdout",
     "output_type": "stream",
     "text": [
      "(139, 10)\n"
     ]
    }
   ],
   "source": [
    "# Filtern von Daten \n",
    "adelie_pinguine = df[df['Pinguinart'] == 'Adelie'] # Filtern der Daten nach der Pinguinart 'Adelie'\n",
    "print(adelie_pinguine.shape) # 139 Pinguine gehoeren zur Art 'Adelie' und sind in der Variable 'adelie_pinguine' gespeichert, shape gibt die Anzahl der Zeilen und Spalten des DataFrames an"
   ]
  },
  {
   "cell_type": "code",
   "execution_count": 14,
   "id": "3ddab7dc",
   "metadata": {
    "editable": true,
    "slideshow": {
     "slide_type": ""
    },
    "tags": []
   },
   "outputs": [
    {
     "data": {
      "text/html": [
       "<div>\n",
       "<style scoped>\n",
       "    .dataframe tbody tr th:only-of-type {\n",
       "        vertical-align: middle;\n",
       "    }\n",
       "\n",
       "    .dataframe tbody tr th {\n",
       "        vertical-align: top;\n",
       "    }\n",
       "\n",
       "    .dataframe thead th {\n",
       "        text-align: right;\n",
       "    }\n",
       "</style>\n",
       "<table border=\"1\" class=\"dataframe\">\n",
       "  <thead>\n",
       "    <tr style=\"text-align: right;\">\n",
       "      <th></th>\n",
       "      <th>Pinguinart</th>\n",
       "      <th>Insel</th>\n",
       "      <th>NestVoll_2Eier</th>\n",
       "      <th>Schnabellaenge</th>\n",
       "      <th>Schnabelhoehe</th>\n",
       "      <th>Flossenlaenge</th>\n",
       "      <th>Gewicht</th>\n",
       "      <th>Geschlecht</th>\n",
       "      <th>VerhaeltnisIsotope13N_12N</th>\n",
       "      <th>VerhaeltnisIsotope15N_14N</th>\n",
       "    </tr>\n",
       "  </thead>\n",
       "  <tbody>\n",
       "    <tr>\n",
       "      <th>5</th>\n",
       "      <td>Adelie</td>\n",
       "      <td>Torgersen</td>\n",
       "      <td>False</td>\n",
       "      <td>39.2</td>\n",
       "      <td>19.6</td>\n",
       "      <td>195.0</td>\n",
       "      <td>4675</td>\n",
       "      <td>maennlich</td>\n",
       "      <td>9.46060</td>\n",
       "      <td>-24.89958</td>\n",
       "    </tr>\n",
       "    <tr>\n",
       "      <th>6</th>\n",
       "      <td>Adelie</td>\n",
       "      <td>Torgersen</td>\n",
       "      <td>True</td>\n",
       "      <td>34.6</td>\n",
       "      <td>21.1</td>\n",
       "      <td>198.0</td>\n",
       "      <td>4400</td>\n",
       "      <td>maennlich</td>\n",
       "      <td>8.55583</td>\n",
       "      <td>-25.22588</td>\n",
       "    </tr>\n",
       "    <tr>\n",
       "      <th>8</th>\n",
       "      <td>Adelie</td>\n",
       "      <td>Torgersen</td>\n",
       "      <td>True</td>\n",
       "      <td>42.5</td>\n",
       "      <td>20.7</td>\n",
       "      <td>197.0</td>\n",
       "      <td>4500</td>\n",
       "      <td>maennlich</td>\n",
       "      <td>8.67538</td>\n",
       "      <td>-25.13993</td>\n",
       "    </tr>\n",
       "    <tr>\n",
       "      <th>10</th>\n",
       "      <td>Adelie</td>\n",
       "      <td>Torgersen</td>\n",
       "      <td>True</td>\n",
       "      <td>46.0</td>\n",
       "      <td>21.5</td>\n",
       "      <td>194.0</td>\n",
       "      <td>4200</td>\n",
       "      <td>maennlich</td>\n",
       "      <td>9.11616</td>\n",
       "      <td>-24.77227</td>\n",
       "    </tr>\n",
       "    <tr>\n",
       "      <th>26</th>\n",
       "      <td>Adelie</td>\n",
       "      <td>Dream</td>\n",
       "      <td>True</td>\n",
       "      <td>39.2</td>\n",
       "      <td>21.1</td>\n",
       "      <td>196.0</td>\n",
       "      <td>4150</td>\n",
       "      <td>maennlich</td>\n",
       "      <td>9.15308</td>\n",
       "      <td>-25.03469</td>\n",
       "    </tr>\n",
       "    <tr>\n",
       "      <th>...</th>\n",
       "      <td>...</td>\n",
       "      <td>...</td>\n",
       "      <td>...</td>\n",
       "      <td>...</td>\n",
       "      <td>...</td>\n",
       "      <td>...</td>\n",
       "      <td>...</td>\n",
       "      <td>...</td>\n",
       "      <td>...</td>\n",
       "      <td>...</td>\n",
       "    </tr>\n",
       "    <tr>\n",
       "      <th>320</th>\n",
       "      <td>Gentoo</td>\n",
       "      <td>Biscoe</td>\n",
       "      <td>False</td>\n",
       "      <td>47.2</td>\n",
       "      <td>13.7</td>\n",
       "      <td>214.0</td>\n",
       "      <td>4925</td>\n",
       "      <td>weiblich</td>\n",
       "      <td>7.99184</td>\n",
       "      <td>-26.20538</td>\n",
       "    </tr>\n",
       "    <tr>\n",
       "      <th>321</th>\n",
       "      <td>Gentoo</td>\n",
       "      <td>Biscoe</td>\n",
       "      <td>True</td>\n",
       "      <td>46.8</td>\n",
       "      <td>14.3</td>\n",
       "      <td>215.0</td>\n",
       "      <td>4850</td>\n",
       "      <td>weiblich</td>\n",
       "      <td>8.41151</td>\n",
       "      <td>-26.13832</td>\n",
       "    </tr>\n",
       "    <tr>\n",
       "      <th>322</th>\n",
       "      <td>Gentoo</td>\n",
       "      <td>Biscoe</td>\n",
       "      <td>True</td>\n",
       "      <td>50.4</td>\n",
       "      <td>15.7</td>\n",
       "      <td>222.0</td>\n",
       "      <td>5750</td>\n",
       "      <td>maennlich</td>\n",
       "      <td>8.30166</td>\n",
       "      <td>-26.04117</td>\n",
       "    </tr>\n",
       "    <tr>\n",
       "      <th>323</th>\n",
       "      <td>Gentoo</td>\n",
       "      <td>Biscoe</td>\n",
       "      <td>True</td>\n",
       "      <td>45.2</td>\n",
       "      <td>14.8</td>\n",
       "      <td>212.0</td>\n",
       "      <td>5200</td>\n",
       "      <td>weiblich</td>\n",
       "      <td>8.24246</td>\n",
       "      <td>-26.11969</td>\n",
       "    </tr>\n",
       "    <tr>\n",
       "      <th>324</th>\n",
       "      <td>Gentoo</td>\n",
       "      <td>Biscoe</td>\n",
       "      <td>True</td>\n",
       "      <td>49.9</td>\n",
       "      <td>16.1</td>\n",
       "      <td>213.0</td>\n",
       "      <td>5400</td>\n",
       "      <td>maennlich</td>\n",
       "      <td>8.36390</td>\n",
       "      <td>-26.15531</td>\n",
       "    </tr>\n",
       "  </tbody>\n",
       "</table>\n",
       "<p>166 rows × 10 columns</p>\n",
       "</div>"
      ],
      "text/plain": [
       "    Pinguinart      Insel  NestVoll_2Eier  Schnabellaenge  Schnabelhoehe  \\\n",
       "5       Adelie  Torgersen           False            39.2           19.6   \n",
       "6       Adelie  Torgersen            True            34.6           21.1   \n",
       "8       Adelie  Torgersen            True            42.5           20.7   \n",
       "10      Adelie  Torgersen            True            46.0           21.5   \n",
       "26      Adelie      Dream            True            39.2           21.1   \n",
       "..         ...        ...             ...             ...            ...   \n",
       "320     Gentoo     Biscoe           False            47.2           13.7   \n",
       "321     Gentoo     Biscoe            True            46.8           14.3   \n",
       "322     Gentoo     Biscoe            True            50.4           15.7   \n",
       "323     Gentoo     Biscoe            True            45.2           14.8   \n",
       "324     Gentoo     Biscoe            True            49.9           16.1   \n",
       "\n",
       "     Flossenlaenge  Gewicht Geschlecht  VerhaeltnisIsotope13N_12N  \\\n",
       "5            195.0     4675  maennlich                    9.46060   \n",
       "6            198.0     4400  maennlich                    8.55583   \n",
       "8            197.0     4500  maennlich                    8.67538   \n",
       "10           194.0     4200  maennlich                    9.11616   \n",
       "26           196.0     4150  maennlich                    9.15308   \n",
       "..             ...      ...        ...                        ...   \n",
       "320          214.0     4925   weiblich                    7.99184   \n",
       "321          215.0     4850   weiblich                    8.41151   \n",
       "322          222.0     5750  maennlich                    8.30166   \n",
       "323          212.0     5200   weiblich                    8.24246   \n",
       "324          213.0     5400  maennlich                    8.36390   \n",
       "\n",
       "     VerhaeltnisIsotope15N_14N  \n",
       "5                    -24.89958  \n",
       "6                    -25.22588  \n",
       "8                    -25.13993  \n",
       "10                   -24.77227  \n",
       "26                   -25.03469  \n",
       "..                         ...  \n",
       "320                  -26.20538  \n",
       "321                  -26.13832  \n",
       "322                  -26.04117  \n",
       "323                  -26.11969  \n",
       "324                  -26.15531  \n",
       "\n",
       "[166 rows x 10 columns]"
      ]
     },
     "metadata": {},
     "output_type": "display_data"
    }
   ],
   "source": [
    "# Filtern von Daten\n",
    "schwere_pinguine = df[df['Gewicht'] > 4000] # Filtern der Daten nach Pinguinen, die mehr als 4000g wiegen\n",
    "display(schwere_pinguine) # 166 Pinguine wiegen mehr als 4000g und sind in der Variable 'schwere_pinguine' gespeichert"
   ]
  },
  {
   "cell_type": "markdown",
   "id": "331c63c4-1393-4941-9bad-2ea38306540c",
   "metadata": {
    "button_covered": true,
    "converted": true,
    "deletable": false,
    "editable": false,
    "hide_toolbar": true,
    "jupyter": {
     "cell_type_changeable": false,
     "editable": false,
     "source_hidden": false
    },
    "locked": true,
    "readonly": true,
    "slideshow": {
     "slide_type": ""
    },
    "tags": [
     "locked"
    ]
   },
   "source": [
    "### Berechnung auf einzelnen Spalten\n",
    "Pandas bietet eine Vielzahl von Methoden, um statistische Berechnungen auf einzelne Spalten eines DataFrames durchzuführen, wie z.B. `df['spalte'].mean()`, `df['spalte'].sum()`, `df['spalte'].min()`, und `df['spalte'].max()`. \n",
    "\n",
    "Diese Funktionen ermöglichen es, den Mittelwert, die Summe, den Minimal- und Maximalwert einer Spalte zu ermitteln."
   ]
  },
  {
   "cell_type": "code",
   "execution_count": 15,
   "id": "8ea7f283",
   "metadata": {
    "editable": true,
    "slideshow": {
     "slide_type": ""
    },
    "tags": []
   },
   "outputs": [
    {
     "name": "stdout",
     "output_type": "stream",
     "text": [
      "4216.0\n"
     ]
    }
   ],
   "source": [
    "# Berechnungen von Daten\n",
    "durchschnitts_gewicht = df['Gewicht'].mean() # Berechnung des Durchschnittsgewichts aller Pinguine\n",
    "print(durchschnitts_gewicht) # Ausgabe des Durchschnittsgewichts"
   ]
  },
  {
   "cell_type": "markdown",
   "id": "00b27c3d",
   "metadata": {
    "button_covered": true,
    "converted": true,
    "deletable": false,
    "editable": false,
    "hide_toolbar": true,
    "jupyter": {
     "cell_type_changeable": false,
     "editable": false,
     "source_hidden": false
    },
    "locked": true,
    "readonly": true,
    "slideshow": {
     "slide_type": ""
    },
    "tags": [
     "locked"
    ]
   },
   "source": [
    "### Aufgabe 4: Lassen sie sich das Durchschnittsgewicht der Pinguine, die leichter als 4000g sind, ausgeben."
   ]
  },
  {
   "cell_type": "code",
   "execution_count": 16,
   "id": "4122d697",
   "metadata": {
    "editable": true,
    "slideshow": {
     "slide_type": ""
    },
    "tags": []
   },
   "outputs": [
    {
     "name": "stdout",
     "output_type": "stream",
     "text": [
      "3515.0974025974024\n"
     ]
    }
   ],
   "source": [
    "leichte_pinguine = df[df['Gewicht'] < 4000]\n",
    "leichte_pinguine_durchschnitts_gewicht = leichte_pinguine['Gewicht'].mean()\n",
    "print(leichte_pinguine_durchschnitts_gewicht)"
   ]
  },
  {
   "cell_type": "markdown",
   "id": "95d08ca6-d94a-4129-8558-b7d11e070ea1",
   "metadata": {
    "button_covered": true,
    "converted": true,
    "deletable": false,
    "editable": false,
    "hide_toolbar": true,
    "jupyter": {
     "cell_type_changeable": false,
     "editable": false,
     "source_hidden": false
    },
    "locked": true,
    "readonly": true,
    "slideshow": {
     "slide_type": ""
    },
    "tags": [
     "locked"
    ]
   },
   "source": [
    "---\n",
    "## Deskriptive Statistik\n",
    "Um einen Eindruck vom Datensatz zu erhalten, sollen im Nachfolgenden die statistischen Kennzahlen berechnet und analysiert werden.\n",
    "### Aufgabe 5: Was sind die statistischen Kennzahlen der einzelnen numerischen Spalten? Welche Bedeutung hat das 50% Percentil? Worauf könnte die relative hohe Differenz zwischen Mittelwert und dem 50% Percentil in der Spalte *Gewicht* hinweisen?\n",
    "Mithilfe von ```df.describe()``` können mehrere statistische Werte der einzelnen Spalten/Merkmale des Datensatzes in ```df``` bestimmt werden. "
   ]
  },
  {
   "cell_type": "code",
   "execution_count": 17,
   "id": "01f6f898-da8e-4b49-853e-5280a13d60f7",
   "metadata": {
    "editable": true,
    "slideshow": {
     "slide_type": ""
    },
    "tags": []
   },
   "outputs": [
    {
     "data": {
      "text/html": [
       "<div>\n",
       "<style scoped>\n",
       "    .dataframe tbody tr th:only-of-type {\n",
       "        vertical-align: middle;\n",
       "    }\n",
       "\n",
       "    .dataframe tbody tr th {\n",
       "        vertical-align: top;\n",
       "    }\n",
       "\n",
       "    .dataframe thead th {\n",
       "        text-align: right;\n",
       "    }\n",
       "</style>\n",
       "<table border=\"1\" class=\"dataframe\">\n",
       "  <thead>\n",
       "    <tr style=\"text-align: right;\">\n",
       "      <th></th>\n",
       "      <th>Schnabellaenge</th>\n",
       "      <th>Schnabelhoehe</th>\n",
       "      <th>Flossenlaenge</th>\n",
       "      <th>Gewicht</th>\n",
       "      <th>VerhaeltnisIsotope13N_12N</th>\n",
       "      <th>VerhaeltnisIsotope15N_14N</th>\n",
       "    </tr>\n",
       "  </thead>\n",
       "  <tbody>\n",
       "    <tr>\n",
       "      <th>count</th>\n",
       "      <td>325.000000</td>\n",
       "      <td>325.000000</td>\n",
       "      <td>325.000000</td>\n",
       "      <td>325.000000</td>\n",
       "      <td>325.000000</td>\n",
       "      <td>325.000000</td>\n",
       "    </tr>\n",
       "    <tr>\n",
       "      <th>mean</th>\n",
       "      <td>44.054769</td>\n",
       "      <td>17.123077</td>\n",
       "      <td>201.264615</td>\n",
       "      <td>4216.000000</td>\n",
       "      <td>8.737794</td>\n",
       "      <td>-25.690217</td>\n",
       "    </tr>\n",
       "    <tr>\n",
       "      <th>std</th>\n",
       "      <td>5.472226</td>\n",
       "      <td>1.965942</td>\n",
       "      <td>13.964598</td>\n",
       "      <td>808.859222</td>\n",
       "      <td>0.552581</td>\n",
       "      <td>0.790098</td>\n",
       "    </tr>\n",
       "    <tr>\n",
       "      <th>min</th>\n",
       "      <td>32.100000</td>\n",
       "      <td>13.100000</td>\n",
       "      <td>172.000000</td>\n",
       "      <td>2700.000000</td>\n",
       "      <td>7.632200</td>\n",
       "      <td>-27.018540</td>\n",
       "    </tr>\n",
       "    <tr>\n",
       "      <th>25%</th>\n",
       "      <td>39.500000</td>\n",
       "      <td>15.600000</td>\n",
       "      <td>190.000000</td>\n",
       "      <td>3550.000000</td>\n",
       "      <td>8.302310</td>\n",
       "      <td>-26.326010</td>\n",
       "    </tr>\n",
       "    <tr>\n",
       "      <th>50%</th>\n",
       "      <td>44.900000</td>\n",
       "      <td>17.300000</td>\n",
       "      <td>197.000000</td>\n",
       "      <td>4050.000000</td>\n",
       "      <td>8.658030</td>\n",
       "      <td>-25.852030</td>\n",
       "    </tr>\n",
       "    <tr>\n",
       "      <th>75%</th>\n",
       "      <td>48.700000</td>\n",
       "      <td>18.600000</td>\n",
       "      <td>213.000000</td>\n",
       "      <td>4800.000000</td>\n",
       "      <td>9.180210</td>\n",
       "      <td>-25.060200</td>\n",
       "    </tr>\n",
       "    <tr>\n",
       "      <th>max</th>\n",
       "      <td>59.600000</td>\n",
       "      <td>21.500000</td>\n",
       "      <td>231.000000</td>\n",
       "      <td>6300.000000</td>\n",
       "      <td>10.025440</td>\n",
       "      <td>-23.890170</td>\n",
       "    </tr>\n",
       "  </tbody>\n",
       "</table>\n",
       "</div>"
      ],
      "text/plain": [
       "       Schnabellaenge  Schnabelhoehe  Flossenlaenge      Gewicht  \\\n",
       "count      325.000000     325.000000     325.000000   325.000000   \n",
       "mean        44.054769      17.123077     201.264615  4216.000000   \n",
       "std          5.472226       1.965942      13.964598   808.859222   \n",
       "min         32.100000      13.100000     172.000000  2700.000000   \n",
       "25%         39.500000      15.600000     190.000000  3550.000000   \n",
       "50%         44.900000      17.300000     197.000000  4050.000000   \n",
       "75%         48.700000      18.600000     213.000000  4800.000000   \n",
       "max         59.600000      21.500000     231.000000  6300.000000   \n",
       "\n",
       "       VerhaeltnisIsotope13N_12N  VerhaeltnisIsotope15N_14N  \n",
       "count                 325.000000                 325.000000  \n",
       "mean                    8.737794                 -25.690217  \n",
       "std                     0.552581                   0.790098  \n",
       "min                     7.632200                 -27.018540  \n",
       "25%                     8.302310                 -26.326010  \n",
       "50%                     8.658030                 -25.852030  \n",
       "75%                     9.180210                 -25.060200  \n",
       "max                    10.025440                 -23.890170  "
      ]
     },
     "execution_count": 17,
     "metadata": {},
     "output_type": "execute_result"
    }
   ],
   "source": [
    "df.describe()"
   ]
  },
  {
   "cell_type": "markdown",
   "id": "ddf43a38-5bba-474b-98b4-4386324e33e5",
   "metadata": {
    "deletable": true,
    "editable": true,
    "slideshow": {
     "slide_type": ""
    },
    "tags": []
   },
   "source": [
    "Antwort:"
   ]
  },
  {
   "cell_type": "markdown",
   "id": "36116ad5-5f78-4bfe-aa93-0d1441d8d0f1",
   "metadata": {
    "button_covered": true,
    "converted": true,
    "deletable": false,
    "editable": false,
    "hide_toolbar": true,
    "locked": true,
    "readonly": true,
    "slideshow": {
     "slide_type": ""
    },
    "tags": [
     "locked"
    ]
   },
   "source": [
    "---\n",
    "## Boxplot\n",
    "### Aufgabe 6: Die Verteilung aller numerischen Merkmale wird im Folgenden als Boxplot mithilfe der Methode `df.plot.box()` der pandas-Dataframes dargestellt. Ist die Darstellung für alle Merkmale in einer Abbildung sinnvoll? Weiterhin sind *Gewicht* und *Schnabellaenge* in einzelnen plots dargestellt. Erklären Sie Vor- und Nachteile der einzelnen Darstellung."
   ]
  },
  {
   "cell_type": "code",
   "execution_count": 43,
   "id": "826ee9b4-8a63-46c2-b625-f35d3ece0481",
   "metadata": {
    "deletable": true,
    "editable": true,
    "slideshow": {
     "slide_type": ""
    },
    "tags": []
   },
   "outputs": [
    {
     "data": {
      "text/plain": [
       "<Axes: >"
      ]
     },
     "execution_count": 43,
     "metadata": {},
     "output_type": "execute_result"
    },
    {
     "data": {
      "application/vnd.jupyter.widget-view+json": {
       "model_id": "08693954ac3d480b84f69bf62a5f5541",
       "version_major": 2,
       "version_minor": 0
      },
      "image/png": "[encoded data removed]",
      "text/html": [
       "\n",
       "            <div style=\"display: inline-block;\">\n",
       "                <div class=\"jupyter-widgets widget-label\" style=\"text-align: center;\">\n",
       "                    Figure\n",
       "                </div>\n",
       "                <img src='data:image/png;base64,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' width=1000.0/>\n",
       "            </div>\n",
       "        "
      ],
      "text/plain": [
       "Canvas(toolbar=Toolbar(toolitems=[('Home', 'Reset original view', 'home', 'home'), ('Back', 'Back to previous …"
      ]
     },
     "metadata": {},
     "output_type": "display_data"
    }
   ],
   "source": [
    "plt.close('all')\n",
    "df.plot.box(figsize=(10, 6))"
   ]
  },
  {
   "cell_type": "code",
   "execution_count": 42,
   "id": "090da1f2-b9cf-4a59-b587-e41d4a82b51c",
   "metadata": {
    "editable": true,
    "slideshow": {
     "slide_type": ""
    },
    "tags": []
   },
   "outputs": [
    {
     "data": {
      "application/vnd.jupyter.widget-view+json": {
       "model_id": "a5179c514a364c46820f77859c0748ad",
       "version_major": 2,
       "version_minor": 0
      },
      "image/png": "[encoded data removed]",
      "text/html": [
       "\n",
       "            <div style=\"display: inline-block;\">\n",
       "                <div class=\"jupyter-widgets widget-label\" style=\"text-align: center;\">\n",
       "                    Figure\n",
       "                </div>\n",
       "                <img src='data:image/png;base64,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' width=640.0/>\n",
       "            </div>\n",
       "        "
      ],
      "text/plain": [
       "Canvas(toolbar=Toolbar(toolitems=[('Home', 'Reset original view', 'home', 'home'), ('Back', 'Back to previous …"
      ]
     },
     "metadata": {},
     "output_type": "display_data"
    },
    {
     "data": {
      "application/vnd.jupyter.widget-view+json": {
       "model_id": "a78efd37445d48bc95f0d539ad38d785",
       "version_major": 2,
       "version_minor": 0
      },
      "image/png": "[encoded data removed]",
      "text/html": [
       "\n",
       "            <div style=\"display: inline-block;\">\n",
       "                <div class=\"jupyter-widgets widget-label\" style=\"text-align: center;\">\n",
       "                    Figure\n",
       "                </div>\n",
       "                <img src='data:image/png;base64,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' width=640.0/>\n",
       "            </div>\n",
       "        "
      ],
      "text/plain": [
       "Canvas(toolbar=Toolbar(toolitems=[('Home', 'Reset original view', 'home', 'home'), ('Back', 'Back to previous …"
      ]
     },
     "metadata": {},
     "output_type": "display_data"
    }
   ],
   "source": [
    "plt.close('all')\n",
    "\n",
    "df.plot.box(column='Schnabellaenge')\n",
    "plt.show()\n",
    "\n",
    "df.plot.box(column='Gewicht')\n",
    "plt.show()"
   ]
  },
  {
   "cell_type": "markdown",
   "id": "5b77bf4d-a18a-4e82-938e-53a5ed261982",
   "metadata": {
    "deletable": true,
    "editable": true,
    "slideshow": {
     "slide_type": ""
    },
    "tags": []
   },
   "source": [
    "Antwort:"
   ]
  },
  {
   "attachments": {},
   "cell_type": "markdown",
   "id": "504131c7-0eee-4f3f-930b-4b3c74b97695",
   "metadata": {
    "button_covered": true,
    "converted": true,
    "deletable": false,
    "editable": false,
    "hide_toolbar": true,
    "jupyter": {
     "cell_type_changeable": false,
     "editable": false,
     "source_hidden": false
    },
    "locked": true,
    "readonly": true,
    "slideshow": {
     "slide_type": ""
    },
    "tags": [
     "locked"
    ]
   },
   "source": [
    "---\n",
    "## Visualisierung\n",
    "Da die statistischen Kennzahlen alleine nicht aussagekräftig sind, ist es immer sinnvoll, sich die Daten noch einmal visualisieren zu lassen. Zur Visualisierung wird hier zusätzlich das Paket `seaborn` (kurz: `sns`) genutzt. Visualisierungen sind ebenfalls mithilfe von `pandas`, `matplotlib`, usw. möglich.\n",
    "\n",
    "Im folgenden sind die Merkmale `Insel` und `Schnabellaenge` mithilfe der Funktion `histplot()` von `seaborn` in einem Histogramm visualisiert. In beiden Fälle wurde die Anzahl der darzustellenden Balken auf 3 gesetzt (`bin=3`). \n",
    "### Aufgabe 7: Begründen Sie, ob die Wahl von `bin=3` für beide Merkmale sinnvoll ist. Ändern Sie die Anzahl und beobachten Sie die Auswirkung.\n"
   ]
  },
  {
   "cell_type": "code",
   "execution_count": 32,
   "id": "32857a17-7bf0-47e5-88ee-d41eba1496ca",
   "metadata": {
    "deletable": true,
    "editable": true,
    "slideshow": {
     "slide_type": ""
    },
    "tags": []
   },
   "outputs": [
    {
     "data": {
      "application/vnd.jupyter.widget-view+json": {
       "model_id": "1bd41a23f62b436899ff7102abbfd8b8",
       "version_major": 2,
       "version_minor": 0
      },
      "image/png": "[encoded data removed]",
      "text/html": [
       "\n",
       "            <div style=\"display: inline-block;\">\n",
       "                <div class=\"jupyter-widgets widget-label\" style=\"text-align: center;\">\n",
       "                    Figure\n",
       "                </div>\n",
       "                <img src='data:image/png;base64,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' width=640.0/>\n",
       "            </div>\n",
       "        "
      ],
      "text/plain": [
       "Canvas(toolbar=Toolbar(toolitems=[('Home', 'Reset original view', 'home', 'home'), ('Back', 'Back to previous …"
      ]
     },
     "metadata": {},
     "output_type": "display_data"
    },
    {
     "data": {
      "application/vnd.jupyter.widget-view+json": {
       "model_id": "db6d7e6f8ced4abebebbb36938935a80",
       "version_major": 2,
       "version_minor": 0
      },
      "image/png": "[encoded data removed]",
      "text/html": [
       "\n",
       "            <div style=\"display: inline-block;\">\n",
       "                <div class=\"jupyter-widgets widget-label\" style=\"text-align: center;\">\n",
       "                    Figure\n",
       "                </div>\n",
       "                <img src='data:image/png;base64,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' width=640.0/>\n",
       "            </div>\n",
       "        "
      ],
      "text/plain": [
       "Canvas(toolbar=Toolbar(toolitems=[('Home', 'Reset original view', 'home', 'home'), ('Back', 'Back to previous …"
      ]
     },
     "metadata": {},
     "output_type": "display_data"
    }
   ],
   "source": [
    "plt.close('all')\n",
    "\n",
    "plt.figure()\n",
    "sns.histplot(df['Insel'], bins=3)\n",
    "plt.show()\n",
    "\n",
    "plt.figure()\n",
    "sns.histplot(data=df['Schnabellaenge'], bins=3)\n",
    "plt.show()"
   ]
  },
  {
   "cell_type": "markdown",
   "id": "6d38dda1-a43f-4168-9f1e-21188e157e30",
   "metadata": {
    "editable": true,
    "slideshow": {
     "slide_type": ""
    },
    "tags": []
   },
   "source": [
    "Antwort:"
   ]
  },
  {
   "cell_type": "markdown",
   "id": "c9f582d5-4725-4de0-a56a-bd6c0954a311",
   "metadata": {
    "button_covered": true,
    "converted": true,
    "deletable": false,
    "editable": false,
    "hide_toolbar": true,
    "jupyter": {
     "cell_type_changeable": false,
     "editable": false,
     "source_hidden": false
    },
    "locked": true,
    "readonly": true,
    "slideshow": {
     "slide_type": ""
    },
    "tags": [
     "locked"
    ]
   },
   "source": [
    "### Aufgabe 8: Stellen Sie dar, wie die Verteilung der Pinguinarten von allen Pinguinen ist, die leichter als 4000g sind. Lassen sich Aussagen treffen?"
   ]
  },
  {
   "cell_type": "code",
   "execution_count": 33,
   "id": "788fbf66-96ee-4fba-8194-9e2bef764b2d",
   "metadata": {
    "editable": true,
    "slideshow": {
     "slide_type": ""
    },
    "tags": []
   },
   "outputs": [
    {
     "data": {
      "text/plain": [
       "<Axes: xlabel='Pinguinart', ylabel='Count'>"
      ]
     },
     "execution_count": 33,
     "metadata": {},
     "output_type": "execute_result"
    },
    {
     "data": {
      "application/vnd.jupyter.widget-view+json": {
       "model_id": "f10c074236294a5f905b9313c1de3464",
       "version_major": 2,
       "version_minor": 0
      },
      "image/png": "[encoded data removed]",
      "text/html": [
       "\n",
       "            <div style=\"display: inline-block;\">\n",
       "                <div class=\"jupyter-widgets widget-label\" style=\"text-align: center;\">\n",
       "                    Figure\n",
       "                </div>\n",
       "                <img src='data:image/png;base64,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' width=640.0/>\n",
       "            </div>\n",
       "        "
      ],
      "text/plain": [
       "Canvas(toolbar=Toolbar(toolitems=[('Home', 'Reset original view', 'home', 'home'), ('Back', 'Back to previous …"
      ]
     },
     "metadata": {},
     "output_type": "display_data"
    }
   ],
   "source": [
    "plt.close('all')\n",
    "sns.histplot(data=leichte_pinguine['Pinguinart'])"
   ]
  },
  {
   "cell_type": "markdown",
   "id": "6b93bfb4-2669-48ac-8499-92c8b18591a1",
   "metadata": {
    "editable": true,
    "slideshow": {
     "slide_type": ""
    },
    "tags": []
   },
   "source": [
    "Antwort:"
   ]
  },
  {
   "cell_type": "markdown",
   "id": "75b81ad1-1b3a-4ee9-9ddb-81261dc34584",
   "metadata": {
    "button_covered": true,
    "converted": true,
    "deletable": false,
    "editable": false,
    "hide_toolbar": true,
    "jupyter": {
     "cell_type_changeable": false,
     "editable": false,
     "source_hidden": false
    },
    "locked": true,
    "readonly": true,
    "slideshow": {
     "slide_type": ""
    },
    "tags": [
     "locked"
    ]
   },
   "source": [
    "Mithilfe von `sns.scatterplot()` lassen sich zwei Merkmale in einem Scatterplot darstellen. Mit `sns.histplot()` lassen sich zusätzlich auch gestapelte Histogramme darstellen. \n",
    "### Aufgabe 9: Vergleichen Sie beiden Visualisierungsmethoden. Welche ist besser geeignet und warum?"
   ]
  },
  {
   "cell_type": "code",
   "execution_count": 22,
   "id": "b47b3586-a1c1-436f-bbd4-70f9a81317fc",
   "metadata": {
    "editable": true,
    "slideshow": {
     "slide_type": ""
    },
    "tags": []
   },
   "outputs": [
    {
     "data": {
      "application/vnd.jupyter.widget-view+json": {
       "model_id": "8e835d483b584611a6a711c63bafb29f",
       "version_major": 2,
       "version_minor": 0
      },
      "image/png": "[encoded data removed]",
      "text/html": [
       "\n",
       "            <div style=\"display: inline-block;\">\n",
       "                <div class=\"jupyter-widgets widget-label\" style=\"text-align: center;\">\n",
       "                    Figure\n",
       "                </div>\n",
       "                <img src='data:image/png;base64,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' width=640.0/>\n",
       "            </div>\n",
       "        "
      ],
      "text/plain": [
       "Canvas(toolbar=Toolbar(toolitems=[('Home', 'Reset original view', 'home', 'home'), ('Back', 'Back to previous …"
      ]
     },
     "metadata": {},
     "output_type": "display_data"
    },
    {
     "data": {
      "application/vnd.jupyter.widget-view+json": {
       "model_id": "1a5534df2e794e648169942ea13bb937",
       "version_major": 2,
       "version_minor": 0
      },
      "image/png": "[encoded data removed]",
      "text/html": [
       "\n",
       "            <div style=\"display: inline-block;\">\n",
       "                <div class=\"jupyter-widgets widget-label\" style=\"text-align: center;\">\n",
       "                    Figure\n",
       "                </div>\n",
       "                <img src='data:image/png;base64,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' width=640.0/>\n",
       "            </div>\n",
       "        "
      ],
      "text/plain": [
       "Canvas(toolbar=Toolbar(toolitems=[('Home', 'Reset original view', 'home', 'home'), ('Back', 'Back to previous …"
      ]
     },
     "metadata": {},
     "output_type": "display_data"
    }
   ],
   "source": [
    "plt.close('all')\n",
    "\n",
    "plt.figure()\n",
    "sns.histplot(data=df, stat='count', x='Pinguinart', hue='Insel', multiple='stack')#, ax=axes[0])\n",
    "plt.show()\n",
    "\n",
    "plt.figure()\n",
    "sns.scatterplot(x=df['Pinguinart'], y=df['Insel'])\n",
    "plt.show()"
   ]
  },
  {
   "cell_type": "markdown",
   "id": "c099b7b1-35f1-4b3c-8e3c-625be66248c9",
   "metadata": {
    "editable": true,
    "slideshow": {
     "slide_type": ""
    },
    "tags": []
   },
   "source": [
    "Antwort: "
   ]
  },
  {
   "cell_type": "markdown",
   "id": "9cb9ca1b-bb29-4479-adba-7455aa6ecf78",
   "metadata": {
    "button_covered": true,
    "converted": true,
    "deletable": false,
    "editable": false,
    "hide_toolbar": true,
    "jupyter": {
     "cell_type_changeable": false,
     "editable": false,
     "source_hidden": false
    },
    "locked": true,
    "readonly": true,
    "slideshow": {
     "slide_type": ""
    },
    "tags": [
     "locked"
    ]
   },
   "source": [
    "### Aufgabe 10: Vervollständigen Sie den Code für den Scatterplot, sodass er auch die Schnabellänge in Abhängigkeit des Gewichts darstellt. Vergleichen Sie wieder die beiden Visualisierungsmethoden. Welche ist besser geeignet und warum?"
   ]
  },
  {
   "cell_type": "code",
   "execution_count": 34,
   "id": "702ce0fd-0f94-45c8-ae0f-cc37c8858e81",
   "metadata": {
    "editable": true,
    "slideshow": {
     "slide_type": ""
    },
    "tags": []
   },
   "outputs": [
    {
     "data": {
      "application/vnd.jupyter.widget-view+json": {
       "model_id": "56acc1372cc443f895f9fe8730e996cb",
       "version_major": 2,
       "version_minor": 0
      },
      "image/png": "[encoded data removed]",
      "text/html": [
       "\n",
       "            <div style=\"display: inline-block;\">\n",
       "                <div class=\"jupyter-widgets widget-label\" style=\"text-align: center;\">\n",
       "                    Figure\n",
       "                </div>\n",
       "                <img src='data:image/png;base64,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' width=640.0/>\n",
       "            </div>\n",
       "        "
      ],
      "text/plain": [
       "Canvas(toolbar=Toolbar(toolitems=[('Home', 'Reset original view', 'home', 'home'), ('Back', 'Back to previous …"
      ]
     },
     "metadata": {},
     "output_type": "display_data"
    },
    {
     "data": {
      "application/vnd.jupyter.widget-view+json": {
       "model_id": "697e98c4509843f59666243daad7cb3b",
       "version_major": 2,
       "version_minor": 0
      },
      "image/png": "[encoded data removed]",
      "text/html": [
       "\n",
       "            <div style=\"display: inline-block;\">\n",
       "                <div class=\"jupyter-widgets widget-label\" style=\"text-align: center;\">\n",
       "                    Figure\n",
       "                </div>\n",
       "                <img src='data:image/png;base64,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' width=640.0/>\n",
       "            </div>\n",
       "        "
      ],
      "text/plain": [
       "Canvas(toolbar=Toolbar(toolitems=[('Home', 'Reset original view', 'home', 'home'), ('Back', 'Back to previous …"
      ]
     },
     "metadata": {},
     "output_type": "display_data"
    }
   ],
   "source": [
    "plt.close('all')\n",
    "\n",
    "plt.figure()\n",
    "sns.histplot(data=df, stat='count', x='Schnabellaenge', hue='Gewicht', multiple='stack')\n",
    "plt.show()\n",
    "\n",
    "plt.figure()\n",
    "sns.scatterplot(x=df['Schnabellaenge'], y=df['Gewicht'])\n",
    "plt.show()"
   ]
  },
  {
   "cell_type": "markdown",
   "id": "43044e6f-6149-4304-bd9b-acde6a8fa82d",
   "metadata": {
    "deletable": true,
    "editable": true,
    "slideshow": {
     "slide_type": ""
    },
    "tags": []
   },
   "source": [
    "Antwort:"
   ]
  },
  {
   "cell_type": "markdown",
   "id": "71d77110-37cd-45a9-b8fb-ff2bbe077304",
   "metadata": {
    "button_covered": true,
    "converted": true,
    "deletable": false,
    "editable": false,
    "hide_toolbar": true,
    "jupyter": {
     "cell_type_changeable": false,
     "editable": false,
     "source_hidden": false
    },
    "locked": true,
    "readonly": true,
    "slideshow": {
     "slide_type": ""
    },
    "tags": [
     "locked"
    ]
   },
   "source": [
    "Mithilfe von `pd.plotting.scatter_matrix()` lassen sich alle numerischen Merkmale in einer Scatterplot-Matrix vergleichend darstellen. Standardmäßig werden auf der Diagnonalen die Histogramme der einzelnen Merkmale dargestellt. Können Sie schon Zusammenhänge zwischen den Merkmalen anhand der Scatterplot-Matrix erkennen?"
   ]
  },
  {
   "cell_type": "code",
   "execution_count": null,
   "id": "7461b32b-6466-4938-8bc5-55c088601ef0",
   "metadata": {
    "editable": true,
    "slideshow": {
     "slide_type": ""
    },
    "tags": []
   },
   "outputs": [],
   "source": [
    "numerical_df = df.select_dtypes(include=['number'])\n",
    "plt.close('all')\n",
    "pd.plotting.scatter_matrix(numerical_df, figsize=(8, 8));"
   ]
  },
  {
   "cell_type": "code",
   "execution_count": null,
   "id": "80191c76-bb0f-4f3e-a3cc-2876371489ae",
   "metadata": {},
   "outputs": [],
   "source": [
    "sns.pairplot(df, vars=['Schnabellaenge','Schnabelhoehe','Flossenlaenge','Gewicht','VerhaeltnisIsotope13N_12N','VerhaeltnisIsotope15N_14N'], hue='Pinguinart')"
   ]
  },
  {
   "cell_type": "markdown",
   "id": "1bae6954-e288-44c5-b9b3-92125d00fdf6",
   "metadata": {
    "button_covered": true,
    "converted": true,
    "deletable": false,
    "editable": false,
    "hide_toolbar": true,
    "locked": true,
    "readonly": true,
    "slideshow": {
     "slide_type": ""
    },
    "tags": [
     "locked"
    ]
   },
   "source": [
    "### Aufgabe 11: Beantworten Sie die nachfolgenden Fragen zu den Zusammenhängen zwischen den Merkmalen."
   ]
  },
  {
   "cell_type": "code",
   "execution_count": null,
   "id": "c0d6ce8f-523e-41f0-9e88-5f8cb3126550",
   "metadata": {
    "editable": true,
    "slideshow": {
     "slide_type": ""
    },
    "tags": []
   },
   "outputs": [],
   "source": [
    "%run src/03_Fragen.ipynb"
   ]
  },
  {
   "cell_type": "markdown",
   "id": "5ae60fa3-8eb5-4d6c-aec2-5ddbea8bfd82",
   "metadata": {
    "button_covered": true,
    "converted": true,
    "deletable": false,
    "editable": false,
    "hide_toolbar": true,
    "jupyter": {
     "cell_type_changeable": false,
     "editable": false,
     "source_hidden": false
    },
    "locked": true,
    "readonly": true,
    "slideshow": {
     "slide_type": ""
    },
    "tags": [
     "locked"
    ]
   },
   "source": [
    "---\n",
    "## Korrelation\n",
    "Um die in der Scatterplot-Matrix erahnbaren Zusammenhänge zwischen den Merkmalen weiter zu untersuchen können Korrelationen untersucht werden. Sie können quantitativ auf einen Zusammenhang zwischen Merkmalen hinweisen."
   ]
  },
  {
   "cell_type": "markdown",
   "id": "bd79b6f7-bde0-42ef-8250-8fb78bee1d54",
   "metadata": {
    "button_covered": true,
    "converted": true,
    "deletable": false,
    "editable": false,
    "hide_toolbar": true,
    "jupyter": {
     "cell_type_changeable": false,
     "editable": false,
     "source_hidden": false
    },
    "locked": true,
    "readonly": true,
    "slideshow": {
     "slide_type": ""
    },
    "tags": [
     "locked"
    ]
   },
   "source": [
    "### Aufgabe 12: Untersuchen Sie den Datensatz auf Korrelationen zwischen den einzelnen Merkmalen mithilfe der `pandas`-Methode `df.corr()`. \n",
    "Entscheiden Sie auch, welchen Korrelationskoeffizienten Sie berechnet haben wollen (`method=\"pearson\"`/`method=\"spearman\"`).\n",
    "\n",
    "**Achtung**: Korrelationen zwischen den Merkmalen können mithilfe von `df.corr()` nur zwischen numerischen Merkmalen berechnet werden, daher muss `numeric_only=True` gesetzt werden. "
   ]
  },
  {
   "cell_type": "code",
   "execution_count": null,
   "id": "54365e54-6355-45ea-ba16-7c63c64cd194",
   "metadata": {
    "editable": true,
    "slideshow": {
     "slide_type": ""
    },
    "tags": []
   },
   "outputs": [],
   "source": [
    "korrelationen = df.corr(method='pearson', numeric_only=True)\n",
    "display(korrelationen)"
   ]
  },
  {
   "cell_type": "markdown",
   "id": "2df60eab-4877-4bb0-8b70-4e8010722fa6",
   "metadata": {
    "button_covered": true,
    "converted": true,
    "deletable": false,
    "editable": false,
    "hide_toolbar": true,
    "jupyter": {
     "cell_type_changeable": false,
     "editable": false,
     "source_hidden": false
    },
    "locked": true,
    "readonly": true,
    "slideshow": {
     "slide_type": ""
    },
    "tags": [
     "locked"
    ]
   },
   "source": [
    "Mithilfe der Funktion `heatmap()` von seaborn lassen sich die Korrelationen in einer Korrelationsmatrix darstellen."
   ]
  },
  {
   "cell_type": "code",
   "execution_count": null,
   "id": "8bb40537-77e0-4174-bf88-2b1f51a013da",
   "metadata": {
    "deletable": true,
    "editable": true,
    "slideshow": {
     "slide_type": ""
    },
    "tags": []
   },
   "outputs": [],
   "source": [
    "plt.figure(figsize=(10, 8))\n",
    "sns.heatmap(korrelationen, cmap=\"Blues\", annot=True, fmt=\".2f\")\n",
    "plt.title(\"Korrelation zwischen den Merkmalen\", size=16)\n",
    "plt.show()"
   ]
  },
  {
   "cell_type": "markdown",
   "id": "e653cdaa-414c-48e4-9f63-92c6e3d8e774",
   "metadata": {
    "button_covered": true,
    "converted": true,
    "deletable": false,
    "editable": false,
    "hide_toolbar": true,
    "jupyter": {
     "cell_type_changeable": false,
     "editable": false,
     "source_hidden": false
    },
    "locked": true,
    "readonly": true,
    "slideshow": {
     "slide_type": ""
    },
    "tags": [
     "locked"
    ]
   },
   "source": [
    "### Aufgabe 13: Welche Merkmale haben einen besonders starken Zusammenhang. Welche haben einen schwachen Zusammenhang? Sind diese Korrelationen Ihrer Meinung nach nachvollziehbar/begründbar? Deckt sich das mit den Erkenntnissen aus der Scatterplot-Matrix?"
   ]
  },
  {
   "cell_type": "markdown",
   "id": "7325944f-a822-4dc6-8858-5c80d428f74e",
   "metadata": {
    "deletable": true,
    "editable": true,
    "slideshow": {
     "slide_type": ""
    },
    "tags": []
   },
   "source": [
    "Antwort:"
   ]
  },
  {
   "cell_type": "markdown",
   "id": "08d4e53a-d6e3-4973-bdb1-d7b60429a71a",
   "metadata": {
    "button_covered": true,
    "converted": true,
    "deletable": false,
    "editable": false,
    "hide_toolbar": true,
    "jupyter": {
     "cell_type_changeable": false,
     "editable": false,
     "source_hidden": false
    },
    "locked": true,
    "readonly": true,
    "slideshow": {
     "slide_type": ""
    },
    "tags": [
     "locked"
    ]
   },
   "source": [
    "## Anwendung auf einem neuen Datensatz\n",
    "Wenden Sie nun die vorgestellten Methoden eigenständig auf einem neuen Datensatz an. Bearbeiten Sie dafür die nachfolgenden Aufgaben.\n",
    "\n",
    "### Aufgabe 14: Laden Sie den neuen Datensatz `fahrradverleih.csv` und speichern ihn in einem neuen Dataframe."
   ]
  },
  {
   "cell_type": "code",
   "execution_count": null,
   "id": "d0785a93-7f9d-4749-8cc5-3b25056d39fa",
   "metadata": {
    "editable": true,
    "slideshow": {
     "slide_type": ""
    },
    "tags": []
   },
   "outputs": [],
   "source": [
    "df_rad = pd.read_csv(PATH + 'fahrradverleih.csv')"
   ]
  },
  {
   "cell_type": "markdown",
   "id": "fce01211-6480-4335-8c86-cc51317a02d3",
   "metadata": {
    "button_covered": true,
    "converted": true,
    "deletable": false,
    "editable": false,
    "hide_toolbar": true,
    "jupyter": {
     "cell_type_changeable": false,
     "editable": false,
     "source_hidden": false
    },
    "locked": true,
    "readonly": true,
    "slideshow": {
     "slide_type": ""
    },
    "tags": [
     "locked"
    ]
   },
   "source": [
    "### Aufgabe 15: Was sind für Informationen/Merkmale in dem Datensatz enthalten. Für welche Fragstellung(en) könnte dieser Datensatz später genutzt werden?"
   ]
  },
  {
   "cell_type": "code",
   "execution_count": null,
   "id": "14df6e17-83ce-4469-afde-a08840bdd154",
   "metadata": {
    "editable": true,
    "slideshow": {
     "slide_type": ""
    },
    "tags": []
   },
   "outputs": [],
   "source": [
    "display(df_rad.head())"
   ]
  },
  {
   "cell_type": "markdown",
   "id": "c7964c03-ef86-49cd-908c-e660bda136b2",
   "metadata": {
    "editable": true,
    "slideshow": {
     "slide_type": ""
    },
    "tags": []
   },
   "source": [
    "Antwort:"
   ]
  },
  {
   "cell_type": "markdown",
   "id": "4e791654-83e0-47b5-9423-b20939217b32",
   "metadata": {
    "button_covered": true,
    "converted": true,
    "deletable": false,
    "editable": false,
    "hide_toolbar": true,
    "jupyter": {
     "cell_type_changeable": false,
     "editable": false,
     "source_hidden": false
    },
    "locked": true,
    "readonly": true,
    "slideshow": {
     "slide_type": ""
    },
    "tags": [
     "locked"
    ]
   },
   "source": [
    "### Aufgabe 16: Was haben die Spalten für Datentypen?"
   ]
  },
  {
   "cell_type": "code",
   "execution_count": null,
   "id": "625c4f8a-92f7-4456-8cb8-4f6e64aea5dd",
   "metadata": {
    "editable": true,
    "slideshow": {
     "slide_type": ""
    },
    "tags": []
   },
   "outputs": [],
   "source": [
    "df_rad.info()"
   ]
  },
  {
   "cell_type": "markdown",
   "id": "db194f42-e2c6-4218-b52b-3aa37af53a64",
   "metadata": {
    "button_covered": true,
    "converted": true,
    "deletable": false,
    "editable": false,
    "hide_toolbar": true,
    "jupyter": {
     "cell_type_changeable": false,
     "editable": false,
     "source_hidden": false
    },
    "locked": true,
    "readonly": true,
    "slideshow": {
     "slide_type": ""
    },
    "tags": [
     "locked"
    ]
   },
   "source": [
    "### Aufgabe 17: Wie viele Zeilen hat der Datensatz?"
   ]
  },
  {
   "cell_type": "code",
   "execution_count": null,
   "id": "afe124b3-8027-41c7-b049-01b5b025c14d",
   "metadata": {
    "editable": true,
    "slideshow": {
     "slide_type": ""
    },
    "tags": []
   },
   "outputs": [],
   "source": [
    "print('Anzahl der Zeilen:', df_rad.shape[0])"
   ]
  },
  {
   "cell_type": "markdown",
   "id": "24d761ab-1d8e-455b-8a2b-104ec44a8388",
   "metadata": {
    "button_covered": true,
    "converted": true,
    "deletable": false,
    "editable": false,
    "hide_toolbar": true,
    "jupyter": {
     "cell_type_changeable": false,
     "editable": false,
     "source_hidden": false
    },
    "locked": true,
    "readonly": true,
    "slideshow": {
     "slide_type": ""
    },
    "tags": [
     "locked"
    ]
   },
   "source": [
    "### Aufgabe 18: Lassen Sie sich die Durchschnittstemperatur für Oktober ausgeben."
   ]
  },
  {
   "cell_type": "code",
   "execution_count": null,
   "id": "3ac5c5d8-6798-4aad-ae37-6e09a7117a4a",
   "metadata": {
    "editable": true,
    "slideshow": {
     "slide_type": ""
    },
    "tags": []
   },
   "outputs": [],
   "source": [
    "temp_dez = df_rad[df_rad['Monat']=='Oktober']\n",
    "durchschnitts_temp_dez = temp_dez['Temperatur'].mean()\n",
    "print(durchschnitts_temp_dez)"
   ]
  },
  {
   "cell_type": "markdown",
   "id": "8ea4e313-b5d0-46b6-912f-ae45efd7f8a4",
   "metadata": {
    "button_covered": true,
    "converted": true,
    "deletable": false,
    "editable": false,
    "hide_toolbar": true,
    "jupyter": {
     "cell_type_changeable": false,
     "editable": false,
     "source_hidden": false
    },
    "locked": true,
    "readonly": true,
    "slideshow": {
     "slide_type": ""
    },
    "tags": [
     "locked"
    ]
   },
   "source": [
    "### Aufgabe 19: Lassen Sie sich die statistischen Kennzahlen für den Datensatz ausgeben. Vergleichen Sie die `min`/`max`-Werte der gefühlten und gemessenen Temperatur."
   ]
  },
  {
   "cell_type": "code",
   "execution_count": null,
   "id": "db824530-5fac-4eec-9df0-83f179f3bb68",
   "metadata": {
    "editable": true,
    "slideshow": {
     "slide_type": ""
    },
    "tags": []
   },
   "outputs": [],
   "source": [
    "df_rad.describe()"
   ]
  },
  {
   "cell_type": "markdown",
   "id": "e5473a52-768c-4710-8404-223f934dac8d",
   "metadata": {
    "button_covered": true,
    "converted": true,
    "deletable": false,
    "editable": false,
    "hide_toolbar": true,
    "jupyter": {
     "cell_type_changeable": false,
     "editable": false,
     "source_hidden": false
    },
    "locked": true,
    "readonly": true,
    "slideshow": {
     "slide_type": ""
    },
    "tags": [
     "locked"
    ]
   },
   "source": [
    "### Aufgabe 20: Visualisieren Sie die gefühlte und die gemessene Temperatur in einem oder zwei einzelnen Boxplots. Wählen Sie die Methode, die sie am geeignetsten finden und begründen Sie."
   ]
  },
  {
   "cell_type": "code",
   "execution_count": null,
   "id": "59877294-acf9-40c0-9522-03e80a967983",
   "metadata": {
    "editable": true,
    "slideshow": {
     "slide_type": ""
    },
    "tags": []
   },
   "outputs": [],
   "source": [
    "df_rad[['GefuehlteTemperatur', 'Temperatur']].plot.box()"
   ]
  },
  {
   "cell_type": "markdown",
   "id": "d5a8ab9e-a28c-4c7d-b6e1-ff7b51bba0a5",
   "metadata": {
    "button_covered": true,
    "converted": true,
    "deletable": false,
    "editable": false,
    "hide_toolbar": true,
    "jupyter": {
     "cell_type_changeable": false,
     "editable": false,
     "source_hidden": false
    },
    "locked": true,
    "readonly": true,
    "slideshow": {
     "slide_type": ""
    },
    "tags": [
     "locked"
    ]
   },
   "source": [
    "### Aufgabe 21: Jemand möchte die Daten zweckentfremden und schauen, welche Monate die besten sind für einen Urlaub. Gute Monate sind für die Person Monate ohne Schnee/Gewitter/Regen−Nebel. Ein paar Wolken sind toleriert. Erstellen Sie für diese Person eine Visualisierung, wo diese Information schnell abgelesen werden können (z.B. gestapeltes Histogramm)."
   ]
  },
  {
   "cell_type": "code",
   "execution_count": null,
   "id": "e7f8649d-fa33-46b2-8b82-d3ba47fb5c69",
   "metadata": {},
   "outputs": [],
   "source": [
    "plt.close('all')\n",
    "sns.boxplot(data =df_rad[['Monat', 'Wettersituation']])"
   ]
  },
  {
   "cell_type": "code",
   "execution_count": null,
   "id": "2984d636-b06b-4d3c-8714-b763a6afb9b1",
   "metadata": {
    "editable": true,
    "slideshow": {
     "slide_type": ""
    },
    "tags": []
   },
   "outputs": [],
   "source": [
    "plt.close('all')\n",
    "sns.histplot(data=df_rad, stat='count', x='Monat', hue='Wettersituation', multiple='stack')\n",
    "#plt.close('all')\n",
    "#sns.histplot(data=df_rad, stat='count', x='Wettersituation', hue='Arbeitstag', multiple='stack')"
   ]
  },
  {
   "cell_type": "markdown",
   "id": "708f92ed-aaa2-4981-a94d-4c0297ad853d",
   "metadata": {
    "button_covered": true,
    "converted": true,
    "deletable": false,
    "editable": false,
    "hide_toolbar": true,
    "jupyter": {
     "cell_type_changeable": false,
     "editable": false,
     "source_hidden": false
    },
    "locked": true,
    "readonly": true,
    "slideshow": {
     "slide_type": ""
    },
    "tags": [
     "locked"
    ]
   },
   "source": [
    "### Aufgabe 22: Jemand anderes behauptet, er leiht sich nur noch Fahrräder, wenn es kalt ist, da hier die Nachfrage nicht so hoch ist, bzw. nicht so viele Fahrräder verliehen werden und sie dann nicht so lange anstehen muss. Welcher statistische Parameter könnte untersucht werden, um die Behauptung zu überprüfen? Lassen Sie diesen berechnen und erstellen Sie auch einen Scatterplot. \n"
   ]
  },
  {
   "cell_type": "code",
   "execution_count": null,
   "id": "f8c6a858-0e56-4e9b-870a-4e516b26c95a",
   "metadata": {
    "editable": true,
    "slideshow": {
     "slide_type": ""
    },
    "tags": []
   },
   "outputs": [],
   "source": [
    "plt.close('all')\n",
    "plt.figure(figsize=(10, 8))\n",
    "sns.heatmap(df_rad.corr(method='pearson', numeric_only=True), cmap=\"Blues\", annot=True, fmt=\".2f\")\n",
    "plt.title(\"Korrelation zwischen den Merkmalen\", size=16)\n",
    "plt.show()"
   ]
  },
  {
   "cell_type": "code",
   "execution_count": null,
   "id": "e2414d5a-e579-4658-81b6-7e51fe084645",
   "metadata": {
    "editable": true,
    "slideshow": {
     "slide_type": ""
    },
    "tags": []
   },
   "outputs": [],
   "source": [
    "plt.close('all')\n",
    "sns.scatterplot(x=df_rad['AnzahlVerlieheneFahrraeder'], y=df_rad['Temperatur'])"
   ]
  },
  {
   "cell_type": "markdown",
   "id": "1ac25f25-9049-4fab-aeb0-3f7b4487faf6",
   "metadata": {
    "button_covered": true,
    "converted": true,
    "deletable": false,
    "editable": false,
    "hide_toolbar": true,
    "jupyter": {
     "cell_type_changeable": false,
     "editable": false,
     "source_hidden": false
    },
    "locked": true,
    "readonly": true,
    "slideshow": {
     "slide_type": ""
    },
    "tags": [
     "locked"
    ]
   },
   "source": [
    "---\n",
    "\n",
    "<a rel=\"license\" href=\"http://creativecommons.org/licenses/by-nc-nd/4.0/\"><img alt=\"Creative Commons Lizenzvertrag\" style=\"border-width:0\" src=\"https://i.creativecommons.org/l/by-nc-nd/4.0/88x31.png\" /></a><br /><span xmlns:dct=\"http://purl.org/dc/terms/\" property=\"dct:title\">Die Übungsserie begleitend zum AI4ALL-Kurs</span> der <span xmlns:cc=\"http://creativecommons.org/ns#\" property=\"cc:attributionName\">EAH Jena</span> ist lizenziert unter einer <a rel=\"license\" href=\"http://creativecommons.org/licenses/by-nc-nd/4.0/\">Creative Commons Namensnennung - Nicht kommerziell - Keine Bearbeitungen 4.0 International Lizenz</a>.\n",
    "\n",
    "Der AI4ALL-Kurs entsteht im Rahmen des Projekts MoVeKI2EAH. Das Projekt MoVeKI2EAH wird durch das BMBF (Bundesministerium für Bildung und Forschung) und den Freistaat Thüringen im Rahmen der Bund-Länder-Initiative zur Förderung von Künstlicher Intelligenz in der Hochschulbildung gefördert (12/2021 bis 11/2025, Föderkennzeichen 16DHBKI081)."
   ]
  }
 ],
 "metadata": {
  "kernelspec": {
   "display_name": "Python 3 (ipykernel)",
   "language": "python",
   "name": "python3"
  },
  "language_info": {
   "codemirror_mode": {
    "name": "ipython",
    "version": 3
   },
   "file_extension": ".py",
   "mimetype": "text/x-python",
   "name": "python",
   "nbconvert_exporter": "python",
   "pygments_lexer": "ipython3",
   "version": "3.10.10"
  }
 },
 "nbformat": 4,
 "nbformat_minor": 5
}
