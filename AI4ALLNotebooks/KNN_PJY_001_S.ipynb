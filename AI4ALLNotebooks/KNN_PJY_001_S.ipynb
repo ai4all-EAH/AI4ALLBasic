{
 "cells": [
  {
   "cell_type": "markdown",
   "metadata": {},
   "source": [
    "<img src=\"./src/logo.png\" width=\"250\">"
   ]
  },
  {
   "cell_type": "markdown",
   "metadata": {},
   "source": [
    "**Baustein:** Künstliche Neuronale Netze  **Subbaustein:** Grundlagen  $\\rightarrow$ **Übungsserie**\n",
    "\n",
    "**Version:** 1.0, **Lizenz:** <a rel=\"license\" href=\"http://creativecommons.org/licenses/by-nc-nd/4.0/\">CC BY-NC-ND 4.0</a>\n",
    "\n",
    "***\n"
   ]
  },
  {
   "cell_type": "markdown",
   "metadata": {},
   "source": [
    "Notwendige `import`-Anweisungen für dieses Notebook"
   ]
  },
  {
   "cell_type": "code",
   "execution_count": null,
   "metadata": {},
   "outputs": [],
   "source": [
    "import pandas as pd\n",
    "import sklearn\n",
    "from sklearn.neural_network import MLPClassifier\n",
    "from sklearn.model_selection import train_test_split, cross_validate\n",
    "from sklearn.metrics import confusion_matrix, ConfusionMatrixDisplay, get_scorer, get_scorer_names\n",
    "from sklearn.preprocessing import StandardScaler"
   ]
  },
  {
   "cell_type": "markdown",
   "metadata": {},
   "source": [
    "# Teil 1: Ein Einführungsbeispiel"
   ]
  },
  {
   "cell_type": "markdown",
   "metadata": {},
   "source": [
    "----\n",
    "\n",
    "### Aufgabe 1: Daten laden\n",
    "\n",
    "Laden Sie die Datei `data/ANNBsp1.csv` in einen Pandas Data Frame namens `daten` und stellen Sie die Werte dar."
   ]
  },
  {
   "cell_type": "code",
   "execution_count": null,
   "metadata": {},
   "outputs": [],
   "source": [
    "# Ihr Code"
   ]
  },
  {
   "cell_type": "markdown",
   "metadata": {
    "editable": true,
    "slideshow": {
     "slide_type": ""
    },
    "tags": []
   },
   "source": [
    "Wie wir in der Papierübung gesehen haben, sind die Daten linear separierbar, und wir haben ein Perzeptron gesehen, das sie klassifiziert.\n",
    "\n",
    "Neuronale Netze in `scikit-learn` werden im `MLPClassifier` (Multilayer-Perzeptron) implementiert. Diese Klasse eignet sich nicht zum Implementation großer Projekte, für einfache Beispiele wir hier in der Übung ist sie ausreichende performanant.\n",
    "\n",
    "Ein `MLPClassifier` hat mindestens einen Hidden Layer mit einem Neuron / Perzeptron.\n",
    " \n",
    "<small>**Hinweis**: In `scikit-learn` wird kein Perzeptron mit einer Aktivierungsfunktion zur Verfügung gestellt, wie wir es in der Vorlesung kennengelernt haben. (Das \"Perzeptrion\", das zur Verfügung gestellt wird, ist ein spezieller Aufruf der Erzeugung einer \"Support Verctor Machine\".</small> "
   ]
  },
  {
   "cell_type": "markdown",
   "metadata": {
    "editable": true,
    "slideshow": {
     "slide_type": ""
    },
    "tags": []
   },
   "source": [
    "Generelles Vorgehen, um den `MLPClassifier` zu lernen:\n",
    "\n",
    "1. Trennung von Features/Merkmalen und Klasse:\n",
    "    1. Sie erzeugen einen Pandas Data Frame mit den $x$- und $y$-Werten, den Features, als `X`.\n",
    "    2. Sie erzeugen eine Pandas Series `y` mit `value` als Klassenvariable / Target.\n",
    "2. Sie erzeugen ein Objekt der Klasse `MLPClassifier` mit den Modell-relevanten Parametern.\n",
    "3. Sie trainieren den Klassifier mit den Trainigsdaten.\n",
    "\n",
    "Im vorliegenden Beispiel kennen wir die Gesamtheit der Daten (insgesamt vier Datenpunkte) und trainieren das Modell für alle Daten."
   ]
  },
  {
   "cell_type": "code",
   "execution_count": null,
   "metadata": {},
   "outputs": [],
   "source": [
    "# Schritt 1.1 und 1.2\n",
    "X=daten.copy()\n",
    "y=X.pop('value')\n",
    "\n",
    "# Schritt 2 \n",
    "model=MLPClassifier(random_state=10)\n",
    "\n",
    "#Schritt 3\n",
    "model.fit(X,y)"
   ]
  },
  {
   "cell_type": "markdown",
   "metadata": {},
   "source": [
    "Das Training ist nicht erfolgreich, da das Modell nicht konvergiert ist.\n",
    "\n",
    "Um dies zu verändern, müssen Standardparameter (Hyperparameter) anpassen. Diese betreffen u.a. die Architektur, die Aktivierungsfunktion und das Training.\n",
    "\n",
    "\n",
    "----\n",
    "\n",
    "### Aufgabe 2: Standardwerte für Hyperparameter\n",
    "\n",
    "Gehen Sie auf die Seiten der [Dokumentation](https://scikit-learn.org/stable/modules/generated/sklearn.neural_network.MLPClassifier.html)\n",
    "und suchen Sie die Standardwerte für die folgenden Parameter:\n",
    "\n",
    "1. Wie viele hidden Layer gibt es?\n",
    "2. Wie groß ist die Anzahl der Neuronen in diesen Layern?\n",
    "3. Was ist die Aktivierungsfunktion?\n",
    "4. Nach wievielen Epochen (Iterations) wird das Training abgebrochen?"
   ]
  },
  {
   "cell_type": "markdown",
   "metadata": {},
   "source": [
    "**Ihre Antworten:**\n",
    "\n",
    "Achitektur:\n",
    "\n",
    "- Anzahl Hidden Layer:\n",
    "\n",
    "- Anzahl Neuronen pro Hidden Layer:\n",
    "\n",
    "Aktivierungsfunktion:\n",
    "\n",
    "Training: \n",
    "\n",
    "- Maximale Anzahl Epochen / Iterations:\n"
   ]
  },
  {
   "cell_type": "markdown",
   "metadata": {},
   "source": [
    "----\n",
    "Wir erhöhen nun die Anzahl der Epochen, indem Sie den Wert `max_iter` setzen, auf einen Wert, bei dem das Training erfolgreich ist."
   ]
  },
  {
   "cell_type": "code",
   "execution_count": null,
   "metadata": {},
   "outputs": [],
   "source": [
    "# Schritt 2 # setzen Sie hier einen hoch genugen Wert ein\n",
    "model=MLPClassifier(random_state=10, max_iter=800)\n",
    "model.fit(X,y)"
   ]
  },
  {
   "cell_type": "markdown",
   "metadata": {},
   "source": [
    "mit `n_iter_` können wir die Anzahl der benötigten Epochen anzeigen:"
   ]
  },
  {
   "cell_type": "code",
   "execution_count": null,
   "metadata": {},
   "outputs": [],
   "source": [
    "model.n_iter_"
   ]
  },
  {
   "cell_type": "markdown",
   "metadata": {},
   "source": [
    "Nun können wir das trainierte Modell anwenden, um die Daten vorherzusagen, und die Genauigkeit zu bestimmen. "
   ]
  },
  {
   "cell_type": "code",
   "execution_count": null,
   "metadata": {},
   "outputs": [],
   "source": [
    "ypred=model.predict(X)\n",
    "print(\"Die Vorhersagen:\",ypred)\n",
    "print('Accuracy:',model.score(X,y))\n"
   ]
  },
  {
   "cell_type": "markdown",
   "metadata": {},
   "source": [
    "----\n",
    "\n",
    "### Aufgabe 3: Architektur anpassen\n",
    "\n",
    "Das erlernte Netz ist für dieses einfache Problem natürlich viel zu groß. Verändern Sie die Architektur, also die Anzahl Neuronen in der Inneren Schicht (`hidden_layer_sizes`) und bestimmen Sie die Genauigkeit des trainierten Netzes. Versuchen Sie, ein möglichst kleines Netz abzubilden, ohne dass die Genauigkeit leidet. "
   ]
  },
  {
   "cell_type": "code",
   "execution_count": null,
   "metadata": {},
   "outputs": [],
   "source": [
    "# Ihr Code"
   ]
  },
  {
   "cell_type": "markdown",
   "metadata": {},
   "source": [
    "Die Werte der Gewichte und der Intercepts können Sie mit folgendem Code ansehen:"
   ]
  },
  {
   "cell_type": "code",
   "execution_count": null,
   "metadata": {},
   "outputs": [],
   "source": [
    "print(\"Weights:\",model.coefs_)\n",
    "print(\"Intercept:\",model.intercepts_)\n"
   ]
  },
  {
   "cell_type": "markdown",
   "metadata": {},
   "source": [
    "----\n",
    "\n",
    "### Aufgabe 4: Netzwerk skizzieren\n",
    "\n",
    "Machen Sie eine Skizze des Netzes und schreiben die Werte (natürlich gerundet) in die Skizze.\n"
   ]
  },
  {
   "cell_type": "markdown",
   "metadata": {},
   "source": [
    "**Hinweis:** Beim Trainieren von Neuronalen Netze erhalten Gewichte und Bias einen initialen Wert. Durch den Parameter `random_state` kann dieser initiale Wert beeinflusst werden. \n",
    "\n",
    "----\n",
    "### Aufgabe 5: Netzwerk für XOR lernen\n",
    "\n",
    "Laden Sie die `XOR`-Daten aus `data/ANNBsp2.csv` und lösen Sie dieses Problem mit einem Netzwerk mit drei Neuronen im Hidden Layer. Hierfür müssen Sie verschiedene Werte von `random_state` testen.\n",
    "  \n"
   ]
  },
  {
   "cell_type": "code",
   "execution_count": null,
   "metadata": {},
   "outputs": [],
   "source": [
    "# Ihr Code"
   ]
  },
  {
   "cell_type": "markdown",
   "metadata": {},
   "source": [
    "---- \n",
    "### Aufgabe 6: Fragen zu Teil 1\n",
    "\n",
    "Beantworten Sie die folgenden Fragen zu Teil 1."
   ]
  },
  {
   "cell_type": "code",
   "execution_count": 1,
   "metadata": {},
   "outputs": [
    {
     "data": {
      "application/vnd.jupyter.widget-view+json": {
       "model_id": "9037e742a0774a77a13b9dd9c96bb954",
       "version_major": 2,
       "version_minor": 0
      },
      "text/plain": [
       "VBox(children=(Output(), RadioButtons(layout=Layout(width='auto'), options=(('activation', 0), ('hidden_layer_…"
      ]
     },
     "metadata": {},
     "output_type": "display_data"
    },
    {
     "data": {
      "application/vnd.jupyter.widget-view+json": {
       "model_id": "75d1890f4e9a45fc9c2b0bdd39c5b5b7",
       "version_major": 2,
       "version_minor": 0
      },
      "text/plain": [
       "VBox(children=(Output(), RadioButtons(layout=Layout(width='auto'), options=(('activation', 0), ('hidden_layer_…"
      ]
     },
     "metadata": {},
     "output_type": "display_data"
    },
    {
     "data": {
      "application/vnd.jupyter.widget-view+json": {
       "model_id": "f2c94875396e457ea751a9dbee23c8b1",
       "version_major": 2,
       "version_minor": 0
      },
      "text/plain": [
       "VBox(children=(Output(), RadioButtons(layout=Layout(width='auto'), options=(('activation', 0), ('hidden_layer_…"
      ]
     },
     "metadata": {},
     "output_type": "display_data"
    },
    {
     "data": {
      "application/vnd.jupyter.widget-view+json": {
       "model_id": "31492b21686e4d22a96b490dc1f60478",
       "version_major": 2,
       "version_minor": 0
      },
      "text/plain": [
       "VBox(children=(Output(), RadioButtons(layout=Layout(width='auto'), options=(('activation', 0), ('hidden_layer_…"
      ]
     },
     "metadata": {},
     "output_type": "display_data"
    },
    {
     "data": {
      "application/vnd.jupyter.widget-view+json": {
       "model_id": "d7a515c2dd424419bf928a9c88e0db26",
       "version_major": 2,
       "version_minor": 0
      },
      "text/plain": [
       "VBox(children=(Output(), RadioButtons(layout=Layout(width='auto'), options=(('Falsch', 0), ('Richtig', 1)), va…"
      ]
     },
     "metadata": {},
     "output_type": "display_data"
    },
    {
     "data": {
      "application/vnd.jupyter.widget-view+json": {
       "model_id": "f8409f06df7b4b298ae667f5d20c889d",
       "version_major": 2,
       "version_minor": 0
      },
      "text/plain": [
       "VBox(children=(Output(), RadioButtons(layout=Layout(width='auto'), options=(('Ja', 0), ('Nein', 1)), value=0),…"
      ]
     },
     "metadata": {},
     "output_type": "display_data"
    },
    {
     "data": {
      "application/vnd.jupyter.widget-view+json": {
       "model_id": "c158b0ac289c4cd4aec2ef47fa22c54a",
       "version_major": 2,
       "version_minor": 0
      },
      "text/plain": [
       "VBox(children=(Output(), RadioButtons(layout=Layout(width='auto'), options=(('Ja', 0), ('Nein', 1)), value=0),…"
      ]
     },
     "metadata": {},
     "output_type": "display_data"
    }
   ],
   "source": [
    "%run src/07_KNN_PJY_001_Fragen_01.ipynb"
   ]
  },
  {
   "cell_type": "markdown",
   "metadata": {},
   "source": [
    "# Teil 2: Das Cancer Datenset"
   ]
  },
  {
   "cell_type": "markdown",
   "metadata": {},
   "source": [
    "In diesem Teil arbeiten wir mit dem [Wisconsin Breast Cancer Datensatz](https://archive.ics.uci.edu/dataset/17/breast+cancer+wisconsin+diagnostic). \n",
    "\n",
    "31 numerische Merkmale wurden aus Bildern extrahiert. Das Merkmal `diagnosis` ist die Klasse: `M` (malign) ist ein bösartiger Tumor, `B` (benign) ein gutartiger."
   ]
  },
  {
   "cell_type": "markdown",
   "metadata": {},
   "source": [
    "----\n",
    "### Aufgabe 7: Daten laden und kennenlernen\n",
    "\n",
    "- Laden Sie die Daten aus `data/cancer.csv`.\n",
    "- Sehen Sie sich die Information über die Spalten mit `info()` sowie die Zusammenfassung der numerischen Werte mit `describe()` an.\n",
    "- Geben Sie Anzahl Datenpunkte für die beiden verschiedenen Werte der Diagnose aus (`value_counts()`) und beantworten Sie untenstehende Frage nach der Ausgeglichenheit. "
   ]
  },
  {
   "cell_type": "code",
   "execution_count": null,
   "metadata": {},
   "outputs": [],
   "source": [
    "# Ihr Code"
   ]
  },
  {
   "cell_type": "code",
   "execution_count": null,
   "metadata": {},
   "outputs": [],
   "source": [
    "%run src/07_KNN_PJY_001_Fragen_02.ipynb"
   ]
  },
  {
   "cell_type": "markdown",
   "metadata": {},
   "source": [
    "## Klassifikation **ohne** Trennung von Test und Trainingsdaten zur Überprüfung der Machbarkeit\n",
    "\n",
    "Um prinzipiell zu sehen, ob sich ein Neuronales Netz eignen könnte, verwenden wir in einem ersten Schritt ein Neuronales Netz ohne spezifische Parameter zu setzen, um die Daten zu klassifizieren.\n",
    "\n"
   ]
  },
  {
   "cell_type": "markdown",
   "metadata": {},
   "source": [
    "----\n",
    "### Aufgabe 8: ANN für Cancer Daten \n",
    "\n",
    "Gehen Sie wie oben vor, um ein Neuronales Netz zu trainieren. Vergessen Sie nicht, das Merkmal `id` aus den Daten zu entfernen. "
   ]
  },
  {
   "cell_type": "code",
   "execution_count": null,
   "metadata": {},
   "outputs": [],
   "source": [
    "# Ihr Code\n"
   ]
  },
  {
   "cell_type": "markdown",
   "metadata": {},
   "source": [
    "----\n",
    "### Aufgabe 9: Confusion Matrix\n",
    "\n",
    "Stellen Sie die Confusion Matrix dar.\n",
    "```python\n",
    "cm=confusion_matrix(y_test,y_predict)\n",
    "print(cm)\n",
    "```\n",
    "\n",
    "Mit dem folgenden Code Segment, können Sie diese graphisch darstellen:\n",
    "\n",
    "```python\n",
    "cmd = ConfusionMatrixDisplay(cm, display_labels=['B','M'])\n",
    "cmd.plot()\n",
    "```\n"
   ]
  },
  {
   "cell_type": "code",
   "execution_count": null,
   "metadata": {},
   "outputs": [],
   "source": [
    "# Ihr Code"
   ]
  },
  {
   "cell_type": "markdown",
   "metadata": {},
   "source": [
    "## Klassifikation: Trennung von Trainings und Test-Daten"
   ]
  },
  {
   "cell_type": "markdown",
   "metadata": {},
   "source": [
    "Um die Güte eines Models abschätzen zu können, müssen wir das Model mit Daten testen, die nicht für das Training genutzt werden. Wir teilen die Daten also in Trainings- und Testdaten auf. Hierzu nutzen wir\n",
    "\n",
    "```python\n",
    "X_train,X_test,y_train,y_test=train_test_split(X,y,test_size=..., random_state=...)\n",
    "```\n",
    "\n",
    "Durch Setzen des Parameters `random_state` stellen wir sicher, dass der Split für Tests mit anderen Modellen wiederholt werden kann."
   ]
  },
  {
   "cell_type": "markdown",
   "metadata": {},
   "source": [
    "----\n",
    "### Aufgabe 10: ANN für Cancer Daten und Bestimmung des Gütemaßes mit Testdaten\n",
    "\n",
    "1. Teilen Sie die Daten in ein Trainings- und eine Testdatenmenge auf. Verwenden Sie 70 % der Daten für die Trainingsdaten.\n",
    "2. Trainieren Sie das Netz mit den Trainingsdaten.\n",
    "3. Testen Sie das Netz mit den Testdaten und geben Sie die Accuracy und die Confusion Matrix aus.\n",
    "\n",
    "Hinweis: Denken Sie daran, das Merkmal `id` zu entfernen."
   ]
  },
  {
   "cell_type": "code",
   "execution_count": null,
   "metadata": {},
   "outputs": [],
   "source": [
    "# Ihr Code"
   ]
  },
  {
   "cell_type": "markdown",
   "metadata": {},
   "source": [
    "Das Ergebnis dieses Trainings ist realistischer als oben, da wir nun mit unabhängigen Daten testen. Wir versuchen, ob wir es noch etwas verbessern können.\n",
    "\n",
    "In **Aufgabe 7** haben Sie sich die Werte angesehen. Die Wertebereiche der einzelnen Features sind sehr unterschiedlich. Es macht daher Sinn, hier eine Skalierung / Normalisierung zu verwenden. "
   ]
  },
  {
   "cell_type": "markdown",
   "metadata": {},
   "source": [
    "----\n",
    "### Aufgabe 11: Skalierung der Daten\n",
    "\n",
    "Skalieren Sie die Daten mit dem `StandardScaler`. Die Verwendung haben Sie in der Übungsserie zur Klassifikation kennengelernt.\n",
    "\n",
    "1. Teilen Sie die Daten in eine Trainings- und Testdatenmenge auf. Die Trainingsdaten sollen 70% der Daten umfassen.\n",
    "2. Erzeugen Sie einen `StandardScaler`.\n",
    "3. Trainieren Sie den Scaler mit den Trainingsdaten und skalieren Sie die Trainingsdaten.  \n",
    "4. Trainieren Sie das Netz mit den (skalierten) Trainingsdaten.\n",
    "5. Verwenden Sie den traininerten Scaler, um die Testdaten zu skalieren.\n",
    "6. Testen Sie das Netz mit den Testdaten und geben Sie die Accuracy und die Confusion Matrix aus. \n"
   ]
  },
  {
   "cell_type": "code",
   "execution_count": null,
   "metadata": {},
   "outputs": [],
   "source": [
    "# Ihr Code"
   ]
  },
  {
   "cell_type": "markdown",
   "metadata": {},
   "source": [
    "Die Güte des Models ist deutlich besser geworden.\n",
    "\n",
    "Wir wir oben gesehen haben, ist der Datensatz nicht ausgeglichen. Es ist daher möglich, dass die Verteilung der unterschiedlichen Klassen im Trainings- und Testdatensatz nicht der Verteilung der Klassen im gesamten Datensatz entspricht. Um sicherzustellen, dass die Verteilung der Klassen in den Datensätzen möglichst der Verteilung der Klassen im Gesamtdatensatz entspricht, können wir den Parameter `stratify` setzen:\n",
    "\n",
    "```python\n",
    "X_train,X_test,y_train,y_test=train_test_split(X,y,test_size=..., random_state=...,stratify=y)\n",
    "```"
   ]
  },
  {
   "cell_type": "markdown",
   "metadata": {},
   "source": [
    "----\n",
    "### Aufgabe 12: Verteilung der Klassen in Trainings- und Testdaten gemäß der Gesamtverteilung\n",
    "\n",
    "Testen Sie, ob sich die Werte verändern, wenn Sie den Parameter `stratify` verwenden."
   ]
  },
  {
   "cell_type": "markdown",
   "metadata": {},
   "source": [
    "**Hinweis:** Es ist möglich, dass sich die Werte sogar verschlechtern. \n",
    "- Neuronale Netze werden mit zufällig initialisierten Anfangswerten trainiert. Diese haben einen Einfluss auf das Ergebnis.\n",
    "- Kleine Unterschiede in Accuracy sind nicht aussagekräftig. "
   ]
  },
  {
   "cell_type": "markdown",
   "metadata": {},
   "source": [
    "\n",
    "Wie wir gesehen haben, ist das Datenset nicht ausgeglichen.\n",
    "\n",
    "----\n",
    "### Aufgabe 13: Gütemaße\n",
    "\n",
    "Welche anderen Gütemaße haben Sie in der Vorlesung kennengelernt?"
   ]
  },
  {
   "cell_type": "markdown",
   "metadata": {},
   "source": [
    "**Antwort:**\n",
    "\n"
   ]
  },
  {
   "cell_type": "markdown",
   "metadata": {},
   "source": [
    "----\n",
    "# Teil 3: Der Palmer Pinguin Datensatz"
   ]
  },
  {
   "cell_type": "markdown",
   "metadata": {},
   "source": [
    "----\n",
    "### Aufgabe 14: Klassifikation der Pinguine\n",
    "\n",
    "Laden Sie den Palmer Pinguin Datensatz und klassifizieren Sie Pinguine basierend auf der Schnabellänge, der Schnabelhöhe, der Flossenlänge und dem Gewicht mit einem neuronalen Netz. \n",
    "\n",
    "Mit \n",
    "```python\n",
    "daten=daten[['Pinguinart','Schnabellaenge','Schnabelhoehe','Flossenlaenge','Gewicht']].copy()\n",
    "```\n",
    "erzeugen Sie einen Datensatz, der nur die notwendigen Merkmale und die Klassen enthält.\n",
    "\n",
    "Testen Sie verschiedene Netzarchitekturen und Aktivierungsfunktionen."
   ]
  },
  {
   "cell_type": "code",
   "execution_count": null,
   "metadata": {},
   "outputs": [],
   "source": [
    "# Ihr Code"
   ]
  },
  {
   "cell_type": "markdown",
   "metadata": {
    "deletable": false,
    "editable": false
   },
   "source": [
    "---\n",
    "\n",
    "<a rel=\"license\" href=\"http://creativecommons.org/licenses/by-nc-nd/4.0/\"><img alt=\"Creative Commons Lizenzvertrag\" style=\"border-width:0\" src=\"https://i.creativecommons.org/l/by-nc-nd/4.0/88x31.png\" /></a><br /><span xmlns:dct=\"http://purl.org/dc/terms/\" property=\"dct:title\">Die Übungsserie begleitend zum AI4ALL-Kurs</span> der <span xmlns:cc=\"http://creativecommons.org/ns#\" property=\"cc:attributionName\">EAH Jena</span> ist lizenziert unter einer <a rel=\"license\" href=\"http://creativecommons.org/licenses/by-nc-nd/4.0/\">Creative Commons Namensnennung - Nicht kommerziell - Keine Bearbeitungen 4.0 International Lizenz</a>.\n",
    "\n",
    "Der AI4ALL-Kurs entsteht im Rahmen des Projekts MoVeKI2EAH. Das Projekt MoVeKI2EAH wird durch das BMBF (Bundesministerium für Bildung und Forschung) und den Freistaat Thüringen im Rahmen der Bund-Länder-Initiative zur Förderung von Künstlicher Intelligenz in der Hochschulbildung gefördert (12/2021 bis 11/2025, Föderkennzeichen 16DHBKI081)."
   ]
  }
 ],
 "metadata": {
  "kernelspec": {
   "display_name": "Python 3 (ipykernel)",
   "language": "python",
   "name": "python3"
  },
  "language_info": {
   "codemirror_mode": {
    "name": "ipython",
    "version": 3
   },
   "file_extension": ".py",
   "mimetype": "text/x-python",
   "name": "python",
   "nbconvert_exporter": "python",
   "pygments_lexer": "ipython3",
   "version": "3.12.7"
  },
  "toc": {
   "base_numbering": 0
  }
 },
 "nbformat": 4,
 "nbformat_minor": 4
}
