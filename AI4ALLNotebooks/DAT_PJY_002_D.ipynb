{
 "cells": [
  {
   "cell_type": "markdown",
   "id": "49ae238e-217c-417f-aaa7-975dff25fb6b",
   "metadata": {
    "deletable": false,
    "editable": false,
    "tags": [
     "locked"
    ]
   },
   "source": [
    "<img src=\"./src/logo.png\" width=\"250\">"
   ]
  },
  {
   "cell_type": "markdown",
   "id": "ba61c1d8-fb3d-41fe-97af-30e8479f6ea8",
   "metadata": {
    "deletable": false,
    "editable": false,
    "tags": [
     "locked"
    ]
   },
   "source": [
    "**Baustein:** Daten  $\\rightarrow$ **Subbaustein:** Datenvorverarbeitung $\\rightarrow$ **Übungsserie**\n",
    "\n",
    "**Version:** 2.0, **Lizenz:** <a rel=\"license\" href=\"http://creativecommons.org/licenses/by-nc-nd/4.0/\">CC BY-NC-ND 4.0</a>\n",
    "\n",
    "***\n",
    "\n",
    "# Daten: Datenvorverarbeitung"
   ]
  },
  {
   "cell_type": "markdown",
   "id": "75b41305-c62d-43c3-b8fa-7901668bd981",
   "metadata": {
    "deletable": false,
    "editable": false,
    "tags": [
     "locked"
    ]
   },
   "source": [
    "---\n",
    "## Importieren der notwendigen Python-Bibliotheken"
   ]
  },
  {
   "cell_type": "code",
   "execution_count": null,
   "id": "921f6873-44a9-4220-bc73-b9f7a9f52f3f",
   "metadata": {
    "deletable": true,
    "editable": true,
    "slideshow": {
     "slide_type": ""
    },
    "tags": []
   },
   "outputs": [],
   "source": [
    "import pandas as pd\n",
    "from matplotlib import pyplot as plt\n",
    "import seaborn as sns\n",
    "\n",
    "%run src/setup.ipynb"
   ]
  },
  {
   "cell_type": "markdown",
   "id": "60d351c4-943a-4f2c-92b7-921e65c23654",
   "metadata": {
    "deletable": false,
    "editable": false,
    "tags": [
     "locked"
    ]
   },
   "source": [
    "---\n",
    "## Importieren der Daten\n",
    "### Aufgabe 1: Passen Sie den Importierbefehl so an, dass der gewünschte Datensatz *studierende.csv* in der Variable ```df``` gespeichert ist.\n",
    "Hierbei hilft die Bibliothek `pandas`, die es erlaubt, zum Beispiel eine `.csv`-Datei als **Dataframe-Objekt** einzulesen."
   ]
  },
  {
   "cell_type": "code",
   "execution_count": null,
   "id": "1199d685-83c8-4fe8-94cc-85c76f44fcaf",
   "metadata": {
    "deletable": true,
    "editable": true,
    "slideshow": {
     "slide_type": ""
    },
    "tags": []
   },
   "outputs": [],
   "source": [
    "df = pd.read_csv('./data/studierende.csv') # Laden des Datensatzes"
   ]
  },
  {
   "cell_type": "markdown",
   "id": "6f1338e9-57b8-46a1-82d7-c1d636b3fe02",
   "metadata": {
    "deletable": false,
    "editable": false,
    "tags": [
     "locked"
    ]
   },
   "source": [
    "---\n",
    "## Datensatz\n",
    "### Aufgabe 2: Machen Sie sich mit dem Datensatz vertraut und notieren Sie potenzielle Probleme.\n",
    "Nutzen Sie dafür die `pandas`-Funktionen, die Sie in der *Daten: Deskriptive Statistik und Visualisierung*-Übung kennengelernt haben."
   ]
  },
  {
   "cell_type": "code",
   "execution_count": null,
   "id": "0ee62f06-0fcc-41b9-a705-206acf2df78f",
   "metadata": {
    "deletable": true,
    "editable": true,
    "slideshow": {
     "slide_type": ""
    },
    "tags": []
   },
   "outputs": [],
   "source": [
    "df.head()"
   ]
  },
  {
   "cell_type": "code",
   "execution_count": null,
   "id": "42cd1aef-228a-4e07-bfe9-55165a825d56",
   "metadata": {
    "editable": true,
    "slideshow": {
     "slide_type": ""
    },
    "tags": []
   },
   "outputs": [],
   "source": [
    "df.info()"
   ]
  },
  {
   "cell_type": "markdown",
   "id": "f3165add-812f-4865-8b8e-8f20e110f7ec",
   "metadata": {},
   "source": [
    "Antwort:"
   ]
  },
  {
   "cell_type": "markdown",
   "id": "4891e394-76ba-4a96-b054-eb4fdd7d6449",
   "metadata": {
    "deletable": false,
    "editable": false,
    "tags": [
     "locked"
    ]
   },
   "source": [
    "### Aufgabe 3: Beantworten Sie die nachfolgenden Fragen zum Datensatz."
   ]
  },
  {
   "cell_type": "code",
   "execution_count": null,
   "id": "84c8fd8f-79c0-4667-a989-a7d2afe0f8b7",
   "metadata": {
    "editable": true,
    "slideshow": {
     "slide_type": ""
    },
    "tags": []
   },
   "outputs": [],
   "source": [
    "%run src/01_Fragen_DAT_PJY_002.ipynb"
   ]
  },
  {
   "cell_type": "markdown",
   "id": "6eee551c-115a-4ed4-93c0-95737a9b40a4",
   "metadata": {
    "deletable": false,
    "editable": false,
    "tags": [
     "locked"
    ]
   },
   "source": [
    "---\n",
    "## Duplikate und Leerstellen\n",
    "Wir werden nun verschiedene Methoden für den Umgang mit fehlenden/doppelten Werten betrachten. Da es sich um einen Zufallsdatensatz handelt, soll damit gezeigt werden, wie wir mit fehlenden/doppelten Werten umgehen können. Bei echten Daten müssen wir natürlich die Daten sorgfältig untersuchen und eine fundierte Entscheidung treffen.\n",
    "\n",
    "Um Zeilen zu finden, die fehlende Werte enthalten nutzen wir die untenstehende Code-Zeile(n). Wir wollen alle Zeilen im Datensatz finden und anzeigen, in denen mindestens ein Wert fehlt."
   ]
  },
  {
   "cell_type": "code",
   "execution_count": null,
   "id": "147f3672-9d17-4a7b-a18b-c1548123b8fe",
   "metadata": {},
   "outputs": [],
   "source": [
    "df[df.isna().any(axis=1)]"
   ]
  },
  {
   "cell_type": "markdown",
   "id": "4943cae9-03cc-4b70-9f52-ce55ae7810a9",
   "metadata": {},
   "source": [
    "Zur Anschaulichkeit werden die Befehle nun einzeln betrachtet, um den Code besser zu verstehen.\n",
    "\n",
    "1. `df.isna()`: Diese Methode wird auf unseren Dataframe `df` angewendet und gibt einen DataFrame gleicher Größe zurück, der `True` an den Positionen enthält, an denen die ursprünglichen Daten `NaN` (Not a Number) oder fehlende Werte sind, und `False` an allen anderen Positionen."
   ]
  },
  {
   "cell_type": "code",
   "execution_count": null,
   "id": "d9598ef9-aaf8-4e08-bf03-0ab3548b3949",
   "metadata": {
    "editable": true,
    "slideshow": {
     "slide_type": ""
    },
    "tags": []
   },
   "outputs": [],
   "source": [
    "df.isna()"
   ]
  },
  {
   "cell_type": "markdown",
   "id": "10fbd384-69b9-47af-a544-dfa3ce783ebd",
   "metadata": {
    "deletable": false,
    "editable": false,
    "tags": [
     "locked"
    ]
   },
   "source": [
    "2. `.any(axis=1)`: Diese Methode wird auf den booleschen Dataframe angewendet, der von `df.isna()` zurückgegeben wird. Der Parameter `axis=1` bedeutet, dass die Methode entlang der Zeilen arbeitet. `.any(axis=1)` gibt eine Pandas Series zurück, die `True` für jede Zeile enthält, die mindestens einen `True`-Wert hat (d.h. mindestens einen fehlenden Wert in der ursprünglichen Zeile des Dataframes)."
   ]
  },
  {
   "cell_type": "code",
   "execution_count": null,
   "id": "c6b50f73-136f-446c-95b4-e9335a936ea0",
   "metadata": {
    "editable": true,
    "slideshow": {
     "slide_type": ""
    },
    "tags": []
   },
   "outputs": [],
   "source": [
    "df.isna().any(axis=1)"
   ]
  },
  {
   "cell_type": "markdown",
   "id": "14f48f85-5275-40b4-a9e1-beeb28985445",
   "metadata": {
    "deletable": false,
    "editable": false,
    "tags": [
     "locked"
    ]
   },
   "source": [
    "3. `df[...]`: Schließlich wird der ursprüngliche Dataframe `df` mithilfe dieser booleschen Series gefiltert. Das bedeutet, dass nur die Zeilen von `df` zurückgegeben werden, für die der Wert in der booleschen Series `True` ist."
   ]
  },
  {
   "cell_type": "code",
   "execution_count": null,
   "id": "94a5157d-bb0d-4ff8-9c4a-f6bc99a54591",
   "metadata": {
    "editable": true,
    "slideshow": {
     "slide_type": ""
    },
    "tags": []
   },
   "outputs": [],
   "source": [
    "df[df.isna().any(axis=1)]"
   ]
  },
  {
   "cell_type": "markdown",
   "id": "a8eda6f1-6865-43da-8e9a-cf20404141c4",
   "metadata": {
    "deletable": false,
    "editable": false,
    "tags": [
     "locked"
    ]
   },
   "source": [
    "Wir gehen davon aus, dass wir die Zeilen mit den fehlenden Werten sorgfältig untersucht haben. Wir betrachten die Spalte `Zufriedenheit` genauer. Mit `df.unique()` können die einzigartigen Werte eines Dataframes ausgegeben werden. "
   ]
  },
  {
   "cell_type": "code",
   "execution_count": null,
   "id": "317c0674-4733-4053-ba1c-e92b3c4d7749",
   "metadata": {
    "editable": true,
    "slideshow": {
     "slide_type": ""
    },
    "tags": []
   },
   "outputs": [],
   "source": [
    "df['Zufriedenheit'].unique()"
   ]
  },
  {
   "cell_type": "markdown",
   "id": "26b410b3-d60c-433c-88b0-b4a408996391",
   "metadata": {
    "deletable": false,
    "editable": false,
    "tags": [
     "locked"
    ]
   },
   "source": [
    "Nach sorgfältiger Überlegung entscheiden wir, dass die fehlenden Werte in dieser Spalte durch den am häufigsten vorkommenen Wert ersetzt werden sollen. `df.value_counts()` zählt wie oft welche Merkmalsausprägung vorkommt. Links steht die Merkmalsausprägung und rechts die entsprechende Anzahl."
   ]
  },
  {
   "cell_type": "code",
   "execution_count": null,
   "id": "df19aea6-b01a-4175-9757-8cc0fa4b9d32",
   "metadata": {
    "editable": true,
    "slideshow": {
     "slide_type": ""
    },
    "tags": []
   },
   "outputs": [],
   "source": [
    "df['Zufriedenheit'].value_counts()"
   ]
  },
  {
   "cell_type": "markdown",
   "id": "dbcd08da-8258-4b8f-a017-5e5ef6e3314c",
   "metadata": {
    "deletable": false,
    "editable": false,
    "tags": [
     "locked"
    ]
   },
   "source": [
    "### Aufgabe 4: Entnehmen Sie aus der oben erhaltenen Ausgabe die Information über die häufigste Merkmalsausprägung der Zufriedenheit und speichern Sie diese in der Variable `haeufigste_zufriedenheit` ab.\n",
    "Mithile von `df.fillna()` werden jetzt alle `NaNs` in der Spalte mit dem am häufigsten vorkommenen Merkmalsausprägung ersetzt. Es sind auch andere Ersetzungsarten denkbar, wie zum Beispiel dem Durchschnittswert aller Zufriedenheiten.\n",
    "\n",
    "**Erinnerung**: Mit dem Übergabeparameter `inplace=True` wenden wir die Änderung direkt auf dem ursprünglichen Dataframe `df` an."
   ]
  },
  {
   "cell_type": "code",
   "execution_count": null,
   "id": "6eaafc84-cd8e-4083-89d6-bf7f8dcef297",
   "metadata": {
    "editable": true,
    "slideshow": {
     "slide_type": ""
    },
    "tags": []
   },
   "outputs": [],
   "source": [
    "haeufigste_zufriedenheit = 4.0\n",
    "df['Zufriedenheit'].fillna(haeufigste_zufriedenheit, inplace=True)\n",
    "df.shape # Ausgabe der Dimensionsgrößen des bereingten Dataframes"
   ]
  },
  {
   "cell_type": "markdown",
   "id": "f0ece5c1-ccfb-46b3-afe5-53f707155805",
   "metadata": {
    "deletable": false,
    "editable": false,
    "tags": [
     "locked"
    ]
   },
   "source": [
    "### Aufgabe 5: Beantworten Sie die nachfolgende Frage."
   ]
  },
  {
   "cell_type": "code",
   "execution_count": null,
   "id": "178e2aea-f80e-4c8e-8981-387e457a789c",
   "metadata": {
    "deletable": false,
    "editable": false,
    "tags": [
     "locked"
    ]
   },
   "outputs": [],
   "source": [
    "%run src/02_Fragen_DAT_PJY_002.ipynb"
   ]
  },
  {
   "cell_type": "markdown",
   "id": "bdd7b85f-3eb0-4cbe-986d-928352826440",
   "metadata": {
    "deletable": false,
    "editable": false,
    "tags": [
     "locked"
    ]
   },
   "source": [
    "Wir haben entschieden, dass die Durchschnittsnote ein sehr wichtiges Merkmal ist, wo es gefährlich wäre einfach Werte für die `NaNs` anzunehmen. Daher beschließen wir alle Zeilen, wo ein `NaN` bei der Durchschnittsnote steht, von der Umfrage auszunehmen und damit aus dem Datensatz zu entfernen. Hierfür nutzen wir `df.dropna()` und legen mit `subset=['Durchschnittsnote']` fest, dass nur Zeilen mit `NaNs` in der Spalte `Durchschnittsnote` entfernt werden."
   ]
  },
  {
   "cell_type": "code",
   "execution_count": null,
   "id": "2d3d42a2-02db-4453-a3e6-3f2ba36b6c9c",
   "metadata": {
    "deletable": true,
    "editable": true,
    "slideshow": {
     "slide_type": ""
    },
    "tags": []
   },
   "outputs": [],
   "source": [
    "df.dropna(subset=['Durchschnittsnote'], inplace=True)\n",
    "df.shape # Ausgabe der Dimensionsgrößen des bereingten Dataframes"
   ]
  },
  {
   "cell_type": "markdown",
   "id": "844f7911-fbfd-410d-b604-428c54e072b6",
   "metadata": {
    "deletable": false,
    "editable": false,
    "tags": [
     "locked"
    ]
   },
   "source": [
    "Um zu überprüfen, ob alle `NaNs` ersetzt oder entfernt wurden, lassen wir uns nochmal alle Zeilen ausgeben, die ein `NaN` enthalten."
   ]
  },
  {
   "cell_type": "code",
   "execution_count": null,
   "id": "6e5246fe-0fa9-4d28-8249-28b09c5c7f60",
   "metadata": {
    "editable": true,
    "slideshow": {
     "slide_type": ""
    },
    "tags": []
   },
   "outputs": [],
   "source": [
    "df[df.isna().any(axis=1)]"
   ]
  },
  {
   "cell_type": "markdown",
   "id": "b972a553-954a-45c2-88ad-3a7ec407d10c",
   "metadata": {
    "deletable": false,
    "editable": false,
    "tags": [
     "locked"
    ]
   },
   "source": [
    "Wir überprüfen weiterhin, ob es doppelte Einträgt gibt. Der nachfolgende Code extrahiert alle Zeilen aus `df`, die mindestens ein Duplikat haben. Er ist wieder in kleinere Codeabschnitt unterteilt, zur Verdeutlichung.\n",
    "\n",
    "1. `df.duplicated(keep=False)` gibt eine boolesche Serie zurück, die angibt, ob eine Zeile ein Duplikat ist. Der Übergabeparameter `keep=False` sorgt dafür, dass alle Vorkommen von Duplikaten als True markiert werden, nicht nur die späteren oder früheren Vorkommen."
   ]
  },
  {
   "cell_type": "code",
   "execution_count": null,
   "id": "68e9e707-66de-41d3-8990-e87366048e1f",
   "metadata": {
    "editable": true,
    "slideshow": {
     "slide_type": ""
    },
    "tags": []
   },
   "outputs": [],
   "source": [
    "df.duplicated(keep=False)"
   ]
  },
  {
   "cell_type": "markdown",
   "id": "5ad0f415-3567-4705-87cc-89decbc111e0",
   "metadata": {
    "deletable": false,
    "editable": false,
    "tags": [
     "locked"
    ]
   },
   "source": [
    "2. `df[...]`: Der DataFrame wird mit der erstellten boolschen Serie von `True` und `False` Werten gefiltert, sodass nur die Zeilen angezeigt werden, die als `True` markiert sind, also die Duplikate."
   ]
  },
  {
   "cell_type": "code",
   "execution_count": null,
   "id": "674e6cb5-6d26-4780-b86f-e20812afe82c",
   "metadata": {
    "editable": true,
    "slideshow": {
     "slide_type": ""
    },
    "tags": []
   },
   "outputs": [],
   "source": [
    "df[df.duplicated(keep=False)]"
   ]
  },
  {
   "cell_type": "markdown",
   "id": "c6c57218-dd52-40dd-a58e-6e25c75d287d",
   "metadata": {
    "deletable": false,
    "editable": false,
    "tags": [
     "locked"
    ]
   },
   "source": [
    "Mithilfe von `df.drop_duplicates()` werden alle Zeilen aus dem Dataframe `df` entfernt, die doppelt sind. Dabei wird das erste Vorkommen der doppelten Zeile behalten mit `keep=first`."
   ]
  },
  {
   "cell_type": "code",
   "execution_count": null,
   "id": "bafe278e-69bc-4541-bd70-917f3ec910c2",
   "metadata": {
    "editable": true,
    "slideshow": {
     "slide_type": ""
    },
    "tags": []
   },
   "outputs": [],
   "source": [
    "df.drop_duplicates(inplace=True, keep='first')\n",
    "df.shape # Ausgabe der Dimensionsgrößen des bereingten Dataframes"
   ]
  },
  {
   "cell_type": "markdown",
   "id": "36c7cf8a-f2b3-49bf-9727-59dba8b62a36",
   "metadata": {
    "deletable": false,
    "editable": false,
    "tags": [
     "locked"
    ]
   },
   "source": [
    "### Aufgabe 6: Wie viele Zeilen enthält der Datensatz `df` jetzt noch? Begründen sie die Anzahl."
   ]
  },
  {
   "cell_type": "code",
   "execution_count": null,
   "id": "be19dbfa-541b-4a26-9ed4-a89de53b842c",
   "metadata": {
    "editable": true,
    "slideshow": {
     "slide_type": ""
    },
    "tags": []
   },
   "outputs": [],
   "source": [
    "df.shape # Ausgabe der Dimensionsgrößen des bereingten Dataframes"
   ]
  },
  {
   "cell_type": "markdown",
   "id": "43eb5620-ab1c-425e-8b43-82d90d63beb6",
   "metadata": {
    "editable": true,
    "slideshow": {
     "slide_type": ""
    },
    "tags": []
   },
   "source": [
    "Antwort: 35 Zeilen, es wurden also 5 Zeilen entfernt. Insgesamt gab es 8 Zeilen mit `NaN`-Werten und 2 doppelte Zeilen. Von den 8 Zeilen mit fehlenden Werten waren 4 in der Spalte `Zufriedenheit`, die wir durch den häufigsten Wert ersetzt haben, also nicht entfernt haben. Die anderen 4 `NaN`-Werte waren in der Spalte `Durchschnittsnote`, wo wir die entsprechenden Zeilen gelöscht haben. Von den 2 doppelten Zeilen haben wir die letzte doppelte entfernt. Insgesamt ergibt das also 5 entfernte Zeilen."
   ]
  },
  {
   "cell_type": "markdown",
   "id": "a6491032-2d8a-4073-bd2d-773d2e7c9c78",
   "metadata": {
    "deletable": false,
    "editable": false,
    "tags": [
     "locked"
    ]
   },
   "source": [
    "---\n",
    "## Ausreißer\n",
    "\n",
    "Um zu identifizieren, ob es in unserem Datensatz Ausreißer gibt, wollen wir die metrischen Merkmale mithilfe eines Boxplots visualisieren.\n",
    "\n",
    "### Aufgabe 7: Nutzen Sie die gelernten Methoden aus der *Daten: Deskriptive Statistik und Visualisierung*-Übung, um die metrischen Merkmale in Boxplots darzustellen."
   ]
  },
  {
   "cell_type": "code",
   "execution_count": null,
   "id": "d66c6ede-90f8-45b1-9c4b-5b421f95a45c",
   "metadata": {
    "editable": true,
    "slideshow": {
     "slide_type": ""
    },
    "tags": []
   },
   "outputs": [],
   "source": [
    "df.plot.box(figsize=(10, 6))"
   ]
  },
  {
   "cell_type": "markdown",
   "id": "42e9240f-3f5d-4555-964f-a3f9d37f7eb0",
   "metadata": {
    "deletable": false,
    "editable": false,
    "tags": [
     "locked"
    ]
   },
   "source": [
    "### Aufgabe 8: Welche Merkmale enthalten laut den Boxplots Ausreißer? Schauen Sie in der [Dokumentation](https://pandas.pydata.org/pandas-docs/stable/reference/api/pandas.DataFrame.plot.box.html) der Methode nach, wie diese Ausreißer definiert werden (Internetrecherche). Schauen Sie zur Interpretation der Dokumenation ggf. auch in der Vorlesung nach. "
   ]
  },
  {
   "cell_type": "markdown",
   "id": "6d81e4b7-0da6-4ac8-aa0f-0895842b8f36",
   "metadata": {
    "editable": true,
    "slideshow": {
     "slide_type": ""
    },
    "tags": []
   },
   "source": [
    "Antwort: Alter und Semester enthalten Ausreißer. Die Position der Whisker ist standardmäßig auf 1,5*IQR (IQR = Q3 - Q1) von den Rändern der Box eingestellt. Ausreißer sind Punkte, die hinter dem Ende der Whisker liegen."
   ]
  },
  {
   "cell_type": "markdown",
   "id": "df833dc7-951e-4af4-9909-187d5bbc61b7",
   "metadata": {
    "deletable": false,
    "editable": false,
    "tags": [
     "locked"
    ]
   },
   "source": [
    "Wir wollen nun Überprüfen, ob die mithilfe der Boxplot gefundenen Ausreißer für uns wirkliche Ausreißer sind. Für das Alter sollen folgende natürliche Grenzen gelten. \n",
    "- Studierende sind maximal zwischen 10 und 100 Jahre alt\n",
    "\n",
    "Wir filtern unseren Dataframe `df` nach diesen Kriterien und speichern die Ausreißer-Zeilen in einem neuen Dataframe `ausreisser_alter`. \n",
    "\n",
    "Für die Verknüpfung der Filterbedingungen nutzen wir `|`. In pandas verwendet man dieses `|` für \"oder\" und `&` für \"und\", weil diese bitweisen Operatoren elementweise auf dem Dataframe arbeiten. `or` würde nicht funktionieren, da es für einzelne boolesche Werte gedacht ist, nicht für Arrays oder Series."
   ]
  },
  {
   "cell_type": "code",
   "execution_count": null,
   "id": "df4456b7-f039-4e94-8228-4aa815e18d0e",
   "metadata": {
    "deletable": true,
    "editable": true,
    "slideshow": {
     "slide_type": ""
    },
    "tags": []
   },
   "outputs": [],
   "source": [
    "ausreisser_alter = df[(df['Alter'] < 10) | (df['Alter'] > 100)] # Finden der Zeilen, die außerhalb der natürlichen Grenzen des Alters liegen\n",
    "ausreisser_alter"
   ]
  },
  {
   "cell_type": "markdown",
   "id": "24cbc737-1cff-406a-8ca8-5598a20adfae",
   "metadata": {
    "deletable": false,
    "editable": false,
    "tags": [
     "locked"
    ]
   },
   "source": [
    "Um unseren Gesamt-Dataframe von den Ausreißern zu bereinigen können wir alle Zeilen entfernen, die außerhalb dieser natürlichen Grenzen liegen. Dafür filtern wir den Dataframe `df` direkt, um nur die Zeilen zu behalten, deren `Alter` zwischen 10 und 100 liegt. Beachten Sie den geänderten logischen bitweisen Operator (`&`)  und die geänderten Vergleichsoperatoren.\n",
    "\n",
    "Wir nehmen an, dass die Daten selbst aufgenommen wurden und wir einen Fehler gemacht haben in der Übertragung der handschriftlichen Tabelle. Für die nachfolgenden Analysen sollen diese Daten daher nicht mit berücksichtigt und damit vom Datensatz entfernt werden. \n",
    "\n",
    "**Vorsicht:** Das Entfernen von Datenpunkten nur weil sie nicht zur Hypothese o.ä. passen ist wissenschaftlich schlechtes Verhalten und sollte unter keinen Umständen passieren. Ein Entfernen von Datenpunkten muss immer gut begründet und dokumentiert sein. Außerdem gibt es auch noch andere Möglichkeiten mit Ausreißern umzugehen. "
   ]
  },
  {
   "cell_type": "code",
   "execution_count": null,
   "id": "03e4ca09-2b02-4cd4-8865-d68d05f4ccb1",
   "metadata": {
    "editable": true,
    "slideshow": {
     "slide_type": ""
    },
    "tags": []
   },
   "outputs": [],
   "source": [
    "df = df[(df['Alter'] >= 10) & (df['Alter'] <= 100)]"
   ]
  },
  {
   "cell_type": "code",
   "execution_count": null,
   "id": "98121706-a6d0-4842-8be5-3aeb52783ded",
   "metadata": {
    "editable": true,
    "slideshow": {
     "slide_type": ""
    },
    "tags": []
   },
   "outputs": [],
   "source": [
    "df.shape"
   ]
  },
  {
   "cell_type": "markdown",
   "id": "b5edc540-4814-41ed-840a-a79f9e53b253",
   "metadata": {
    "deletable": false,
    "editable": false,
    "tags": [
     "locked"
    ]
   },
   "source": [
    "### Aufgabe 9: Überlegen Sie sich sinnvolle natürliche Grenzen für das Merkmal `Semester`. Übertragen Sie diese dann in den untenstehenden Code und lassen Sie sich die Zeilen ausgeben, die außerhalb dieser Grenzen liegen. Entfernen Sie die Zeilen aber **nicht** aus `df`."
   ]
  },
  {
   "cell_type": "code",
   "execution_count": null,
   "id": "0ed56226-5024-4134-a13d-c22371970bcc",
   "metadata": {
    "editable": true,
    "slideshow": {
     "slide_type": ""
    },
    "tags": []
   },
   "outputs": [],
   "source": [
    "ausreisser_semester = df[(df['Semester'] < 1) | (df['Semester'] > 50)]\n",
    "ausreisser_semester"
   ]
  },
  {
   "cell_type": "markdown",
   "id": "0387a2ca-69a6-4fc4-8f3a-e3ad9dd87a3d",
   "metadata": {
    "deletable": false,
    "editable": false,
    "tags": [
     "locked"
    ]
   },
   "source": [
    "Wir bemerken, dass wir damals geschmiert haben und der Strich vor der `-7` bei der Semesteranzahl nur durch ein Ausrutschen zustande kam. Daher entscheiden wir, den Wert in `7` zu ändern. Mithilfe von `df.index` wird der Index der Zeile(n) eines Dataframes ausgegeben. Dieser befindet sich in unserem Beispiel noch vor der Spalte `ID`. "
   ]
  },
  {
   "cell_type": "code",
   "execution_count": null,
   "id": "ff03db79-c507-46a4-ba0b-84e4ad2f6454",
   "metadata": {
    "editable": true,
    "slideshow": {
     "slide_type": ""
    },
    "tags": []
   },
   "outputs": [],
   "source": [
    "ausreisser_semester_index = ausreisser_semester.index\n",
    "ausreisser_semester_index"
   ]
  },
  {
   "cell_type": "markdown",
   "id": "02038d4f-6485-4dec-8458-a6eff2924324",
   "metadata": {
    "deletable": false,
    "editable": false,
    "tags": [
     "locked"
    ]
   },
   "source": [
    "Basierend auf diesem Index und dem Spaltennamen können wir jetzt mithilfe von `df.loc[index, spaltenname]` gezielt auf einzelne Merkmalsausprägungen zugreifen."
   ]
  },
  {
   "cell_type": "code",
   "execution_count": null,
   "id": "e9da7545-9b12-4a2f-9d4d-a61609cf82f2",
   "metadata": {
    "editable": true,
    "slideshow": {
     "slide_type": ""
    },
    "tags": []
   },
   "outputs": [],
   "source": [
    "df.loc[ausreisser_semester_index, 'Semester']"
   ]
  },
  {
   "cell_type": "markdown",
   "id": "3007533e-96f9-4f40-bc4a-25785357c5da",
   "metadata": {
    "deletable": false,
    "editable": false,
    "tags": [
     "locked"
    ]
   },
   "source": [
    "Bei der Ausgabe sehen wir als ersten Wert den Index der Zeile und als zweiten Wert den Wert der Merkmalsausprägung in der ausgewählten Spalte (`Name: Semester`). \n",
    "\n",
    "Nun überschreiben wir diesen Wert mit einer 7."
   ]
  },
  {
   "cell_type": "code",
   "execution_count": null,
   "id": "9268ff42-ca42-432a-8a1f-25570dcc3b65",
   "metadata": {
    "editable": true,
    "slideshow": {
     "slide_type": ""
    },
    "tags": []
   },
   "outputs": [],
   "source": [
    "df.loc[ausreisser_semester_index, 'Semester'] = 7"
   ]
  },
  {
   "cell_type": "markdown",
   "id": "d0bbaff1-eaa8-4024-b628-cfc91ad1981e",
   "metadata": {
    "deletable": false,
    "editable": false,
    "tags": [
     "locked"
    ]
   },
   "source": [
    "Zur Überprüfung schauen wir uns die beiden bereinigten Spalten nochmal in einem Boxplot an."
   ]
  },
  {
   "cell_type": "code",
   "execution_count": null,
   "id": "81d454b6-efe3-4436-90f9-4af1c3bdfae4",
   "metadata": {
    "editable": true,
    "slideshow": {
     "slide_type": ""
    },
    "tags": []
   },
   "outputs": [],
   "source": [
    "df[['Alter', 'Semester']].plot.box()"
   ]
  },
  {
   "cell_type": "markdown",
   "id": "ce292de1-c050-4ec4-824c-1a52a55817fd",
   "metadata": {
    "deletable": false,
    "editable": false,
    "tags": [
     "locked"
    ]
   },
   "source": [
    "Wir erkennen, dass laut dem Boxplot immer noch ein Ausreißer in der Spalte `Alter` enthalten ist. Da es aber durchaus möglich sein kann, dass jemand mit 67 studiert und diese Person daher in unseren natürlichen Grenzen liegt, sind wir zufrieden mit dem Ergebnis."
   ]
  },
  {
   "cell_type": "markdown",
   "id": "0834b7af-1730-49f4-8912-bd9cbe09a15e",
   "metadata": {
    "deletable": false,
    "editable": false,
    "tags": [
     "locked"
    ]
   },
   "source": [
    "---\n",
    "### Konsistenz in Format und Sprache\n",
    "\n",
    "Wir wollen uns einmal die einzelnen einzigartigen Werte der Spalte `Geschlecht` ausgeben lassen."
   ]
  },
  {
   "cell_type": "code",
   "execution_count": null,
   "id": "fef0d134-43a1-44b1-91a1-f2afd13222f8",
   "metadata": {
    "editable": true,
    "slideshow": {
     "slide_type": ""
    },
    "tags": []
   },
   "outputs": [],
   "source": [
    "df['Geschlecht'].unique()"
   ]
  },
  {
   "cell_type": "markdown",
   "id": "dea3b12c-cd5b-4b35-aee7-107bd1470442",
   "metadata": {
    "deletable": false,
    "editable": false,
    "tags": [
     "locked"
    ]
   },
   "source": [
    "Es gibt mehrere Merkmalsausprägungen, die für das gleiche stehen. Zum Beispiel stehen `w` und `f` beide für `weiblich`.\n",
    "\n",
    "### Aufgabe 10 Beantworten Sie die nachfolgende Frage."
   ]
  },
  {
   "cell_type": "code",
   "execution_count": null,
   "id": "25ae3a62-4eb5-4fa8-a2a5-7a219f6810c1",
   "metadata": {
    "deletable": false,
    "editable": false,
    "tags": [
     "locked"
    ]
   },
   "outputs": [],
   "source": [
    "%run src/03_Fragen_DAT_PJY_002.ipynb"
   ]
  },
  {
   "cell_type": "markdown",
   "id": "08601a02-4aab-40c2-a7f9-eaaa605ba25e",
   "metadata": {
    "deletable": false,
    "editable": false,
    "tags": [
     "locked"
    ]
   },
   "source": [
    "Zunächst werden wir die falschen Einträge korrigieren, indem wir die Werte durch die zusammengefassten Merkmalsausprägungen ersetzen. Außerdem wollen wir, dass männliche Studenten anstelle von `m` die Merkmalsausprägung `maennlich` haben. \n",
    "\n",
    "Dazu verwenden wir die Methode `df.replace()`."
   ]
  },
  {
   "cell_type": "code",
   "execution_count": null,
   "id": "d8153f90-48d9-4420-ac17-f5bcef99ac67",
   "metadata": {
    "editable": true,
    "slideshow": {
     "slide_type": ""
    },
    "tags": []
   },
   "outputs": [],
   "source": [
    "df['Geschlecht'].replace({'w':'weiblich', 'f':'weiblich', 'm':'maennlich'}, inplace=True)"
   ]
  },
  {
   "cell_type": "markdown",
   "id": "0117c437-0162-44d6-8b85-2dd9aa82773e",
   "metadata": {
    "deletable": false,
    "editable": false,
    "tags": [
     "locked"
    ]
   },
   "source": [
    "Die Methode `df.replace()` erwartet ein **dictionary**. Ein **dictionary** ist innerhalb von `{}` definiert und besteht aus Schlüssel-Wert-Paaren. Zuerst wird der Schlüssel angegeben, gefolgt von einem `:` und dem Wert. Im obigen Code geben wir an, dass wir die Methode `df.replace()` auf die Spalte `Geschlecht` (`df['Geschlecht'])`) anwenden wollen. Als Wert geben wir ein **dictionary** an, das als Schlüssel die zu ersetzenden Werte und als Wert die neuen Werte enthält. Wir geben also an, dass `w` durch `weiblich`, `f` durch `weiblich` und `m` durch `maennlich` ersetzt werden soll. Die einzelnen Schlüssel-Wert-Paare werden durch Kommata getrennt.\n",
    "\n",
    "Wir kontrollieren nochmal das Ergebnis:"
   ]
  },
  {
   "cell_type": "code",
   "execution_count": null,
   "id": "462c117c-e834-4808-942c-b679a1224ec7",
   "metadata": {
    "editable": true,
    "slideshow": {
     "slide_type": ""
    },
    "tags": []
   },
   "outputs": [],
   "source": [
    "df['Geschlecht'].unique()"
   ]
  },
  {
   "cell_type": "markdown",
   "id": "75d618b3-aa2f-429d-b250-40badeb921a6",
   "metadata": {
    "deletable": false,
    "editable": false,
    "tags": [
     "locked"
    ]
   },
   "source": [
    "Der Datentyp der Spalte ist `object`. Es gibt einen geeigneteren Datentyp `category` in den wir diesen nominalen Datentyp mithilfe von `df.astype()` umwandeln wollen."
   ]
  },
  {
   "cell_type": "code",
   "execution_count": null,
   "id": "c6d79ad1-3808-47f8-b693-578c71dfe74c",
   "metadata": {
    "editable": true,
    "slideshow": {
     "slide_type": ""
    },
    "tags": []
   },
   "outputs": [],
   "source": [
    "df['Geschlecht'] = df['Geschlecht'].astype('category')"
   ]
  },
  {
   "cell_type": "markdown",
   "id": "8d1b78e0-3ccd-461b-8512-2a6a3393fb8d",
   "metadata": {
    "deletable": false,
    "editable": false,
    "tags": [
     "locked"
    ]
   },
   "source": [
    "Der Datentyp `category` ist vor allem nützlich da er gegenüber `object` Speicherplatz spart. Außerdem ist er hilfreich, wenn die lexikalische Reihenfolge einer Variable nicht der logischen Reihenfolge entspricht (z.B. \"eins\", \"zwei\", \"drei\"), kann durch die Umwandlung in eine kategorische Variable und das Festlegen einer Reihenfolge die logische statt der lexikalischen Reihenfolge verwendet werden.\n",
    "Außerdem wissen so andere Python-Bibliotheken, dass diese Spalte als kategorische Variable behandelt werden soll, was für geeignete statistische Methoden oder Visualisierungen nützlich ist.\n",
    "\n",
    "Wir wollen das Ergebnis überprüfen."
   ]
  },
  {
   "cell_type": "code",
   "execution_count": null,
   "id": "085404e3-e24c-42e5-8cdd-ad56e94e1699",
   "metadata": {
    "editable": true,
    "slideshow": {
     "slide_type": ""
    },
    "tags": []
   },
   "outputs": [],
   "source": [
    "df.info()"
   ]
  },
  {
   "cell_type": "markdown",
   "id": "b5444a48-0ae0-4dcd-921e-0cd38a6f672b",
   "metadata": {
    "deletable": false,
    "editable": false,
    "tags": [
     "locked"
    ]
   },
   "source": [
    "Uns fällt auf, dass die Spalte `Hat_Nebenjob` vom Typ `int64` ist. Wir überprüfen noch einmal die einzigartigen Merkmalsausprägungen. "
   ]
  },
  {
   "cell_type": "code",
   "execution_count": null,
   "id": "e024b396-6753-44c4-8ba9-bec0f063fba0",
   "metadata": {
    "editable": true,
    "slideshow": {
     "slide_type": ""
    },
    "tags": []
   },
   "outputs": [],
   "source": [
    "df['Hat_Nebenjob'].unique()"
   ]
  },
  {
   "cell_type": "markdown",
   "id": "122fb817-3bc2-4297-bf3c-345ee524e2d4",
   "metadata": {
    "deletable": false,
    "editable": false,
    "tags": [
     "locked"
    ]
   },
   "source": [
    "Innerhalb des Datentyps `bool` gibt es nur die beiden Merkmalsausprägungen `True` und `False`. Daher ist er speichereffizienter als z.B. `int64`. Da er außerdem noch eindeutiger, leistungsoptimierter und kompatibler ist, sollte er hier bevorzugt verwendet werden. \n",
    "\n",
    "### Aufgabe 11: Wandeln Sie den Datentyp der Spalte `Hat_Nebenjob` in `bool` um und überprüfen Sie nochmal das Ergebnis."
   ]
  },
  {
   "cell_type": "code",
   "execution_count": null,
   "id": "815fe408-f454-4799-86de-1a4c70ddf347",
   "metadata": {
    "editable": true,
    "slideshow": {
     "slide_type": ""
    },
    "tags": []
   },
   "outputs": [],
   "source": [
    "df['Hat_Nebenjob'] = df['Hat_Nebenjob'].astype('bool')"
   ]
  },
  {
   "cell_type": "code",
   "execution_count": null,
   "id": "7c60bbaf-ad87-4a3e-9067-e839b9d10e92",
   "metadata": {
    "editable": true,
    "slideshow": {
     "slide_type": ""
    },
    "tags": []
   },
   "outputs": [],
   "source": [
    "df['Hat_Nebenjob'].unique()"
   ]
  },
  {
   "cell_type": "markdown",
   "id": "7df2cf19-7dd8-4468-ac06-3216e272b81e",
   "metadata": {
    "deletable": false,
    "editable": false,
    "tags": [
     "locked"
    ]
   },
   "source": [
    "---\n",
    "## One Hot Encoding\n",
    "Viele Algorithmen für maschinelles Lernen können nicht mit mehrwertigen kategorialen Attributen umgehen. Um daher weitere Analysen mit dem ursprünglichen Datensatz machen zu können, müssen die vorliegenden kategorischen Merkmale binär codiert werden mithilfe von `pd.get_dummies()`. Mit `columns=['Geschlecht','Abschluss','Studiengang']` geben wir an, für welche Spalten das One Hot Encoding durchgeführt werden soll. Beobachten Sie, wie sich die Spaltenanzahl verändert."
   ]
  },
  {
   "cell_type": "code",
   "execution_count": null,
   "id": "e9027074-4b62-4026-9f38-45af47693442",
   "metadata": {
    "deletable": true,
    "editable": true,
    "slideshow": {
     "slide_type": ""
    },
    "tags": []
   },
   "outputs": [],
   "source": [
    "df = pd.get_dummies(df, columns=['Geschlecht','Abschluss','Studiengang'])\n",
    "df"
   ]
  },
  {
   "cell_type": "markdown",
   "id": "e8aca5ce-3f63-42f3-a9c0-e2f2c04c0d77",
   "metadata": {
    "deletable": false,
    "editable": false,
    "tags": [
     "locked"
    ]
   },
   "source": [
    "---\n",
    "## Anwendung auf einen neuen Datensatz\n",
    "Die oben (und im letzten Praktikum) kennengelernten Methoden zur Datenvorverarbeitung sollen nun auf dem neuen Datensatz `movies.csv` angewandt werden. Der Datensatz enthält viele Informationen über Filme und soll von Ihnen vorverarbeitet werden."
   ]
  },
  {
   "cell_type": "markdown",
   "id": "517b919d-fd2b-4abb-b093-60bbe6318531",
   "metadata": {
    "deletable": false,
    "editable": false,
    "tags": [
     "locked"
    ]
   },
   "source": [
    "### Aufgabe 12: Importieren Sie den Datensatz `movies.csv`."
   ]
  },
  {
   "cell_type": "code",
   "execution_count": null,
   "id": "e31e86fc-1847-4a24-a51d-b88ce7d7aeb7",
   "metadata": {
    "editable": true,
    "slideshow": {
     "slide_type": ""
    },
    "tags": []
   },
   "outputs": [],
   "source": [
    "df_movies = pd.read_csv('./data/movies.csv')"
   ]
  },
  {
   "cell_type": "markdown",
   "id": "4ec352b2-a71f-48c4-8072-8f35ccad7ad4",
   "metadata": {
    "deletable": false,
    "editable": false,
    "tags": [
     "locked"
    ]
   },
   "source": [
    "### Aufgabe 13: Verschaffen Sie sich eine Überblick über den Datensatz und beantworten Sie dann die nachfolgenden Fragen."
   ]
  },
  {
   "cell_type": "code",
   "execution_count": null,
   "id": "fc285cbb-7b06-4b33-a9f7-df5f9e87cfb6",
   "metadata": {
    "editable": true,
    "slideshow": {
     "slide_type": ""
    },
    "tags": []
   },
   "outputs": [],
   "source": [
    "df_movies.head()"
   ]
  },
  {
   "cell_type": "code",
   "execution_count": null,
   "id": "575c30e0-0fbe-4e8d-a79c-52a682b9d045",
   "metadata": {
    "editable": true,
    "slideshow": {
     "slide_type": ""
    },
    "tags": []
   },
   "outputs": [],
   "source": [
    "df_movies.info()"
   ]
  },
  {
   "cell_type": "code",
   "execution_count": null,
   "id": "1abf1f26-58f0-4f38-bcc4-77eed1b7cefb",
   "metadata": {
    "editable": true,
    "slideshow": {
     "slide_type": ""
    },
    "tags": []
   },
   "outputs": [],
   "source": [
    "print('IMDb-Bewertung Minimum: %f' % df_movies['IMDB-Bewertung'].min())\n",
    "print('IMDb-Bewertung Maximum: %f' % df_movies['IMDB-Bewertung'].max())\n",
    "print('Rotten-Tomatoes-Bewertung Minimum: %f' % df_movies['Rotten-Tomatoes-Bewertung'].min())\n",
    "print('Rotten-Tomatoes-Bewertung Maximum: %f' % df_movies['Rotten-Tomatoes-Bewertung'].max())"
   ]
  },
  {
   "cell_type": "code",
   "execution_count": null,
   "id": "bf2bd2c4-d8cd-48e9-9a95-c1ca39ad5e06",
   "metadata": {
    "editable": true,
    "slideshow": {
     "slide_type": ""
    },
    "tags": []
   },
   "outputs": [],
   "source": [
    "# Anzahl fehlender Werte pro Spalte anzeigen\n",
    "print(\"Fehlende Werte pro Spalte:\")\n",
    "print(df_movies.isna().sum())"
   ]
  },
  {
   "cell_type": "code",
   "execution_count": null,
   "id": "d9c11930-149a-462d-92aa-c08f03866245",
   "metadata": {
    "editable": true,
    "slideshow": {
     "slide_type": ""
    },
    "tags": []
   },
   "outputs": [],
   "source": [
    "%run src/04_Fragen_DAT_PJY_002.ipynb"
   ]
  },
  {
   "cell_type": "markdown",
   "id": "b70cbdd8-32a5-45df-89ee-dc0f0da905a7",
   "metadata": {
    "deletable": false,
    "editable": false,
    "tags": [
     "locked"
    ]
   },
   "source": [
    "### Aufgabe 14: Recherchieren Sie im Internet was die `IMDB-Bewertung` und die `Rotten-Tomatoes-Bewertung` bedeuten und geben Sie für beide die möglichen Bewertungsbereiche an (z.B. sowas wie 1-6 bei Schulnoten). Decken sich die Bewertungsbereiche mit Ihren gefundenen min- und max-Werten?"
   ]
  },
  {
   "cell_type": "markdown",
   "id": "69eb5863-b530-4f57-ba89-bfaee5186611",
   "metadata": {
    "editable": true,
    "slideshow": {
     "slide_type": ""
    },
    "tags": []
   },
   "source": [
    "Antwort: Die IMDb-Bewertung und die Rotten-Tomatoes-Bewertung sind zwei unterschiedliche Systeme zur Bewertung von Filmen und Fernsehsendungen:\r\n",
    "\r\n",
    "### IMDb-Bewertung:\r\n",
    "- **Bedeutung**: Die IMDb-Bewertung ist eine numerische Bewertung, die von den Nutzern der Internet Movie Database (IMDb) abgegeben wird. Sie reflektiert die durchschnittliche Bewertung, die ein Film oder eine Serie von den Nutzern erhalten hat.\r\n",
    "- **Bewertungsbereich**: 1 bis 10. Nutzer können Filme und Serien auf einer Skala von 1 (schlecht) bis 10 (exzellent) bewerten.\r\n",
    "\r\n",
    "### Rotten-Tomatoes-Bewertung:\r\n",
    "- **Bedeutung**: Rotten Tomatoes bietet zwei Hauptbewertungen: den Tomatometer-Score und die Audience Score. Der Tomatometer-Score basiert auf den Bewertungen von professionellen Filmkritikern, während der Audience Score auf den Bewertungen von normalen Zuschauern basiert.\r\n",
    "- **Bewertungsbereich**: 0% bis 100%. Der Tomatometer-Score zeigt den Prozentsatz der positiven Kritiken an, die ein Film oder eine Serie erhalten hat.\r\n",
    "\r\n",
    "### Vergleich mit den gefundenen Werten:\r\n",
    "Die gefundenen Werte von 1-9 für IMDb und 1-100 für Rotten Tomatoes decken sich nicht vollständig mit den tatsächlichen Bewertungsbereichen, also sind in den Filmen in der Tabelle nicht alle möglichen Merkmalsausprägungen vertreten. Der IMDb-Bereich sollte 1-10 sein, während der Rotten-Tomatoes-Bereich korrekt mit 0-100 angegeben ist.geben ist.0-100 angegeben ist."
   ]
  },
  {
   "cell_type": "markdown",
   "id": "7f062fa1-9ba3-4080-8202-2328c31e4a05",
   "metadata": {
    "deletable": false,
    "editable": false,
    "tags": [
     "locked"
    ]
   },
   "source": [
    "### Aufgabe 15: Behandeln Sie eventuelle Duplikate und Leerstellen und argumentieren Sie jeweils, wieso Sie etwas gemacht haben. Geben Sie für jeden Schritt an, wie viele Datensätze danach noch im bereinigten Dataframe verbleiben und warum."
   ]
  },
  {
   "cell_type": "code",
   "execution_count": null,
   "id": "4bae4dd8-7556-4c5f-8a36-dcffc212d731",
   "metadata": {
    "editable": true,
    "slideshow": {
     "slide_type": ""
    },
    "tags": []
   },
   "outputs": [],
   "source": [
    "df_movies[df_movies.isna().any(axis=1)] # Anzeigen lassen der Zeilen mit NaNs"
   ]
  },
  {
   "cell_type": "code",
   "execution_count": null,
   "id": "e613d4e2-d9b7-48f2-a804-e250e40135e8",
   "metadata": {
    "editable": true,
    "slideshow": {
     "slide_type": ""
    },
    "tags": []
   },
   "outputs": [],
   "source": [
    "# Neue Kategorie für fehlende Hauptgenre-Werte, da die Spalte nicht so relevant für uns ist und wir die Zeilen nicht entfernen wollen, aber auch nichts annehmen wollen dafür\n",
    "df_movies['Hauptgenre'].fillna('Undefined', inplace=True)\n",
    "print(df_movies.isna().sum())\n",
    "df_movies.shape # Es verbleiben weiterhin 3205 Zeilen, da nur Werte ersetzt, aber keine Zeilen entfernt wurden"
   ]
  },
  {
   "cell_type": "code",
   "execution_count": null,
   "id": "4e97e2a9-df70-44ca-aac0-fa752009b8c8",
   "metadata": {
    "editable": true,
    "slideshow": {
     "slide_type": ""
    },
    "tags": []
   },
   "outputs": [],
   "source": [
    "# Entfernen von Zeilen mit fehlenden Werten in wichtigen Spalten, wo wir keinen Wert annehmen wollen\n",
    "df_movies.dropna(subset=['Weltweiter_Einspielumsatz', 'Produktionskosten', 'IMDB-Bewertung', 'Rotten-Tomatoes-Bewertung', 'Titel'], inplace=True)\n",
    "print(df_movies.isna().sum())\n",
    "df_movies.shape # Es verbleiben 2256 Zeilen, die verbleibenden Zeilen wurden entfernt, \n",
    "                # da wir für die entsprechenden Spalten keinen Wert annehmen wollten"
   ]
  },
  {
   "cell_type": "code",
   "execution_count": null,
   "id": "1afb13e4-dc34-4aaf-b93b-d4dbf10f398b",
   "metadata": {
    "editable": true,
    "slideshow": {
     "slide_type": ""
    },
    "tags": []
   },
   "outputs": [],
   "source": [
    "# Da die Laufzeit für die Analysen, die nachfolgenden gemacht werden sollen, nicht von großer Relevanz ist aber viele Zeilen betrifft, \n",
    "# nehmen wir hierfür den Mittelwert aller Filme an.\n",
    "mean_laufzeit = df_movies['Laufzeit_min'].mean()\n",
    "print(mean_laufzeit)\n",
    "df_movies['Laufzeit_min'].fillna(mean_laufzeit, inplace=True)\n",
    "print(df_movies.isna().sum())\n",
    "df_movies.shape # Es verbleiben 2256 Zeilen, da nur Werte mit dem Mittelwert für die Laufzeit ersetzt und keine Zeilen entfernt wurden"
   ]
  },
  {
   "cell_type": "code",
   "execution_count": null,
   "id": "01f7462b-ed15-42f5-a3ae-c7635068522f",
   "metadata": {
    "editable": true,
    "slideshow": {
     "slide_type": ""
    },
    "tags": []
   },
   "outputs": [],
   "source": [
    "# Überprüfen der Größe des bereinigten Dataframes\n",
    "df_movies.shape"
   ]
  },
  {
   "cell_type": "code",
   "execution_count": null,
   "id": "d1eaf813-5875-48dd-825f-2b0325789e0c",
   "metadata": {
    "editable": true,
    "slideshow": {
     "slide_type": ""
    },
    "tags": []
   },
   "outputs": [],
   "source": [
    "df_movies[df_movies.duplicated(keep=False)]"
   ]
  },
  {
   "cell_type": "code",
   "execution_count": null,
   "id": "10b16c22-a786-4b9c-9ced-d8b17a84a87f",
   "metadata": {
    "editable": true,
    "slideshow": {
     "slide_type": ""
    },
    "tags": []
   },
   "outputs": [],
   "source": [
    "# Entfernen von Duplikaten\n",
    "df_movies.drop_duplicates(inplace=True, keep='first')\n",
    "print(df_movies.shape) # Es verbleiben 2254 Zeilen, da die 2 Zeilen nach dem ersten Auftauchen der ersten Zeile entfernt wurden\n",
    "df_movies[df_movies.duplicated(keep=False)] # Überprüfen des Ergebnis"
   ]
  },
  {
   "cell_type": "code",
   "execution_count": null,
   "id": "79f67a77-612b-4175-8a82-1a16659c1588",
   "metadata": {
    "editable": true,
    "slideshow": {
     "slide_type": ""
    },
    "tags": []
   },
   "outputs": [],
   "source": [
    "%run src/05_Fragen_DAT_PJY_002.ipynb"
   ]
  },
  {
   "cell_type": "markdown",
   "id": "7cffa1f5-a743-4b8c-aeb7-50b5c453e452",
   "metadata": {
    "deletable": false,
    "editable": false,
    "tags": [
     "locked"
    ]
   },
   "source": [
    "### Aufgabe 16: Bringen Sie die Spalte `Hauptgenre` in ein einheitliches und konsistentes Format und passen Sie den Datentyp an."
   ]
  },
  {
   "cell_type": "code",
   "execution_count": null,
   "id": "9e5aafa3-544b-4937-b6c5-9276d39b81ef",
   "metadata": {
    "editable": true,
    "slideshow": {
     "slide_type": ""
    },
    "tags": []
   },
   "outputs": [],
   "source": [
    "# Analyse der Genre-Kategorien\n",
    "print(\"Einzigartige Hauptgenre:\")\n",
    "df_movies['Hauptgenre'].unique()"
   ]
  },
  {
   "cell_type": "code",
   "execution_count": null,
   "id": "5400f4db-abfe-43da-862c-a64e8772126c",
   "metadata": {
    "editable": true,
    "slideshow": {
     "slide_type": ""
    },
    "tags": []
   },
   "outputs": [],
   "source": [
    "df_movies['Hauptgenre'].replace({'Docu':'Documentary', 'Document.':'Documentary'}, inplace=True)"
   ]
  },
  {
   "cell_type": "code",
   "execution_count": null,
   "id": "b88a4015-eadc-44e7-9f39-b24c756fb9a4",
   "metadata": {
    "editable": true,
    "slideshow": {
     "slide_type": ""
    },
    "tags": []
   },
   "outputs": [],
   "source": [
    "df_movies['Hauptgenre'].unique() # Überprüfen des Ergebnis"
   ]
  },
  {
   "cell_type": "code",
   "execution_count": null,
   "id": "597c9824-2eef-40c5-84b4-e9dce45ca977",
   "metadata": {
    "editable": true,
    "slideshow": {
     "slide_type": ""
    },
    "tags": []
   },
   "outputs": [],
   "source": [
    "df_movies['Hauptgenre'] = df_movies['Hauptgenre'].astype('category')\n",
    "df_movies.info()"
   ]
  },
  {
   "cell_type": "markdown",
   "id": "f3fd43e3-5773-446f-b2da-e77a18c2f9a9",
   "metadata": {
    "deletable": false,
    "editable": false,
    "tags": [
     "locked"
    ]
   },
   "source": [
    "### Aufgabe 17: Definieren, visualisieren und behandeln Sie eventuelle Ausreißer in `Laufzeit_min`. Argumentieren Sie wieder wieso Sie welche Methode angewandt haben. Beantworten Sie auch die Frage im Anschluss."
   ]
  },
  {
   "cell_type": "code",
   "execution_count": null,
   "id": "900a43f1-f2b3-42bc-8f1d-a3e8f0ed566f",
   "metadata": {
    "editable": true,
    "slideshow": {
     "slide_type": ""
    },
    "tags": []
   },
   "outputs": [],
   "source": [
    "plt.close('all')\n",
    "df_movies['Laufzeit_min'].plot.box()\n",
    "plt.show() # Der Plot ist daher so verzerrt und man erkennt keinen richtigen Boxplot mehr, da wir 1994 Werte(über die Hälfte)\n",
    "           # mit dem Mittelwert ersetzt haben. "
   ]
  },
  {
   "cell_type": "code",
   "execution_count": null,
   "id": "a69f7f67-457e-4b67-8863-cc11389bf78d",
   "metadata": {
    "editable": true,
    "slideshow": {
     "slide_type": ""
    },
    "tags": []
   },
   "outputs": [],
   "source": [
    "# Natürliche Grenzen für Laufzeit\n",
    "ausreisser_laufzeit = df_movies[(df_movies['Laufzeit_min'] < 0)] # Wir lassen grundsätzliche alle Laufzeiten zu, da es Kurzfilme und\n",
    "                                                                 # und sehr lange Filme gibt, aber negative Laufzeiten gibt es nicht.\n",
    "ausreisser_laufzeit"
   ]
  },
  {
   "cell_type": "code",
   "execution_count": null,
   "id": "3b27ade5-27db-4fb7-b980-0b10c33b358a",
   "metadata": {
    "editable": true,
    "slideshow": {
     "slide_type": ""
    },
    "tags": []
   },
   "outputs": [],
   "source": [
    "# Wir gehen davon aus/wir wissen, dass es sich um ein Vorzeichenfehler handelt, daher ersetzen wir die Werte mit dem Betrag abs()\n",
    "df_movies['Laufzeit_min'] = abs(df_movies['Laufzeit_min'])"
   ]
  },
  {
   "cell_type": "code",
   "execution_count": null,
   "id": "5eb0d127-d727-4bb8-a8f6-5ef5d84ee30e",
   "metadata": {
    "editable": true,
    "slideshow": {
     "slide_type": ""
    },
    "tags": []
   },
   "outputs": [],
   "source": [
    "%run src/06_Fragen_DAT_PJY_002.ipynb"
   ]
  },
  {
   "cell_type": "markdown",
   "id": "1dfdeeec-3986-4d96-b820-45295bb853b5",
   "metadata": {
    "deletable": false,
    "editable": false,
    "tags": [
     "locked"
    ]
   },
   "source": [
    "### Aufgabe 18: Führen Sie das One Hot Encoding für entsprechende(n) Spalte(n) durch. "
   ]
  },
  {
   "cell_type": "code",
   "execution_count": null,
   "id": "ea2f525c-f27f-4c3b-8c70-b6c238fdaa64",
   "metadata": {
    "editable": true,
    "slideshow": {
     "slide_type": ""
    },
    "tags": []
   },
   "outputs": [],
   "source": [
    "# One Hot Encoding für kategorische Variablen\n",
    "df_movies = pd.get_dummies(df_movies, columns=['Hauptgenre'])"
   ]
  },
  {
   "cell_type": "code",
   "execution_count": null,
   "id": "cd5d6b37-e5ae-4277-bb3c-c0dca62529f3",
   "metadata": {
    "editable": true,
    "slideshow": {
     "slide_type": ""
    },
    "tags": []
   },
   "outputs": [],
   "source": [
    "df_movies.head()"
   ]
  },
  {
   "cell_type": "markdown",
   "id": "0cfb7ea3-60a1-4fea-a2ba-21af14388a75",
   "metadata": {
    "deletable": false,
    "editable": false,
    "tags": [
     "locked"
    ]
   },
   "source": [
    "### Bonusaufgabe: Return on Investment (ROI) Analyse\n",
    "\n",
    "Finden Sie die profitabelsten Filme basierend auf dem Return on Investment (ROI). Der ROI berechnet sich als:\n",
    "```\n",
    "ROI = (Weltweiter_Einspielumsatz - Produktionskosten) / Produktionskosten * 100\n",
    "```\n",
    "\n",
    "Sie können einem Dataframe eine neue Spalte hinzufügen, indem Sie z.B `df_movies['neueSpalte'] = 1` ausführen. Jetzt würde in der Spalte `neueSpalte` in jeder Zeile eine 1 stehen.\n",
    "\n",
    "Um den Datensatz zu sortieren anhand der angegebenen Spalte (`by='Spaltenname'`) kann die Methode `df.sort_values(by='Spaltenname', ascending=False)` genutzt werden. Standardmäßig ist `ascending=True`, sodass die kleinsten Werte oben stehen und die größten unten."
   ]
  },
  {
   "cell_type": "code",
   "execution_count": null,
   "id": "a145ee8e-60bc-4d26-a9f2-bbf302790baa",
   "metadata": {
    "editable": true,
    "slideshow": {
     "slide_type": ""
    },
    "tags": []
   },
   "outputs": [],
   "source": [
    "# ROI Berechnung\n",
    "df_movies['ROI'] = (df_movies['Weltweiter_Einspielumsatz'] - df_movies['Produktionskosten']) / df_movies['Produktionskosten'] * 100\n",
    "df_movies.sort_values(by='ROI', ascending=False)"
   ]
  },
  {
   "cell_type": "markdown",
   "id": "9b1ea13c-28d3-4677-a839-c2eea6d4ad92",
   "metadata": {
    "deletable": false,
    "editable": false,
    "tags": [
     "locked"
    ]
   },
   "source": [
    "### Bonusaufgabe: Jemand behauptet, je mehr Geld man in einen Film steckt, also je höher die Produktionskosten sind, desto besser ist auch die IMDB-Bewertung. Stimmt das? Visualisieren Sie und geben Sie außerdem einen Wert aus, der den Zusammenhang quantifizieren könnte. Stimmt die Aussage?\n",
    "\n",
    "**Hinweis**: Schauen Sie zur Hilfe in der *Daten: Deskriptive Statistik und Visualisierung*-Übung nach."
   ]
  },
  {
   "cell_type": "code",
   "execution_count": null,
   "id": "c8832b79-f667-4c0d-851d-0dc169fb73af",
   "metadata": {
    "editable": true,
    "slideshow": {
     "slide_type": ""
    },
    "tags": []
   },
   "outputs": [],
   "source": [
    "plt.close('all')\n",
    "sns.scatterplot(data=df_movies, x='Produktionskosten', y='IMDB-Bewertung')"
   ]
  },
  {
   "cell_type": "code",
   "execution_count": null,
   "id": "b7bcabd7-8835-4993-b1c9-7dfaa7775488",
   "metadata": {
    "editable": true,
    "slideshow": {
     "slide_type": ""
    },
    "tags": []
   },
   "outputs": [],
   "source": [
    "df_movies.corr(method='pearson', numeric_only=True)"
   ]
  },
  {
   "cell_type": "markdown",
   "id": "286d890d-c349-4890-87d8-1e5862776801",
   "metadata": {
    "editable": true,
    "slideshow": {
     "slide_type": ""
    },
    "tags": []
   },
   "source": [
    "Antwort: Die Korrelation beträgt ungefähr 0.016, es gibt also danach so gut wie keinen Zusammenhang zwischen den Merkmalen. Im Plot sieht man, dass die Chance eine schlechte Bewertung zu bekommen mit dem Steigen der Produktionskosten sinkt, es aber auch viele gute Bewertungen bei sehr geringen Produktionskosten gibt. "
   ]
  },
  {
   "cell_type": "markdown",
   "id": "638d411a-b898-4dd9-a8c0-cbd6909c972a",
   "metadata": {
    "deletable": false,
    "editable": false,
    "tags": [
     "locked"
    ]
   },
   "source": [
    "### Bonusaufgabe: Stimmt es, dass je mehr Geld man in die Produktion steckt, desto mehr Geld wird dann auch weltweit eingespielt?"
   ]
  },
  {
   "cell_type": "code",
   "execution_count": null,
   "id": "c1a66263-d7c8-49b8-be51-7ee063dc6ff6",
   "metadata": {
    "editable": true,
    "slideshow": {
     "slide_type": ""
    },
    "tags": []
   },
   "outputs": [],
   "source": [
    "plt.close('all')\n",
    "sns.scatterplot(data=df_movies, x='Produktionskosten', y='Weltweiter_Einspielumsatz')"
   ]
  },
  {
   "cell_type": "markdown",
   "id": "45c93201-be26-417f-9764-bbba618fad4c",
   "metadata": {
    "deletable": false,
    "editable": false,
    "tags": [
     "locked"
    ]
   },
   "source": [
    "Antwort: Die Korrelation beträgt ungefähr 0.66, damit kann man schon von einem positiven Zusammenhang der beiden Merkmale ausgehen. Auch im Plot sieht man, dass die Chance schlechte Einspielzahlen zu erreichen mit dem Steigen der Produktionskosten sinkt und dieEinspielzahlen mit höheren Produktionskosten steigen."
   ]
  },
  {
   "cell_type": "markdown",
   "id": "1ac25f25-9049-4fab-aeb0-3f7b4487faf6",
   "metadata": {
    "deletable": false,
    "editable": false,
    "tags": [
     "locked"
    ]
   },
   "source": [
    "---\n",
    "\n",
    "<a rel=\"license\" href=\"http://creativecommons.org/licenses/by-nc-nd/4.0/\"><img alt=\"Creative Commons Lizenzvertrag\" style=\"border-width:0\" src=\"https://i.creativecommons.org/l/by-nc-nd/4.0/88x31.png\" /></a><br /><span xmlns:dct=\"http://purl.org/dc/terms/\" property=\"dct:title\">Die Übungsserie begleitend zum AI4ALL-Kurs</span> der <span xmlns:cc=\"http://creativecommons.org/ns#\" property=\"cc:attributionName\">EAH Jena</span> ist lizenziert unter einer <a rel=\"license\" href=\"http://creativecommons.org/licenses/by-nc-nd/4.0/\">Creative Commons Namensnennung - Nicht kommerziell - Keine Bearbeitungen 4.0 International Lizenz</a>.\n",
    "\n",
    "Der AI4ALL-Kurs entsteht im Rahmen des Projekts MoVeKI2EAH. Das Projekt MoVeKI2EAH wird durch das BMBF (Bundesministerium für Bildung und Forschung) und den Freistaat Thüringen im Rahmen der Bund-Länder-Initiative zur Förderung von Künstlicher Intelligenz in der Hochschulbildung gefördert (12/2021 bis 11/2025, Föderkennzeichen 16DHBKI081)."
   ]
  }
 ],
 "metadata": {
  "kernelspec": {
   "display_name": "Python 3 (ipykernel)",
   "language": "python",
   "name": "python3"
  },
  "language_info": {
   "codemirror_mode": {
    "name": "ipython",
    "version": 3
   },
   "file_extension": ".py",
   "mimetype": "text/x-python",
   "name": "python",
   "nbconvert_exporter": "python",
   "pygments_lexer": "ipython3",
   "version": "3.10.10"
  }
 },
 "nbformat": 4,
 "nbformat_minor": 5
}
