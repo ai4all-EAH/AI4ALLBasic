{
 "cells": [
  {
   "cell_type": "markdown",
   "metadata": {},
   "source": [
    "<img src=\"./src/logo.png\" width=\"250\">"
   ]
  },
  {
   "cell_type": "markdown",
   "metadata": {},
   "source": [
    "**Baustein:** Regression  $\\rightarrow$ **Subbaustein:** Übung: Einfache Lineare Regression $\\rightarrow$ **Übungsserie**\n",
    "\n",
    "**Version:** 1.0, **Lizenz:** <a rel=\"license\" href=\"http://creativecommons.org/licenses/by-nc-nd/4.0/\">CC BY-NC-ND 4.0</a>\n",
    "\n",
    "***\n",
    "# Übungsblatt X (REG-UEB-001)"
   ]
  },
  {
   "cell_type": "code",
   "execution_count": null,
   "metadata": {},
   "outputs": [],
   "source": [
    "import numpy as np\n",
    "import matplotlib.pyplot as plt\n",
    "from sklearn.linear_model import LinearRegression\n",
    "from IPython.display import display\n",
    "from sklearn.preprocessing import StandardScaler\n",
    "\n",
    "from src.Regression_widget import WidgetRegression\n",
    "from src.utils import read_csv_data\n",
    "\n",
    "import importlib.util\n",
    "import sys\n",
    "# Pfad zur .pyc-Datei\n",
    "pyc_file_path = 'src/__pycache__/tests.cpython-310.pyc'\n",
    "# Modulname definieren\n",
    "module_name = 'tests'\n",
    "# Spezifikation für das Modul erstellen\n",
    "spec = importlib.util.spec_from_file_location(module_name, pyc_file_path)\n",
    "module = importlib.util.module_from_spec(spec)\n",
    "sys.modules[module_name] = module\n",
    "spec.loader.exec_module(module)\n",
    "\n",
    "# Jetzt können Sie die Methoden aus dem Modul verwenden\n",
    "test_exercise_11 = module.test_exercise_11\n",
    "test_exercise_12 = module.test_exercise_12\n",
    "test_exercise_21 = module.test_exercise_21\n",
    "\n",
    "%load_ext autoreload\n",
    "%autoreload 2"
   ]
  },
  {
   "cell_type": "markdown",
   "metadata": {},
   "source": [
    "---\n",
    "## Übung 1 Interaktive Simulation"
   ]
  },
  {
   "cell_type": "code",
   "execution_count": null,
   "metadata": {},
   "outputs": [],
   "source": [
    "widget_instance = WidgetRegression()\n",
    "display(widget_instance.layout)"
   ]
  },
  {
   "cell_type": "markdown",
   "metadata": {},
   "source": [
    "### Aufgabe 1.1 Bedeutung der Parameter \n"
   ]
  },
  {
   "cell_type": "code",
   "execution_count": null,
   "metadata": {},
   "outputs": [],
   "source": [
    "solution_11 = {\n",
    "    \"test1\": {\n",
    "        \"m\": 10.0,\n",
    "        \"b\": 10.0,\n",
    "    },\n",
    "    \"test2\": {\n",
    "        \"m\": 10.0,\n",
    "        \"b\": 10.0,\n",
    "    },\n",
    "    \"test3\": {\n",
    "        \"m\": 10.0,\n",
    "        \"b\": 10.0\n",
    "    }\n",
    "}\n",
    "\n",
    "test_exercise_11(solution_11)"
   ]
  },
  {
   "cell_type": "markdown",
   "metadata": {},
   "source": [
    "### Aufgabe 1.2 Minimierung der Abstände"
   ]
  },
  {
   "cell_type": "code",
   "execution_count": null,
   "metadata": {},
   "outputs": [],
   "source": [
    "data = read_csv_data('data/REG-DAT-001.csv')"
   ]
  },
  {
   "cell_type": "code",
   "execution_count": null,
   "metadata": {},
   "outputs": [],
   "source": [
    "widget_instance = WidgetRegression(data=data)\n",
    "display(widget_instance.layout)"
   ]
  },
  {
   "cell_type": "code",
   "execution_count": null,
   "metadata": {},
   "outputs": [],
   "source": [
    "solution_12 = {\n",
    "    \"m\": 1.00,\n",
    "    \"b\": 0.20\n",
    "}\n",
    "\n",
    "test_exercise_12(data, solution_12)"
   ]
  },
  {
   "cell_type": "markdown",
   "metadata": {},
   "source": [
    "---\n",
    "## Übung 2 Datenbeschaffenheit"
   ]
  },
  {
   "cell_type": "code",
   "execution_count": null,
   "metadata": {},
   "outputs": [],
   "source": [
    "data = read_csv_data('data/REG-DAT-002.csv')"
   ]
  },
  {
   "cell_type": "code",
   "execution_count": null,
   "metadata": {},
   "outputs": [],
   "source": [
    "# TODO\n"
   ]
  },
  {
   "cell_type": "code",
   "execution_count": null,
   "metadata": {},
   "outputs": [],
   "source": [
    "\n",
    "solution_21 = {\n",
    "    \"monthly_income\": {\n",
    "        \"prediction\": True,\n",
    "        \"inference\": True\n",
    "    },\n",
    "    \"average_temperature\": {\n",
    "        \"prediction\": True,\n",
    "        \"inference\": True\n",
    "    },\n",
    "    \"distance_to_store\": {\n",
    "        \"prediction\": True,\n",
    "        \"inference\": True\n",
    "    }\n",
    "}\n",
    "\n",
    "test_exercise_21(solution_21)"
   ]
  },
  {
   "cell_type": "markdown",
   "metadata": {},
   "source": [
    "---\n",
    "## Aufgabe 3 Anwendung der Regression\n",
    "\n",
    "### Aufgabe 3.1 Training des Modells"
   ]
  },
  {
   "cell_type": "code",
   "execution_count": null,
   "metadata": {},
   "outputs": [],
   "source": [
    "data = read_csv_data('data/REG-DAT-002.csv')"
   ]
  },
  {
   "cell_type": "code",
   "execution_count": null,
   "metadata": {},
   "outputs": [],
   "source": [
    "# TODO\n",
    "x = data[:,?].reshape(-1,1)\n",
    "y = data[:,?].reshape(-1,1)"
   ]
  },
  {
   "cell_type": "code",
   "execution_count": null,
   "metadata": {},
   "outputs": [],
   "source": [
    "# TODO\n",
    "scaler_x = StandardScaler()\n",
    "x_scaled = scaler_x.fit_transform(x)\n",
    "y_scaled = ..."
   ]
  },
  {
   "cell_type": "code",
   "execution_count": null,
   "metadata": {},
   "outputs": [],
   "source": [
    "reg_model = LinearRegression().fit(x_scaled, y_scaled)"
   ]
  },
  {
   "cell_type": "markdown",
   "metadata": {},
   "source": [
    "### Aufgabe 3.2 Nutzung des Modells"
   ]
  },
  {
   "cell_type": "code",
   "execution_count": null,
   "metadata": {},
   "outputs": [],
   "source": [
    "x_test = np.array([2000.0, 6000.0]).reshape(-1, 1)"
   ]
  },
  {
   "cell_type": "code",
   "execution_count": null,
   "metadata": {},
   "outputs": [],
   "source": [
    "# TODO\n",
    "x_test_scaled = ???"
   ]
  },
  {
   "cell_type": "code",
   "execution_count": null,
   "metadata": {},
   "outputs": [],
   "source": [
    "y_pred_scaled = reg_model.predict(x_test_scaled)"
   ]
  },
  {
   "cell_type": "code",
   "execution_count": null,
   "metadata": {},
   "outputs": [],
   "source": [
    "# TODO\n",
    "x_test = scaler_x.inverse_transform(x_test_scaled)\n",
    "y_pred = ???"
   ]
  },
  {
   "cell_type": "code",
   "execution_count": null,
   "metadata": {},
   "outputs": [],
   "source": [
    "# TODO\n",
    "x_data = ???\n",
    "y_data = ???\n",
    "\n",
    "plt.plot(x_data, y_data, color='red', linewidth=1, label='Gerade')\n",
    "plt.scatter(x, y, color='blue', s=1, label='Gerade')\n",
    "plt.xlabel('x', fontsize=8)\n",
    "plt.ylabel('y', fontsize=8)\n",
    "plt.title('Lineare Regression', fontsize=8)\n",
    "plt.legend(fontsize=8)\n",
    "plt.show()"
   ]
  },
  {
   "cell_type": "code",
   "execution_count": null,
   "metadata": {},
   "outputs": [],
   "source": [
    "b = reg_model.intercept_[0]\n",
    "m = reg_model.coef_[0,0]"
   ]
  },
  {
   "cell_type": "code",
   "execution_count": null,
   "metadata": {},
   "outputs": [],
   "source": [
    "# TODO\n",
    "y_pred_scaled_2 = ???"
   ]
  },
  {
   "cell_type": "code",
   "execution_count": null,
   "metadata": {},
   "outputs": [],
   "source": [
    "# TODO\n",
    "y_pred_2 = ???"
   ]
  },
  {
   "cell_type": "code",
   "execution_count": null,
   "metadata": {},
   "outputs": [],
   "source": [
    "# TODO\n"
   ]
  },
  {
   "cell_type": "markdown",
   "metadata": {},
   "source": [
    "---\n",
    "\n",
    "<a rel=\"license\" href=\"http://creativecommons.org/licenses/by-nc-nd/4.0/\"><img alt=\"Creative Commons Lizenzvertrag\" style=\"border-width:0\" src=\"https://i.creativecommons.org/l/by-nc-nd/4.0/88x31.png\" /></a><br /><span xmlns:dct=\"http://purl.org/dc/terms/\" property=\"dct:title\">Die Übungsserie begleitend zum AI4ALL-Kurs</span> der <span xmlns:cc=\"http://creativecommons.org/ns#\" property=\"cc:attributionName\">EAH Jena</span> ist lizenziert unter einer <a rel=\"license\" href=\"http://creativecommons.org/licenses/by-nc-nd/4.0/\">Creative Commons Namensnennung - Nicht kommerziell - Keine Bearbeitungen 4.0 International Lizenz</a>.\n",
    "\n",
    "Der AI4ALL-Kurs entsteht im Rahmen des Projekts MoVeKI2EAH. Das Projekt MoVeKI2EAH wird durch das BMBF (Bundesministerium für Bildung und Forschung) und den Freistaat Thüringen im Rahmen der Bund-Länder-Initiative zur Förderung von Künstlicher Intelligenz in der Hochschulbildung gefördert (12/2021 bis 11/2025, Föderkennzeichen 16DHBKI081)."
   ]
  }
 ],
 "metadata": {
  "kernelspec": {
   "display_name": "env",
   "language": "python",
   "name": "python3"
  },
  "language_info": {
   "codemirror_mode": {
    "name": "ipython",
    "version": 3
   },
   "file_extension": ".py",
   "mimetype": "text/x-python",
   "name": "python",
   "nbconvert_exporter": "python",
   "pygments_lexer": "ipython3",
   "version": "3.10.15"
  }
 },
 "nbformat": 4,
 "nbformat_minor": 2
}
