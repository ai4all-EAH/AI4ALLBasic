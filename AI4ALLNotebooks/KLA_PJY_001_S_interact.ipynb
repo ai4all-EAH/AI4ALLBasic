{
 "cells": [
  {
   "cell_type": "markdown",
   "id": "a817d567-038e-487c-919f-555ebae3493c",
   "metadata": {
    "deletable": false,
    "editable": false,
    "tags": [
     "locked"
    ]
   },
   "source": [
    "<img src=\"./src/logo.png\" width=\"250\">"
   ]
  },
  {
   "cell_type": "markdown",
   "id": "190f3f46-1c14-44df-9251-878960c1fbe3",
   "metadata": {
    "deletable": false,
    "editable": false,
    "tags": [
     "locked"
    ]
   },
   "source": [
    "**Baustein:** Klassifikation  $\\rightarrow$ **Subbaustein:** Grundlagen und $k$-Nearest Neighbour $\\rightarrow$ **Interaktive Übungsserie**\n",
    "\n",
    "**Version:** 2.0, **Lizenz:** <a rel=\"license\" href=\"http://creativecommons.org/licenses/by-nc-nd/4.0/\">CC BY-NC-ND 4.0</a>\n",
    "\n",
    "***"
   ]
  },
  {
   "cell_type": "markdown",
   "id": "3fdf124c-41f6-4482-ad19-df24145f89ac",
   "metadata": {
    "deletable": false,
    "editable": false,
    "tags": [
     "locked"
    ]
   },
   "source": [
    "# Klassifikation: Grundlagen und $k$-Nearest Neighbour"
   ]
  },
  {
   "cell_type": "markdown",
   "id": "f3e5acc6-bca1-4cca-931c-5fc5c260ae3d",
   "metadata": {
    "deletable": false,
    "editable": false,
    "tags": [
     "locked"
    ]
   },
   "source": [
    "---\n",
    "## Interaktive Übung\n",
    "\n",
    "Das folgende Widget soll dazu dienen Ihnen die Funktionsweise von $k$-Nearest Neighbour zu verdeutlichen. Verändern Sie die Einstellmöglichkeiten des Widgets, um die nachfolgenden Fragen zu beantworten."
   ]
  },
  {
   "cell_type": "code",
   "execution_count": 11,
   "id": "10f6fc07-f749-4e4d-8b70-4d301b006dfa",
   "metadata": {
    "deletable": false,
    "editable": false,
    "tags": [
     "locked"
    ]
   },
   "outputs": [
    {
     "data": {
      "application/vnd.jupyter.widget-view+json": {
       "model_id": "150b21825899469d850e928fdba48bd6",
       "version_major": 2,
       "version_minor": 0
      },
      "text/plain": [
       "Tab(children=(VBox(children=(Dropdown(description='Merkmal 1:', options=('Schnabellaenge', 'Schnabelhoehe', 'F…"
      ]
     },
     "metadata": {},
     "output_type": "display_data"
    },
    {
     "data": {
      "application/vnd.jupyter.widget-view+json": {
       "model_id": "1a3fda09506146acacfdf7d00a7c0367",
       "version_major": 2,
       "version_minor": 0
      },
      "text/plain": [
       "Output()"
      ]
     },
     "metadata": {},
     "output_type": "display_data"
    }
   ],
   "source": [
    "%run src/kNN_widget_interactive.py"
   ]
  },
  {
   "cell_type": "markdown",
   "id": "4ce57066-e116-4bcd-ac4d-3fb986d5783d",
   "metadata": {
    "deletable": false,
    "editable": false,
    "tags": [
     "locked"
    ]
   },
   "source": [
    "## Aufgabe 1: Merkmalsauswahl\n",
    "- Welche Merkmalskombinationen eignen sich besonders gut zur Unterscheidung der Pinguinarten?\r",
    "-  Gibt es Merkmale, bei denen die Klassifikation besonders schlecht funktionieen könntet?"
   ]
  },
  {
   "cell_type": "markdown",
   "id": "152715fe-1cff-40b0-bc85-3fe8cf7b9e49",
   "metadata": {},
   "source": [
    "Antwort: "
   ]
  },
  {
   "cell_type": "markdown",
   "id": "0e5bf47a-dec9-4c61-98aa-2ee6522788d5",
   "metadata": {
    "deletable": false,
    "editable": false,
    "tags": [
     "locked"
    ]
   },
   "source": [
    "## Aufgabe 2: Parameter *k*\n",
    "- Experimentieren Sie mit verschiedenen Werten für $k$. Was passiert bei sehr kleinen ($k=1$)  und sehr großen Werten ($k=260$)\n",
    "- Finden Sie Testpunkte, bei denen die Klassifikation sich je nach $k$-Wert ändert?\n",
    "- Was passiert bei der Wahl eines geraden Wertes für $k$? Können Sie eine Situation  herbeiführen, in der es zu einem Gleichstand kommt Wieso sollte ein gerader Wert für $k$ vermieden werden?"
   ]
  },
  {
   "cell_type": "markdown",
   "id": "3fe137fc-a0ac-4177-a6ac-75007e047f9e",
   "metadata": {},
   "source": [
    "Antwort: "
   ]
  },
  {
   "cell_type": "markdown",
   "id": "10b85ae2-b71f-4381-9ae2-8cd6c6ba3d57",
   "metadata": {
    "deletable": false,
    "editable": false,
    "tags": [
     "locked"
    ]
   },
   "source": [
    "## Aufgabe 3: Normalisierung\n",
    "- Vergleichen Sie die Klassifikation ohne Normalisierung, mit Min-Max-Skalierung und mit Z-Transformation.\n",
    "- Wann macht welche Art der Vorverarbeitung besonders viel Sinn? (variieren Sie hierfür die Merkmale)"
   ]
  },
  {
   "cell_type": "markdown",
   "id": "dc586ecf-6fef-4cb3-884e-7f89ea537f37",
   "metadata": {},
   "source": [
    "Antwort: "
   ]
  },
  {
   "cell_type": "markdown",
   "id": "ce2778c7-a184-4486-96a8-b40699f91ffa",
   "metadata": {
    "deletable": false,
    "editable": false,
    "tags": [
     "locked"
    ]
   },
   "source": [
    "## Aufgabe 4: Distanzmaße\n",
    "- Vergleichen Sie die Manhattan-Distanz mit der euklidischen Distanz.\n",
    "- Gibt es Situationen, in denen die Wahl des Distanzmaßes einen Unterschied in der Klassifikation macht?\n",
    "- Welches Distanzmaß ist für Sie intuitiver?"
   ]
  },
  {
   "cell_type": "markdown",
   "id": "b7f1477c-ba7d-4355-a7f0-e1f0d33a79e3",
   "metadata": {},
   "source": [
    "Antwort: "
   ]
  },
  {
   "cell_type": "markdown",
   "id": "6d5e4755-cf5c-45b8-a942-5febbf99d90b",
   "metadata": {
    "editable": true,
    "slideshow": {
     "slide_type": ""
    },
    "tags": []
   },
   "source": [
    "## Aufgabe 5: Randbereich-Analyse\n",
    "- Untersuchen Sie das Verhalten des Klassifikators an den Grenzen zwischen den Klassen.\n",
    "- Gibt es Bereiche, in denen die Klassifikation besonders unsicher ist?\n",
    "- Wie verändert sich die Vorhersage hier, wenn Sie den Testpunkt leicht verschieben?\n",
    "- Wie zuverlässig ist der Klassifikator, wenn sich der Testpunkt außerhalb der Grenzen aller Trainingspunkte befindet?"
   ]
  },
  {
   "cell_type": "markdown",
   "id": "7baf14db-d655-4fee-b258-5ceb1a92e925",
   "metadata": {},
   "source": [
    "Antwort: "
   ]
  },
  {
   "cell_type": "markdown",
   "id": "56db146e-4ace-4f70-9624-2bcefe7c2889",
   "metadata": {
    "deletable": false,
    "editable": false,
    "tags": [
     "locked"
    ]
   },
   "source": [
    "---\n",
    "\n",
    "<a rel=\"license\" href=\"http://creativecommons.org/licenses/by-nc-nd/4.0/\"><img alt=\"Creative Commons Lizenzvertrag\" style=\"border-width:0\" src=\"https://i.creativecommons.org/l/by-nc-nd/4.0/88x31.png\" /></a><br /><span xmlns:dct=\"http://purl.org/dc/terms/\" property=\"dct:title\">Die Übungsserie begleitend zum AI4ALL-Kurs</span> der <span xmlns:cc=\"http://creativecommons.org/ns#\" property=\"cc:attributionName\">EAH Jena</span> ist lizenziert unter einer <a rel=\"license\" href=\"http://creativecommons.org/licenses/by-nc-nd/4.0/\">Creative Commons Namensnennung - Nicht kommerziell - Keine Bearbeitungen 4.0 International Lizenz</a>.\n",
    "\n",
    "Der AI4ALL-Kurs entsteht im Rahmen des Projekts MoVeKI2EAH. Das Projekt MoVeKI2EAH wird durch das BMBF (Bundesministerium für Bildung und Forschung) und den Freistaat Thüringen im Rahmen der Bund-Länder-Initiative zur Förderung von Künstlicher Intelligenz in der Hochschulbildung gefördert (12/2021 bis 11/2025, Föderkennzeichen 16DHBKI081)."
   ]
  }
 ],
 "metadata": {
  "kernelspec": {
   "display_name": "Python 3 (ipykernel)",
   "language": "python",
   "name": "python3"
  },
  "language_info": {
   "codemirror_mode": {
    "name": "ipython",
    "version": 3
   },
   "file_extension": ".py",
   "mimetype": "text/x-python",
   "name": "python",
   "nbconvert_exporter": "python",
   "pygments_lexer": "ipython3",
   "version": "3.10.10"
  }
 },
 "nbformat": 4,
 "nbformat_minor": 5
}
