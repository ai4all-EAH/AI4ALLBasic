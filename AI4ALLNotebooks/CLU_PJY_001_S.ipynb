{
 "cells": [
  {
   "cell_type": "markdown",
   "metadata": {},
   "source": [
    "<img src=\"./src/logo.png\" width=\"250\">"
   ]
  },
  {
   "cell_type": "markdown",
   "metadata": {},
   "source": [
    "**Baustein:** Regression  $\\rightarrow$ **Subbaustein:** Einfache Lineare Regression $\\rightarrow$ **Übungsserie**\n",
    "\n",
    "**Version:** 1.0, **Lizenz:** <a rel=\"license\" href=\"http://creativecommons.org/licenses/by-nc-nd/4.0/\">CC BY-NC-ND 4.0</a>\n",
    "\n",
    "***\n",
    "# Übungsblatt (CLU-UEB-001)"
   ]
  },
  {
   "cell_type": "code",
   "execution_count": null,
   "metadata": {},
   "outputs": [],
   "source": [
    "# Eine Bibliothek zur effizienten Anwendung mathematischer Operationen auf Array\n",
    "import numpy as np\n",
    "# Zur Erstellung statischer, animierter und interaktiver Visualisierungen\n",
    "import matplotlib.pyplot as plt\n",
    "from IPython.display import display\n",
    "# Pandas ist ein schnelles, leistungsstarkes, flexibles und benutzerfreundliches Open-Source-Tool zur Datenanalyse und -manipulation.\n",
    "import pandas as pd\n",
    "# Datenvisualisierung basierend auf matplotlib\n",
    "import seaborn as sns\n",
    "# Bibliothek für die Datenanalyse\n",
    "from sklearn.cluster import KMeans\n",
    "from sklearn.preprocessing import normalize\n",
    "from sklearn.metrics import silhouette_score, silhouette_samples\n",
    "\n",
    "from src.Clustering_widget import WidgetClustering, WidgetClustering2\n",
    "\n",
    "import importlib.util\n",
    "import sys\n",
    "# Pfad zur .pyc-Datei\n",
    "pyc_file_path = 'src/__pycache__/tests_clu.cpython-310.pyc'\n",
    "# Modulname definieren\n",
    "module_name = 'tests_clu'\n",
    "# Spezifikation für das Modul erstellen\n",
    "spec = importlib.util.spec_from_file_location(module_name, pyc_file_path)\n",
    "module = importlib.util.module_from_spec(spec)\n",
    "sys.modules[module_name] = module\n",
    "spec.loader.exec_module(module)\n",
    "\n",
    "# Jetzt können Sie die Methoden aus dem Modul verwenden\n",
    "test_exercise_11 = module.test_exercise_11\n",
    "test_exercise_12 = module.test_exercise_12\n",
    "\n",
    "\n",
    "%load_ext autoreload\n",
    "%autoreload 2"
   ]
  },
  {
   "cell_type": "markdown",
   "metadata": {},
   "source": [
    "---\n",
    "## Übung 1 Interaktive Simulation\n",
    "### Aufgabe 1.1 Hyperparameter"
   ]
  },
  {
   "cell_type": "code",
   "execution_count": null,
   "metadata": {},
   "outputs": [],
   "source": [
    "widget_instance = WidgetClustering()\n",
    "display(widget_instance.layout)"
   ]
  },
  {
   "cell_type": "code",
   "execution_count": null,
   "metadata": {},
   "outputs": [],
   "source": [
    "# ---------------------------------------------\n",
    "# TODO\n",
    "# ---------------------------------------------\n",
    "solution_11 = {\n",
    "    \"dataset_1\": {\n",
    "        \"n_clusters\": 0,\n",
    "        \"center_1\": {\"iterations\": 0, \"working\": False},\n",
    "        \"center_2\": {\"iterations\": 0, \"working\": False}\n",
    "    },\n",
    "    \"dataset_2\": {\n",
    "        \"n_clusters\": 0,\n",
    "        \"center_1\": {\"iterations\": 0, \"working\": False},\n",
    "        \"center_2\": {\"iterations\": 0, \"working\": False}\n",
    "    },\n",
    "    \"dataset_3\": {\n",
    "        \"n_clusters\": 0,\n",
    "        \"center_1\": {\"iterations\": 0, \"working\": False},\n",
    "        \"center_2\": {\"iterations\": 0, \"working\": False}\n",
    "    },\n",
    "    \"dataset_4\": {\n",
    "        \"n_clusters\": 0,\n",
    "        \"center_1\": {\"iterations\": 0, \"working\": False},\n",
    "        \"center_2\": {\"iterations\": 0, \"working\": False}\n",
    "    },\n",
    "    \"dataset_5\": {\n",
    "        \"n_clusters\": 0,\n",
    "        \"center_1\": {\"iterations\": 0, \"working\": False},\n",
    "        \"center_2\": {\"iterations\": 0, \"working\": False}\n",
    "    },\n",
    "    \"dataset_6\": {\n",
    "        \"n_clusters\": 0,\n",
    "        \"center_1\": {\"iterations\": 0, \"working\": False},\n",
    "        \"center_2\": {\"iterations\": 0, \"working\": False}\n",
    "    }\n",
    "}\n",
    "\n",
    "test_exercise_11(solution_11)"
   ]
  },
  {
   "cell_type": "markdown",
   "metadata": {},
   "source": [
    "### Aufgabe 1.2 Datenbeschaffenheit"
   ]
  },
  {
   "cell_type": "code",
   "execution_count": null,
   "metadata": {},
   "outputs": [],
   "source": [
    "widget_instance = WidgetClustering2()\n",
    "display(widget_instance.layout)"
   ]
  },
  {
   "cell_type": "code",
   "execution_count": null,
   "metadata": {},
   "outputs": [],
   "source": [
    "# ---------------------------------------------\n",
    "# TODO\n",
    "# ---------------------------------------------\n",
    "solution_12 = {\n",
    "    \"dataset_1\": {\n",
    "        \"n_clusters\": 0,\n",
    "        \"working\": False,\n",
    "    },\n",
    "    \"dataset_2\": {\n",
    "        \"n_clusters\": 0,\n",
    "        \"working\": False,\n",
    "    },\n",
    "    \"dataset_3\": {\n",
    "        \"n_clusters\": 0,\n",
    "        \"working\": False,\n",
    "    },\n",
    "    \"dataset_4\": {\n",
    "        \"n_clusters\": 0,\n",
    "        \"working\": False,\n",
    "    },\n",
    "    \"dataset_5\": {\n",
    "        \"n_clusters\": 0,\n",
    "        \"working\": False,\n",
    "    },\n",
    "    \"dataset_6\": {\n",
    "        \"n_clusters\": 0,\n",
    "        \"working\": False,\n",
    "    }\n",
    "}\n",
    "\n",
    "test_exercise_12(solution_12)"
   ]
  },
  {
   "cell_type": "markdown",
   "metadata": {},
   "source": [
    "---\n",
    "## Übung 2 k-Means\n",
    "### Aufgabe 2.1 Datenzugriff\n",
    "#### 2.1.1"
   ]
  },
  {
   "cell_type": "code",
   "execution_count": null,
   "metadata": {},
   "outputs": [],
   "source": [
    "# ---------------------------------------------\n",
    "# TODO\n",
    "# ---------------------------------------------\n"
   ]
  },
  {
   "cell_type": "code",
   "execution_count": 11,
   "metadata": {},
   "outputs": [],
   "source": [
    "# ---------------------------------------------\n",
    "# TODO\n",
    "# ---------------------------------------------\n",
    "solution_211 = {\n",
    "    \"number_of_features\": 0,\n",
    "    \"number_of_samples\": 0,\n",
    "    \"mean\": [0, 0, 0],\n",
    "    \"std\": [0, 0, 0],\n",
    "}\n"
   ]
  },
  {
   "cell_type": "markdown",
   "metadata": {},
   "source": [
    "### Aufgabe 2.2 Visualisierung\n",
    "#### 2.2.1"
   ]
  },
  {
   "cell_type": "code",
   "execution_count": null,
   "metadata": {},
   "outputs": [],
   "source": [
    "# ---------------------------------------------\n",
    "# TODO\n",
    "# ---------------------------------------------\n"
   ]
  },
  {
   "cell_type": "markdown",
   "metadata": {},
   "source": [
    "#### 2.2.2"
   ]
  },
  {
   "cell_type": "code",
   "execution_count": null,
   "metadata": {},
   "outputs": [],
   "source": [
    "# ---------------------------------------------\n",
    "# TODO\n",
    "# ---------------------------------------------\n"
   ]
  },
  {
   "cell_type": "markdown",
   "metadata": {},
   "source": [
    "### Aufgabe 2.3 Modellnutzung\n",
    "#### 2.3.1"
   ]
  },
  {
   "cell_type": "code",
   "execution_count": null,
   "metadata": {},
   "outputs": [],
   "source": [
    "# ---------------------------------------------\n",
    "# EXAMPLE: Ellbogenmethode\n",
    "# ---------------------------------------------\n",
    "\n",
    "# Anwendung der Ellbogen-Methode für 1 bis 15 Cluster:\n",
    "# Der K-Means Algorithmus wird für 1 bis 15 Cluster ausgeführt. Für jede Iteration wird die Summe der Quadratischen Distanzen zum nähersten\n",
    "# Cluster berechnet (engl. Within Cluster Sum of Squares (WCSS)). Anhand des Plots lässt sich unsere Annahme von drei Clustern bestätigen. Die Parameter der K-Means \n",
    "# Algorithmuses aus der scikit-learn Bibliothek werden in Schritt 5 näher erläutert.\n",
    "X1 = df[['headache' , 'melalgia']].values\n",
    "inertia = []\n",
    "for n in range(1 , 15):\n",
    "    algorithm = (KMeans(n_clusters = n,\n",
    "                        init='random', \n",
    "                        n_init = 1 ,\n",
    "                        max_iter=300, \n",
    "                        tol=0.0001,  \n",
    "                        random_state= 111 , \n",
    "                        algorithm='lloyd') )\n",
    "    algorithm.fit(X1)\n",
    "    inertia.append(algorithm.inertia_)\n",
    "\n",
    "plt.figure(1 , figsize = (5 ,3))\n",
    "plt.plot(np.arange(1 , 15) , inertia , 'o')\n",
    "plt.plot(np.arange(1 , 15) , inertia , '-' , alpha = 0.5)\n",
    "plt.xlabel('Anzahl der Cluster') , plt.ylabel('WCSS')\n",
    "plt.show()"
   ]
  },
  {
   "cell_type": "code",
   "execution_count": null,
   "metadata": {},
   "outputs": [],
   "source": [
    "# ---------------------------------------------\n",
    "# TODO\n",
    "# ---------------------------------------------\n"
   ]
  },
  {
   "cell_type": "markdown",
   "metadata": {},
   "source": [
    "#### 2.3.2"
   ]
  },
  {
   "cell_type": "code",
   "execution_count": null,
   "metadata": {},
   "outputs": [],
   "source": [
    "# ---------------------------------------------\n",
    "# TODO\n",
    "# k-Means mit normierten Daten\n",
    "# ---------------------------------------------\n"
   ]
  },
  {
   "cell_type": "code",
   "execution_count": null,
   "metadata": {},
   "outputs": [],
   "source": [
    "# ---------------------------------------------\n",
    "# TODO\n",
    "# k-Means mit unnormierten Daten\n",
    "# ---------------------------------------------\n"
   ]
  },
  {
   "cell_type": "markdown",
   "metadata": {},
   "source": [
    "### Aufgabe 2.4 Evaluation\n",
    "#### 2.4.1"
   ]
  },
  {
   "cell_type": "code",
   "execution_count": null,
   "metadata": {},
   "outputs": [],
   "source": [
    "# ---------------------------------------------\n",
    "# TODO\n",
    "# ---------------------------------------------\n"
   ]
  },
  {
   "cell_type": "markdown",
   "metadata": {},
   "source": [
    "---\n",
    "\n",
    "<a rel=\"license\" href=\"http://creativecommons.org/licenses/by-nc-nd/4.0/\"><img alt=\"Creative Commons Lizenzvertrag\" style=\"border-width:0\" src=\"https://i.creativecommons.org/l/by-nc-nd/4.0/88x31.png\" /></a><br /><span xmlns:dct=\"http://purl.org/dc/terms/\" property=\"dct:title\">Die Übungsserie begleitend zum AI4ALL-Kurs</span> der <span xmlns:cc=\"http://creativecommons.org/ns#\" property=\"cc:attributionName\">EAH Jena</span> ist lizenziert unter einer <a rel=\"license\" href=\"http://creativecommons.org/licenses/by-nc-nd/4.0/\">Creative Commons Namensnennung - Nicht kommerziell - Keine Bearbeitungen 4.0 International Lizenz</a>.\n",
    "\n",
    "Der AI4ALL-Kurs entsteht im Rahmen des Projekts MoVeKI2EAH. Das Projekt MoVeKI2EAH wird durch das BMBF (Bundesministerium für Bildung und Forschung) und den Freistaat Thüringen im Rahmen der Bund-Länder-Initiative zur Förderung von Künstlicher Intelligenz in der Hochschulbildung gefördert (12/2021 bis 11/2025, Föderkennzeichen 16DHBKI081)."
   ]
  }
 ],
 "metadata": {
  "kernelspec": {
   "display_name": "env",
   "language": "python",
   "name": "python3"
  },
  "language_info": {
   "codemirror_mode": {
    "name": "ipython",
    "version": 3
   },
   "file_extension": ".py",
   "mimetype": "text/x-python",
   "name": "python",
   "nbconvert_exporter": "python",
   "pygments_lexer": "ipython3",
   "version": "3.10.16"
  }
 },
 "nbformat": 4,
 "nbformat_minor": 2
}
