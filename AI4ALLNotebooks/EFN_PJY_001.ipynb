{
 "cells": [
  {
   "cell_type": "markdown",
   "id": "95a3d5d7-a912-4987-bbbe-d45b5fc772e0",
   "metadata": {
    "deletable": false,
    "editable": true,
    "slideshow": {
     "slide_type": ""
    },
    "tags": []
   },
   "source": [
    "<img src=\"./src/logo.png\" width=\"250\">"
   ]
  },
  {
   "cell_type": "markdown",
   "id": "70eb674a-1168-4fde-a8b1-d3f06d068823",
   "metadata": {
    "deletable": false,
    "editable": false,
    "slideshow": {
     "slide_type": ""
    },
    "tags": []
   },
   "source": [
    "# Daten: Einführung Jupyter Notebook"
   ]
  },
  {
   "cell_type": "markdown",
   "id": "ab69a64f-5d82-4721-b942-52fcc16c0733",
   "metadata": {
    "deletable": false,
    "editable": false,
    "slideshow": {
     "slide_type": ""
    },
    "tags": []
   },
   "source": [
    "**Baustein:** Einführung  $\\rightarrow$ **Übungsserie**\n",
    "\n",
    "**Version:** 1.0, **Lizenz:** <a rel=\"license\" href=\"http://creativecommons.org/licenses/by-nc-nd/4.0/\">CC BY-NC-ND 4.0</a>\n",
    "\n",
    "***\n",
    "\n",
    "# Einführung Jupyter Notebook"
   ]
  },
  {
   "cell_type": "markdown",
   "id": "72d8876a-0f77-415f-b6e1-9b731913a644",
   "metadata": {
    "editable": true,
    "slideshow": {
     "slide_type": ""
    },
    "tags": []
   },
   "source": [
    "Ein Notebook ist eine Art interaktive Website auf der Sie Bilder und Text zusammen mit ausführbarem Code finden. In diesem Kurs werden wir Notebooks verwenden, um Python Code einzuführen und zu erläutern. Sie haben dann in den Notebooks die Möglichkeit, eigene Codesegmente auszuführen und Lösungen zu entwickeln."
   ]
  },
  {
   "cell_type": "markdown",
   "id": "ac6f703f-3884-4d09-acea-b587ec9211ad",
   "metadata": {
    "editable": false,
    "slideshow": {
     "slide_type": ""
    },
    "tags": []
   },
   "source": [
    "Ein Notebook besteht aus einzelnen Elementen, sogenannten \"Zellen\". Diese können entweder Text oder Code beinhalten.\n",
    "Ein Notbook wird erstellt, indem einzelne Zellen erzeugt werden. Diese können dann separat voneinander ausgeführt werden.\n",
    "\n",
    "Die aktuelle Zelle ist eine Textzelle und sieht aus wie normaler Text in einem Browser.\n",
    "\n",
    "Machen Sie nun bitte einen Doppelclick mit der Maus auf diesen Text. Sie werden nun einen grau hinterlegten Textbereich sehen. Damit dieser wieder wie zuvor aussieht, müssen wir die aktuelle Zelle ausführen. Klicken Sie hierzu auf das kleine Dreieck, dass Sie in den Schaltfläachen oben auf dieser Seite finden."
   ]
  },
  {
   "cell_type": "markdown",
   "id": "bb889cdd-606d-4d17-a255-031430e8c6bc",
   "metadata": {},
   "source": [
    "Gut! Sie haben nun das erste Mal etwas in einem Notebook ausgeführt."
   ]
  },
  {
   "cell_type": "markdown",
   "id": "45fe1ab5-d471-45a9-b480-ef9a71112c15",
   "metadata": {},
   "source": [
    "Um mit Notebooks zu interagieren gibt es verschiedene Schaltflächen, die im Folgenden abgebildet sind. Sie finden diese oberhalb des Notebooks:"
   ]
  },
  {
   "cell_type": "markdown",
   "id": "2cd77025-196b-410f-8a81-ad2e92a9c264",
   "metadata": {
    "editable": false,
    "slideshow": {
     "slide_type": ""
    },
    "tags": []
   },
   "source": [
    "<img src=\"./src/NBMenu1.png\" width=\"620\">"
   ]
  },
  {
   "cell_type": "markdown",
   "id": "044500f0-706a-468f-a5d6-b94efdfce953",
   "metadata": {
    "editable": false,
    "slideshow": {
     "slide_type": ""
    },
    "tags": []
   },
   "source": [
    "## 2. Codezellen"
   ]
  },
  {
   "cell_type": "markdown",
   "id": "cf13d72e-05d8-4358-8346-02548bfc1b0f",
   "metadata": {
    "editable": false,
    "slideshow": {
     "slide_type": ""
    },
    "tags": []
   },
   "source": [
    "Im Folgenden sehen Sie eine Codezelle. Diese ist immer grau und hat links an der Zelle eckige Klammern. Aktuell sind diese leer, das heisst es steht nichts in den Klammern.\n",
    "\n",
    "Der Code in der folgenden Zelle ist Python-Code. Er dient dazu, den Text in den Anführungszeichen auszugeben.\n",
    "\n",
    "Klicken Sie nun mit der Maus in die Codezelle, um diese zur aktuellen Zelle zu machen, und führen Sie diese aus (mit dem Dreieck)."
   ]
  },
  {
   "cell_type": "code",
   "execution_count": 2,
   "id": "0581f662-7e4c-44d0-b10a-e899ed86a01e",
   "metadata": {
    "editable": true,
    "slideshow": {
     "slide_type": ""
    },
    "tags": []
   },
   "outputs": [],
   "source": [
    "print(\"Das ist ein Text\")"
   ]
  },
  {
   "cell_type": "markdown",
   "id": "5840fe8e-69ac-463c-a70c-6534897e873a",
   "metadata": {
    "editable": false,
    "slideshow": {
     "slide_type": ""
    },
    "tags": []
   },
   "source": [
    "Sie können nun zwei Dinge beobachten:\n",
    "\n",
    "Zum einen erscheint unterhalb der Codezelle nun die Ausgabe (\"Das ist ein Text\"). Zum anderen hat es nun in den Klammern links von der Codezelle eine Nummer. Die Nummern werden fortlaufend gegeben und so kann man nachvollziehen, welche Codezellen bereits ausgeführt wurden. Auch sieht man in welcher Reihenfolge die Ausführung erfolgte. Wenn Sie die Zelle erneut ausführen, wird sich die Nummer erhöhen. "
   ]
  },
  {
   "cell_type": "markdown",
   "id": "503ca6e1-64e5-440e-aed0-fe932b8f5c7f",
   "metadata": {
    "editable": false,
    "slideshow": {
     "slide_type": ""
    },
    "tags": []
   },
   "source": [
    "**Aufgabe 1:**\n",
    "\n",
    "Verändern Sie den Text in der obigen Codezelle und geben Sie den aktuellen Wochentag aus."
   ]
  },
  {
   "cell_type": "markdown",
   "id": "38c84368-5bfa-4aaf-a074-7bd6aed2948e",
   "metadata": {
    "editable": false,
    "slideshow": {
     "slide_type": ""
    },
    "tags": []
   },
   "source": [
    "**Aufgabe 2:**\n",
    "\n",
    "Schreiben Sie in die folgende (leere) Codezelle Python Code, um Ihren Namen auszugeben (`print()`). (Hinweis: eine Zeile, die mit einem # beginnt, ist ein Kommentar)"
   ]
  },
  {
   "cell_type": "code",
   "execution_count": 2,
   "id": "400dbe55-2234-4a20-969b-c49058e5fda6",
   "metadata": {
    "editable": true,
    "slideshow": {
     "slide_type": ""
    },
    "tags": []
   },
   "outputs": [],
   "source": [
    "# Ihre Lösung"
   ]
  },
  {
   "cell_type": "markdown",
   "id": "83fdf48f-0f6e-424e-8b41-15dc7ff88a1f",
   "metadata": {
    "editable": false,
    "slideshow": {
     "slide_type": ""
    },
    "tags": []
   },
   "source": [
    "**Aufgabe 3:**\n",
    "\n",
    "Fügen Sie nun eine neue Codezelle (mit +) ein und geben Sie das heutige Datum auf dem Bildschirm aus."
   ]
  },
  {
   "cell_type": "markdown",
   "id": "9f232290-941c-46bb-b830-83ad8757de3b",
   "metadata": {
    "editable": false,
    "slideshow": {
     "slide_type": ""
    },
    "tags": []
   },
   "source": [
    "## 3. Markdown Zellen"
   ]
  },
  {
   "cell_type": "markdown",
   "id": "f2e5be6c-e5a2-4446-8527-fd1625920012",
   "metadata": {
    "editable": false,
    "slideshow": {
     "slide_type": ""
    },
    "tags": []
   },
   "source": [
    "Die Zellen, in denen Text wie hier steht, sind vom Typ Markdown, da hier Text formatiert werden kann.\n",
    "Auch Sie können solche Zellen erzeugen. \n",
    "\n",
    "Jede neu eingefügte Zelle ist vom Typ \"Code\". Wenn eine neue Zelle eingefügt wurde, muss daher der Typ dieser Zelle zu \"Markdown\" geändert werden. Dies erfolgt in der Auswahlliste rechts bei den Schaltfläche. "
   ]
  },
  {
   "cell_type": "markdown",
   "id": "ccce34b9-2d33-40f0-bafb-1ab78a4a37ee",
   "metadata": {
    "editable": false,
    "slideshow": {
     "slide_type": ""
    },
    "tags": []
   },
   "source": [
    "<img src=\"./src/NBMenu2.png\" width=\"320\">"
   ]
  },
  {
   "cell_type": "markdown",
   "id": "db1bdcb2-eb0e-4b4a-acef-28391381ba59",
   "metadata": {
    "editable": false,
    "slideshow": {
     "slide_type": ""
    },
    "tags": []
   },
   "source": [
    "Wir werden Ihnen in Notebooks auch mal Fragen stellen, die eine textuelle Antwort und keinen Code erfordern. Diese Antwort können Sie dann direkt in das Notebook schreiben, indem Sie eine Markdawn Zelle einfügen. Solche Zellen eignen sich auch, um eigene Kommentare oder Ergänzungen zu den Notebooks hinzuzufügen. Diese Zellen bleiben bei der Synchronisation erhalten."
   ]
  },
  {
   "cell_type": "markdown",
   "id": "c03d0a22-0e38-4bd0-aa80-c8a4a08501b3",
   "metadata": {
    "editable": false,
    "slideshow": {
     "slide_type": ""
    },
    "tags": []
   },
   "source": [
    "**Aufgabe 4:** Fügen Sie eine neue Zelle ein und ändern Sie deren Zyp zu Markdown. Schreiben Sie Ihren Namen als \"normalen\" Text in diese Zelle."
   ]
  },
  {
   "cell_type": "markdown",
   "id": "506da913-fc53-48ba-a371-c206671ed708",
   "metadata": {
    "editable": false,
    "slideshow": {
     "slide_type": ""
    },
    "tags": []
   },
   "source": [
    "**Weiterführende Information:** Falls Sie mit Markdown etwas formatieren möchten, finden Sie z.B. hier https://elvis.inf.tu-dresden.de/wiki/index.php/Markdown_-_Eine_%C3%9Cbersicht einen guten Überblick. "
   ]
  },
  {
   "cell_type": "markdown",
   "id": "ef6c3aac-5fbf-44c1-aadd-ceb34187d4de",
   "metadata": {
    "editable": false,
    "slideshow": {
     "slide_type": ""
    },
    "tags": []
   },
   "source": [
    "## 3. Simulationen"
   ]
  },
  {
   "cell_type": "markdown",
   "id": "bd03a4e7-5a91-4e01-9fc0-77004faa1e76",
   "metadata": {
    "editable": false,
    "slideshow": {
     "slide_type": ""
    },
    "tags": []
   },
   "source": [
    "Wir werden in diesem Kurs Notebooks benutzen, um Ihnen interaktive Simulationen / Aufgaben zur Verfügung zu stellen. Den Code dazu können Sie jeweils in einer Datei im Ordner src finden. Es ist jenoch nicht notwendig, den Code anzusehen. Sie müssen diesen nur ausführen. \n",
    "\n",
    "Das Kommando hierzu `exec()` wird in einer Codezelle wie der folgenden stehen. Führen Sie diese Zelle aus.\n"
   ]
  },
  {
   "cell_type": "code",
   "execution_count": 1,
   "id": "084ab95b-798f-4876-b415-d03374346c78",
   "metadata": {
    "editable": true,
    "slideshow": {
     "slide_type": ""
    },
    "tags": []
   },
   "outputs": [
    {
     "data": {
      "application/vnd.jupyter.widget-view+json": {
       "model_id": "9ebccd4dfdb645d5ab8d77b85225cd3d",
       "version_major": 2,
       "version_minor": 0
      },
      "text/plain": [
       "interactive(children=(FloatSlider(value=0.0, description='Noise', max=0.15, step=0.01), ColorPicker(value='blu…"
      ]
     },
     "metadata": {},
     "output_type": "display_data"
    }
   ],
   "source": [
    "%matplotlib widget\n",
    "exec(open('src/einfuehrung_widget.py').read())"
   ]
  },
  {
   "cell_type": "markdown",
   "id": "2c51a521-b2a8-4d14-a7c2-c91a11ecae6f",
   "metadata": {
    "editable": false,
    "slideshow": {
     "slide_type": ""
    },
    "tags": []
   },
   "source": [
    "Sie werden nun eine blaue Spirale sehen. Oberhalb der Spirale befinden sich zwei Felder, bei denen Sie Werte eingeben können.\n",
    "\n",
    "Neben \"Noise\" befindet sich ein Regler. Schieben Sie diesen etwas nach rechts und beobachten Sie das Ergebnis.\n",
    "\n",
    "Darunter finden Sie ein Eingabfeld für die Farbe. Wenn Sie auf das blaue Feld doppel klicken, öffnet sich eine Schaltfläche, um die Farbe auszuwählen. Alternativ können Sie auch einen Namen einer Farbe angeben. Einen Überblick über die verfügbaren Namen finden Sie hier: https://i.sstatic.net/lFZum.png"
   ]
  },
  {
   "cell_type": "markdown",
   "id": "5b183f95-4769-4495-b4c4-1dd3903525a9",
   "metadata": {
    "editable": false,
    "slideshow": {
     "slide_type": ""
    },
    "tags": []
   },
   "source": [
    "**Aufgabe 5:**\n",
    "\n",
    "Verändern Sie Werte in der obigen Simulation um sich mit dem Umgang vertraut zu machen."
   ]
  },
  {
   "cell_type": "markdown",
   "id": "be6419ea-28ce-4659-930c-90a56e9218f8",
   "metadata": {
    "editable": false,
    "slideshow": {
     "slide_type": ""
    },
    "tags": []
   },
   "source": [
    "# Laden einer .csv Datei"
   ]
  },
  {
   "cell_type": "markdown",
   "id": "add21395-e276-48a4-bb67-024db1411aca",
   "metadata": {
    "editable": false,
    "slideshow": {
     "slide_type": ""
    },
    "tags": []
   },
   "source": [
    "Im letzten Abschnitt werden Sie eine Datei aus einem Ordner mit Python laden. Um dies zu ermöglichen können wir sogenannte Bibliotheken nutzen. Diese vereinfachen die Arbeit, da mit wenigen Zeilen Code ein gewünschtes Ergebnis erreicht werden kann. Heute nutzen wir die Bibliothek Pandas. Diese vereinfacht die Arbeit im Data Science durch eine erleichterte Verwaltung von Datensätzen. Unter anderem können mit Pandas auch Dateien geladen werden."
   ]
  },
  {
   "cell_type": "markdown",
   "id": "d9765415",
   "metadata": {
    "editable": false,
    "slideshow": {
     "slide_type": ""
    },
    "tags": []
   },
   "source": [
    "**Aufgabe 6:**\n",
    "Führen sie den folgenden Befehl aus, um die Bibliothek Pandas zu importieren"
   ]
  },
  {
   "cell_type": "code",
   "execution_count": 2,
   "id": "8d8757bb-8b88-463b-b655-6670350b9f95",
   "metadata": {
    "editable": true,
    "slideshow": {
     "slide_type": ""
    },
    "tags": []
   },
   "outputs": [],
   "source": [
    "import pandas as pd"
   ]
  },
  {
   "cell_type": "markdown",
   "id": "cdb20ab5-cfc4-472d-a1fc-70cffcd5f692",
   "metadata": {
    "editable": false,
    "slideshow": {
     "slide_type": ""
    },
    "tags": []
   },
   "source": [
    "Pandas ist nun importiert. Nun greifen wir auf die Funktion `pd.read_csv()` zu, um eine Datei zu laden. Im Moment weiß unsere Funktion allerdings noch nicht, wo die zu ladende Datei liegt. Daher würde sie im Moment noch eine Fehlermeldung ausgeben. Wir müssen zusätzlich einen Dateipfad angeben, um der Funktion die Information zum Standort zu geben. Ähnlich wie bei der Print-Funktion handelt es sich um einen Text, der in Anführungszeichen gesetzt werden muss: `'./data/einkaufsliste.csv'`\n"
   ]
  },
  {
   "cell_type": "markdown",
   "id": "ce15df2c-5e8a-40e7-a6a4-cd1c98a88ab6",
   "metadata": {
    "editable": false,
    "slideshow": {
     "slide_type": ""
    },
    "tags": []
   },
   "source": [
    "**Aufgabe 7:**\n",
    "Führen sie den folgenden Befehl aus"
   ]
  },
  {
   "cell_type": "code",
   "execution_count": 3,
   "id": "4d0625bc-9f3d-4a54-afea-8c1f050c31d4",
   "metadata": {
    "editable": true,
    "slideshow": {
     "slide_type": ""
    },
    "tags": []
   },
   "outputs": [
    {
     "data": {
      "text/html": [
       "<div>\n",
       "<style scoped>\n",
       "    .dataframe tbody tr th:only-of-type {\n",
       "        vertical-align: middle;\n",
       "    }\n",
       "\n",
       "    .dataframe tbody tr th {\n",
       "        vertical-align: top;\n",
       "    }\n",
       "\n",
       "    .dataframe thead th {\n",
       "        text-align: right;\n",
       "    }\n",
       "</style>\n",
       "<table border=\"1\" class=\"dataframe\">\n",
       "  <thead>\n",
       "    <tr style=\"text-align: right;\">\n",
       "      <th></th>\n",
       "      <th>produkt</th>\n",
       "      <th>anzahl</th>\n",
       "      <th>preis</th>\n",
       "    </tr>\n",
       "  </thead>\n",
       "  <tbody>\n",
       "    <tr>\n",
       "      <th>0</th>\n",
       "      <td>äpfel</td>\n",
       "      <td>3</td>\n",
       "      <td>0.4</td>\n",
       "    </tr>\n",
       "    <tr>\n",
       "      <th>1</th>\n",
       "      <td>bier</td>\n",
       "      <td>6</td>\n",
       "      <td>1.8</td>\n",
       "    </tr>\n",
       "    <tr>\n",
       "      <th>2</th>\n",
       "      <td>tomaten</td>\n",
       "      <td>2</td>\n",
       "      <td>0.4</td>\n",
       "    </tr>\n",
       "  </tbody>\n",
       "</table>\n",
       "</div>"
      ],
      "text/plain": [
       "   produkt   anzahl   preis\n",
       "0    äpfel        3     0.4\n",
       "1     bier        6     1.8\n",
       "2  tomaten        2     0.4"
      ]
     },
     "execution_count": 3,
     "metadata": {},
     "output_type": "execute_result"
    }
   ],
   "source": [
    "my_shoppinglist = pd.read_csv('./data/einkaufsliste.csv')\n",
    "my_shoppinglist"
   ]
  },
  {
   "cell_type": "markdown",
   "id": "50174ed5-2aae-4dbc-b38f-7bafdb81c940",
   "metadata": {
    "editable": false,
    "slideshow": {
     "slide_type": ""
    },
    "tags": []
   },
   "source": [
    "Wir haben das Ergebnis in eine Variable gespeichtert, die im Anschluss direkt ausgegeben wird. Im Notbook ist es bei der letzten Ausgabe nicht nötig einen Inhalt mit Print auszugeben. Der Inhalt wird hier automatisch angezeigt."
   ]
  },
  {
   "cell_type": "markdown",
   "id": "63f01f2f-8440-48c1-b95f-dd26cefe26a1",
   "metadata": {
    "editable": false,
    "slideshow": {
     "slide_type": ""
    },
    "tags": []
   },
   "source": [
    "Wenn alles funktioniert hat, wurde jetzt eine Einkaufsliste mit drei Produkten ausgegeben. Wir wollen uns diese Datei einmal im Rohformat anschauen. Dazu müssen wir die Datei in der Ordnerstruktur finden. Der Pfad *./data/einkaufsliste.csv* beginnt mit einem Punkt. Dieser zeigt an, dass wir in dem Ordner starten, in dem unser Codedokument liegt. Es handelt sich dabei um einen relativen Pfad, da er sich relativ zu dem Ausgangsdokument orientiert.\n",
    "Von diesem Ordner aus gehen wir in den Ordner *data*. Darin befinden sich einige Datein, darunter auch die csv Datei *einkaufsliste.csv*. Wenn Sie diese gefunden haben klicken sie mit der rechten Maustaste auf die Datei und wählen *Download*."
   ]
  },
  {
   "cell_type": "markdown",
   "id": "f83cf4be-6148-471e-a50f-4ad4f7fca8cd",
   "metadata": {
    "editable": false,
    "slideshow": {
     "slide_type": ""
    },
    "tags": []
   },
   "source": [
    "**Aufgabe 8:**\n",
    "Finden sie die Datei *einkaufsliste.csv* und laden Sie diese manuell herunter."
   ]
  },
  {
   "cell_type": "markdown",
   "id": "5d2ffb4f-36bd-4f09-b8a0-40fbf5219ce6",
   "metadata": {
    "editable": true,
    "slideshow": {
     "slide_type": ""
    },
    "tags": []
   },
   "source": [
    "Beachten Sie, dass sie auch Notebooks für den Eigenbedarf herunterladen können, um auch nach Semesterende Zugiff auf die Ressourcen zu haben. Die Arbeit mit dem Notebook ist nun abgeschlossen. "
   ]
  },
  {
   "cell_type": "markdown",
   "id": "e3b06bc2-5236-485a-b063-682745ba7765",
   "metadata": {
    "editable": false,
    "slideshow": {
     "slide_type": ""
    },
    "tags": []
   },
   "source": [
    "**Aufgabe 9:**\n",
    "Loggen sie sich aus dem Notebook aus. Dies verhindert potenzielle Komplikationen. Fahren sie nun mit dem Leitfaden fort."
   ]
  },
  {
   "cell_type": "markdown",
   "id": "48ab734b-5a17-498a-a12d-55511bb756a2",
   "metadata": {
    "editable": false,
    "slideshow": {
     "slide_type": ""
    },
    "tags": []
   },
   "source": [
    "<img src=\"./src/Jupyterlogout.png\" width=\"420\">"
   ]
  },
  {
   "cell_type": "markdown",
   "id": "1b20cbe0-829e-4eeb-9f41-0befda49b06b",
   "metadata": {
    "editable": false,
    "slideshow": {
     "slide_type": ""
    },
    "tags": []
   },
   "source": [
    "---\n",
    "\n",
    "<a rel=\"license\" href=\"http://creativecommons.org/licenses/by-nc-nd/4.0/\"><img alt=\"Creative Commons Lizenzvertrag\" style=\"border-width:0\" src=\"https://i.creativecommons.org/l/by-nc-nd/4.0/88x31.png\" /></a><br /><span xmlns:dct=\"http://purl.org/dc/terms/\" property=\"dct:title\">Die Übungsserie begleitend zum AI4ALL-Kurs</span> der <span xmlns:cc=\"http://creativecommons.org/ns#\" property=\"cc:attributionName\">EAH Jena</span> ist lizenziert unter einer <a rel=\"license\" href=\"http://creativecommons.org/licenses/by-nc-nd/4.0/\">Creative Commons Namensnennung - Nicht kommerziell - Keine Bearbeitungen 4.0 International Lizenz</a>.\n",
    "\n",
    "Der AI4ALL-Kurs entsteht im Rahmen des Projekts MoVeKI2EAH. Das Projekt MoVeKI2EAH wird durch das BMBF (Bundesministerium für Bildung und Forschung) und den Freistaat Thüringen im Rahmen der Bund-Länder-Initiative zur Förderung von Künstlicher Intelligenz in der Hochschulbildung gefördert (12/2021 bis 11/2025, Föderkennzeichen 16DHBKI081)."
   ]
  }
 ],
 "metadata": {
  "kernelspec": {
   "display_name": "Python 3 (ipykernel)",
   "language": "python",
   "name": "python3"
  },
  "language_info": {
   "codemirror_mode": {
    "name": "ipython",
    "version": 3
   },
   "file_extension": ".py",
   "mimetype": "text/x-python",
   "name": "python",
   "nbconvert_exporter": "python",
   "pygments_lexer": "ipython3",
   "version": "3.10.10"
  }
 },
 "nbformat": 4,
 "nbformat_minor": 5
}
