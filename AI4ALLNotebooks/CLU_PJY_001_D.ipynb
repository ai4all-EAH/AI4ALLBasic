{
 "cells": [
  {
   "cell_type": "markdown",
   "metadata": {},
   "source": [
    "<img src=\"./src/logo.png\" width=\"250\">"
   ]
  },
  {
   "cell_type": "markdown",
   "metadata": {},
   "source": [
    "**Baustein:** Regression  $\\rightarrow$ **Subbaustein:** Einfache Lineare Regression $\\rightarrow$ **Übungsserie**\n",
    "\n",
    "**Version:** 1.0, **Lizenz:** <a rel=\"license\" href=\"http://creativecommons.org/licenses/by-nc-nd/4.0/\">CC BY-NC-ND 4.0</a>\n",
    "\n",
    "***\n",
    "# Übungsblatt (CLU-UEB-001)"
   ]
  },
  {
   "cell_type": "code",
   "execution_count": 20,
   "metadata": {},
   "outputs": [
    {
     "name": "stdout",
     "output_type": "stream",
     "text": [
      "The autoreload extension is already loaded. To reload it, use:\n",
      "  %reload_ext autoreload\n"
     ]
    }
   ],
   "source": [
    "# Eine Bibliothek zur effizienten Anwendung mathematischer Operationen auf Array\n",
    "import numpy as np\n",
    "# Zur Erstellung statischer, animierter und interaktiver Visualisierungen\n",
    "import matplotlib.pyplot as plt\n",
    "from IPython.display import display\n",
    "# Pandas ist ein schnelles, leistungsstarkes, flexibles und benutzerfreundliches Open-Source-Tool zur Datenanalyse und -manipulation.\n",
    "import pandas as pd\n",
    "# Datenvisualisierung basierend auf matplotlib\n",
    "import seaborn as sns\n",
    "# Bibliothek für die Datenanalyse\n",
    "from sklearn.cluster import KMeans\n",
    "from sklearn.preprocessing import normalize\n",
    "from sklearn.metrics import silhouette_score, silhouette_samples\n",
    "\n",
    "from src.Clustering_widget import WidgetClustering, WidgetClustering2\n",
    "from src.tests_clu import test_exercise_11, test_exercise_12\n",
    "\n",
    "# import importlib.util\n",
    "# import sys\n",
    "# # Pfad zur .pyc-Datei\n",
    "# pyc_file_path = 'src/__pycache__/tests.cpython-310.pyc'\n",
    "# # Modulname definieren\n",
    "# module_name = 'tests'\n",
    "# # Spezifikation für das Modul erstellen\n",
    "# spec = importlib.util.spec_from_file_location(module_name, pyc_file_path)\n",
    "# module = importlib.util.module_from_spec(spec)\n",
    "# sys.modules[module_name] = module\n",
    "# spec.loader.exec_module(module)\n",
    "\n",
    "# # Jetzt können Sie die Methoden aus dem Modul verwenden\n",
    "# test_exercise_11 = module.test_exercise_11\n",
    "# test_exercise_12 = module.test_exercise_12\n",
    "\n",
    "\n",
    "%load_ext autoreload\n",
    "%autoreload 2"
   ]
  },
  {
   "cell_type": "markdown",
   "metadata": {},
   "source": [
    "---\n",
    "## Übung 1 Interaktive Simulation\n",
    "### Aufgabe 1.1 Hyperparameter"
   ]
  },
  {
   "cell_type": "code",
   "execution_count": null,
   "metadata": {},
   "outputs": [],
   "source": [
    "widget_instance = WidgetClustering()\n",
    "display(widget_instance.layout)"
   ]
  },
  {
   "cell_type": "code",
   "execution_count": null,
   "metadata": {},
   "outputs": [],
   "source": [
    "# ---------------------------------------------\n",
    "# SOLUTION\n",
    "# ---------------------------------------------\n",
    "solution_11 = {\n",
    "    \"dataset_1\": {\n",
    "        \"n_clusters\": 3,\n",
    "        \"center_1\": {\"iterations\": 3, \"working\": True},\n",
    "        \"center_2\": {\"iterations\": 8, \"working\": False}\n",
    "    },\n",
    "    \"dataset_2\": {\n",
    "        \"n_clusters\": 3,\n",
    "        \"center_1\": {\"iterations\": 9, \"working\": True},\n",
    "        \"center_2\": {\"iterations\": 16, \"working\": False}\n",
    "    },\n",
    "    \"dataset_3\": {\n",
    "        \"n_clusters\": 3,\n",
    "        \"center_1\": {\"iterations\": 7, \"working\": True},\n",
    "        \"center_2\": {\"iterations\": 4, \"working\": True}\n",
    "    },\n",
    "    \"dataset_4\": {\n",
    "        \"n_clusters\": 1,\n",
    "        \"center_1\": {\"iterations\": 1, \"working\": True},\n",
    "        \"center_2\": {\"iterations\": 1, \"working\": True}\n",
    "    },\n",
    "    \"dataset_5\": {\n",
    "        \"n_clusters\": 6,\n",
    "        \"center_1\": {\"iterations\": 14, \"working\": True},\n",
    "        \"center_2\": {\"iterations\": 3, \"working\": True}\n",
    "    },\n",
    "    \"dataset_6\": {\n",
    "        \"n_clusters\": 4,\n",
    "        \"center_1\": {\"iterations\": 8, \"working\": True},\n",
    "        \"center_2\": {\"iterations\": 3, \"working\": True}\n",
    "    }\n",
    "}\n",
    "\n",
    "test_exercise_11(solution_11)"
   ]
  },
  {
   "cell_type": "markdown",
   "metadata": {},
   "source": [
    "### Aufgabe 1.2 Datenbeschaffenheit"
   ]
  },
  {
   "cell_type": "code",
   "execution_count": null,
   "metadata": {},
   "outputs": [],
   "source": [
    "widget_instance = WidgetClustering2()\n",
    "display(widget_instance.layout)"
   ]
  },
  {
   "cell_type": "code",
   "execution_count": null,
   "metadata": {},
   "outputs": [],
   "source": [
    "# ---------------------------------------------\n",
    "# SOLUTION\n",
    "# ---------------------------------------------\n",
    "solution_12 = {\n",
    "    \"dataset_1\": {\n",
    "        \"n_clusters\": 4,\n",
    "        \"working\": True,\n",
    "    },\n",
    "    \"dataset_2\": {\n",
    "        \"n_clusters\": 2,\n",
    "        \"working\": False,\n",
    "    },\n",
    "    \"dataset_3\": {\n",
    "        \"n_clusters\": 3,\n",
    "        \"working\": False,\n",
    "    },\n",
    "    \"dataset_4\": {\n",
    "        \"n_clusters\": 3,\n",
    "        \"working\": False,\n",
    "    },\n",
    "    \"dataset_5\": {\n",
    "        \"n_clusters\": 4,\n",
    "        \"working\": True,\n",
    "    },\n",
    "    \"dataset_6\": {\n",
    "        \"n_clusters\": 5,\n",
    "        \"working\": False,\n",
    "    }\n",
    "}\n",
    "\n",
    "test_exercise_12(solution_12)"
   ]
  },
  {
   "cell_type": "markdown",
   "metadata": {},
   "source": [
    "---\n",
    "## Übung 2 k-Means\n",
    "### Aufgabe 2.1 Datenzugriff\n",
    "#### 2.1.1"
   ]
  },
  {
   "cell_type": "code",
   "execution_count": null,
   "metadata": {},
   "outputs": [],
   "source": [
    "# ---------------------------------------------\n",
    "# SOLUTION\n",
    "# ---------------------------------------------\n",
    "\n",
    "# Angabe des relativen Pfades der CSV-Datei\n",
    "input_file = \"data/CLU-DAT-001.csv\"\n",
    "# Erstellung des DataFrames; Hierbei wird Zeile 0 durch die Angabe \"header = 0\" als Zeile definiert, \n",
    "# die die Featurenamen und den Anfang der Daten angibt\n",
    "df = pd.read_csv(input_file, header = 0)\n",
    "# Gibt die ersten n Datenpunkte des DataFrames zurück\n",
    "df.head(n=5)"
   ]
  },
  {
   "cell_type": "code",
   "execution_count": null,
   "metadata": {},
   "outputs": [],
   "source": [
    "# ---------------------------------------------\n",
    "# SOLUTION\n",
    "# ---------------------------------------------\n",
    "\n",
    "# Gibt die Namen der Features zurück.\n",
    "df.columns"
   ]
  },
  {
   "cell_type": "code",
   "execution_count": null,
   "metadata": {},
   "outputs": [],
   "source": [
    "# ---------------------------------------------\n",
    "# SOLUTION\n",
    "# ---------------------------------------------\n",
    "\n",
    "# Folgende wichtige Informationen werden zurückgegeben:\n",
    "# (1) Anzahl der Einträge\n",
    "# (2) Anzahl, Namen und Typen der Features\n",
    "# (3) Anzahl der Werte pro Feature, die nicht Null sind\n",
    "# (4) Speicherverbrauch\n",
    "df.info()"
   ]
  },
  {
   "cell_type": "code",
   "execution_count": null,
   "metadata": {},
   "outputs": [],
   "source": [
    "# ---------------------------------------------\n",
    "# SOLUTION\n",
    "# ---------------------------------------------\n",
    "\n",
    "# Gibt statistische Informationen über den Datensatz zurück.\n",
    "df.describe()"
   ]
  },
  {
   "cell_type": "code",
   "execution_count": 10,
   "metadata": {},
   "outputs": [],
   "source": [
    "# ---------------------------------------------\n",
    "# SOLUTION\n",
    "# ---------------------------------------------\n",
    "\n",
    "solution_211 = {\n",
    "    \"number_of_features\": 3,\n",
    "    \"number_of_samples\": 2818,\n",
    "    \"mean\": [49.29, 50.60, 0.98],\n",
    "    \"std\": [23.43, 19.48, 0.84],\n",
    "}\n"
   ]
  },
  {
   "cell_type": "markdown",
   "metadata": {},
   "source": [
    "### Aufgabe 2.2 Visualisierung\n",
    "#### 2.2.1"
   ]
  },
  {
   "cell_type": "code",
   "execution_count": null,
   "metadata": {},
   "outputs": [],
   "source": [
    "# ---------------------------------------------\n",
    "# SOLUTION\n",
    "# ---------------------------------------------\n",
    "\n",
    "# Plotting von statistischen Informationen über den Datensatz.\n",
    "# Hier wird für jedes Feature angegeben wie oft bestimmt Werte auftreten (normierte Angabe). Die Histogramme sind auf fünf Bins quantisiert,\n",
    "# sodass z.B. Werte, die ungefähr im Intervall [0, 20] liegen, einem Bin im Histogramm zugeordnet werden.\n",
    "plt.figure(1 , figsize = (30 , 2))\n",
    "n = 0 \n",
    "for x in [\"headache\", \"melalgia\", \"class\"]:\n",
    "    n += 1\n",
    "    plt.subplot(1 , 5 , n)\n",
    "    plt.subplots_adjust(hspace = 0.5 , wspace = 0.5)\n",
    "    sns.histplot(df[x], bins=10, kde=True)\n",
    "    plt.title('Distplot of {}'.format(x))\n",
    "plt.show()"
   ]
  },
  {
   "cell_type": "markdown",
   "metadata": {},
   "source": [
    "#### 2.2.2"
   ]
  },
  {
   "cell_type": "code",
   "execution_count": null,
   "metadata": {},
   "outputs": [],
   "source": [
    "# ---------------------------------------------\n",
    "# SOLUTION\n",
    "# ---------------------------------------------\n",
    "\n",
    "# Nun erzeugen wir ein Streudiagramm (engl. Scatter Plot) der ausgewählten Features und benennen entsprechend die Axen.\n",
    "plt.figure(1 , figsize = (5 , 5))\n",
    "plt.title('Scatter Plot', fontsize = 10)\n",
    "#plt.xlabel('Intensität Kopfschmerzen')\n",
    "#plt.ylabel('Intensität Gliederschmerzen')\n",
    "plt.xlabel('Headache'), plt.ylabel('Melalgia')\n",
    "plt.scatter( x = 'headache', y = 'melalgia', data = df, s = 1)\n",
    "plt.show()"
   ]
  },
  {
   "cell_type": "markdown",
   "metadata": {},
   "source": [
    "Visuell lassen sich drei sphärische Cluster erkennen. "
   ]
  },
  {
   "cell_type": "markdown",
   "metadata": {},
   "source": [
    "### Aufgabe 2.3 Modellnutzung\n",
    "#### 2.3.1"
   ]
  },
  {
   "cell_type": "code",
   "execution_count": null,
   "metadata": {},
   "outputs": [],
   "source": [
    "# ---------------------------------------------\n",
    "# EXAMPLE: Ellbogenmethode\n",
    "# ---------------------------------------------\n",
    "\n",
    "# Anwendung der Ellbogen-Methode für 1 bis 15 Cluster:\n",
    "# Der K-Means Algorithmus wird für 1 bis 15 Cluster ausgeführt. Für jede Iteration wird die Summe der Quadratischen Distanzen zum nähersten\n",
    "# Cluster berechnet (engl. Within Cluster Sum of Squares (WCSS)). Anhand des Plots lässt sich unsere Annahme von drei Clustern bestätigen. Die Parameter der K-Means \n",
    "# Algorithmuses aus der scikit-learn Bibliothek werden in Schritt 5 näher erläutert.\n",
    "X1 = df[['headache' , 'melalgia']].values\n",
    "inertia = []\n",
    "for n in range(1 , 15):\n",
    "    algorithm = (KMeans(n_clusters = n,\n",
    "                        init='random', \n",
    "                        n_init = 1 ,\n",
    "                        max_iter=300, \n",
    "                        tol=0.0001,  \n",
    "                        random_state= 111 , \n",
    "                        algorithm='lloyd') )\n",
    "    algorithm.fit(X1)\n",
    "    inertia.append(algorithm.inertia_)\n",
    "\n",
    "plt.figure(1 , figsize = (5 ,3))\n",
    "plt.plot(np.arange(1 , 15) , inertia , 'o')\n",
    "plt.plot(np.arange(1 , 15) , inertia , '-' , alpha = 0.5)\n",
    "plt.xlabel('Anzahl der Cluster') , plt.ylabel('WCSS')\n",
    "plt.show()"
   ]
  },
  {
   "cell_type": "code",
   "execution_count": null,
   "metadata": {},
   "outputs": [],
   "source": [
    "# ---------------------------------------------\n",
    "# SOLUTION\n",
    "# ---------------------------------------------\n",
    "# Anwendung der Silhouetten-Methode:\n",
    "# Der K-Means Algorithmus wird diesmal für 2 bis 15 Cluster ausgeführt (Hinweis: Die Methode silhouette_score ist erst ab 2 Clustern definiet). \n",
    "# Für jede Iteration wird der gemittelte Silhouettenkoeffizeint aller Datenpunkte berechnet und geplottet. Das Maximum drückt die optimale\n",
    "# Anzahl an Clustern aus. Hierbei kann wieder $K=3$ bestätigt werden.\n",
    "\n",
    "input_file_2 = \"data/CLU-DAT-002.csv\"\n",
    "df_2 = pd.read_csv(input_file_2, header = 0)\n",
    "X2 = df_2[['headache' , 'melalgia']].values\n",
    "\n",
    "# Datennormalisierung\n",
    "X2_norm = normalize( X2, axis=0, norm=\"l2\")\n",
    "\n",
    "s_scores = []\n",
    "for n in range(2 , 15):\n",
    "    algorithm = (KMeans(n_clusters = n, \n",
    "                        init='random', \n",
    "                        n_init = 1 ,\n",
    "                        max_iter=300, \n",
    "                        tol=0.0001,  \n",
    "                        random_state= 111 , \n",
    "                        algorithm='lloyd') )\n",
    "    algorithm.fit(X2_norm)\n",
    "    # Berechne den durchschnittlichen Silhouettenkoeffizienten für alle Datenpunkte\n",
    "    mss = silhouette_score(X2_norm, algorithm.labels_)\n",
    "    s_scores.append(mss)\n",
    "\n",
    "plt.figure(1 , figsize = (5 ,3))\n",
    "plt.plot(np.arange(2 , 15) , s_scores , 'o')\n",
    "plt.plot(np.arange(2 , 15) , s_scores , '-' , alpha = 0.5)\n",
    "plt.xlabel('Anzahl der Cluster') , plt.ylabel('Silhouettenkoeffizent')\n",
    "plt.show()"
   ]
  },
  {
   "cell_type": "markdown",
   "metadata": {},
   "source": [
    "#### 2.3.2"
   ]
  },
  {
   "cell_type": "code",
   "execution_count": null,
   "metadata": {},
   "outputs": [],
   "source": [
    "# ---------------------------------------------\n",
    "# SOLUTION\n",
    "# K-Means mit normierten Daten\n",
    "# ---------------------------------------------\n",
    "\n",
    "X2_norm = df[['headache' , 'melalgia']].values\n",
    "\n",
    "algorithm = KMeans(n_clusters = 3,\n",
    "                   init='random', \n",
    "                   n_init = 1,\n",
    "                   max_iter=300, \n",
    "                   tol=0.0001, \n",
    "                   random_state=42, \n",
    "                   algorithm='lloyd')\n",
    "\n",
    "algorithm.fit(X2_norm)\n",
    "labels_norm = algorithm.labels_\n",
    "centroids1 = algorithm.cluster_centers_\n",
    "\n",
    "plt.figure(1 , figsize = (5 , 5) )\n",
    "# Plotte die Datenpunkte mit Farben entsprechend ihrer Clusterzugehörigkeit\n",
    "plt.scatter(x = X2_norm[:,0], y = X2_norm[:,1], c = labels_norm, s = 1)\n",
    "# Zeichen Clusterzentren als rote Punkte\n",
    "#plt.scatter(x = centroids1[: , 0] , y =  centroids1[: , 1] , s = 20 , c = 'red' , alpha = 1.0)\n",
    "#plt.ylabel('Intensität Gliederschmerzen') , plt.xlabel('Intensität Kopfschmerzen')\n",
    "plt.ylabel('Melalgia') , plt.xlabel('Headache')\n",
    "plt.show()"
   ]
  },
  {
   "cell_type": "code",
   "execution_count": null,
   "metadata": {},
   "outputs": [],
   "source": [
    "# ---------------------------------------------\n",
    "# SOLUTION\n",
    "# k-Means mit unnormierten Daten\n",
    "# ---------------------------------------------\n",
    "X2 = df_2[['headache' , 'melalgia']].values\n",
    "algorithm_2 = KMeans(n_clusters = 3,\n",
    "                     init='random', \n",
    "                     n_init = 1,\n",
    "                     max_iter=300, \n",
    "                     tol=0.0001, \n",
    "                     random_state=42, \n",
    "                     algorithm='lloyd')\n",
    "\n",
    "algorithm_2.fit(X2)\n",
    "labels_unnorm = algorithm_2.labels_\n",
    "centroids_2 = algorithm_2.cluster_centers_\n",
    "\n",
    "plt.figure(1 , figsize = (5 , 5) )\n",
    "# Plotte die Datenpunkte mit Farben entsprechend ihrer Clusterzugehörigkeit\n",
    "plt.scatter(x = X2[:,0], y = X2[:,1], c = labels_unnorm, s = 1)\n",
    "#plt.ylabel('Intensität Gliederschmerzen') , plt.xlabel('Intensität Kopfschmerzen')\n",
    "plt.ylabel('Melalgia') , plt.xlabel('Hadache')\n",
    "plt.show()"
   ]
  },
  {
   "cell_type": "markdown",
   "metadata": {},
   "source": [
    "### Aufgabe 2.4 Evaluation\n",
    "#### 2.4.1"
   ]
  },
  {
   "cell_type": "code",
   "execution_count": null,
   "metadata": {},
   "outputs": [],
   "source": [
    "# ---------------------------------------------\n",
    "# SOLUTION\n",
    "# ---------------------------------------------\n",
    "input_file_41 = \"data/CLU-DAT-001.csv\"\n",
    "df_41 = pd.read_csv(input_file_41, header = 0)\n",
    "X_41 = df[['headache' , 'melalgia']].values\n",
    "algorithm_41 = KMeans(n_clusters = 3,\n",
    "                      init='random', \n",
    "                      n_init = 1,\n",
    "                      max_iter=300, \n",
    "                      tol=0.0001, \n",
    "                      random_state=42, \n",
    "                      algorithm='lloyd')\n",
    "\n",
    "algorithm_41.fit(X_41)\n",
    "labels_41 = algorithm_41.labels_\n",
    "\n",
    "# Berechnung des Silhouettenkoeffizienten\n",
    "s_score = silhouette_score(X_41, labels_41)\n",
    "print(s_score)\n",
    "\n",
    "# Berechnung der Silhouettenkoeffizienten für jeden Datenpunkt\n",
    "s_score_samples = silhouette_samples(X_41, labels_41)\n",
    "fig = plt.figure(1 , figsize = (5 , 4) )\n",
    "idd = range(s_score_samples.shape[0])\n",
    "#print(s_score_samples.shape)\n",
    "#print(idd[-1])\n",
    "s_score_samples_sort = np.sort(s_score_samples)\n",
    "#s_score_samples_sort = np.flip(s_score_samples_sort)\n",
    "plt.bar(idd, s_score_samples_sort, width=1.0)\n",
    "plt.show()"
   ]
  },
  {
   "cell_type": "markdown",
   "metadata": {},
   "source": [
    "---\n",
    "\n",
    "<a rel=\"license\" href=\"http://creativecommons.org/licenses/by-nc-nd/4.0/\"><img alt=\"Creative Commons Lizenzvertrag\" style=\"border-width:0\" src=\"https://i.creativecommons.org/l/by-nc-nd/4.0/88x31.png\" /></a><br /><span xmlns:dct=\"http://purl.org/dc/terms/\" property=\"dct:title\">Die Übungsserie begleitend zum AI4ALL-Kurs</span> der <span xmlns:cc=\"http://creativecommons.org/ns#\" property=\"cc:attributionName\">EAH Jena</span> ist lizenziert unter einer <a rel=\"license\" href=\"http://creativecommons.org/licenses/by-nc-nd/4.0/\">Creative Commons Namensnennung - Nicht kommerziell - Keine Bearbeitungen 4.0 International Lizenz</a>.\n",
    "\n",
    "Der AI4ALL-Kurs entsteht im Rahmen des Projekts MoVeKI2EAH. Das Projekt MoVeKI2EAH wird durch das BMBF (Bundesministerium für Bildung und Forschung) und den Freistaat Thüringen im Rahmen der Bund-Länder-Initiative zur Förderung von Künstlicher Intelligenz in der Hochschulbildung gefördert (12/2021 bis 11/2025, Föderkennzeichen 16DHBKI081)."
   ]
  }
 ],
 "metadata": {
  "kernelspec": {
   "display_name": "env",
   "language": "python",
   "name": "python3"
  },
  "language_info": {
   "codemirror_mode": {
    "name": "ipython",
    "version": 3
   },
   "file_extension": ".py",
   "mimetype": "text/x-python",
   "name": "python",
   "nbconvert_exporter": "python",
   "pygments_lexer": "ipython3",
   "version": "3.10.16"
  }
 },
 "nbformat": 4,
 "nbformat_minor": 2
}
