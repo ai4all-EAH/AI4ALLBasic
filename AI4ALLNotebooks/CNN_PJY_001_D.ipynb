{
 "cells": [
  {
   "cell_type": "markdown",
   "metadata": {},
   "source": [
    "<img src=\"./src/logo.png\" width=\"250\">"
   ]
  },
  {
   "cell_type": "markdown",
   "metadata": {},
   "source": [
    "**Baustein:** Zeitreihenanalyse  $\\rightarrow$ **Subbaustein:** Zeitreihen, CNNs\n",
    "und XAI $\\rightarrow$ **Begleitend zur Vorlesung**\n",
    "\n",
    "**Version:** 1.0, **Lizenz:** <a rel=\"license\" href=\"http://creativecommons.org/licenses/by-nc-nd/4.0/\">CC BY-NC-ND 4.0</a>\n",
    "\n",
    "***\n",
    "\n",
    "# Zeitreihenanalyse: Zeitreihen und CNNs"
   ]
  },
  {
   "cell_type": "code",
   "execution_count": null,
   "metadata": {},
   "outputs": [],
   "source": [
    "from pandas import read_csv\n",
    "import pandas as pd\n",
    "from sklearn.impute import KNNImputer\n",
    "from src.plot_preprocessing import plot_imputation"
   ]
  },
  {
   "cell_type": "code",
   "execution_count": null,
   "metadata": {},
   "outputs": [],
   "source": [
    "SIGNALS = [\"acc_x\", \"acc_y\", \"acc_z\"]\n",
    "\n",
    "SAMPLING_RATE = 50  # Datenpunkte pro Sekunde / Hz\n",
    "WINDOW_SIZE = 2.56  # Fenstergröße in Sekunden\n",
    "OVERLAP = 0.5  # Überlappung\n",
    "N_SAMPLES = int(WINDOW_SIZE * SAMPLING_RATE)  # Anzahl der Samples pro Fenster\n",
    "STEP_SIZE = int(N_SAMPLES * (1 - OVERLAP))  # Schrittgröße für das Fenster"
   ]
  },
  {
   "cell_type": "code",
   "execution_count": null,
   "metadata": {},
   "outputs": [],
   "source": [
    "# Pfad zur CSV-Datei\n",
    "data_acc_orig = read_csv('./data/Accelerometer_orig.csv', sep=',', header=0)#, usecols=[0,1])\n",
    "data_acc_prepro = read_csv('./data/Accelerometer_missing.csv', sep=',', header=0)#, usecols=[0,1])"
   ]
  },
  {
   "cell_type": "code",
   "execution_count": null,
   "metadata": {},
   "outputs": [],
   "source": [
    "pd.isna(data_acc_prepro['Acceleration x (m/s^2)']).values.any()"
   ]
  },
  {
   "cell_type": "code",
   "execution_count": null,
   "metadata": {},
   "outputs": [],
   "source": [
    "data_acc_prepro['Mittelwert'] = data_acc_prepro['Acceleration x (m/s^2)'].fillna(data_acc_prepro['Acceleration x (m/s^2)'].mean())\n",
    "data_acc_prepro['lineare Interpolation'] = data_acc_prepro['Acceleration x (m/s^2)'].interpolate(method='linear')\n",
    "data_acc_prepro['LOCF'] = data_acc_prepro['Acceleration x (m/s^2)'].ffill()\n",
    "data_acc_prepro['NOCF'] = data_acc_prepro['Acceleration x (m/s^2)'].bfill()\n",
    "impu = KNNImputer(n_neighbors=3)\n",
    "data_acc_prepro['kNN'] = impu.fit_transform(data_acc_prepro.iloc[:,1:4])[:,0]\n",
    "plot_imputation(data_acc_orig, data_acc_prepro,col='Acceleration x (m/s^2)',start_time=0, end_time=55, path='./data/imputation_kNN.pdf')"
   ]
  },
  {
   "cell_type": "code",
   "execution_count": null,
   "metadata": {},
   "outputs": [],
   "source": [
    "exec(open('src/vorverarbeitung_zeitreihe.py').read())"
   ]
  },
  {
   "cell_type": "markdown",
   "metadata": {},
   "source": [
    "---\n",
    "\n",
    "<a rel=\"license\" href=\"http://creativecommons.org/licenses/by-nc-nd/4.0/\"><img alt=\"Creative Commons Lizenzvertrag\" style=\"border-width:0\" src=\"https://i.creativecommons.org/l/by-nc-nd/4.0/88x31.png\" /></a><br /><span xmlns:dct=\"http://purl.org/dc/terms/\" property=\"dct:title\">Die Übungsserie begleitend zum AI4ALL-Kurs</span> der <span xmlns:cc=\"http://creativecommons.org/ns#\" property=\"cc:attributionName\">EAH Jena</span> ist lizenziert unter einer <a rel=\"license\" href=\"http://creativecommons.org/licenses/by-nc-nd/4.0/\">Creative Commons Namensnennung - Nicht kommerziell - Keine Bearbeitungen 4.0 International Lizenz</a>.\n",
    "\n",
    "Der AI4ALL-Kurs entsteht im Rahmen des Projekts MoVeKI2EAH. Das Projekt MoVeKI2EAH wird durch das BMBF (Bundesministerium für Bildung und Forschung) und den Freistaat Thüringen im Rahmen der Bund-Länder-Initiative zur Förderung von Künstlicher Intelligenz in der Hochschulbildung gefördert (12/2021 bis 11/2025, Föderkennzeichen 16DHBKI081)."
   ]
  }
 ],
 "metadata": {
  "kernelspec": {
   "display_name": "base",
   "language": "python",
   "name": "python3"
  },
  "language_info": {
   "codemirror_mode": {
    "name": "ipython",
    "version": 3
   },
   "file_extension": ".py",
   "mimetype": "text/x-python",
   "name": "python",
   "nbconvert_exporter": "python",
   "pygments_lexer": "ipython3",
   "version": "3.12.4"
  }
 },
 "nbformat": 4,
 "nbformat_minor": 2
}
