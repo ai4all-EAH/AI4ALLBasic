{
 "cells": [
  {
   "cell_type": "markdown",
   "id": "0ebb500b-5362-45a9-8407-d23896a0841c",
   "metadata": {},
   "source": [
    "<img src=\"./src/logo.png\" width=\"250\">"
   ]
  },
  {
   "cell_type": "markdown",
   "id": "d548a205-ba8d-40af-8efc-01e6464263c6",
   "metadata": {},
   "source": [
    "# AI4ALL Notebooks WiSe 2024/25\n",
    "\n",
    "Herzlich Willkommen bei der begleitenden **Jupyter-Notebook-Übung des AI4All-Basic-Kurses**!\n",
    "Falls Sie gleich durchstarten wollen finden Sie im nächsten Abschnitt das Verzeichnis mit den einzelnen Kapiteln zu denen Sie direkt springen können."
   ]
  },
  {
   "cell_type": "markdown",
   "id": "ee7705d8-ee5b-4985-941d-620e49514e1d",
   "metadata": {},
   "source": [
    "---\n",
    "\n",
    "## Inhaltsverzeichnis der Übungen"
   ]
  },
 {
   "cell_type": "markdown",
   "id": "3825d3ea-a0e9-49b6-a87c-b8d4f8a4621e",
   "metadata": {},
   "source": [
    "1. [Einführung in die Technik (EFN_PJY_001)](EFN_PJY_001.ipynb)\n",
    "2. Daten: Deskriptive Statistik und Visualisierung\n",
    "    1. [Daten: Deskriptive Statistik und Visualisierung (DAT_PJY_001)](DAT_PJY_001_S.ipynb)\n",
    "    2. [Daten: Deskriptive Statistik und Visualisierung Lösung (DAT_PJY_001)](DAT_PJY_001_D.ipynb)\n",
    "3. Daten: Datenvorverarbeitung\n",
    "    1. [Daten: Datenvorverarbeitung (DAT_PJY_002)](DAT_PJY_002_S.ipynb)\n",
    "    2. [Daten: Datenvorverarbeitung Lösung (DAT_PJY_002)](DAT_PJY_002_D.ipynb)\n",
    "4. Regression\n",
    "    1. [Regression (REG_PJY_001)](REG_PJY_001_S.ipynb)\n",
    "    2. [Regression Lösung (REG_PJY_001)](REG_PJY_001_D.ipynb)\n",
    "5. Klassifikation\n",
    "    1. [Klassifikation Interaktive Übung (KLA_PJY_001)](KLA_PJY_001_S_interact.ipynb)\n",
    "    2. [Klassifikation Interaktive Übung Lösung (KLA_PJY_001)](KLA_PJY_001_D_interact.ipynb)\n",
    "    3. [Klassifikation Übung (KLA_PJY_002)](KLA_PJY_002_S2.ipynb)\n",
    "5. Clustering\n",
    "    1. [Clustering (CLU_PJY_001)](CLU_PJY_001_S.ipynb)\n"
    "    2. [Clustering Lösung(CLU_PJY_001)](CLU_PJY_001_D.ipynb)\n"
   ]
 	},
  {
   "cell_type": "markdown",
   "id": "ee8ce065-0259-41d5-bc31-1e21fb15b4ed",
   "metadata": {},
   "source": [
    "---\n",
    "\n",
    "<a rel=\"license\" href=\"http://creativecommons.org/licenses/by-nc-nd/4.0/\"><img alt=\"Creative Commons Lizenzvertrag\" style=\"border-width:0\" src=\"https://i.creativecommons.org/l/by-nc-nd/4.0/88x31.png\" /></a><br /><span xmlns:dct=\"http://purl.org/dc/terms/\" property=\"dct:title\">Die Übungsserie begleitend zum AI4ALL-Kurs</span> der <span xmlns:cc=\"http://creativecommons.org/ns#\" property=\"cc:attributionName\">EAH Jena</span> ist lizenziert unter einer <a rel=\"license\" href=\"http://creativecommons.org/licenses/by-nc-nd/4.0/\">Creative Commons Namensnennung - Nicht kommerziell - Keine Bearbeitungen 4.0 International Lizenz</a>.\n",
    "\n",
    "Der AI4ALL-Kurs entsteht im Rahmen des Projekts MoVeKI2EAH. Das Projekt MoVeKI2EAH wird durch das BMBF (Bundesministerium für Bildung und Forschung) und den Freistaat Thüringen im Rahmen der Bund-Länder-Initiative zur Förderung von Künstlicher Intelligenz in der Hochschulbildung gefördert (12/2021 bis 11/2025, Föderkennzeichen 16DHBKI081)."
   ]
  },
  {
   "cell_type": "code",
   "execution_count": null,
   "id": "e353edba-182d-4446-833e-5e5c25707ccc",
   "metadata": {},
   "outputs": [],
   "source": []
  }
 ],
 "metadata": {
  "kernelspec": {
   "display_name": "Python 3 (ipykernel)",
   "language": "python",
   "name": "python3"
  },
  "language_info": {
   "codemirror_mode": {
    "name": "ipython",
    "version": 3
   },
   "file_extension": ".py",
   "mimetype": "text/x-python",
   "name": "python",
   "nbconvert_exporter": "python",
   "pygments_lexer": "ipython3",
   "version": "3.10.10"
  }
 },
 "nbformat": 4,
 "nbformat_minor": 5
}
