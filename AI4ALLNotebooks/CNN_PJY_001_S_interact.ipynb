{
 "cells": [
  {
   "cell_type": "markdown",
   "id": "a817d567-038e-487c-919f-555ebae3493c",
   "metadata": {
    "deletable": false,
    "editable": false,
    "tags": [
     "locked"
    ]
   },
   "source": [
    "<img src=\"./src/logo.png\" width=\"250\">"
   ]
  },
  {
   "cell_type": "markdown",
   "id": "190f3f46-1c14-44df-9251-878960c1fbe3",
   "metadata": {
    "deletable": false,
    "editable": false,
    "tags": [
     "locked"
    ]
   },
   "source": [
    "**Baustein:** CNNs  $\\rightarrow$ **Subbaustein:** Zeitreihen und CNNs $\\rightarrow$ **Begleitend zur Vorlesung**\n",
    "\n",
    "**Version:** 1.0, **Lizenz:** <a rel=\"license\" href=\"http://creativecommons.org/licenses/by-nc-nd/4.0/\">CC BY-NC-ND 4.0</a>\n",
    "\n",
    "***\n",
    "\n",
    "# Zeitreihenanalyse: CNNs und Zeitreihen"
   ]
  },
  {
   "cell_type": "markdown",
   "id": "f3e5acc6-bca1-4cca-931c-5fc5c260ae3d",
   "metadata": {
    "deletable": false,
    "editable": false,
    "tags": [
     "locked"
    ]
   },
   "source": [
    "## Einleitung\n",
    "\n",
    "In dieser Übung lernen Sie verschiedene Vorverarbeitungsmethoden und ihre Auswirkungen bei Zeitreihen kennen. Als Beispiel nutzen wir Zeitreihen von Beschleunigungssensoren von einem Handy während verschiedener Bewegungen. \n",
    "\n",
    "Um die **Auswirkungen** der einzelnen Vorverarbeitungsschritte auf die Zeitreihen zu **testen** und **beobachten** zu können, stellen wir Ihnen ein Widget zur Verfügung. Mit diesem Widget können Sie **die folgenden Parameter einstellen**: \n",
    "\n",
    "- `Imputation`: Festlegung, welche Imputationsmethode für fehlende Daten genutzt werden soll. Wenn Ausreißer entfernt werden, werden diese ebenfalls imputiert.\n",
    "- `Ausreißer`: Festlegung, wie Ausreißer behandelt werden sollen.\n",
    "- `Normalisierung`: Festlegung der Normalisierung für die Vorverarbeitung der Daten für die Klassifikation. Beachte die veränderte y-Achse.\n",
    "- `Glättung`: Festlegung der Glättungsmethode/des Filters. \n",
    " \n",
    "Die Auswahlmöglichkeit `keine` bedeutet hier jeweils, dass keine entsprechende Vorverarbeitungsmethode angewandt wird.\n",
    "  \n",
    "- `Zeitbereich`: Festlegung welcher Bereich der x-Achse angezeigt werden soll.\n",
    "\n",
    "Verwenden Sie das Widget um die folgenden Aufgaben zu bearbeiten. Testen Sie hierfür jeweils verschiedene Werte für die in den Aufgaben genannten Parameter aus, um die Fragen zu beantworten."
   ]
  },
  {
   "cell_type": "code",
   "execution_count": null,
   "id": "10f6fc07-f749-4e4d-8b70-4d301b006dfa",
   "metadata": {
    "deletable": false,
    "editable": false,
    "tags": [
     "locked"
    ]
   },
   "outputs": [],
   "source": [
    "exec(open('src/vorverarbeitung_zeitreihe.py').read())"
   ]
  },
  {
   "cell_type": "markdown",
   "id": "651f88c2-39b6-4c7d-98cc-2f93d437af73",
   "metadata": {
    "deletable": false,
    "editable": false,
    "tags": [
     "locked"
    ]
   },
   "source": [
    "---\n",
    "## Aufgaben"
   ]
  },
  {
   "cell_type": "markdown",
   "id": "0e5bf47a-dec9-4c61-98aa-2ee6522788d5",
   "metadata": {
    "deletable": false,
    "editable": false,
    "tags": [
     "locked"
    ]
   },
   "source": [
    "## Aufgabe 1: Imputationsverfahren\n",
    "\n",
    "Verändern Sie die Einstellung `Imputation` und ggf. den `Zeitbereich`, um Veränderungen besser sehen zu können. Belassen Sie den Rest der Parameter bei den voreingestellten Werten (`keine`). \n",
    "- Wieso werden die fehlenden Werte direkt beim Start der Zeitreihe (Zeitbereich direkt um 0) nicht imputiert mit der Imputationsmethode `LOCF`.\n",
    "- Gibt es noch ein auswählbares Imputationsverfahren, wo die fehlenden Werte hier ebenfalls nicht imputiert werden und wenn ja, warum ist das hier ebenfalls der Fall?\n",
    "- An welcher Stelle würden die fehlenden Werte liegen, sodass mit `NOCF` keine Imputation möglich ist?\n",
    "- Warum ist der Wert mit dem die fehlenden Werte imputiert werden immer gleich bei `Mittelwert` und bei welcher Methode ist das ebenfalls der Fall?\n",
    "- Warum ist die Imputationsmethode `kNN` nur möglich, wenn mehrere zeitgleich aufgenommene Zeitreihen (multivariate Zeitreihen), in dem Fall Beschleunigungssensorenzeitreihen, vorliegen?\n",
    "- Welche Imputationsmethode erachten Sie als am besten geeignet für die vorliegenden Daten und warum?"
   ]
  },
  {
   "cell_type": "markdown",
   "id": "152715fe-1cff-40b0-bc85-3fe8cf7b9e49",
   "metadata": {
    "deleteable": false,
    "editable": true,
    "slideshow": {
     "slide_type": ""
    },
    "tags": []
   },
   "source": [
    "Antwort: \n"
   ]
  },
  {
   "cell_type": "markdown",
   "id": "4ce57066-e116-4bcd-ac4d-3fb986d5783d",
   "metadata": {
    "deletable": false,
    "editable": false,
    "tags": [
     "locked"
    ]
   },
   "source": [
    "## Aufgabe 2: Ausreißer\n",
    "Verändern Sie die Einstellung `Ausreißer` und ggf. den `Zeitbereich`, um Veränderungen besser sehen zu können. Belassen Sie den Rest der Parameter bei den voreingestellten Werten (`keine`). \n",
    "- Wo befinden sich die Ausreißer? \r",
    "- Warum sind es wahrscheinlich Ausreißer, die mit gutem Gewissen entfernt werden können und keine \"echten\" Daten, die belassen werden sollten? (Hinweis: Charakteristik der restlichen Zeitreihe) Vergleichen Sie dafür auch die 2 anderen Sensoren, indem Sie für `Imputation = kNN` auswählen."
   ]
  },
  {
   "cell_type": "markdown",
   "id": "3fe137fc-a0ac-4177-a6ac-75007e047f9e",
   "metadata": {
    "deleteable": false
   },
   "source": [
    "Antwort: \n"
   ]
  },
  {
   "cell_type": "markdown",
   "id": "10b85ae2-b71f-4381-9ae2-8cd6c6ba3d57",
   "metadata": {
    "deletable": false,
    "editable": false,
    "tags": [
     "locked"
    ]
   },
   "source": [
    "## Aufgabe 3: Normalisierung\n",
    "Verändern Sie die Einstellung `Normalisierung` und ggf. den `Zeitbereich`, um Veränderungen besser sehen zu können. Belassen Sie den Rest der Parameter bei den voreingestellten Werten (`keine`). \n",
    "- Wie verändert sich die y-Achse bei den beiden auswählbaren Normalisierungsmethoden. Begründen Sie diese Veränderung. (Hinweis: Mittelwert/Standardabweichung; Min/Max)\n",
    "- Wählen Sie nun `Imputation = kNN`, damit alle 3 Zeitreihen sichtbar sind und `Normalisierung = Min-Max-Skalierung`. Beobachten Sie die Veränderung der Zeitreihe x-Sensor im Verhältnis zu den anderen beiden, wenn Ausreißer entfernt werden `Normalisierung = Entfernen` und wenn sie belassen werden `Normalisierung = keine`. Wieso ist hier eine `Min-Max-Skalierung` mit bestehenden Ausreißern kritisch?"
   ]
  },
  {
   "cell_type": "markdown",
   "id": "dc586ecf-6fef-4cb3-884e-7f89ea537f37",
   "metadata": {
    "deleteable": false
   },
   "source": [
    "Antwort: \n"
   ]
  },
  {
   "cell_type": "markdown",
   "id": "ce2778c7-a184-4486-96a8-b40699f91ffa",
   "metadata": {
    "deletable": false,
    "editable": false,
    "tags": [
     "locked"
    ]
   },
   "source": [
    "## Aufgabe 4: Glättung\n",
    "Verändern Sie ggf. den `Zeitbereich`, um Veränderungen besser sehen zu können. Belassen Sie den Rest der Parameter vorerst bei den voreingestellten Werten (`keine`). \n",
    "- Verändern Sie die Imputationsmethode zu `Imputation = Mittelwert` und wieder zu `Imputation = keine`. Warum ist keine Glättung möglich, wenn keine Imputationsmethode ausgewählt ist? \n",
    "- Lassen Sie einmal die Zeitreihen durch einen gleitenden Mittelwert der Breite/Ordnung 5 `Glättung = Gleitender Mittelwert 5` und einem der Breite/Ordnung 20 `Glättung = Gleitender Mittelwert 20` glätten. Beschreiben Sie den Unterschied der Zeitreihen vor allem in Hinblick auf die Ausreißer.\n",
    "- Für die Glättung mithilfe des gleitenden Mittelwerts wird jeweils *zero-padding* verwendet. Warum werden die Werte zu Beginn und zum Ende der Zeitreihe so \"verzerrt\"?"
   ]
  },
  {
   "cell_type": "markdown",
   "id": "b7f1477c-ba7d-4355-a7f0-e1f0d33a79e3",
   "metadata": {
    "deleteable": false
   },
   "source": [
    "Antwort: \n"
   ]
  },
  {
   "cell_type": "markdown",
   "id": "56db146e-4ace-4f70-9624-2bcefe7c2889",
   "metadata": {
    "deletable": false,
    "editable": false,
    "tags": [
     "locked"
    ]
   },
   "source": [
    "---\n",
    "\n",
    "<a rel=\"license\" href=\"http://creativecommons.org/licenses/by-nc-nd/4.0/\"><img alt=\"Creative Commons Lizenzvertrag\" style=\"border-width:0\" src=\"https://i.creativecommons.org/l/by-nc-nd/4.0/88x31.png\" /></a><br /><span xmlns:dct=\"http://purl.org/dc/terms/\" property=\"dct:title\">Die Übungsserie begleitend zum AI4ALL-Kurs</span> der <span xmlns:cc=\"http://creativecommons.org/ns#\" property=\"cc:attributionName\">EAH Jena</span> ist lizenziert unter einer <a rel=\"license\" href=\"http://creativecommons.org/licenses/by-nc-nd/4.0/\">Creative Commons Namensnennung - Nicht kommerziell - Keine Bearbeitungen 4.0 International Lizenz</a>.\n",
    "\n",
    "Der AI4ALL-Kurs entsteht im Rahmen des Projekts MoVeKI2EAH. Das Projekt MoVeKI2EAH wird durch das BMBF (Bundesministerium für Bildung und Forschung) und den Freistaat Thüringen im Rahmen der Bund-Länder-Initiative zur Förderung von Künstlicher Intelligenz in der Hochschulbildung gefördert (12/2021 bis 11/2025, Föderkennzeichen 16DHBKI081)."
   ]
  }
 ],
 "metadata": {
  "kernelspec": {
   "display_name": "Python 3 (ipykernel)",
   "language": "python",
   "name": "python3"
  },
  "language_info": {
   "codemirror_mode": {
    "name": "ipython",
    "version": 3
   },
   "file_extension": ".py",
   "mimetype": "text/x-python",
   "name": "python",
   "nbconvert_exporter": "python",
   "pygments_lexer": "ipython3",
   "version": "3.10.10"
  }
 },
 "nbformat": 4,
 "nbformat_minor": 5
}
