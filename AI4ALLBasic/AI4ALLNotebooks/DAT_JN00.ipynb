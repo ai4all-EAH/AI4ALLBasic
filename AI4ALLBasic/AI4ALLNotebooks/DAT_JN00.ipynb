{
 "cells": [
  {
   "cell_type": "markdown",
   "id": "49ae238e-217c-417f-aaa7-975dff25fb6b",
   "metadata": {
    "deletable": false,
    "editable": false,
    "tags": []
   },
   "source": [
    "<img src=\"./src/logo.png\" width=\"250\">"
   ]
  },
  {
   "cell_type": "markdown",
   "id": "ba61c1d8-fb3d-41fe-97af-30e8479f6ea8",
   "metadata": {
    "deletable": false,
    "editable": false,
    "tags": []
   },
   "source": [
    "**Baustein:** Daten  $\\rightarrow$ **Subbaustein:** Deskriptive Statistik, Visualisierung und Datenvorverarbeitung $\\rightarrow$ **Übungsserie**\n",
    "\n",
    "**Version:** 1.0, **Lizenz:** <a rel=\"license\" href=\"http://creativecommons.org/licenses/by-nc-nd/4.0/\">CC BY-NC-ND 4.0</a>\n",
    "\n",
    "***\n",
    "\n",
    "# Daten: Deskriptive Statistik, Visualisierung und Datenvorverarbeitung"
   ]
  },
  {
   "cell_type": "markdown",
   "id": "75b41305-c62d-43c3-b8fa-7901668bd981",
   "metadata": {
    "deletable": false,
    "editable": false,
    "tags": []
   },
   "source": [
    "---\n",
    "## Importieren der notwendigen Python-Bibliotheken"
   ]
  },
  {
   "cell_type": "code",
   "execution_count": null,
   "id": "921f6873-44a9-4220-bc73-b9f7a9f52f3f",
   "metadata": {
    "deletable": false,
    "editable": false,
    "tags": []
   },
   "outputs": [],
   "source": [
    "import numpy as np\n",
    "import pandas as pd\n",
    "from matplotlib import pyplot as plt\n",
    "from sklearn.preprocessing import OneHotEncoder, StandardScaler\n",
    "import seaborn as sns\n",
    "\n",
    "%run src/setup.ipynb"
   ]
  },
  {
   "cell_type": "markdown",
   "id": "60d351c4-943a-4f2c-92b7-921e65c23654",
   "metadata": {
    "deletable": false,
    "editable": false,
    "tags": []
   },
   "source": [
    "---\n",
    "## Importieren der Daten\n",
    "#### Aufgabe 1: Passen Sie den Importierbefehl so an, dass der gewünschte Datensatz *Studierende.csv* in der Variable ```df``` gespeichert ist.\n",
    "Hierbei hilft die Bibliothek `pandas`, die es erlaubt, zum Beispiel eine `.csv`-Datei als **Dataframe-Objekt** einzulesen. Andere Formate, die mit `pandas` eingelesen werden können sind z.B. `.xlsx`, `.hdf5` oder `.json`."
   ]
  },
  {
   "cell_type": "code",
   "execution_count": null,
   "id": "3a84813e-f9b0-40a1-ad62-d2034e3e6eaf",
   "metadata": {
    "deletable": false,
    "tags": []
   },
   "outputs": [],
   "source": [
    "PATH = './data/' # Setzen eines (relativen) Pfades zum Verzeichnis, das unseren Datensatz enthält"
   ]
  },
  {
   "cell_type": "code",
   "execution_count": null,
   "id": "1199d685-83c8-4fe8-94cc-85c76f44fcaf",
   "metadata": {
    "deletable": false,
    "tags": []
   },
   "outputs": [],
   "source": [
    "df = pd.read_csv(PATH + # Datensatz )"
   ]
  },
  {
   "cell_type": "markdown",
   "id": "6f1338e9-57b8-46a1-82d7-c1d636b3fe02",
   "metadata": {
    "deletable": false,
    "editable": false,
    "tags": []
   },
   "source": [
    "---\n",
    "## Datensatz\n",
    "Machen Sie sich mit dem Datensatz vertraut.\n",
    "#### Aufgabe 2: Wie groß ist der Datensatz? Was bedeuten die Zeilen und Spalten? Handelt es sich hier um strukturierte Daten?\n",
    "Der erzeugte Dataframe kann in Jupyter Notebooks so ausgegeben werden:"
   ]
  },
  {
   "cell_type": "markdown",
   "id": "59d88593-b628-4e58-b7e4-dd1d27814bb9",
   "metadata": {
    "deletable": false,
    "tags": []
   },
   "source": [
    "Antwort: "
   ]
  },
  {
   "cell_type": "code",
   "execution_count": null,
   "id": "0ee62f06-0fcc-41b9-a705-206acf2df78f",
   "metadata": {
    "deletable": false,
    "tags": []
   },
   "outputs": [],
   "source": [
    "df"
   ]
  },
  {
   "cell_type": "markdown",
   "id": "6eee551c-115a-4ed4-93c0-95737a9b40a4",
   "metadata": {
    "deletable": false,
    "editable": false,
    "tags": []
   },
   "source": [
    "---\n",
    "## Duplikate und Leerstellen\n",
    "#### Aufgabe 3: Gibt es im vorliegenden Datensatz Leerstellen oder Duplikate? Untersuchen Sie den Datensatz daraufhingehend und entfernen Sie diese Daten ggf.\n",
    "Tipp: Nutzen Sie die Methoden für Dataframes von `pandas` hierfür. Wenn die Variable `ignore_index = False` gesetzt ist, werden die Indizes neu durchnummeriert."
   ]
  },
  {
   "cell_type": "code",
   "execution_count": null,
   "id": "2d3d42a2-02db-4453-a3e6-3f2ba36b6c9c",
   "metadata": {
    "deletable": false,
    "tags": []
   },
   "outputs": [],
   "source": []
  },
  {
   "cell_type": "markdown",
   "id": "a0e687bb-402b-437d-bd28-9c48c8b831b0",
   "metadata": {
    "deletable": false,
    "editable": false,
    "tags": []
   },
   "source": [
    "---\n",
    "## Deskriptive Statistik\n",
    "Um einen Eindruck vom Datensatz zu erhalten, sollen im Nachfolgenden die statistischen Kennzahlen berechnet und analysiert werden.\n",
    "#### Aufgabe 4: Lassen Sie sich mithilfe von `pandas`-Methoden die folgenden Kennzahlen ausgeben:\n",
    "- Mittelwert \n",
    "- Standardabweichung\n",
    "- Median\n",
    "- Minimum\n",
    "- Maximum"
   ]
  },
  {
   "cell_type": "code",
   "execution_count": null,
   "id": "fed085c1-5c79-4540-b3ed-270bd644cb83",
   "metadata": {
    "deletable": false,
    "tags": []
   },
   "outputs": [],
   "source": [
    "#Mittelwerte"
   ]
  },
  {
   "cell_type": "code",
   "execution_count": null,
   "id": "c50e2264-d6b5-4867-b73c-ae9d3c1fc48d",
   "metadata": {
    "deletable": false,
    "tags": []
   },
   "outputs": [],
   "source": [
    "#Standardabweichungen"
   ]
  },
  {
   "cell_type": "code",
   "execution_count": null,
   "id": "0169b363-5ace-46b8-b482-c7bafb6452db",
   "metadata": {
    "deletable": false,
    "tags": []
   },
   "outputs": [],
   "source": [
    "#Median"
   ]
  },
  {
   "cell_type": "code",
   "execution_count": null,
   "id": "266aeb2c-ecee-46cb-810c-045e4a06eada",
   "metadata": {
    "deletable": false,
    "tags": []
   },
   "outputs": [],
   "source": [
    "#Minimum"
   ]
  },
  {
   "cell_type": "code",
   "execution_count": null,
   "id": "fbad26ff-800d-48a6-a765-4f6a7667b02b",
   "metadata": {
    "deletable": false,
    "tags": []
   },
   "outputs": [],
   "source": [
    "#Maximum"
   ]
  },
  {
   "cell_type": "markdown",
   "id": "00d83166-d9b2-45cf-a5ca-59a8f1675fa8",
   "metadata": {
    "deletable": false,
    "editable": false,
    "tags": []
   },
   "source": [
    "#### Aufgabe 5: Gibt es Auffälligkeiten bei den Kennzahlen? Woran könnte die starke Abweichung von Mittelwert und Median für das Alter liegen?"
   ]
  },
  {
   "cell_type": "markdown",
   "id": "ddf43a38-5bba-474b-98b4-4386324e33e5",
   "metadata": {
    "deletable": false,
    "tags": []
   },
   "source": [
    "Antwort:"
   ]
  },
  {
   "cell_type": "markdown",
   "id": "a6491032-2d8a-4073-bd2d-773d2e7c9c78",
   "metadata": {
    "deletable": false,
    "editable": false,
    "tags": []
   },
   "source": [
    "---\n",
    "## Ausreißer\n",
    "Wir nehmen an, dass die Daten selbst aufgenommen wurden und wir einen Fehler gemacht haben in der Übertragung der handschriftlichen Tabelle. Für die nachfolgenden Analysen sollen diese Daten daher nicht mit berücksichtigt und damit vom Datensatz entfernt werden. \n",
    "\n",
    "**Vorsicht:** Das Entfernen von Datenpunkten nur weil sie nicht zur Hypothese o.ä. passen ist wissenschaftlich schlechtes Verhalten und sollte unter keinen Umständen passieren. Ein Entfernen von Datenpunkten muss immer gut begründet und dokumentiert sein. Außerdem gibt es auch noch andere Möglichkeiten mit Ausreißern umzugehen. \n",
    "\n",
    "\n",
    "In diesem Fall nehmen wissen wir, dass wir einen Übertragungsfehler gemacht haben und können die entsprechende Zeile aus dem Datensatz entfernen. "
   ]
  },
  {
   "cell_type": "code",
   "execution_count": null,
   "id": "df4456b7-f039-4e94-8228-4aa815e18d0e",
   "metadata": {
    "deletable": false,
    "tags": []
   },
   "outputs": [],
   "source": [
    "df.loc[(df['Alter']==7800)]"
   ]
  },
  {
   "cell_type": "markdown",
   "id": "a7ba5f7e-47fa-452d-8f8c-409fd037584c",
   "metadata": {
    "deletable": false,
    "editable": false,
    "tags": []
   },
   "source": [
    "#### Aufgabe 6: Entfernen Sie die Zeile mit dem Ausreißer aus dem Datensatz."
   ]
  },
  {
   "cell_type": "code",
   "execution_count": null,
   "id": "e897ebbb-4bb8-41aa-a557-699fd7de06be",
   "metadata": {
    "deletable": false,
    "tags": []
   },
   "outputs": [],
   "source": []
  },
  {
   "cell_type": "markdown",
   "id": "c6cfec0f-40ec-43ec-b97f-2f89c687483e",
   "metadata": {
    "deletable": false,
    "editable": false,
    "tags": []
   },
   "source": [
    "Mithilfe von `describe()` können die wichtigsten statistischen Kennzahlen zusammen ausgegeben werden. Beachte hierbei aber immer, dass nicht jede Kennzahl sinnvoll ist für die Beurteilung von Daten, sondern immer angepasst sein muss, auf den Datentyp. \n",
    "\n",
    "#### Aufgabe 7: Überprüfen Sie im Nachfolgenden, ob das Entfernen des Ausreißers erfolgreich war."
   ]
  },
  {
   "cell_type": "code",
   "execution_count": null,
   "id": "5c2a002e-1ab5-43a6-8e0d-92d73b414dff",
   "metadata": {
    "deletable": false,
    "tags": []
   },
   "outputs": [],
   "source": []
  },
  {
   "cell_type": "markdown",
   "id": "36116ad5-5f78-4bfe-aa93-0d1441d8d0f1",
   "metadata": {
    "deletable": false,
    "editable": false,
    "tags": []
   },
   "source": [
    "---\n",
    "## Boxplot\n",
    "#### Aufgabe 8: Lassen Sie sich die Verteilung des Alters und der wöchentlichen Lernzeit als Boxplot mithilfe der Methode `plot()` der pandas-Dataframes darstellen. Ist die Darstellung für beide Merkmale sinnvoll? "
   ]
  },
  {
   "cell_type": "code",
   "execution_count": null,
   "id": "826ee9b4-8a63-46c2-b625-f35d3ece0481",
   "metadata": {
    "deletable": false,
    "tags": []
   },
   "outputs": [],
   "source": []
  },
  {
   "cell_type": "markdown",
   "id": "5b77bf4d-a18a-4e82-938e-53a5ed261982",
   "metadata": {
    "deletable": false,
    "tags": []
   },
   "source": [
    "Antwort:"
   ]
  },
  {
   "cell_type": "markdown",
   "id": "504131c7-0eee-4f3f-930b-4b3c74b97695",
   "metadata": {
    "deletable": false,
    "editable": false,
    "tags": []
   },
   "source": [
    "---\n",
    "## Visualisierung\n",
    "Da die statistischen Kennzahlen alleine nicht aussagekräftig sind, ist es immer sinnvoll, sich die Daten noch einmal visualisieren zu lassen. Zur Visualisierung wird hier das Paket `seaborn` (kurz: `sns`) genutzt. Visualisierungen sind ebenfalls mithilfe von `pandas`, `matplotlib`, usw. möglich. Im Folgenden soll sich aber auf `seaborn` beschränkt werden.\n",
    "#### Aufgabe 9: Beurteilen Sie die Visualisierung der Verteilung des Merkmals \"woechentliche Lernzeit\". "
   ]
  },
  {
   "cell_type": "code",
   "execution_count": null,
   "id": "32857a17-7bf0-47e5-88ee-d41eba1496ca",
   "metadata": {
    "deletable": false,
    "tags": []
   },
   "outputs": [],
   "source": [
    "plt.figure()\n",
    "sns.histplot(df['woechentliche Lernzeit in h'])\n",
    "plt.title('Verteilung des Merkmals \"woechentliche Lernzeit\"')\n",
    "plt.xticks([1,2,3,4])\n",
    "plt.xlabel('woechentliche Lernzeit in h')\n",
    "plt.ylabel('absolute Anzahl')"
   ]
  },
  {
   "cell_type": "markdown",
   "id": "6d38dda1-a43f-4168-9f1e-21188e157e30",
   "metadata": {},
   "source": [
    "Antwort:"
   ]
  },
  {
   "cell_type": "markdown",
   "id": "ffd47099-5068-43c0-bd7e-3af8e6e12306",
   "metadata": {
    "deletable": false,
    "editable": false,
    "tags": []
   },
   "source": [
    "#### Aufgabe 10: Lassen Sie sich nun die Verteilung des Merkmals 'Alkoholkonsum werktags' ausgeben."
   ]
  },
  {
   "cell_type": "code",
   "execution_count": null,
   "id": "ae51ea38-82b7-49b4-9d26-1355acfc528a",
   "metadata": {
    "deletable": false,
    "tags": []
   },
   "outputs": [],
   "source": [
    "df['Alkoholkonsum werktags'] = pd.Categorical(df['Alkoholkonsum werktags'], ['sehr niedrig','niedrig','moderat','hoch','sehr hoch']) # Festlegen der Sortierreihenfolge des Merkmals\n",
    "plt.figure()\n",
    "# Ergänzen"
   ]
  },
  {
   "cell_type": "markdown",
   "id": "75b81ad1-1b3a-4ee9-9ddb-81261dc34584",
   "metadata": {
    "deletable": false,
    "editable": false,
    "tags": []
   },
   "source": [
    "#### Aufgabe 11: Beurteilen Sie den untenstehenden Scatterplot. Ist die Visualiserungsmethode gut geeignet? "
   ]
  },
  {
   "cell_type": "code",
   "execution_count": null,
   "id": "8dceb05b-2c77-4abe-ac98-617f149387ce",
   "metadata": {
    "deletable": false,
    "tags": []
   },
   "outputs": [],
   "source": [
    "plt.figure()\n",
    "sns.scatterplot(x=df['Alter'],y=df['woechentliche Lernzeit in h'])\n",
    "plt.title('Scatterplot des Alters in Bezug auf die wöchentliche Lernzeit')\n",
    "plt.xlabel('Alter in Jahren')\n",
    "plt.ylabel('wöchentliche Lernzeit in h')"
   ]
  },
  {
   "cell_type": "markdown",
   "id": "43044e6f-6149-4304-bd9b-acde6a8fa82d",
   "metadata": {
    "deletable": false,
    "tags": []
   },
   "source": [
    "Antwort:"
   ]
  },
  {
   "cell_type": "markdown",
   "id": "5ae60fa3-8eb5-4d6c-aec2-5ddbea8bfd82",
   "metadata": {
    "deletable": false,
    "editable": false,
    "tags": []
   },
   "source": [
    "---\n",
    "## Korrelation\n",
    "Korrelationen können auf einen Zusammenhang zwischen Merkmalen hinweisen. Um die Korrelationen berechnen zu können, wird ein Datensatz importiert, bei dem die kategorischen Merkmale in numerische umgewandelt worden sind. Zur Überprüfung des Datensatzes lassen Sie sich diesen einmal ausgeben."
   ]
  },
  {
   "cell_type": "code",
   "execution_count": null,
   "id": "b500f97f-5d58-449a-871a-528b6335bf33",
   "metadata": {
    "deletable": false,
    "tags": []
   },
   "outputs": [],
   "source": [
    "df_num = pd.read_csv(PATH + 'Studierende_numeric.csv') # Laden des Datensatzes\n",
    "df_num"
   ]
  },
  {
   "cell_type": "markdown",
   "id": "bd79b6f7-bde0-42ef-8250-8fb78bee1d54",
   "metadata": {
    "deletable": false,
    "editable": false,
    "tags": []
   },
   "source": [
    "#### Aufgabe 12: Untersuchen Sie den Datensatz auf Korrelationen zwischen den einzelnen Merkmalen mithilfe der `pandas`-Methode `corr()`. Lassen Sie sich die Korrelationen in einer Korrelationsmatrix darstellen mithilfe der Funktion `heatmap()` von seaborn.\n",
    "\n",
    "**Achtung**: Es handelt sich hierbei um sehr wenige ordinale Ausprägungen pro Merkmal (z.B. 5 Ausprägungen für den Alkoholkonsum am Wochenende (`'sehr niedrig','niedrig','moderat','hoch','sehr hoch'`) für das Merkmal Geschlecht) und die Korrelationen müssen daher mit vorsicht interpretiert werden. Für konkretere Aussagen müssten mehr Ausprägungen vorliegen. Zudem werden Korrelationen für den ganzen Datensatz mithilfe von `corr()` berechnet. Dadurch werden auch Korrelationen für nominal skalierte Merkmale berechnet, für die eigentlich keine Korrelation interpretiert werden können.\n",
    "\n"
   ]
  },
  {
   "cell_type": "code",
   "execution_count": null,
   "id": "8bb40537-77e0-4174-bf88-2b1f51a013da",
   "metadata": {
    "deletable": false,
    "tags": []
   },
   "outputs": [],
   "source": [
    "plt.figure(figsize=(16, 16))\n",
    "sns.heatmap(#Ergänzen, cmap=\"Blues\", annot=True, fmt=\".2f\")\n",
    "plt.title(\"Korrelation zwischen den Merkmalen\",size=20)\n",
    "plt.show()"
   ]
  },
  {
   "cell_type": "markdown",
   "id": "e653cdaa-414c-48e4-9f63-92c6e3d8e774",
   "metadata": {
    "deletable": false,
    "editable": false,
    "tags": []
   },
   "source": [
    "#### Aufgabe 13: Welche Merkmale haben einen besonders starken Zusammenhang. Welche haben einen schwachen Zusammenhang? Sind diese Korrelationen aus eigener Erfahrung nachvollziehbar/begründbar?"
   ]
  },
  {
   "cell_type": "markdown",
   "id": "7325944f-a822-4dc6-8858-5c80d428f74e",
   "metadata": {
    "deletable": false,
    "tags": []
   },
   "source": [
    "Antwort:"
   ]
  },
  {
   "cell_type": "markdown",
   "id": "7df2cf19-7dd8-4468-ac06-3216e272b81e",
   "metadata": {},
   "source": [
    "---\n",
    "## One Hot Encoding\n",
    "Um weiter Analysen mit dem ursprünglichen Datensatz machen zu können, müssen die vorliegenden kategorischen Merkmale binär codiert werden mithilfe des **One Hot Encodings** des Pakets von `pandas`. https://pandas.pydata.org/pandas-docs/stable/reference/api/pandas.get_dummies.html\n",
    "#### Aufgabe 14: Transformieren Sie die nominal skalierte Merkmale in binär codierte. Überprüfen Sie die Transformation, indem Sie sich den transformierten Dataframe ausgeben lassen."
   ]
  },
  {
   "cell_type": "code",
   "execution_count": null,
   "id": "e9027074-4b62-4026-9f38-45af47693442",
   "metadata": {
    "deletable": false,
    "tags": []
   },
   "outputs": [],
   "source": []
  },
  {
   "cell_type": "markdown",
   "id": "76107cf7-de88-403b-bea1-c9c41a46b860",
   "metadata": {
    "deletable": false,
    "editable": false,
    "tags": []
   },
   "source": [
    "---\n",
    "## Normalisierung/Standardisierung\n",
    "Damit Klassifikationsalgorithmen später bessere Ergebnisse erzielen können, müssen die Daten normalisiert werden.\n",
    "#### Aufgabe 15: Z-transformieren Sie die fehlenden metrischen Daten mithilfe des `StandardScaler` von `scikit learn`. Überprüfen Sie das Ergebnis indem Sie sich den Dataframe ausgeben lassen."
   ]
  },
  {
   "cell_type": "code",
   "execution_count": null,
   "id": "d798eac0-48a5-4884-a5e6-aacda8f306a2",
   "metadata": {
    "deletable": false,
    "tags": []
   },
   "outputs": [],
   "source": [
    "scaler = StandardScaler()\n",
    "df['Alter'] = scaler.fit_transform(df[['Alter']])\n"
   ]
  },
  {
   "cell_type": "code",
   "execution_count": null,
   "id": "0c6d5347-4ba9-4473-b76b-f1f4732869b9",
   "metadata": {
    "deletable": false,
    "tags": []
   },
   "outputs": [],
   "source": [
    "df"
   ]
  },
  {
   "cell_type": "markdown",
   "id": "1ac25f25-9049-4fab-aeb0-3f7b4487faf6",
   "metadata": {
    "deletable": false,
    "editable": false,
    "tags": []
   },
   "source": [
    "---\n",
    "\n",
    "<a rel=\"license\" href=\"http://creativecommons.org/licenses/by-nc-nd/4.0/\"><img alt=\"Creative Commons Lizenzvertrag\" style=\"border-width:0\" src=\"https://i.creativecommons.org/l/by-nc-nd/4.0/88x31.png\" /></a><br /><span xmlns:dct=\"http://purl.org/dc/terms/\" property=\"dct:title\">Die Übungsserie begleitend zum AI4ALL-Kurs</span> der <span xmlns:cc=\"http://creativecommons.org/ns#\" property=\"cc:attributionName\">EAH Jena</span> ist lizenziert unter einer <a rel=\"license\" href=\"http://creativecommons.org/licenses/by-nc-nd/4.0/\">Creative Commons Namensnennung - Nicht kommerziell - Keine Bearbeitungen 4.0 International Lizenz</a>.\n",
    "\n",
    "Der AI4ALL-Kurs entsteht im Rahmen des Projekts MoVeKI2EAH. Das Projekt MoVeKI2EAH wird durch das BMBF (Bundesministerium für Bildung und Forschung) und den Freistaat Thüringen im Rahmen der Bund-Länder-Initiative zur Förderung von Künstlicher Intelligenz in der Hochschulbildung gefördert (12/2021 bis 11/2025, Föderkennzeichen 16DHBKI081)."
   ]
  }
 ],
 "metadata": {
  "kernelspec": {
   "display_name": "Python 3 (ipykernel)",
   "language": "python",
   "name": "python3"
  },
  "language_info": {
   "codemirror_mode": {
    "name": "ipython",
    "version": 3
   },
   "file_extension": ".py",
   "mimetype": "text/x-python",
   "name": "python",
   "nbconvert_exporter": "python",
   "pygments_lexer": "ipython3",
   "version": "3.10.10"
  }
 },
 "nbformat": 4,
 "nbformat_minor": 5
}
