{
 "cells": [
  {
   "cell_type": "markdown",
   "metadata": {
    "deletable": false,
    "editable": false,
    "tags": []
   },
   "source": [
    "<img src=\"./src/logo.png\" width=\"250\">"
   ]
  },
  {
   "cell_type": "markdown",
   "metadata": {
    "deletable": false,
    "editable": false
   },
   "source": [
    "**Baustein:** Klassifikation  $\\rightarrow$ **Subbaustein:** Grundlagen und $k$-Nearest Neighbour $\\rightarrow$ **Übungsserie**\n",
    "\n",
    "**Version:** 1.0, **Lizenz:** <a rel=\"license\" href=\"http://creativecommons.org/licenses/by-nc-nd/4.0/\">CC BY-NC-ND 4.0</a>\n",
    "\n",
    "***"
   ]
  },
  {
   "cell_type": "markdown",
   "metadata": {
    "deletable": false,
    "editable": false,
    "tags": []
   },
   "source": [
    "# Klassifikation 1: Grundlagen und $k$-Nearest Neighbour"
   ]
  },
  {
   "cell_type": "markdown",
   "metadata": {
    "deletable": false,
    "editable": false,
    "tags": []
   },
   "source": [
    "---\n",
    "## Importieren der notwendigen Python-Bibliotheken"
   ]
  },
  {
   "cell_type": "code",
   "execution_count": 2,
   "metadata": {
    "deletable": false,
    "pycharm": {
     "is_executing": true
    },
    "tags": []
   },
   "outputs": [],
   "source": [
    "from sklearn.neighbors import KNeighborsClassifier\n",
    "from sklearn.preprocessing import StandardScaler, MinMaxScaler\n",
    "from sklearn.model_selection import train_test_split\n",
    "import pandas as pd\n",
    "from sklearn.metrics import *\n",
    "import seaborn as sns\n",
    "from seaborn import pairplot\n",
    "import matplotlib.pyplot as plt\n",
    "from collections import Counter\n",
    "\n",
    "%run src/setup.ipynb"
   ]
  },
  {
   "cell_type": "markdown",
   "metadata": {
    "deletable": false,
    "editable": false,
    "tags": []
   },
   "source": [
    "---\n",
    "## Importieren der Daten\n",
    "#### Aufgabe 1: Passen Sie den Importierbefehl so an, dass der gewünschte Datensatz in der Variable ```df``` gespeichert ist.\n",
    "Hierbei hilft die Bibliothek `pandas`, die es erlaubt, zum Beispiel eine `.csv`-Datei als **Dataframe-Objekt** einzulesen. Andere Formate, die mit `pandas` eingelesen werden können sind z.B. `.xlsx`, `.hdf5` oder `.json`.\n",
    "\n",
    "\n",
    "Verfügbare Datensätze sind:\n",
    "\n",
    "| Art                                                                                                                  | Name                  |\n",
    "|----------------------------------------------------------------------------------------------------------------------|-----------------------|\n",
    "| [Pflanzempfehlungen](https://www.kaggle.com/datasets/chitrakumari25/smart-agricultural-production-optimizing-engine) | pflanzempfehlung      |\n",
    "| [Herzinfarkt-Risiko](https://www.kaggle.com/datasets/rashikrahmanpritom/heart-attack-analysis-prediction-dataset)    | herzinfarkt           |\n",
    "| [Kickstarter-Projekte](https://www.kaggle.com/datasets/ulrikthygepedersen/kickstarter-projects)                      | kickstarter           |\n",
    "| [Krebs-Klassifikation](https://www.kaggle.com/datasets/erdemtaha/cancer-data)                                        | krebs                 |\n",
    "| [Glass-Identifikation](https://www.kaggle.com/datasets/prashant111/glass-identification-dataset)                     | glas                  |\n",
    "| [Kundenpersönlichkeits-Analyse](https://www.kaggle.com/datasets/imakash3011/customer-personality-analysis)           | kundenpersoenlichkeit |\n",
    "| [Pinguin-Klassifikation](https://www.kaggle.com/datasets/parulpandey/palmer-archipelago-antarctica-penguin-data)     | penguins              |\n"
   ]
  },
  {
   "cell_type": "code",
   "execution_count": null,
   "metadata": {
    "deletable": false,
    "tags": []
   },
   "outputs": [],
   "source": [
    "datensatz = \n",
    "PATH = './data/' # Setzen eines (relativen) Pfades zum Verzeichnis, das den Datensatz enthält\n",
    "df = pd.read_csv(PATH + datensatz + '_preprocessed.csv') # Laden des Trainings-Datensatzes"
   ]
  },
  {
   "cell_type": "markdown",
   "metadata": {
    "deletable": false,
    "editable": false,
    "tags": []
   },
   "source": [
    "Zum Verschaffen eines Überblicks wird der Datensatz einmal ausgegeben."
   ]
  },
  {
   "cell_type": "code",
   "execution_count": null,
   "metadata": {
    "deletable": false,
    "tags": []
   },
   "outputs": [],
   "source": [
    "df"
   ]
  },
  {
   "cell_type": "markdown",
   "metadata": {
    "deletable": false,
    "editable": false,
    "tags": []
   },
   "source": [
    "---\n",
    "## Klassen\n",
    "Machen Sie sich mit dem Datensatz vertraut.\n",
    "#### Aufgabe 2: Was ist die Spalte mit den Klassen? Geben Sie den Namen der Spalte mit den Klassen in der zugehörigen Variable `klasse` an. Halten Sie fest, wie viele Klassen es gibt und welche es sind."
   ]
  },
  {
   "cell_type": "markdown",
   "metadata": {
    "deletable": false,
    "tags": []
   },
   "source": [
    "Antwort:\n",
    "\n"
   ]
  },
  {
   "cell_type": "code",
   "execution_count": null,
   "metadata": {
    "deletable": false,
    "tags": []
   },
   "outputs": [],
   "source": [
    "klasse = 'Spaltenname'\n",
    "print(df[klasse].unique()) # Ausgabe aller einzigartigen Werte innerhalb der definierten Spalte der Klasse"
   ]
  },
  {
   "cell_type": "markdown",
   "metadata": {
    "deletable": false,
    "editable": false,
    "tags": []
   },
   "source": [
    "Zur Übersichtlichkeit sollen zuerst einmal zwei Klassen voneinander unterschieden werden können.\n",
    "#### Aufgabe 3: Suchen Sie sich diese beiden Klassen aus und ändern sie die Werte `klasse1` und `klasse2` dementsprechend.\n",
    "\n",
    "Die restlichen Klassen werden aus dem **Dataframe-Objekt** entfernt."
   ]
  },
  {
   "cell_type": "code",
   "execution_count": null,
   "metadata": {
    "deletable": false,
    "tags": []
   },
   "outputs": [],
   "source": [
    "klasse1 = 'klasse1'\n",
    "klasse2 = 'klasse2'\n",
    "\n",
    "df_reduced = df[df[klasse].isin([klasse1, klasse2])] # Entfernen aller Reihen im Datensatz, die nicht der vorgegebenen Klassenwerte entsprechen\n",
    "\n",
    "df_reduced"
   ]
  },
  {
   "cell_type": "markdown",
   "metadata": {
    "deletable": false,
    "editable": false,
    "tags": []
   },
   "source": [
    "#### Aufgabe 4: Vergleichen Sie bei der Ausgabe von `df_reduced` die Anzahl der Reihen mit der von `df`.\n",
    "\n",
    "(Manche Datensätze enthalten nur 2 Klassen.)"
   ]
  },
  {
   "cell_type": "markdown",
   "metadata": {
    "deletable": false,
    "tags": []
   },
   "source": [
    "Antwort:\n"
   ]
  },
  {
   "cell_type": "markdown",
   "metadata": {
    "deletable": false,
    "editable": false,
    "tags": []
   },
   "source": [
    "---\n",
    "## Merkmale\n",
    "Nutzen Sie zum Visualisieren der Daten den **Pairplot** und die **Korrelationsmatrix**, um aussagekräftige Merkmale zu identifizieren. \n",
    "\n",
    "\n",
    "(Dieser Schritt kann in der Ausführung länger dauern -- je nach Größe des Datensatzes und Anzahl der Merkmale)"
   ]
  },
  {
   "cell_type": "code",
   "execution_count": null,
   "metadata": {
    "deletable": false,
    "tags": []
   },
   "outputs": [],
   "source": [
    "plt.figure()\n",
    "pairplot(df_reduced, hue=klasse, plot_kws={'alpha': 0.5})\n",
    "plt.show()"
   ]
  },
  {
   "cell_type": "markdown",
   "metadata": {},
   "source": [
    "Um die Korrelationen berechnen zu können müssen metrische/numerische Werte vorliegen. Konvertieren Sie daher die kategorischen Merkmalsausprägungen der Klassenspalte."
   ]
  },
  {
   "cell_type": "code",
   "execution_count": null,
   "metadata": {
    "deletable": false,
    "tags": []
   },
   "outputs": [],
   "source": [
    "df_heatmap = df_reduced.copy() # erstelle eine unabhängige Kopie des dataframes\n",
    "df_heatmap[klasse] = df_heatmap[klasse].map({klasse1: 1, klasse2: 0})  # Zuteilung numerischer Werte der kategorischen Merkmalsausprägungen, sinnvolle Reihenfolge beachten!"
   ]
  },
  {
   "cell_type": "code",
   "execution_count": null,
   "metadata": {},
   "outputs": [],
   "source": [
    "plt.figure()\n",
    "plt.subplots(figsize=(15,13))\n",
    "sns.heatmap(df_heatmap.corr(), annot=True, cmap=\"Blues\") \n",
    "plt.title(\"Korrelation zwischen den Merkmalen\")\n",
    "plt.show()"
   ]
  },
  {
   "cell_type": "markdown",
   "metadata": {
    "deletable": false,
    "editable": false,
    "tags": []
   },
   "source": [
    "#### Aufgabe 4: Was gibt es für Merkmale? Sind alle sinnvoll? Entdecken Sie auffällige Korrelationen zwischen den Merkmalen? Geben Sie diese ggf. an."
   ]
  },
  {
   "cell_type": "markdown",
   "metadata": {
    "deletable": false,
    "tags": []
   },
   "source": [
    "Antwort:\n"
   ]
  },
  {
   "cell_type": "markdown",
   "metadata": {
    "deletable": false,
    "editable": false,
    "tags": []
   },
   "source": [
    "#### Aufgabe 5: Beschränken Sie sich für die weiteren Schritte auf zwei Merkmale. Wieso haben Sie sich für diese beiden Merkmale entschieden? Geben Sie die gewählten Merkmale in den zugehörigen Variablen `merkmal1` und `merkmal2` an. Vergleichen Sie bei der Ausgabe von `df_reduced` die Anzahl der Spalten mit der von `df`. \n",
    "\n",
    "Zur Visualisierung später ist es sinnvoll vorerst Merkmale mit **kontinuierlichen Daten** zu wählen."
   ]
  },
  {
   "cell_type": "markdown",
   "metadata": {
    "deletable": false,
    "tags": []
   },
   "source": [
    "Antwort:\n"
   ]
  },
  {
   "cell_type": "code",
   "execution_count": null,
   "metadata": {
    "deletable": false,
    "tags": []
   },
   "outputs": [],
   "source": [
    "merkmal1 = 'merkmal1'\n",
    "merkmal2 = 'merkmal2'\n",
    "\n",
    "df_reduced = df_reduced[[merkmal1, merkmal2, klasse]] # Reduzieren des Dataframes auf die vorgegebenen Spalten\n",
    "print(df_reduced)"
   ]
  },
  {
   "cell_type": "markdown",
   "metadata": {
    "deletable": false,
    "editable": false,
    "tags": []
   },
   "source": [
    "---\n",
    "## Verteilung der Klassen\n",
    "Eine ungleichmäßige Verteilung der Häufigkeit der Klassen kann zu falschen Klassifikationen führen, da die häufig vorkommende Klasse bevorzugt klassifiziert wird. Daher ist es wichtig sich vor der Klassifikation ein Bild über die Verteilung zu machen. "
   ]
  },
  {
   "cell_type": "markdown",
   "metadata": {
    "deletable": false,
    "editable": false,
    "tags": []
   },
   "source": [
    "#### Aufgabe 6: Wie verhält sich die Verteilung für den von Ihnen gewählten Datensatz?"
   ]
  },
  {
   "cell_type": "markdown",
   "metadata": {
    "deletable": false,
    "tags": []
   },
   "source": [
    "Antwort:\n"
   ]
  },
  {
   "cell_type": "code",
   "execution_count": null,
   "metadata": {
    "deletable": false,
    "tags": []
   },
   "outputs": [],
   "source": [
    "plt.figure()\n",
    "sns.countplot(data=df_reduced,x=klasse)\n",
    "plt.show()"
   ]
  },
  {
   "cell_type": "markdown",
   "metadata": {
    "deletable": false,
    "editable": false,
    "tags": []
   },
   "source": [
    "---\n",
    "## Aufteilen des Datensatzes in Trainings- und Testdaten\n",
    "Das **Dataframe-Objekt** wird aufgeteilt in zwei Variablen -- zum einen in die Variable `X` für die Merkmale und zum anderen in die Variable `Y` für die Klassen-Labels. Zudem wird weiterhin ein Trainings- und ein Testdatensatz erstellt. Anhand des Trainingsdatensatzes soll der Klassifikator \"trainiert\" werden. Die Testdaten sollen klassifiziert werden, um zu überprüfen, wie gut der Klassifikator bei neuen Daten performt. Mit dem Parameter `test_size` können Sie die Größe des Testdatensatzes beeinflussen: $0.2$ steht für eine Größe von 20% des Gesamtdatensatzes. \n",
    "\n",
    "#### Aufgabe 7: Verändern Sie die Aufteilung der Daten und beobachten Sie wie sich das Verhältnis ändert. Erklären Sie die Dimensionen der 4 Variablen."
   ]
  },
  {
   "cell_type": "markdown",
   "metadata": {
    "deletable": false,
    "tags": []
   },
   "source": [
    "Antwort:\n",
    "\n"
   ]
  },
  {
   "cell_type": "code",
   "execution_count": null,
   "metadata": {
    "deletable": false,
    "tags": []
   },
   "outputs": [],
   "source": [
    "Y = df_reduced[klasse] # y enthält alle Label für alle Datenpunkte\n",
    "X = df_reduced.drop(columns=[klasse]) # X enthält alle Merkmale für alle Datenpunkte\n",
    "X_train, X_test, Y_train, Y_test = train_test_split(X, Y, test_size=0.2, shuffle=True, random_state=42) # Split der Daten mit der Verteilung von test_size mit Shuffeln\n",
    "print('Dimension X_train: ', X_train.shape)\n",
    "print('Dimension Y_train: ', Y_train.shape)\n",
    "print('Dimension X_test: ', X_test.shape)\n",
    "print('Dimension Y_test: ', Y_test.shape)"
   ]
  },
  {
   "cell_type": "markdown",
   "metadata": {
    "deletable": false,
    "editable": false,
    "tags": []
   },
   "source": [
    "---\n",
    "## Festlegen der Parameter\n",
    "#### Aufgabe 8: Legen sie im Nachfolgenden die nachfolgenden Parameter fest.\n",
    "- `k` (wie viele benachbarte Punkte sollen in die Klassifikationsentscheidung mit einfließen) und\n",
    "- `p` (welche Distanznorm soll genutzt werden, um die nächsten Nachbarn zu finden)\n",
    "    - $p=1$ entspricht der Manhatten-Distanz\n",
    "    - $p=2$ entspricht der Euklidischen-Distanz\n"
   ]
  },
  {
   "cell_type": "code",
   "execution_count": null,
   "metadata": {
    "deletable": false,
    "tags": []
   },
   "outputs": [],
   "source": [
    "k = \n",
    "p = "
   ]
  },
  {
   "cell_type": "markdown",
   "metadata": {
    "deletable": false,
    "editable": false,
    "tags": []
   },
   "source": [
    "---\n",
    "## Festlegen eines Testpunkts\n",
    "\n",
    "#### Aufgabe 9: Welche Merkmalwerte soll der zu klassifizierende Testpunkt `test_pt` haben?\n",
    "Schauen Sie im Internet nach entsprechenden Werten oder denken Sie sich einen Testpunkt aus. Dieser Testpunkt soll im Nachfolgenden klassifiziert werden.\n",
    "Um das Ergebnis überprüfen zu können, sollten Sie, falls Sie keine Aussage über die richtige Klasse des Testpunktes treffen können, einen Testpunkt aus dem Testdatensatz `X_test` zusammen mit dem dazugehörigen Label aus `Y_test` auswählen."
   ]
  },
  {
   "cell_type": "code",
   "execution_count": null,
   "metadata": {
    "deletable": false,
    "tags": []
   },
   "outputs": [],
   "source": [
    "test_punkt = pd.DataFrame([{merkmal1: XXX, merkmal2: XXX}])\n",
    "print(test_punkt)"
   ]
  },
  {
   "cell_type": "markdown",
   "metadata": {
    "deletable": false,
    "editable": false,
    "tags": []
   },
   "source": [
    "---\n",
    "## Visualisierung Testpunkt\n",
    "Lassen Sie sich in den **Scatterplot** den Testpunkt mit darstellen. \n",
    "\n",
    "#### Aufgabe 10: Wie würden Sie den Testpunkt rein visuell/durch ggf. Expertise auf dem Bereich klassifizieren? Wie sicher sind Sie sich hierbei?"
   ]
  },
  {
   "cell_type": "markdown",
   "metadata": {
    "deletable": false,
    "tags": []
   },
   "source": [
    "Aufgabe: "
   ]
  },
  {
   "cell_type": "code",
   "execution_count": null,
   "metadata": {
    "deletable": false,
    "tags": []
   },
   "outputs": [],
   "source": [
    "plt.figure()\n",
    "sns.scatterplot(data=X_train, x=merkmal1, y=merkmal2, hue=Y_train, palette=[ETIT,MTBT])\n",
    "plt.plot(test_punkt[merkmal1], test_punkt[merkmal2], 'o', color=BW, label='Testpunkt')\n",
    "plt.show()"
   ]
  },
  {
   "cell_type": "markdown",
   "metadata": {
    "deletable": false,
    "editable": false,
    "tags": []
   },
   "source": [
    "---\n",
    "## $k$-Nearest Neighbour Klassifikator\n",
    "Mithilfe der Klasse [`KNeighborsClassifier`](https://scikit-learn.org/stable/modules/generated/sklearn.neighbors.KNeighborsClassifier.html) von `sklearn` wird der Klassifikator für die Trainingsdaten (`X_train`, `Y_train`) erstellt."
   ]
  },
  {
   "cell_type": "code",
   "execution_count": null,
   "metadata": {
    "deletable": false,
    "tags": []
   },
   "outputs": [],
   "source": [
    "clf = KNeighborsClassifier(n_neighbors=k)\n",
    "clf.fit(X_train, Y_train)"
   ]
  },
  {
   "cell_type": "markdown",
   "metadata": {
    "deletable": false,
    "editable": false,
    "tags": []
   },
   "source": [
    "Das Verfahren lässt sich aber auch relativ einfach selbst implementieren. Schauen Sie sich die einzelnen Schritte an und vergleichen Sie diese mit denen aus der Vorlesung. Berechnen Sie die Distanz zu einem Trainingsdatenpunkt selbst und vergleichen Sie dieses Ergebnis mit dem von Python berechneten. \n",
    "\n",
    "#### Aufgabe 11: Vervollständigen Sie hierfür den bereits vorimplementierten Algorithmus zur Berechnung der Minkowski-Distanz in Zeile 9. \n",
    "Zur Erinnerung die Formel der Minkowski-Distanz:\n",
    "$d\\left(a, b\\right)=\\left(\\displaystyle\\sum_{i=1}^D\\left|a_{i}-b_{i}\\right|^p\\right)^{1 / p}$"
   ]
  },
  {
   "cell_type": "code",
   "execution_count": null,
   "metadata": {
    "deletable": false,
    "tags": []
   },
   "outputs": [],
   "source": [
    "# Berechnung der Distanz zwischen den Punkten a und b\n",
    "def minkowski_distanz(a, b, p=1):\n",
    "    # Speichern der Dimensionen (Anzahl an Merkmalen) von Punkt a\n",
    "    dimension = len(a)\n",
    "    # Initalisiere die Variabel distanz auf 0\n",
    "    distanz = 0\n",
    "    # Berechnung der Minkoswki Distanz mithilfe des festgelegten Parameters p\n",
    "    for i in range(dimension):\n",
    "        distanz = distanz + abs(????)^p #ergänzen\n",
    "    return distanz**(1/p)\n",
    "\n",
    "# Berechnung der Distanzen zwischen dem Testpunkt test_pt und allen anderen Trainingspunkten X\n",
    "distanzen = []\n",
    "for j in X_train.index:\n",
    "    distanzen.append(minkowski_distanz(test_punkt.values[0], X_train.loc[j], p))\n",
    "\n",
    "df_dists = pd.DataFrame(data=distanzen, index=X_train.index, columns=['Distanz'])\n",
    "print(df_dists)"
   ]
  },
  {
   "cell_type": "code",
   "execution_count": null,
   "metadata": {
    "deletable": false,
    "tags": []
   },
   "outputs": [],
   "source": [
    "# Finden der k-nächsten Nachbarn\n",
    "df_dists = df_dists.sort_values(by=['Distanz'], axis=0)[0:k] # Sortieren der k-nächsten Distanzen nach Größe\n",
    "df_nn = df_dists.join(df_reduced) # Integrieren der Daten aus dem ursprünglichen Dataframe zu den Distanzen\n",
    "print(df_nn)"
   ]
  },
  {
   "cell_type": "code",
   "execution_count": null,
   "metadata": {
    "deletable": false,
    "tags": []
   },
   "outputs": [],
   "source": [
    "# Zählen der Labels der nächsten Nachbarn\n",
    "counter = Counter(Y_train[df_nn.index])\n",
    "print(counter)"
   ]
  },
  {
   "cell_type": "markdown",
   "metadata": {
    "deletable": false,
    "editable": false,
    "tags": []
   },
   "source": [
    "---\n",
    "## Klassifikation des Testpunkts\n",
    "Im Folgenden wird der Testpunkt einmal mit dem selbst implementierten Verfahren und unter Zuhilfenahme des `sklearn` Pakets klassifiziert. Für Letzteres ermöglicht die Methode `predict` die Klassifikation mithilfe des eben erstellten Klassifikators."
   ]
  },
  {
   "cell_type": "code",
   "execution_count": null,
   "metadata": {
    "deletable": false,
    "tags": []
   },
   "outputs": [],
   "source": [
    "# Finden des am meisten vorkommenden Labels\n",
    "label_testpt = counter.most_common()[0][0]\n",
    "print('Vorhersage für Testpunkt mit eigenem implementieren Verfahren:\\n', label_testpt)"
   ]
  },
  {
   "cell_type": "code",
   "execution_count": null,
   "metadata": {
    "deletable": false,
    "tags": []
   },
   "outputs": [],
   "source": [
    "# Vorhersage mit scikit-learn\n",
    "label_testpt_sklearn = clf.predict(???)[0] #Ändern\n",
    "print('Vorhersage für Testpunkt mithilfe des scikit-learn-Pakets:\\n', label_testpt_sklearn)"
   ]
  },
  {
   "cell_type": "markdown",
   "metadata": {
    "deletable": false,
    "editable": false,
    "tags": []
   },
   "source": [
    "---\n",
    "## Klassifikation eines ganzen Testdatensatzes\n",
    "Um die Klassifikationsgenauigkeit des erstellten $k$-NN Klassifikators zu erfassen, klassifizieren Sie im Folgenden den gesamten Testdatensatz und lassen Sie sich dann die **Accuracy** ausgeben. \n",
    "#### Aufgabe 12: Haben Sie diese Accuracy erwartet? Begründen Sie."
   ]
  },
  {
   "cell_type": "markdown",
   "metadata": {
    "deletable": false,
    "tags": []
   },
   "source": [
    "Antwort: "
   ]
  },
  {
   "cell_type": "code",
   "execution_count": null,
   "metadata": {
    "deletable": false,
    "tags": []
   },
   "outputs": [],
   "source": [
    "predictions = clf.predict(???) #Ändern\n",
    "print('Accuracy: ', accuracy_score(Y_test, predictions))"
   ]
  },
  {
   "cell_type": "markdown",
   "metadata": {
    "deletable": false,
    "editable": false,
    "tags": []
   },
   "source": [
    "#### Aufgabe 13: Ist der Wert der Accuracy als Klassifikationsgenauigkeit aussagekräftig? Begründen Sie ebenfalls anhand der **Confusion Matrix**."
   ]
  },
  {
   "cell_type": "markdown",
   "metadata": {
    "deletable": false,
    "tags": []
   },
   "source": [
    "Antwort:"
   ]
  },
  {
   "cell_type": "code",
   "execution_count": null,
   "metadata": {
    "deletable": false,
    "tags": []
   },
   "outputs": [],
   "source": [
    "plt.figure()\n",
    "cm = confusion_matrix(Y_test, predictions)\n",
    "sns.heatmap(cm, annot=True, cmap='Blues', fmt='d')\n",
    "plt.title('Confusion Matrix')\n",
    "plt.xlabel('Vorhersage von \"' + klasse + '\"')\n",
    "plt.ylabel('Wahrer Wert von \"' + klasse + '\"')\n",
    "\n",
    "plt.show()"
   ]
  },
  {
   "cell_type": "markdown",
   "metadata": {
    "deletable": false,
    "editable": false,
    "tags": []
   },
   "source": [
    "#### Aufgabe 14: Entscheiden Sie, welche Metrik Sie für die Klassifikationsgenauigkeit ebenfalls berechnen lassen wollen. Recherchieren Sie dafür auf der Dokumentation der Python-Bibliothek `scikit-learn` (sklearn) welche Klassifikationsgenauigkeit-Metriken es gibt. Wählen Sie eine aus, begründen Sie Ihre Wahl und lassen Sie sich diese berechnen. \n",
    "\n",
    "Beispielhaft ist dies bereits erfüllt für den **F1-Score**. Hier ist es ebenfalls notwendig das `pos_label` anzugeben. Hierbei handelt es sich um die Klasse, die ggf. unterrepräsentiert ist, also weniger Datenpunkte enthält als die andere."
   ]
  },
  {
   "cell_type": "markdown",
   "metadata": {
    "deletable": false,
    "tags": []
   },
   "source": [
    "Antwort:"
   ]
  },
  {
   "cell_type": "code",
   "execution_count": null,
   "metadata": {
    "deletable": false,
    "tags": []
   },
   "outputs": [],
   "source": [
    "positiv_label = df_reduced[klasse].value_counts().index[-1] # entspricht der Klasse, die im Datensatz weniger vertreten ist\n",
    "print('F1-Score: ', f1_score(Y_test, predictions, pos_label=positiv_label))"
   ]
  },
  {
   "cell_type": "markdown",
   "metadata": {
    "deletable": false,
    "editable": false,
    "tags": []
   },
   "source": [
    "---\n",
    "## Parameter-Wahl\n",
    "#### Aufgabe 15: Verändern Sie in der nachfolgenden Visualisierung die Parameter `k` und `p` (Distanznorm). Gibt es einen Wert für `k` bei dem die Klassifikation eine falsche Vorhersage trifft? Wenn ja, woran könnte dies liegen? Was kann bei der Wahl eines geraden Werts für `k` passieren? Ändern Sie auch die Art der Vorverarbeitung und die Daten des Testpunkts. Was passiert, wenn der Testpunkt außerhalb des Bereichs der Trainingsdaten liegt? Beschreiben Sie die Auswirkung der Vorverarbeitung auf die nächsten Nachbarn des Testpunkts."
   ]
  },
  {
   "cell_type": "markdown",
   "metadata": {
    "deletable": false,
    "tags": []
   },
   "source": [
    "Antwort:"
   ]
  },
  {
   "cell_type": "code",
   "execution_count": null,
   "metadata": {
    "deletable": false,
    "tags": []
   },
   "outputs": [],
   "source": [
    "%matplotlib widget\n",
    "exec(open('src/interact_kNN_widget.py').read())\n",
    "# farbe von boundary display anpassen; klassenzuordnung"
   ]
  },
  {
   "cell_type": "code",
   "execution_count": null,
   "metadata": {
    "deletable": false,
    "tags": []
   },
   "outputs": [],
   "source": [
    "# Visualisierung ohne Widgets\n",
    "# from src.interact_kNN import *\n",
    "# nearest_neighbour(Distanznorm='Euklidisch', Vorverarbeitung='keine', Testpunkt_Merkmal1=60, Testpunkt_Merkmal2=150, k=10, df_reduced=df_reduced, merkmal1=merkmal1, merkmal2=merkmal2, klasse=klasse, klasse1=klasse1, klasse2=klasse2)"
   ]
  },
  {
   "cell_type": "markdown",
   "metadata": {
    "deletable": false,
    "editable": false,
    "tags": []
   },
   "source": [
    "---\n",
    "## Merkmale und Einfluss der Vorverabeitung\n",
    "Im Folgenden wird der Datensatz neu geladen und in der Variable `x` dieses Mal alle Merkmale abgespeichert.\n",
    "\n",
    "#### Aufgabe 16: Untersuchen Sie wie sich die gewählte repräsentative Klassifikationsgenauigkeit(en) mit allen Merkmalen verändert.\n",
    "Verändern Sie den Code so, dass Ihre gewünsche Klassifikationsgenauigkeit ausgegeben wird.\n",
    "Normalisieren Sie daraufhin die Werte der Merkmale und schauen Sie wie sich die Klassifikationsgenauigkeit verändert. Begründen Sie diese Veränderung."
   ]
  },
  {
   "cell_type": "markdown",
   "metadata": {
    "deletable": false,
    "tags": []
   },
   "source": [
    "Antwort: "
   ]
  },
  {
   "cell_type": "code",
   "execution_count": null,
   "metadata": {
    "deletable": false,
    "tags": []
   },
   "outputs": [],
   "source": [
    "# Auswählen der zwei definierten Klassen für den Dataframe\n",
    "df_allFeatures = df[df[klasse].isin([klasse1, klasse2])]\n",
    "\n",
    "# Split des Datensatzes in Merkmale und Label\n",
    "X = df_allFeatures.drop(columns=[klasse]) # X enthält alle Merkmale für alle Datenpunkte\n",
    "Y = df_allFeatures[klasse] # y enthält alle Label für alle Datenpunkte\n",
    "\n",
    "############################\n",
    "# Normalisieren der Merkmale MinMaxScaler(Normalisierung) oder StandardScaler(Standardisierung)\n",
    "#scaler = MinMaxScaler()\n",
    "#X = scaler.fit_transform(X)\n",
    "############################\n",
    "\n",
    "# Split des Datensatzes in Trainings- und Testdaten\n",
    "X_train, X_test, Y_train, Y_test = train_test_split(X, Y, test_size=0.2, shuffle=True, random_state=42)\n",
    "\n",
    "# Übergeben der Trainingsdaten an den erstellten kNN-KLassifikator\n",
    "clf = KNeighborsClassifier(n_neighbors=k)\n",
    "clf.fit(X_train, Y_train)\n",
    "\n",
    "# Vorhersage des Testdatensatzes\n",
    "predictions = clf.predict(X_test)\n",
    "\n",
    "# Ausgabe der gewählten Klassifikationsgenauigkeit\n",
    "positiv_label = df_allFeatures[klasse].value_counts().index[-1]\n",
    "print('F1-Score: ', f1_score(Y_test, predictions, pos_label=positiv_label))\n",
    "??????"
   ]
  },
  {
   "cell_type": "markdown",
   "metadata": {
    "deletable": false,
    "editable": false,
    "tags": []
   },
   "source": [
    "---\n",
    "## Auswirkung des Parameters $\\boldsymbol{k}$\n",
    "#### Aufgabe 17: Nutzen Sie die for-Schleife, um sich für $1<k<k_{max}$ die Klassifikationsgenauigkeit Ihrer Wahl ausgeben zu lassen. Speichern Sie dafür den Wert der Klassifikationsmetrik für jedes `k` in der Variable `score`."
   ]
  },
  {
   "cell_type": "code",
   "execution_count": null,
   "metadata": {
    "deletable": false,
    "tags": []
   },
   "outputs": [],
   "source": [
    "genauigkeit = []\n",
    "k_max = ???\n",
    "for k in range (1, ???):\n",
    "    clf = KNeighborsClassifier(n_neighbors=k, metric='manhattan')\n",
    "    clf.fit(X_train, Y_train)\n",
    "    predictions = clf.predict(X_test)\n",
    "    score = accuracy_score(Y_test, predictions)\n",
    "    positiv_label = df[klasse].value_counts().index[-1]\n",
    "    score = f1_score(Y_test, predictions, pos_label=positiv_label)\n",
    "    genauigkeit.append(score)"
   ]
  },
  {
   "cell_type": "markdown",
   "metadata": {
    "deletable": false,
    "editable": false,
    "tags": []
   },
   "source": [
    "#### Aufgabe 18: Stellen Sie das Ergebnis in einer Grafik dar. Wo liegt der beste Wert für `k`? Was kann bei einem geraden Wert für `k` passieren? Begründen Sie den Verlauf der Grafik."
   ]
  },
  {
   "cell_type": "markdown",
   "metadata": {
    "deletable": false,
    "tags": []
   },
   "source": [
    "Antwort:"
   ]
  },
  {
   "cell_type": "code",
   "execution_count": null,
   "metadata": {
    "deletable": false,
    "tags": []
   },
   "outputs": [],
   "source": [
    "import matplotlib.pyplot as plt\n",
    "\n",
    "plt.figure(figsize=(12, 6))\n",
    "plt.plot(range(1, k_max), genauigkeit, color=ETIT,\n",
    "         linestyle='dashed', marker='o',\n",
    "         markerfacecolor=MTBT, markersize=10)\n",
    "\n",
    "plt.title('Klassifikationsgenauigkit in Abhängigkeit von $k$')\n",
    "plt.xlabel('k')\n",
    "plt.ylabel('Klassifikationsgenauigkeit der selbstgewählten Metrik')"
   ]
  },
  {
   "cell_type": "markdown",
   "metadata": {
    "deletable": false,
    "editable": false,
    "tags": []
   },
   "source": [
    "#### Aufgabe 19: Speichern Sie den besten Wert für $k$ in der Variable `k_opt`, um damit weiterzuarbeiten.\n",
    "($k$ hat dann für diesen Train-Test-Split und diese Vorverarbeitung den besten Wert. Bei einem erneuten Shuffeln der Daten kann sich jedoch ein anderer optimaler Wert für $k$ ergeben.)"
   ]
  },
  {
   "cell_type": "code",
   "execution_count": null,
   "metadata": {
    "deletable": false,
    "tags": []
   },
   "outputs": [],
   "source": [
    "k_opt = genauigkeit.index(max(genauigkeit)) + 1\n",
    "print(k_opt)"
   ]
  },
  {
   "cell_type": "markdown",
   "metadata": {
    "deletable": false,
    "editable": false,
    "tags": []
   },
   "source": [
    "#### Aufgabe 20: Lassen Sie die Klassifikationsgenauigkeit mit dem angepasst `k_opt`, den normalisierten Daten und allen Merkmalen erneut berechnen. Hat sich die Genauigkeit verbessert? Begründen Sie."
   ]
  },
  {
   "cell_type": "markdown",
   "metadata": {
    "deletable": false,
    "tags": []
   },
   "source": [
    "Antwort:"
   ]
  },
  {
   "cell_type": "code",
   "execution_count": null,
   "metadata": {
    "deletable": false,
    "tags": []
   },
   "outputs": [],
   "source": [
    "# Übergeben der Trainingsdaten an den erstellten kNN-KLassifikator\n",
    "clf = KNeighborsClassifier(n_neighbors=???)\n",
    "clf.fit(X_train, Y_train)\n",
    "\n",
    "# Vorhersage des Testdatensatzes\n",
    "predictions = clf.predict(X_test)\n",
    "\n",
    "# Ausgabe der gewählten Klassifikationsgenauigkeit\n",
    "positiv_label = df_allFeatures[klasse].value_counts().index[-1]\n",
    "print('Accuracy: ', accuracy_score(Y_test, predictions))\n",
    "print('F1-Score: ', f1_score(Y_test, predictions, pos_label=positiv_label))"
   ]
  },
  {
   "cell_type": "markdown",
   "metadata": {
    "deletable": false,
    "editable": false,
    "tags": []
   },
   "source": [
    "#### Aufgabe 21: Wie geeignet war Ihr Datensatz für eine Klassifikation mit $k$NN? Woran machen Sie die Einschätzung fest? Tauschen Sie sich mit anderen Studierenden über die unterschiedlichen Datensätze aus."
   ]
  },
  {
   "cell_type": "markdown",
   "metadata": {
    "deletable": false,
    "tags": []
   },
   "source": [
    "Antwort:"
   ]
  },
  {
   "cell_type": "markdown",
   "metadata": {
    "deletable": false,
    "editable": false,
    "tags": []
   },
   "source": [
    "#### Zusatzaufgabe: Verändern Sie den Code am Anfang so, dass andere Merkmale untersucht werden. Können Sie so Aussagen über die Wichtigkeit verschiedener Merkmale treffen?"
   ]
  },
  {
   "cell_type": "markdown",
   "metadata": {
    "deletable": false,
    "tags": []
   },
   "source": [
    "Antwort: "
   ]
  },
  {
   "cell_type": "markdown",
   "metadata": {
    "deletable": false,
    "editable": false
   },
   "source": [
    "---\n",
    "\n",
    "<a rel=\"license\" href=\"http://creativecommons.org/licenses/by-nc-nd/4.0/\"><img alt=\"Creative Commons Lizenzvertrag\" style=\"border-width:0\" src=\"https://i.creativecommons.org/l/by-nc-nd/4.0/88x31.png\" /></a><br /><span xmlns:dct=\"http://purl.org/dc/terms/\" property=\"dct:title\">Die Übungsserie begleitend zum AI4ALL-Kurs</span> der <span xmlns:cc=\"http://creativecommons.org/ns#\" property=\"cc:attributionName\">EAH Jena</span> ist lizenziert unter einer <a rel=\"license\" href=\"http://creativecommons.org/licenses/by-nc-nd/4.0/\">Creative Commons Namensnennung - Nicht kommerziell - Keine Bearbeitungen 4.0 International Lizenz</a>.\n",
    "\n",
    "Der AI4ALL-Kurs entsteht im Rahmen des Projekts MoVeKI2EAH. Das Projekt MoVeKI2EAH wird durch das BMBF (Bundesministerium für Bildung und Forschung) und den Freistaat Thüringen im Rahmen der Bund-Länder-Initiative zur Förderung von Künstlicher Intelligenz in der Hochschulbildung gefördert (12/2021 bis 11/2025, Föderkennzeichen 16DHBKI081)."
   ]
  }
 ],
 "metadata": {
  "kernelspec": {
   "display_name": "Python 3 (ipykernel)",
   "language": "python",
   "name": "python3"
  },
  "language_info": {
   "codemirror_mode": {
    "name": "ipython",
    "version": 3
   },
   "file_extension": ".py",
   "mimetype": "text/x-python",
   "name": "python",
   "nbconvert_exporter": "python",
   "pygments_lexer": "ipython3",
   "version": "3.10.10"
  }
 },
 "nbformat": 4,
 "nbformat_minor": 4
}
