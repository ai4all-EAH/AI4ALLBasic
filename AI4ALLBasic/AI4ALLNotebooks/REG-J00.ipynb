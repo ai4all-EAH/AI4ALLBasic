{
 "cells": [
  {
   "attachments": {
    "download.png": {
     "image/png": "[encoded data removed]"
    }
   },
   "cell_type": "markdown",
   "metadata": {},
   "source": [
    "![download.png](attachment:download.png)"
   ]
  },
  {
   "cell_type": "markdown",
   "metadata": {},
   "source": [
    "**Baustein:** Regression\n",
    "\n",
    "**Subbaustein:** Übung: Einfache Lineare Regressions\n",
    "\n",
    "**Version:** 1.0, **Lizenz:** <a rel=\"license\" href=\"http://creativecommons.org/licenses/by-nc-nd/4.0/\">CC BY-NC-ND 4.0</a>\n",
    "\n",
    "***"
   ]
  },
  {
   "attachments": {},
   "cell_type": "markdown",
   "metadata": {},
   "source": [
    "# Part 3/3 - Übung: Einfache Lineare Regressions\n",
    "\n",
    "In der Lehrveranstaltung **REG-T00 Lineare Regression: Problemstellung, Ausgleichsgerade, Quadratischer Fehler** haben Sie die Methode der kleinsten Quadrate kennengelernt, um eine Regression mit linearem Zusammenhang für einen gegebenen zweidimensionalen Datensatz abzuleiten. Damit konnten Sie den Einfluss einer Größe auf eine andere messen und Vorhersagen zu einer Größe basierend auf einer anderen treffen.\n",
    "\n",
    "In der Fortsetzung, **REG-T01 Exkurs: Regressionsmodelle, Modell- und Datenqualität**, haben Sie erfahren, wie man die lineare Regression im höherdimensionalen Raum anwendet und die Ergebnisse der Regression bewertet.\n",
    "\n",
    "In dieser Übung zielen wir darauf ab, dieses Wissen zu vertiefen. Mit einem exemplarischen Datensatz sollen Sie die einfache lineare Regression durchführen, die Ergebnisse interpretieren und evaluieren. Dabei soll eine Gegenüberstellung mit nicht-linearen Formen der Regression erfolgen. Folgende Datensätze stehen Ihnen zur Verfügung:\n",
    "\n",
    "- REG-D00.csv (Trainingsdaten, lineare Verteilung)\n",
    "- REG-D01.csv (Trainingsdaten, kubische Verteilung)\n",
    "- REG-D02.csv (Testdaten)\n"
   ]
  },
  {
   "attachments": {},
   "cell_type": "markdown",
   "metadata": {},
   "source": [
    "## Importieren aller notewendigen Bibliotheken\n",
    "---"
   ]
  },
  {
   "cell_type": "code",
   "execution_count": 13,
   "metadata": {},
   "outputs": [
    {
     "name": "stdout",
     "output_type": "stream",
     "text": [
      "The autoreload extension is already loaded. To reload it, use:\n",
      "  %reload_ext autoreload\n"
     ]
    }
   ],
   "source": [
    "%load_ext autoreload\n",
    "%autoreload 2\n",
    "\n",
    "# Eine Bibliothek zur effizienten Anwendung mathematischer Operationen auf Array\n",
    "import numpy as np\n",
    "# Pandas ist ein schnelles, leistungsstarkes, flexibles und benutzerfreundliches Open-Source-Tool zur Datenanalyse und -manipulation.\n",
    "import pandas as pd\n",
    "# Zur Erstellung statischer, animierter und interaktiver Visualisierungen\n",
    "import matplotlib.pyplot as plt\n",
    "# Bibliothek für die Datenanalyse\n",
    "from sklearn.linear_model import LinearRegression\n",
    "from sklearn.preprocessing import PolynomialFeatures\n",
    "from sklearn.pipeline import Pipeline\n",
    "from sklearn.metrics import mean_absolute_error, mean_squared_error, r2_score\n",
    "from sklearn.linear_model import SGDRegressor\n",
    "\n",
    "# selbst definierte .py files (siehe Ordner \"utils\")\n",
    "from utils.Utils import WidgetsGradientDescent\n",
    "\n",
    "import warnings\n",
    "warnings.filterwarnings('ignore')"
   ]
  },
  {
   "attachments": {},
   "cell_type": "markdown",
   "metadata": {},
   "source": [
    "## <font color='green'>Übung 1: Methoder der kleinsten Quadrate</font>\n",
    "---\n",
    "In dieser Übungsaufgabe soll die Methode der einfachen linearen Regression angewendet, interpretiert und bewertet werden. Sie ist entweder im Data-Science-Programm „Orange“ umzusetzen oder mithilfe von Python und der Scikit-learn-Bibliothek zu realisieren, um für einen gegebenen x-Wert (die unabhängige Variable oder der Regressor) den korrespondierenden y-Wert (die abhängige Variable oder der Regressand) vorherzusagen.\n",
    "\n",
    "### Info: Angaben zum Datensatz:\n",
    "Jede Zeile in der CSV-Datei gibt einen Datenpunkt wieder, mit Ausnahme der ersten Zeile. Diese beschreibt die einzelnen Werte eines jeden Datenpunktes. Die ersten 4 Zeilen des Datensatzes *REG-D00.csv* sehen wie folgt aus:<br />\n",
    "\n",
    "#Eisverkäufe,#Todesfälle<br />\n",
    "0.074, 0.080<br />\n",
    "0.049, 0.103<br />\n",
    "0.082, 0.069<br />\n",
    "\n",
    "Formatiert sieht der Auszug folgendermaßen aus:\n",
    "\n",
    "| #Eisverkäufe | #Todesfälle |\n",
    "|---|---|\n",
    "| 0.074 | 0.080 |\n",
    "| 0.049 | 0.103 |\n",
    "| 0.082 | 0.069 |\n",
    "\n",
    "Daraus lässt sich nun ableiten, dass dieser Datensatz zwei Features besitzt (#Eisverkäufe, #Todesfälle). Jedes Feature wird durch eine Spalte im Datensatz ausgedrückt. Jeder Datenpunkt hingegen wird durch eine Reihe ausgedrückt und besteht aus zwei Instanzen der oben genannten Features, die durch Kommata separiert werden, d.h. das Komma dient als **Delimiter**. Somit besteht der erste Datenpunkt aus dem 2-Tupel (0.074, 0.080). Die Datenpunkte sind bereits standardisiert.\n",
    "\n",
    "Folgende Einschränkungen gelten pro Datenpunkt $x$:\n",
    "$$\n",
    "x\\in [0,1]\\times[0,1]\n",
    "$$"
   ]
  },
  {
   "cell_type": "markdown",
   "metadata": {},
   "source": [
    "### <font color='brown'>Aufgabe 1.1 Datenzugriff und -visualisierung</font>\n",
    "---\n",
    "Laden Sie den Datensatz REG-D00 und visualisieren Sie ihn als zweidimensionalen Scatterplot. Beschriften Sie die Achsen, falls keine Bezeichnung gegeben ist."
   ]
  },
  {
   "cell_type": "markdown",
   "metadata": {},
   "source": [
    "### <font color='brown'>Lösung 1.1</font>\n",
    "---"
   ]
  },
  {
   "cell_type": "code",
   "execution_count": null,
   "metadata": {},
   "outputs": [],
   "source": [
    "# TODO"
   ]
  },
  {
   "cell_type": "markdown",
   "metadata": {},
   "source": [
    "### <font color='brown'>Aufgabe 1.2 Datenstatistik</font>\n",
    "---\n",
    "Der Datensatz **REG-D00** enthält zwei Variablen: **#Eisverkäufe** und **#Todesfälle**. Wir wollen zweiteres anhand ersteres voraussagen. Lassen Sie sich zuerst statistische Informationen wie Anzahl der Datenpunkte und den Mittelwert ausgeben."
   ]
  },
  {
   "cell_type": "markdown",
   "metadata": {},
   "source": [
    "### <font color='brown'>Lösung 1.2</font>\n",
    "---"
   ]
  },
  {
   "cell_type": "code",
   "execution_count": null,
   "metadata": {},
   "outputs": [],
   "source": [
    "# TODO"
   ]
  },
  {
   "cell_type": "markdown",
   "metadata": {},
   "source": [
    "### <font color='brown'>Aufgabe 1.3 Anwendung der Regression</font>\n",
    "---\n",
    "Da die Daten nun vorbereitet sind, kann nun die Regression angewandt werden. Da es sich hierbei um eine einfache lineare Regression handelt, wird eine Gerade berechnet, die durch den y-Achsenabschnitt $\\beta_0$ und die Steigung in x-Richtung $\\beta_1$ definiert ist. Führen Sie die Regression aus. Ermitteln Sie hierbei die beiden Koeffizienten und visualisieren Sie die Regressionsgerade. (**Optional**) Visualisieren Sie zusätzlich die Fehler jedes einzelnen Datenpunktes zur Regressionsgeraden."
   ]
  },
  {
   "cell_type": "markdown",
   "metadata": {},
   "source": [
    "### <font color='brown'>Lösung 1.3</font>\n",
    "---"
   ]
  },
  {
   "cell_type": "code",
   "execution_count": null,
   "metadata": {},
   "outputs": [],
   "source": [
    "# TODO"
   ]
  },
  {
   "cell_type": "markdown",
   "metadata": {},
   "source": [
    "### <font color='brown'>Aufgabe 1.4 Vorhersage</font>\n",
    "---\n",
    "Wir wollen nun mithilfe des trainierten Modells eine Vorhersage für 3 weitere $x$-Werte treffen und die zugehörigen $y$-Werte ermitteln. Diese sind im Datensatz **REG-D02** zu finden. Visualisieren Sie die Trainingsdaten, die Regressionsgerade, den Groundtruth aus **REG-D02** und die Vorhersagen der unabhängigen Variablen aus **REG-D02**."
   ]
  },
  {
   "cell_type": "markdown",
   "metadata": {},
   "source": [
    "### <font color='brown'>Lösung 1.4</font>\n",
    "---"
   ]
  },
  {
   "cell_type": "code",
   "execution_count": null,
   "metadata": {},
   "outputs": [],
   "source": [
    "# TODO"
   ]
  },
  {
   "attachments": {},
   "cell_type": "markdown",
   "metadata": {},
   "source": [
    "### <font color='brown'>Aufgabe 1.5 Beurteilung des Modellgrades</font>\n",
    "---\n",
    "Bei der einfachen linearen Regression entsteht ein Polynom ersten Grades. Ändern Sie nun den Grad (2, 3, 4) und diskutieren Sie ob wesentliche Änderungen bei der Vorraussage Funktion zu beobachten sind. Bewerten Sie das Regressionsmodell zum einen anhand der Trainingsdaten als auch anhand der Testdaten. Visualisieren Sie die Datenpunkte, die Regressionsgerade, die Testdaten (x,y) und die prädizierten y-Werte für die x-Werte aus den Testdaten (x, prediction)."
   ]
  },
  {
   "cell_type": "markdown",
   "metadata": {},
   "source": [
    "### <font color='brown'>Lösung 1.5</font>\n",
    "---"
   ]
  },
  {
   "cell_type": "code",
   "execution_count": null,
   "metadata": {},
   "outputs": [],
   "source": [
    "# TODO"
   ]
  },
  {
   "cell_type": "markdown",
   "metadata": {},
   "source": [
    "### <font color='brown'>Aufgabe 1.6 Nicht-lineare Datenverteilung</font>\n",
    "---\n",
    "Nun soll ein weiterer Datensatz (REG-D01) betrachtet werden. In diesem sind die Daten etwas anders angeordnet. Wir wollen mit dieser Aufgabe verdeutlichen, dass lineare Modelle nicht unbedingt für alle Datensätze die beste Wahl sind und klarmachen, dass man sich vorher überlegen muss, welches Modell infrage kommt. \n",
    "- Laden Sie den Datensatz REG-D01 und schauen Sie sich die Datenpunkte an. Welchen Unterschied sehen Sie im Bezug zum ersten Datensatz?\n",
    "- Führen Sie nun eine einfache lineare Regression (Polynom ersten Grades) aus und plotten Sie die Regressionsgerade. Nutzen Sie die Gütemaße MAE und RMSE und den Fehler der Trainingdaten auszugeben.  \n",
    "- Erhöhen Sie nun den Grad des Regressionspolynom um die Gütemaße zu optimieren. Welcher Grad scheint die besten Ergebnisse zu liefern.\n",
    "- Diskutieren Sie, ob es wichtig ist den Datensatz vorher zu visualisieren und sich zu überlegen, welches Modell oder auch welcher Grad geeignet ist. "
   ]
  },
  {
   "cell_type": "markdown",
   "metadata": {},
   "source": [
    "### <font color='brown'>Lösung 1.6</font>\n",
    "---"
   ]
  },
  {
   "cell_type": "code",
   "execution_count": null,
   "metadata": {},
   "outputs": [],
   "source": [
    "# TODO"
   ]
  },
  {
   "cell_type": "markdown",
   "metadata": {},
   "source": [
    "## <font color='green'>Übung 2: Gradientenabstiegsverfahren</font>\n",
    "---\n",
    "Neben der Methode der kleinsten Quadrate lassen sich die Koeffizienten des einfachen linearen Regressionsmodells auch über das **Gradientenabstiegsverfahren** berechnen. Hierbei werden die Koeffizienten nicht direkt berechnet, sondern iterativ angenähert."
   ]
  },
  {
   "cell_type": "markdown",
   "metadata": {},
   "source": [
    "### <font color='brown'>Aufgabe 2.1 Datenzugriff, -visualisierung und -vorbereitung</font>\n",
    "---\n",
    "Die Schritte aus den Aufgaben 1.1 und 1.2 zum Datenzugriff, Datenvisualisierung und Datenvorbereitung sind hier äquivalent am Datensatz **REG-D00** anzuwenden."
   ]
  },
  {
   "cell_type": "markdown",
   "metadata": {},
   "source": [
    "### <font color='brown'>Lösung 2.1</font>\n",
    "---"
   ]
  },
  {
   "cell_type": "code",
   "execution_count": null,
   "metadata": {},
   "outputs": [],
   "source": [
    "# TODO"
   ]
  },
  {
   "cell_type": "markdown",
   "metadata": {},
   "source": [
    "### <font color='brown'>Aufgabe 2.2 Gradientenabstieg</font>\n",
    "---\n",
    "Nun soll das Gradientenabstiegsverfahren verwendet werden um die Koeffizienten der einfachen linearen Regression zu schätzen. Vergleichen sie die Koeffizienten aus dem Gradient Descent mit den Koeffizienten aus der Methode der kleinsten Quadrate."
   ]
  },
  {
   "cell_type": "markdown",
   "metadata": {},
   "source": [
    "### <font color='brown'>Lösung 2.2</font>\n",
    "---"
   ]
  },
  {
   "cell_type": "code",
   "execution_count": null,
   "metadata": {},
   "outputs": [],
   "source": [
    "# TODO"
   ]
  },
  {
   "cell_type": "markdown",
   "metadata": {},
   "source": [
    "### <font color='brown'>Aufgabe 2.3 Visualisierung und Vergleich</font>\n",
    "---\n",
    "Nutzen Sie das Widget *WidgetsGradientDescent* um das Verhalten des Gradient Descent zu visualisieren. Variieren Sie die Parameter und diskutieren Sie, wie diese die Konvergenz beinflussen."
   ]
  },
  {
   "cell_type": "code",
   "execution_count": 14,
   "metadata": {},
   "outputs": [
    {
     "data": {
      "application/vnd.jupyter.widget-view+json": {
       "model_id": "c1f8290df5b54683bfff3706c2afebef",
       "version_major": 2,
       "version_minor": 0
      },
      "text/plain": [
       "interactive(children=(IntSlider(value=1, continuous_update=False, description='Step', max=1000, min=1, style=S…"
      ]
     },
     "metadata": {},
     "output_type": "display_data"
    },
    {
     "data": {
      "text/plain": [
       "<utils.Utils.WidgetsGradientDescent at 0x29a5e90d0>"
      ]
     },
     "execution_count": 14,
     "metadata": {},
     "output_type": "execute_result"
    }
   ],
   "source": [
    "# Angabe des relativen Pfades der CSV-Datei\n",
    "input_file = \"datasets/REG-D00.csv\"\n",
    "# Erstellung des DataFrames; Hierbei wird Zeile 0 durch die Angabe \"header = 0\" als Zeile definiert, die die Featurenamen und den Anfang der Daten angibt\n",
    "df = pd.read_csv(input_file, header = 0)\n",
    "X = df[['#Eisverkäufe' , '#Todesfälle']].values\n",
    "WidgetsGradientDescent(X)"
   ]
  }
 ],
 "metadata": {
  "kernelspec": {
   "display_name": "local-venv",
   "language": "python",
   "name": "local-venv"
  },
  "language_info": {
   "codemirror_mode": {
    "name": "ipython",
    "version": 3
   },
   "file_extension": ".py",
   "mimetype": "text/x-python",
   "name": "python",
   "nbconvert_exporter": "python",
   "pygments_lexer": "ipython3",
   "version": "3.11.6"
  },
  "orig_nbformat": 4
 },
 "nbformat": 4,
 "nbformat_minor": 2
}
