{
 "cells": [
  {
   "attachments": {
    "download.png": {
     "image/png": "[encoded data removed]"
    }
   },
   "cell_type": "markdown",
   "metadata": {},
   "source": [
    "![download.png](attachment:download.png)"
   ]
  },
  {
   "cell_type": "markdown",
   "metadata": {},
   "source": [
    "**Baustein:** Clustering\n",
    "\n",
    "**Subbaustein:** Grundlagen, Übersicht, Partitionierendes und Hierarchisches Clustering\n",
    "\n",
    "**Version:** 1.0, **Lizenz:** <a rel=\"license\" href=\"http://creativecommons.org/licenses/by-nc-nd/4.0/\">CC BY-NC-ND 4.0</a>\n",
    "\n",
    "***"
   ]
  },
  {
   "attachments": {},
   "cell_type": "markdown",
   "metadata": {},
   "source": [
    "# Part 2/4 - Übung: Anwendung K-Means und Agglomeratives Hierarchisches Clustering\n",
    "\n",
    "Folgende Problemstellung soll mit Hilfe des Clustering Algorithmuses K-Means diskutiert und gelöst werden: \n",
    "\n",
    "Gegeben sei der Datensatz **CLU-D00.csv**, in dem jeder Datenpunkt aus einem Floatwert für die *Intensität der Kopfschmerzen* (angegeben als *headache*), einem Floatwert für *Intensität der Gliederschmerzen* (angegeben als *melalgia*) und einem Integer (angegeben als *class*), der angibt zu welchem Cluster der Datenpunkt gehört, besteht. Bei einem realen Clusteringproblem ist letzteres nicht gegeben. Aber um die Effizienz des Algorithmus zu evaluieren nutzen wir diesen Werte als Vergleichswert (Ground Truth).\n"
   ]
  },
  {
   "attachments": {},
   "cell_type": "markdown",
   "metadata": {},
   "source": [
    "## Importieren aller notewendigen Bibliotheken\n",
    "---"
   ]
  },
  {
   "cell_type": "code",
   "execution_count": 1,
   "metadata": {},
   "outputs": [],
   "source": [
    "%load_ext autoreload\n",
    "%autoreload 2\n",
    "\n",
    "# Eine Bibliothek zur effizienten Anwendung mathematischer Operationen auf Array\n",
    "import numpy as np\n",
    "# Pandas ist ein schnelles, leistungsstarkes, flexibles und benutzerfreundliches Open-Source-Tool zur Datenanalyse und -manipulation.\n",
    "import pandas as pd\n",
    "# Zur Erstellung statischer, animierter und interaktiver Visualisierungen\n",
    "import matplotlib.pyplot as plt\n",
    "# Datenvisualisierung basierend auf matplotlib\n",
    "import seaborn as sns\n",
    "# Bibliothek für die Datenanalyse\n",
    "from sklearn.cluster import KMeans, AgglomerativeClustering\n",
    "from sklearn.preprocessing import normalize\n",
    "from sklearn.metrics import silhouette_score, silhouette_samples\n",
    "from sklearn.metrics import rand_score\n",
    "# Stellt Algorithmen für die das wissenschaftliche Rechnen bereit\n",
    "from scipy.cluster.hierarchy import dendrogram\n",
    "# selbst definierte .py files (siehe Ordner \"utils\")\n",
    "from utils.UtilsCLU import WidgetsKMeans, get_linkage_matrix\n",
    "\n",
    "import warnings\n",
    "warnings.filterwarnings('ignore')"
   ]
  },
  {
   "attachments": {},
   "cell_type": "markdown",
   "metadata": {},
   "source": [
    "## <font color='green'>Übung 1: Datenzugriff</font>\n",
    "---\n",
    "Ein wichtiger Bestandteil des Maschinellen Lernens ist die Verwaltung von Daten, d.h. die Aufnahme, das Speichern und das Lesen der Daten. In dieser ¨Ubung beschr¨anken wir uns auf das Letztere. Die vorliegende Datei liegt im CSV-Format vor und soll im Folgenden gelesen und interpretiert werden.\n",
    "\n",
    "### Info: Angaben zum Datensatz:\n",
    "Jede Zeile in der CSV-Datei gibt einen Datenpunkt wieder, mit Ausnahme der ersten Zeile. Diese beschreibt die einzelnen Werte eines jeden Datenpunktes. Die ersten 4 Zeilen des Datensatzes *CLU-D00.csv* sehen wie folgt aus:<br />\n",
    "\n",
    "headache,melalgia,class<br />\n",
    "4.3, 49.1, 0<br />\n",
    "20.8, 50.7, 0<br />\n",
    "7.0, 47.5, 0<br />\n",
    "\n",
    "Formatiert sieht der Auszug folgendermaßen aus:\n",
    "\n",
    "| headache | melalgia | class |\n",
    "|---|---|---|\n",
    "| 4.3 | 49.1 | 0 |\n",
    "| 20.8 | 50.7 | 0 |\n",
    "| 7.0 | 47.5 | 0 |\n",
    "\n",
    "Daraus lässt sich nun ableiten, dass dieser Datensatz drei Features besitzt (headache, melalgia, class). Jedes Feature wird durch eine Spalte im Datensatz ausgedrückt. Jeder Datenpunkt hingegen wird durch eine Reihe ausgedrückt und besteht aus drei Instanzen der oben genannten Features, die durch Kommata separiert werden, d.h. das Komma dient als **Delimiter**. Somit besteht der erste Datenpunkt aus dem 3-Tupel (4.3, 49.1, 0).\n",
    "\n",
    "Folgende Einschränkungen gelten pro Datenpunkt $x$:\n",
    "$$\n",
    "x\\in [0,100]\\times[0,100]\\times\\{0,1,2\\}\n",
    "$$"
   ]
  },
  {
   "cell_type": "markdown",
   "metadata": {},
   "source": [
    "### <font color='brown'>Aufgabe 1.1</font>\n",
    "---\n",
    "Lesen Sie die CSV-Datei und geben Sie die folgenden Informationen über den Inhalt wieder. Einige der Informationen wurden bereits erwähnt. Nutzen Sie entprechenden Pythoncode oder Orangewidgets um die Angaben zu überprüfen.\n",
    "- Anzahl der Features\n",
    "- Anzahl der Datenpunkte\n",
    "- Wertebereich pro Feature\n",
    "- Mittelwert und Standardabweichung pro Feature"
   ]
  },
  {
   "cell_type": "markdown",
   "metadata": {},
   "source": [
    "### <font color='brown'>Lösung 1.1</font>\n",
    "---"
   ]
  },
  {
   "cell_type": "code",
   "execution_count": 23,
   "metadata": {},
   "outputs": [],
   "source": [
    "# TODO"
   ]
  },
  {
   "attachments": {},
   "cell_type": "markdown",
   "metadata": {},
   "source": [
    "## <font color='green'>Übung 2: Visualisierung</font>\n",
    "---\n",
    "Um die Daten besser interpretieren zu können, sollten diese bei entsprechenden Dimensionen direkt visualisiert werden. Dies ermöglicht es, eventuelle Muster visuell zu identifizieren. Die nachfolgenden Aufgaben konzentrieren sich auf die verschiedenen Möglichkeiten der Datenvisualisierung."
   ]
  },
  {
   "cell_type": "markdown",
   "metadata": {},
   "source": [
    "### <font color='brown'>Aufgabe 2.1</font>\n",
    "---\n",
    "Visualisieren Sie für jedes Feature die Verteilung."
   ]
  },
  {
   "cell_type": "markdown",
   "metadata": {},
   "source": [
    "### <font color='brown'>Lösung 2.1</font>\n",
    "---"
   ]
  },
  {
   "cell_type": "code",
   "execution_count": 24,
   "metadata": {},
   "outputs": [],
   "source": [
    "# TODO"
   ]
  },
  {
   "cell_type": "markdown",
   "metadata": {},
   "source": [
    "### <font color='brown'>Aufgabe 2.2</font>\n",
    "---\n",
    "Visualisieren Sie den gesamten Datensatz als Scatterplot. Wie viele Cluster k¨onnen visuell identifiziert werden?"
   ]
  },
  {
   "cell_type": "markdown",
   "metadata": {},
   "source": [
    "### <font color='brown'>Lösung 2.2</font>\n",
    "---"
   ]
  },
  {
   "cell_type": "code",
   "execution_count": 25,
   "metadata": {},
   "outputs": [],
   "source": [
    "# TODO"
   ]
  },
  {
   "cell_type": "markdown",
   "metadata": {},
   "source": [
    "## <font color='green'>Übung 3: K-Means</font>\n",
    "---\n",
    "K-Means als Vertreter des partitionierenden Clusterings zeigt sich als robuste Methode Datensätze, mit sphärischen Verteilungen, zu gruppieren. In den folgenden Aufgaben soll der K-Means auf den Datensatz **CLU-D01** angewandt werden."
   ]
  },
  {
   "attachments": {},
   "cell_type": "markdown",
   "metadata": {},
   "source": [
    "### <font color='brown'>Aufgabe 3.1</font>\n",
    "---\n",
    "Ein Hyperparameter des K-Means ist die Anzahl der Cluster. Diese werden vom Algorithmus nicht bestimmt, sondern müssen vom Nutzer angegeben werden. Dies kann man machen, indem man sich den Datensatz plottet und schaut, ob sich die Datensätze visuell trennen lassen. In unserem Beispiel ist dies möglich und es ergibt sich $K=3$. Problematisch wird es erst, wenn die Anzahl der Features größer als drei ist, denn dann lassen sich die Datenpunkte nicht mehr visualisieren. Eine weitere Möglichkeit ist die Bestimmung von $K$ aufgrund von Expertenwissen. Liegt aber beides nicht vor, muss die Anzahl anders bestimmt werden. Hierfür gibt es die folgenden zwei Verfahren:\n",
    "- **Ellbogen-Methode**: <br />Hierbei wir die Summe der quadratische Abweichungen (Sum of Squared Distances - SSD) für verschiedene Anzahlen von Clustern berechnet und graphisch dargestellt. Der Punkt auf der Graphik, an dem der SSD-Abfall abflacht und eine Art Ellbogen bildet, wird als optimaler Punkt für die Anzahl der Cluster betrachtet.\n",
    "- **Silhouetten-Methode**: <br />Sie berechnet für jeden Datenpunkt eine Silhouettenkoeffizienten, der die Ähnlichkeit innerhalb des eigenen Clusters im Vergleich zu den benachbarten Clustern misst. Ein hoher Silhouettenkoeffizient (nahe 1) zeigt an, dass der Datenpunkt gut seinem eigenen Cluster zugeordnet ist und sich gut von den anderen Clustern unterscheidet. Ein niedriger Silhouettenkoeffizient (nahe -1) deutet auf eine schlechte Clusterbildung hin. Die durchschnittliche Silhouettenkoeffizienten aller Datenpunkte wird verwendet, um die Qualität des Clustering-Ergebnisses zu bewerten, wobei ein höherer Durchschnittswert auf eine bessere Clusterbildung hinweist."
   ]
  },
  {
   "cell_type": "markdown",
   "metadata": {},
   "source": [
    "### <font color='brown'>Lösung 3.1</font>\n",
    "---"
   ]
  },
  {
   "cell_type": "code",
   "execution_count": 26,
   "metadata": {},
   "outputs": [],
   "source": [
    "# TODO"
   ]
  },
  {
   "cell_type": "markdown",
   "metadata": {},
   "source": [
    "### <font color='brown'>Aufgabe 3.2</font>\n",
    "---\n",
    "In diesem Schritt wird der K-Means Algorithmus auf den Datensatz mit $K=3$ angewandt. Den K-Means gibt es in mehreren Varianten.\n",
    "Der bekannteste ist **Lloyd's Algorithmus**, der im folgenden Anwendung findet. Der Algorithmus kann wie folgt beschrieben werden:\n",
    "\n",
    "1. Wahle die Anzahl der Cluster $K$.\n",
    "2. Wähle zufällig $K$ Clusterzentren aus dem gegebenen Datensatz.\n",
    "3. Berechne die Abstände zwischen den Datenpunkten und den Clusterzentren.\n",
    "4. Ordne jeden Datepunkt dem nähersten Cluster zu.\n",
    "5. Berechne neue Clusterzentren als Mittelwert der zugeordneten Datenpunkte\n",
    "6. Wiederhole Schritte 3-5 bis die Clusterzentren ihre Position nicht verändern.\n",
    "\n",
    "Wenden Sie den K-Means mit der oben ermittelten Anzahl an Clustern an. Visualisieren Sie sowohl\n",
    "das Ergebnis der rohen (nicht-normalisierten) und der normalisierten Daten. Erklären Sie wie die Verteilung der nicht-normalisierten Daten zu interpretieren ist bzgl. der Trennung der Cluster.\n",
    "\n",
    "Im Datensatz **CLU-D00** bewegen sich beide Features in der selben Range:\n",
    "$$\n",
    "x\\in [0,100]\\times[0,100]\n",
    "$$\n",
    "Jedoch kann es nach Beschaffenheit der Daten dazu kommen, dass die Features stark voneinander abweichende Definitionsbereiche haben. Der Datensatz **CLU-D01** hat folgende Range:\n",
    "$$\n",
    "x\\in [0,1000]\\times[0,1]\n",
    "$$\n",
    "Dieser Unterschied kann beim Clustering zu fehlerhaften Ergebnissen führen. Deshalb müssen die Daten vorher normalisiert werden."
   ]
  },
  {
   "cell_type": "markdown",
   "metadata": {},
   "source": [
    "### <font color='brown'>Lösung 3.2</font>\n",
    "---"
   ]
  },
  {
   "cell_type": "code",
   "execution_count": 27,
   "metadata": {},
   "outputs": [],
   "source": [
    "# TODO"
   ]
  },
  {
   "attachments": {},
   "cell_type": "markdown",
   "metadata": {},
   "source": [
    "### <font color='brown'>Aufgabe 3.3</font>\n",
    "---\n",
    "Um sich den Verlauf des K-Means besser vorstellen zu können, visualisieren Sie sich die Iterationen des Algorithmus über das interaktive K-Means-Element."
   ]
  },
  {
   "cell_type": "markdown",
   "metadata": {},
   "source": [
    "### <font color='brown'>Lösung 3.3</font>\n",
    "---"
   ]
  },
  {
   "cell_type": "code",
   "execution_count": 28,
   "metadata": {},
   "outputs": [],
   "source": [
    "# TODO\n"
   ]
  },
  {
   "attachments": {},
   "cell_type": "markdown",
   "metadata": {},
   "source": [
    "## <font color='green'>Übung 4: Evaluation</font>\n",
    "---\n",
    "Um die Güte der Clusteringergebnisse zu bewerten, gibt es prinzipiell zwei große Kategorien von Methoden:\n",
    "</br></br>\n",
    "**Externe Gütemaße**:</br>\n",
    "In diesem Fall liegt ein Vergleichsclustering, d.h. Groundtruth, vor, das für die Bewertung genutzt werden kann. Ein Beispiel für solch ein Gütemaß ist der Rand-Index (RI). Zur Erinnerung: Der RI kann Werte zwischen 0 und 1 annehmen, wobei ein Wert von 1 eine perfekte Übereinstimmung zwischen dem Clustering-Ergebnis und der wahren Klassenzuordnung anzeigt, ein Wert nahe 0 auf eine zufällige Klassenzuordnung hinweist. Der Rand-Index wird durch den Vergleich von Paaren von Datenpunkten zwischen zwei Clustering-Ergebnissen berechnet. Folgende Formel wird hierfür verwendet:\n",
    "$$RI=\\dfrac{a+b}{a+b+c+d}=\\dfrac{a+b}{\\binom{n}{2}}$$\n",
    "Die Parameter in der obigen Gleichung sind wie folgt definiert:</br>\n",
    "- $a$, die Anzahl an Paaren von Elementen in $S$, die in der **selben** Partition in $X$ und in der **selben** Partition in $Y$ sind.\n",
    "- $b$, die Anzahl an Paaren von Elementen in $S$, die in **unterschiedlichen** Partition in $X$ und in **unterschiedlichen** Partition in $Y$ sind.\n",
    "- $c$, die Anzahl an Paaren von Elementen in $S$, die in der **selben** Partition in $X$ und in **unterschiedlichen** Partition in $Y$ sind.\n",
    "- $d$, die Anzahl an Paaren von Elementen in $S$, die in **unterschiedlichen** Partition in $X$ und in der **selben** Partition in $Y$ sind.\n",
    "\n",
    "**Interne Gütemaße**:</br>\n",
    "Liegt kein Clustering vor, das als Vergleich herangezogen werden kann, muss die Güte des Clusteringergebnisses anhand interner Eigenschaften bestimmt werden. Das hier betrachtete Gütemaß wurde bereits in Übung 3 behandelt, und zwar der Silhouettenkoeffzient. Er misst, wie gut die Datenpunkte innerhalb eines Clusters zusammenpassen und wie gut sie von den Datenpunkten in anderen Clustern unterschieden werden können. Ein höherer Silhouettenkoeffizient deutet auf eine bessere Trennung und Konsistenz der Cluster hin. Der Silhouettenkoeffizient wird für jeden Datenpunkt einzeln berechnet und kann Werte zwischen -1 und 1 annehmen. Ein Wert von 1 zeigt an, dass der Datenpunkt gut zu seinem eigenen Cluster passt und gut von den Datenpunkten in anderen Clustern unterschieden werden kann. Ein Wert nahe 0 zeigt an, dass der Datenpunkt nahe an der Trennlinie zwischen zwei Clustern liegt. Ein Wert nahe -1 deutet darauf hin, dass der Datenpunkt möglicherweise im falschen Cluster platziert wurde. Der Koeffizient wird für jeden Datenpunkt einzeln berechnet:\n",
    "$$s(i)=\\dfrac{b(i) - a(i)}{\\max(a(i), b(i))},~\\textrm{if}~|C_I|>1$$\n",
    "$$s(i)=0,~\\textrm{if}~|C_I|=1$$\n",
    "und dann aufsummiert:\n",
    "$$S=\\dfrac{1}{|D|}\\sum_{i\\in D}s(i)$$\n",
    "Die Parameter sind wie folgt definiert:\n",
    "$$a(i)=\\dfrac{1}{|C_I|-1}\\sum_{j\\in C_I,i\\neq j}d(i,j)$$\n",
    "$$b(i)=\\min_{J\\neq I}\\dfrac{1}{|C_J|}\\sum_{j\\in C_J}d(i,j)$$\n",
    "\n",
    "Die ermittelten Clusterergebnisse müssen nun mit Hilfe des internen Gütemaßes (Silhouettenkoeffizient) auf Qualität geprüft werden."
   ]
  },
  {
   "cell_type": "markdown",
   "metadata": {},
   "source": [
    "### <font color='brown'>Aufgabe 4.1</font>\n",
    "---\n",
    "Berechnen Sie den Silhouettenkoeffizienten. Interpretieren Sie die Ergebnisse."
   ]
  },
  {
   "cell_type": "markdown",
   "metadata": {},
   "source": [
    "### <font color='brown'>Lösung 4.1</font>\n",
    "---"
   ]
  },
  {
   "cell_type": "code",
   "execution_count": 29,
   "metadata": {},
   "outputs": [],
   "source": [
    "# TODO"
   ]
  },
  {
   "attachments": {},
   "cell_type": "markdown",
   "metadata": {},
   "source": [
    "## <font color='green'>Übung 5: AHC</font>\n",
    "---\n",
    "Bisher wurden nur Datensätze mit spährischen Clustern betrachtet. Datensätze mit dieser Natur lassen sich sehr gut mit dem K-Means clustern. Datensätze mit Clustern, die Ringförmige strukturen aufweisen, sind über den K-Means nicht gruppierbar. Hierfür muss ein anderes Verfahren hinzugezogen werden. Ein bereits bekanntes Verfahren ist das Agglomerative Hierarchische Clustering. Ausgehend davon, dass jeder Datenpunkt ein eigenes Cluster dargstellt, werden bei dieser Methode iterativ die nährsten beiden Cluster zusammengefasst bis nur noch ein Cluster übrig bleibt. Visualisieren lässt sich das durch das Dendogram."
   ]
  },
  {
   "cell_type": "markdown",
   "metadata": {},
   "source": [
    "### <font color='brown'>Aufgabe 5.1</font>\n",
    "---\n",
    "Lesen Sie den Datensatz **CLU-D02.csv** und wenden Sie dann das Hierarchische Clustering mit der Single-Linkage-Methode an. Entscheiden Sie anhand des Dendogramms, welche Anzahl an Clustern optimal ist. Begründen Sie Ihre Entscheidung."
   ]
  },
  {
   "cell_type": "markdown",
   "metadata": {},
   "source": [
    "### <font color='brown'>Lösung 5.1</font>\n",
    "---"
   ]
  },
  {
   "cell_type": "code",
   "execution_count": 30,
   "metadata": {},
   "outputs": [],
   "source": [
    "# TODO"
   ]
  },
  {
   "cell_type": "markdown",
   "metadata": {},
   "source": [
    "### <font color='brown'>Aufgabe 5.2</font>\n",
    "---\n",
    "Plotten Sie nun das Ergebnis des Hierarchischen Clusterings mit der zuvor ermittelten optimalen Anzahl an Clustern. Visualieren Sie zusätzlich das Ergebnis des K-Means Algorithmus um zu zeigen, dass dieser hier fehlschlägt"
   ]
  },
  {
   "cell_type": "markdown",
   "metadata": {},
   "source": [
    "### <font color='brown'>Lösung 5.2</font>\n",
    "---"
   ]
  },
  {
   "cell_type": "code",
   "execution_count": 31,
   "metadata": {},
   "outputs": [],
   "source": [
    "# TODO"
   ]
  }
 ],
 "metadata": {
  "kernelspec": {
   "display_name": "local-venv",
   "language": "python",
   "name": "local-venv"
  },
  "language_info": {
   "codemirror_mode": {
    "name": "ipython",
    "version": 3
   },
   "file_extension": ".py",
   "mimetype": "text/x-python",
   "name": "python",
   "nbconvert_exporter": "python",
   "pygments_lexer": "ipython3",
   "version": "3.11.4"
  },
  "orig_nbformat": 4
 },
 "nbformat": 4,
 "nbformat_minor": 2
}
