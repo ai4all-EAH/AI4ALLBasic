{
 "cells": [
  {
   "cell_type": "markdown",
   "id": "8dff6cd0-3fe0-4c82-bb0c-6a3be8b509d0",
   "metadata": {},
   "source": [
    "![logorechtsSmall.png](attachment:logorechtsSmall.png)"
   ]
  },
  {
   "cell_type": "markdown",
   "id": "e783d5aa-cb70-4f3e-9b87-0a7239a83461",
   "metadata": {
    "tags": []
   },
   "source": [
    "# AI4ALL Basic Jupyter Hub"
   ]
  },
  {
   "cell_type": "markdown",
   "id": "f20a0fcb-458e-4a86-b4f9-75e7e8f41aff",
   "metadata": {},
   "source": [
    "- [AI4ALL Basic Notebooks WiSe 2023/24](AI4ALLNotebooks/_index.ipynb)"
   ]
  },
  {
   "cell_type": "markdown",
   "id": "23d6b6b3-9f36-49bf-9b60-a954ebd3ce0b",
   "metadata": {},
   "source": [
    "- [JuPy Course](JuPyTutorialV2.1b/00_Einleitung.ipynb)"
   ]
  },
  {
   "cell_type": "markdown",
   "id": "989c7e87-bc77-4a9c-870e-86c82abd42d5",
   "metadata": {},
   "source": [
    "---\n",
    "\n",
    "<a rel=\"license\" href=\"http://creativecommons.org/licenses/by-nc-nd/4.0/\"><img alt=\"Creative Commons Lizenzvertrag\" style=\"border-width:0\" src=\"https://i.creativecommons.org/l/by-nc-nd/4.0/88x31.png\" /></a><br /><span xmlns:dct=\"http://purl.org/dc/terms/\" property=\"dct:title\">Die Übungsserie begleitend zum AI4ALL-Kurs</span> der <span xmlns:cc=\"http://creativecommons.org/ns#\" property=\"cc:attributionName\">EAH Jena</span> ist lizenziert unter einer <a rel=\"license\" href=\"http://creativecommons.org/licenses/by-nc-nd/4.0/\">Creative Commons Namensnennung - Nicht kommerziell - Keine Bearbeitungen 4.0 International Lizenz</a>.\n",
    "\n",
    "Der AI4ALL-Kurs entsteht im Rahmen des Projekts MoVeKI2EAH. Das Projekt MoVeKI2EAH wird durch das BMBF (Bundesministerium für Bildung und Forschung) und den Freistaat Thüringen im Rahmen der Bund-Länder-Initiative zur Förderung von Künstlicher Intelligenz in der Hochschulbildung gefördert (12/2021 bis 11/2025, Föderkennzeichen 16DHBKI081)."
   ]
  },
  {
   "cell_type": "code",
   "execution_count": null,
   "id": "d6276824-7c08-407f-bd2b-f90aab6d6e41",
   "metadata": {},
   "outputs": [],
   "source": []
  }
 ],
 "metadata": {
  "kernelspec": {
   "display_name": "Python 3 (ipykernel)",
   "language": "python",
   "name": "python3"
  },
  "language_info": {
   "codemirror_mode": {
    "name": "ipython",
    "version": 3
   },
   "file_extension": ".py",
   "mimetype": "text/x-python",
   "name": "python",
   "nbconvert_exporter": "python",
   "pygments_lexer": "ipython3",
   "version": "3.10.13"
  }
 },
 "nbformat": 4,
 "nbformat_minor": 5
}
